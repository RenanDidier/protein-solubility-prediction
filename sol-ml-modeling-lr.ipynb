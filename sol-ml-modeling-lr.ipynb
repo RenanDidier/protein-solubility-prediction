{
 "cells": [
  {
   "cell_type": "code",
   "execution_count": 1,
   "metadata": {},
   "outputs": [],
   "source": [
    "# General libraries\n",
    "import pandas as pd\n",
    "import numpy as np\n",
    "\n",
    "# Graphic libraries\n",
    "import matplotlib.pyplot as plt\n",
    "\n",
    "# Scikit Learn libraries\n",
    "from sklearn.model_selection import train_test_split\n",
    "from sklearn.linear_model import LinearRegression\n",
    "from sklearn.model_selection import cross_validate\n",
    "from sklearn.model_selection import KFold\n",
    "from sklearn import metrics\n",
    "\n",
    "# Scipy libraries\n",
    "from scipy import stats\n",
    "\n",
    "# Single import from another libraries\n",
    "import seaborn as sns\n",
    "import statsmodels.api as sm\n",
    "import joblib\n",
    "import warnings\n",
    "warnings.filterwarnings('ignore')"
   ]
  },
  {
   "cell_type": "markdown",
   "metadata": {},
   "source": [
    "# Load Dataset"
   ]
  },
  {
   "cell_type": "code",
   "execution_count": 2,
   "metadata": {},
   "outputs": [],
   "source": [
    "data_path = \"data/complex_processed_data.csv\"\n",
    "standardized_data_path = 'data/complex_processed_standardized_data.csv'\n",
    "standardized_poutliers_removed_data_path = 'data/complex_processed_standardized_outliers_removed_data.csv'\n",
    "\n",
    "df_solubility = pd.read_csv(standardized_data_path)"
   ]
  },
  {
   "cell_type": "markdown",
   "metadata": {},
   "source": [
    "# Process Dataset\n",
    "\n",
    "Process Dataset before the model creation.\n",
    "The following actions were done:\n",
    "* Split the independent variable from the dependent ones;\n",
    "* Split Dataset for training and testing."
   ]
  },
  {
   "cell_type": "code",
   "execution_count": 3,
   "metadata": {},
   "outputs": [],
   "source": [
    "# Split dataset into X and Y for machine learning\n",
    "\n",
    "df_sol_X = df_solubility.copy()\n",
    "df_sol_X.drop(columns=['solubility'], axis=1, inplace=True)\n",
    "\n",
    "df_sol_y = df_solubility[['solubility']]"
   ]
  },
  {
   "cell_type": "code",
   "execution_count": 4,
   "metadata": {},
   "outputs": [
    {
     "data": {
      "text/html": [
       "<div>\n",
       "<style scoped>\n",
       "    .dataframe tbody tr th:only-of-type {\n",
       "        vertical-align: middle;\n",
       "    }\n",
       "\n",
       "    .dataframe tbody tr th {\n",
       "        vertical-align: top;\n",
       "    }\n",
       "\n",
       "    .dataframe thead th {\n",
       "        text-align: right;\n",
       "    }\n",
       "</style>\n",
       "<table border=\"1\" class=\"dataframe\">\n",
       "  <thead>\n",
       "    <tr style=\"text-align: right;\">\n",
       "      <th></th>\n",
       "      <th>total_score</th>\n",
       "      <th>score</th>\n",
       "      <th>dslf_fa13</th>\n",
       "      <th>fa_atr</th>\n",
       "      <th>fa_dun</th>\n",
       "      <th>fa_elec</th>\n",
       "      <th>fa_intra_rep</th>\n",
       "      <th>fa_intra_sol_xover4</th>\n",
       "      <th>fa_rep</th>\n",
       "      <th>fa_sol</th>\n",
       "      <th>...</th>\n",
       "      <th>hbond_lr_bb</th>\n",
       "      <th>hbond_sc</th>\n",
       "      <th>hbond_sr_bb</th>\n",
       "      <th>lk_ball_wtd</th>\n",
       "      <th>omega</th>\n",
       "      <th>p_aa_pp</th>\n",
       "      <th>pro_close</th>\n",
       "      <th>rama_prepro</th>\n",
       "      <th>ref</th>\n",
       "      <th>time</th>\n",
       "    </tr>\n",
       "  </thead>\n",
       "  <tbody>\n",
       "    <tr>\n",
       "      <th>0</th>\n",
       "      <td>0.743094</td>\n",
       "      <td>0.743094</td>\n",
       "      <td>0.524355</td>\n",
       "      <td>0.810367</td>\n",
       "      <td>0.194955</td>\n",
       "      <td>0.805052</td>\n",
       "      <td>0.204689</td>\n",
       "      <td>0.194424</td>\n",
       "      <td>0.150016</td>\n",
       "      <td>0.181959</td>\n",
       "      <td>...</td>\n",
       "      <td>0.899018</td>\n",
       "      <td>0.865276</td>\n",
       "      <td>0.745269</td>\n",
       "      <td>0.814943</td>\n",
       "      <td>0.064154</td>\n",
       "      <td>0.842755</td>\n",
       "      <td>0.029479</td>\n",
       "      <td>0.322475</td>\n",
       "      <td>0.208127</td>\n",
       "      <td>1.0</td>\n",
       "    </tr>\n",
       "    <tr>\n",
       "      <th>1</th>\n",
       "      <td>0.676975</td>\n",
       "      <td>0.676975</td>\n",
       "      <td>0.524355</td>\n",
       "      <td>0.686317</td>\n",
       "      <td>0.305593</td>\n",
       "      <td>0.720613</td>\n",
       "      <td>0.293997</td>\n",
       "      <td>0.271051</td>\n",
       "      <td>0.288532</td>\n",
       "      <td>0.295748</td>\n",
       "      <td>...</td>\n",
       "      <td>0.869617</td>\n",
       "      <td>0.799924</td>\n",
       "      <td>0.590403</td>\n",
       "      <td>0.680818</td>\n",
       "      <td>0.105766</td>\n",
       "      <td>0.764504</td>\n",
       "      <td>0.181751</td>\n",
       "      <td>0.415949</td>\n",
       "      <td>0.510299</td>\n",
       "      <td>1.0</td>\n",
       "    </tr>\n",
       "    <tr>\n",
       "      <th>2</th>\n",
       "      <td>0.834347</td>\n",
       "      <td>0.834347</td>\n",
       "      <td>0.524355</td>\n",
       "      <td>0.876691</td>\n",
       "      <td>0.142758</td>\n",
       "      <td>0.869296</td>\n",
       "      <td>0.133184</td>\n",
       "      <td>0.142547</td>\n",
       "      <td>0.125866</td>\n",
       "      <td>0.120619</td>\n",
       "      <td>...</td>\n",
       "      <td>0.855511</td>\n",
       "      <td>0.941145</td>\n",
       "      <td>0.857638</td>\n",
       "      <td>0.858072</td>\n",
       "      <td>0.030711</td>\n",
       "      <td>0.905852</td>\n",
       "      <td>0.017323</td>\n",
       "      <td>0.258000</td>\n",
       "      <td>0.190017</td>\n",
       "      <td>0.0</td>\n",
       "    </tr>\n",
       "    <tr>\n",
       "      <th>3</th>\n",
       "      <td>0.577278</td>\n",
       "      <td>0.577278</td>\n",
       "      <td>0.442461</td>\n",
       "      <td>0.650845</td>\n",
       "      <td>0.340551</td>\n",
       "      <td>0.656721</td>\n",
       "      <td>0.348769</td>\n",
       "      <td>0.316203</td>\n",
       "      <td>0.326141</td>\n",
       "      <td>0.338899</td>\n",
       "      <td>...</td>\n",
       "      <td>0.709356</td>\n",
       "      <td>0.720251</td>\n",
       "      <td>0.652735</td>\n",
       "      <td>0.635345</td>\n",
       "      <td>0.063897</td>\n",
       "      <td>0.660731</td>\n",
       "      <td>0.099558</td>\n",
       "      <td>0.240302</td>\n",
       "      <td>0.307287</td>\n",
       "      <td>0.0</td>\n",
       "    </tr>\n",
       "    <tr>\n",
       "      <th>4</th>\n",
       "      <td>0.583740</td>\n",
       "      <td>0.583740</td>\n",
       "      <td>0.524355</td>\n",
       "      <td>0.693861</td>\n",
       "      <td>0.255558</td>\n",
       "      <td>0.675543</td>\n",
       "      <td>0.336511</td>\n",
       "      <td>0.257846</td>\n",
       "      <td>0.234749</td>\n",
       "      <td>0.303265</td>\n",
       "      <td>...</td>\n",
       "      <td>0.686046</td>\n",
       "      <td>0.681776</td>\n",
       "      <td>0.650759</td>\n",
       "      <td>0.687100</td>\n",
       "      <td>0.041349</td>\n",
       "      <td>0.791688</td>\n",
       "      <td>0.129160</td>\n",
       "      <td>0.355501</td>\n",
       "      <td>0.316987</td>\n",
       "      <td>0.0</td>\n",
       "    </tr>\n",
       "  </tbody>\n",
       "</table>\n",
       "<p>5 rows × 21 columns</p>\n",
       "</div>"
      ],
      "text/plain": [
       "   total_score     score  dslf_fa13    fa_atr    fa_dun   fa_elec  \\\n",
       "0     0.743094  0.743094   0.524355  0.810367  0.194955  0.805052   \n",
       "1     0.676975  0.676975   0.524355  0.686317  0.305593  0.720613   \n",
       "2     0.834347  0.834347   0.524355  0.876691  0.142758  0.869296   \n",
       "3     0.577278  0.577278   0.442461  0.650845  0.340551  0.656721   \n",
       "4     0.583740  0.583740   0.524355  0.693861  0.255558  0.675543   \n",
       "\n",
       "   fa_intra_rep  fa_intra_sol_xover4    fa_rep    fa_sol  ...  hbond_lr_bb  \\\n",
       "0      0.204689             0.194424  0.150016  0.181959  ...     0.899018   \n",
       "1      0.293997             0.271051  0.288532  0.295748  ...     0.869617   \n",
       "2      0.133184             0.142547  0.125866  0.120619  ...     0.855511   \n",
       "3      0.348769             0.316203  0.326141  0.338899  ...     0.709356   \n",
       "4      0.336511             0.257846  0.234749  0.303265  ...     0.686046   \n",
       "\n",
       "   hbond_sc  hbond_sr_bb  lk_ball_wtd     omega   p_aa_pp  pro_close  \\\n",
       "0  0.865276     0.745269     0.814943  0.064154  0.842755   0.029479   \n",
       "1  0.799924     0.590403     0.680818  0.105766  0.764504   0.181751   \n",
       "2  0.941145     0.857638     0.858072  0.030711  0.905852   0.017323   \n",
       "3  0.720251     0.652735     0.635345  0.063897  0.660731   0.099558   \n",
       "4  0.681776     0.650759     0.687100  0.041349  0.791688   0.129160   \n",
       "\n",
       "   rama_prepro       ref  time  \n",
       "0     0.322475  0.208127   1.0  \n",
       "1     0.415949  0.510299   1.0  \n",
       "2     0.258000  0.190017   0.0  \n",
       "3     0.240302  0.307287   0.0  \n",
       "4     0.355501  0.316987   0.0  \n",
       "\n",
       "[5 rows x 21 columns]"
      ]
     },
     "execution_count": 4,
     "metadata": {},
     "output_type": "execute_result"
    }
   ],
   "source": [
    "df_sol_X.head()"
   ]
  },
  {
   "cell_type": "code",
   "execution_count": 5,
   "metadata": {},
   "outputs": [],
   "source": [
    "# yeo-jhonson Transformation\n",
    "\n",
    "# normalize the exponential data with Yeo Jhonson\n",
    "#normalized_data = stats.yeojohnson(df_sol_y['solubility'])\n",
    "\n",
    "# plot both together to compare\n",
    "#fig, ax=plt.subplots(1,2)\n",
    "#sns.histplot(df_sol_y['solubility'], ax=ax[0])\n",
    "#ax[0].set_title(\"Original Data\")\n",
    "#sns.histplot(normalized_data[0], ax=ax[1])\n",
    "#ax[1].set_title(\"Normalized data\")\n",
    "\n",
    "#df_sol_y = pd.DataFrame({'solubility' : normalized_data[0]})"
   ]
  },
  {
   "cell_type": "code",
   "execution_count": 6,
   "metadata": {},
   "outputs": [
    {
     "data": {
      "text/html": [
       "<div>\n",
       "<style scoped>\n",
       "    .dataframe tbody tr th:only-of-type {\n",
       "        vertical-align: middle;\n",
       "    }\n",
       "\n",
       "    .dataframe tbody tr th {\n",
       "        vertical-align: top;\n",
       "    }\n",
       "\n",
       "    .dataframe thead th {\n",
       "        text-align: right;\n",
       "    }\n",
       "</style>\n",
       "<table border=\"1\" class=\"dataframe\">\n",
       "  <thead>\n",
       "    <tr style=\"text-align: right;\">\n",
       "      <th></th>\n",
       "      <th>solubility</th>\n",
       "    </tr>\n",
       "  </thead>\n",
       "  <tbody>\n",
       "    <tr>\n",
       "      <th>0</th>\n",
       "      <td>0.572519</td>\n",
       "    </tr>\n",
       "    <tr>\n",
       "      <th>1</th>\n",
       "      <td>0.274809</td>\n",
       "    </tr>\n",
       "    <tr>\n",
       "      <th>2</th>\n",
       "      <td>0.618321</td>\n",
       "    </tr>\n",
       "    <tr>\n",
       "      <th>3</th>\n",
       "      <td>0.458015</td>\n",
       "    </tr>\n",
       "    <tr>\n",
       "      <th>4</th>\n",
       "      <td>0.648855</td>\n",
       "    </tr>\n",
       "  </tbody>\n",
       "</table>\n",
       "</div>"
      ],
      "text/plain": [
       "   solubility\n",
       "0    0.572519\n",
       "1    0.274809\n",
       "2    0.618321\n",
       "3    0.458015\n",
       "4    0.648855"
      ]
     },
     "execution_count": 6,
     "metadata": {},
     "output_type": "execute_result"
    }
   ],
   "source": [
    "df_sol_y.head()"
   ]
  },
  {
   "cell_type": "code",
   "execution_count": 7,
   "metadata": {},
   "outputs": [],
   "source": [
    "x_train, x_test, y_train, y_test = train_test_split(\n",
    "                        df_sol_X, df_sol_y, \n",
    "                        train_size = 0.8,\n",
    "                        test_size = 0.2,\n",
    "                        random_state = 10\n",
    "                        )"
   ]
  },
  {
   "cell_type": "markdown",
   "metadata": {},
   "source": [
    "# Linear Regression (LR)"
   ]
  },
  {
   "cell_type": "code",
   "execution_count": 8,
   "metadata": {},
   "outputs": [],
   "source": [
    "# The cross validation scheme to be used\n",
    "cv = 10\n",
    "folds = KFold(n_splits = cv, shuffle = False, random_state = None)"
   ]
  },
  {
   "cell_type": "code",
   "execution_count": 9,
   "metadata": {},
   "outputs": [
    {
     "name": "stdout",
     "output_type": "stream",
     "text": [
      "Train R2 score: [0.24070762 0.2779434  0.24402082 0.22620188 0.21954593 0.25365369\n",
      " 0.24037885 0.24810633 0.24074922 0.26551295]\n",
      "Test R2 score: [ 0.15333512 -0.91699637  0.07873072  0.32811153  0.26146821  0.03283949\n",
      "  0.13819632  0.05133009  0.03650396 -0.08689509]\n"
     ]
    }
   ],
   "source": [
    "# Create the Linear Regression model\n",
    "# Use cross validation\n",
    "# Check the R2 score for train and test\n",
    "\n",
    "\n",
    "lm = LinearRegression()\n",
    "cv = 10\n",
    "\n",
    "scores = cross_validate(estimator=lm, X=x_train, y=y_train, cv=folds,\n",
    "    scoring=('r2', 'neg_mean_squared_error'),\n",
    "    return_train_score=True)\n",
    "\n",
    "#print(scores.keys())\n",
    "print(\"Train R2 score: {}\".format(scores['train_r2']))\n",
    "print(\"Test R2 score: {}\".format(scores['test_r2']))"
   ]
  },
  {
   "cell_type": "code",
   "execution_count": 10,
   "metadata": {},
   "outputs": [
    {
     "name": "stdout",
     "output_type": "stream",
     "text": [
      "0.019538122610365583\n"
     ]
    }
   ],
   "source": [
    "# Test the model\n",
    "\n",
    "lm.fit(x_train, y_train)\n",
    "y_pred = lm.predict(x_test)\n",
    "r2 = metrics.r2_score(y_test, y_pred)\n",
    "print(r2)"
   ]
  },
  {
   "cell_type": "code",
   "execution_count": 11,
   "metadata": {},
   "outputs": [
    {
     "name": "stdout",
     "output_type": "stream",
     "text": [
      "0.09446107369655665\n",
      "-1.0502974406930559\n",
      "0.014668944367864922\n",
      "0.2813908045105036\n",
      "0.21011335123476638\n",
      "-0.03441338986162035\n",
      "0.0782695787670794\n",
      "-0.014637019550696184\n",
      "-0.030494111835906335\n",
      "-0.16247388360902448\n"
     ]
    }
   ],
   "source": [
    "# Check the Adjusted R2\n",
    "\n",
    "n_observations = len(y_train)\n",
    "n_independent_variables = x_train.shape[1]\n",
    "\n",
    "# Adj_r2 = 1 - (1 - r2) * (n_observations - 1) / (n_observations - n_independent_variables - 1)\n",
    "\n",
    "for cross_val_r2 in scores['test_r2']:\n",
    "    Adj_r2 = 1 - (1 - cross_val_r2) * (n_observations - 1) / (n_observations - n_independent_variables - 1)\n",
    "    print(Adj_r2)"
   ]
  },
  {
   "cell_type": "code",
   "execution_count": 12,
   "metadata": {},
   "outputs": [
    {
     "name": "stdout",
     "output_type": "stream",
     "text": [
      "                            OLS Regression Results                            \n",
      "==============================================================================\n",
      "Dep. Variable:             solubility   R-squared:                       0.238\n",
      "Model:                            OLS   Adj. R-squared:                  0.185\n",
      "Method:                 Least Squares   F-statistic:                     4.498\n",
      "Date:                Mon, 22 Aug 2022   Prob (F-statistic):           1.30e-09\n",
      "Time:                        12:05:30   Log-Likelihood:                 40.328\n",
      "No. Observations:                 324   AIC:                            -36.66\n",
      "Df Residuals:                     302   BIC:                             46.52\n",
      "Df Model:                          21                                         \n",
      "Covariance Type:            nonrobust                                         \n",
      "=======================================================================================\n",
      "                          coef    std err          t      P>|t|      [0.025      0.975]\n",
      "---------------------------------------------------------------------------------------\n",
      "const                 806.5979    445.893      1.809      0.071     -70.853    1684.049\n",
      "total_score         -4.672e+04   2.59e+05     -0.180      0.857   -5.57e+05    4.64e+05\n",
      "score                4.701e+04   2.59e+05      0.181      0.856   -4.63e+05    5.57e+05\n",
      "dslf_fa13              -1.6563      0.818     -2.024      0.044      -3.267      -0.046\n",
      "fa_atr               -714.3133    395.874     -1.804      0.072   -1493.334      64.708\n",
      "fa_dun               -186.2137    102.821     -1.811      0.071    -388.550      16.123\n",
      "fa_elec              -206.6178    112.573     -1.835      0.067    -428.145      14.909\n",
      "fa_intra_rep           -1.2057      0.927     -1.300      0.195      -3.031       0.619\n",
      "fa_intra_sol_xover4   -26.3671     14.068     -1.874      0.062     -54.050       1.316\n",
      "fa_rep               -100.0807     55.316     -1.809      0.071    -208.935       8.774\n",
      "fa_sol               -438.1929    243.069     -1.803      0.072    -916.516      40.130\n",
      "hbond_bb_sc           -21.2299     12.130     -1.750      0.081     -45.100       2.640\n",
      "hbond_lr_bb           -27.1505     15.014     -1.808      0.072     -56.696       2.395\n",
      "hbond_sc              -15.8831      9.017     -1.761      0.079     -33.627       1.861\n",
      "hbond_sr_bb           -47.1617     26.432     -1.784      0.075     -99.176       4.853\n",
      "lk_ball_wtd           -17.6119      9.768     -1.803      0.072     -36.834       1.611\n",
      "omega                 -21.7627     11.958     -1.820      0.070     -45.294       1.768\n",
      "p_aa_pp               -24.1167     13.174     -1.831      0.068     -50.040       1.807\n",
      "pro_close              -3.0025      1.736     -1.729      0.085      -6.420       0.414\n",
      "rama_prepro           -19.3771     10.653     -1.819      0.070     -40.340       1.586\n",
      "ref                   -37.3843     20.577     -1.817      0.070     -77.876       3.107\n",
      "time                    0.0078      0.059      0.131      0.896      -0.109       0.124\n",
      "==============================================================================\n",
      "Omnibus:                       15.736   Durbin-Watson:                   1.830\n",
      "Prob(Omnibus):                  0.000   Jarque-Bera (JB):                7.628\n",
      "Skew:                          -0.146   Prob(JB):                       0.0221\n",
      "Kurtosis:                       2.307   Cond. No.                     7.93e+07\n",
      "==============================================================================\n",
      "\n",
      "Notes:\n",
      "[1] Standard Errors assume that the covariance matrix of the errors is correctly specified.\n",
      "[2] The smallest eigenvalue is 3.64e-13. This might indicate that there are\n",
      "strong multicollinearity problems or that the design matrix is singular.\n"
     ]
    }
   ],
   "source": [
    "X2 = sm.add_constant(x_train)\n",
    "est = sm.OLS(y_train, X2)\n",
    "est2 = est.fit()\n",
    "print(est2.summary())"
   ]
  },
  {
   "cell_type": "code",
   "execution_count": 13,
   "metadata": {},
   "outputs": [
    {
     "data": {
      "text/plain": [
       "const                  0.071453\n",
       "total_score            0.857136\n",
       "score                  0.856246\n",
       "dslf_fa13              0.043858\n",
       "fa_atr                 0.072166\n",
       "fa_dun                 0.071127\n",
       "fa_elec                0.067428\n",
       "fa_intra_rep           0.194573\n",
       "fa_intra_sol_xover4    0.061857\n",
       "fa_rep                 0.071408\n",
       "fa_sol                 0.072424\n",
       "hbond_bb_sc            0.081097\n",
       "hbond_lr_bb            0.071547\n",
       "hbond_sc               0.079167\n",
       "hbond_sr_bb            0.075385\n",
       "lk_ball_wtd            0.072390\n",
       "omega                  0.069755\n",
       "p_aa_pp                0.068131\n",
       "pro_close              0.084804\n",
       "rama_prepro            0.069902\n",
       "ref                    0.070234\n",
       "time                   0.895635\n",
       "dtype: float64"
      ]
     },
     "execution_count": 13,
     "metadata": {},
     "output_type": "execute_result"
    }
   ],
   "source": [
    "# Compute p-values\n",
    "est2.pvalues"
   ]
  },
  {
   "cell_type": "code",
   "execution_count": 14,
   "metadata": {},
   "outputs": [
    {
     "name": "stdout",
     "output_type": "stream",
     "text": [
      "('const', 0.07145334893504028)\n",
      "('total_score', 0.8571355728006999)\n",
      "('score', 0.8562459134467624)\n",
      "('fa_atr', 0.07216558016321616)\n",
      "('fa_dun', 0.07112732549291281)\n",
      "('fa_elec', 0.06742812350342402)\n",
      "('fa_intra_rep', 0.19457327333883412)\n",
      "('fa_intra_sol_xover4', 0.061856682769149775)\n",
      "('fa_rep', 0.07140767021901681)\n",
      "('fa_sol', 0.07242412767518122)\n",
      "('hbond_bb_sc', 0.08109705238323378)\n",
      "('hbond_lr_bb', 0.071547421380971)\n",
      "('hbond_sc', 0.07916686850908292)\n",
      "('hbond_sr_bb', 0.07538514894740277)\n",
      "('lk_ball_wtd', 0.0723899582662793)\n",
      "('omega', 0.06975481133678908)\n",
      "('p_aa_pp', 0.06813107910115832)\n",
      "('pro_close', 0.08480437045463639)\n",
      "('rama_prepro', 0.06990170590294244)\n",
      "('ref', 0.0702336184793425)\n",
      "('time', 0.8956346252120697)\n"
     ]
    }
   ],
   "source": [
    "# Get p-values above 0.05\n",
    "for feature in est2.pvalues.keys():\n",
    "    if est2.pvalues[feature] > 0.05:\n",
    "        print((feature, est2.pvalues[feature]))"
   ]
  },
  {
   "cell_type": "markdown",
   "metadata": {},
   "source": [
    "# Saving trained model"
   ]
  },
  {
   "cell_type": "code",
   "execution_count": 15,
   "metadata": {},
   "outputs": [
    {
     "data": {
      "text/plain": [
       "['models/lr_model.joblib']"
      ]
     },
     "execution_count": 15,
     "metadata": {},
     "output_type": "execute_result"
    }
   ],
   "source": [
    "filename = 'models/lr_model.joblib'\n",
    "joblib.dump(lm, filename)"
   ]
  },
  {
   "cell_type": "markdown",
   "metadata": {},
   "source": [
    "# Conclusions\n",
    "\n",
    "What was done:\n",
    "* Split dataset in test 20% and train 80%\n",
    "* Used crossValidate with 10 folds and linear regression. Checked the R2, adjusted R2 and p_values (checked for columns with p_value above 0.05)"
   ]
  },
  {
   "cell_type": "markdown",
   "metadata": {},
   "source": []
  }
 ],
 "metadata": {
  "interpreter": {
   "hash": "5edc29c2ed010d6458d71a83433b383a96a8cbd3efe8531bc90c4b8a5b8bcec9"
  },
  "kernelspec": {
   "display_name": "Python 3",
   "language": "python",
   "name": "python3"
  },
  "language_info": {
   "codemirror_mode": {
    "name": "ipython",
    "version": 3
   },
   "file_extension": ".py",
   "mimetype": "text/x-python",
   "name": "python",
   "nbconvert_exporter": "python",
   "pygments_lexer": "ipython3",
   "version": "3.7.3"
  },
  "orig_nbformat": 4
 },
 "nbformat": 4,
 "nbformat_minor": 2
}
