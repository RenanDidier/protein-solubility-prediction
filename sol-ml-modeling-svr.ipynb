{
 "cells": [
  {
   "cell_type": "code",
   "execution_count": 1,
   "metadata": {},
   "outputs": [],
   "source": [
    "# General libraries\n",
    "import pandas as pd\n",
    "import numpy as np\n",
    "\n",
    "# Scikit Learn libraries\n",
    "from sklearn.model_selection import train_test_split\n",
    "from sklearn.svm import SVR\n",
    "from sklearn.model_selection import cross_validate\n",
    "from sklearn import metrics\n",
    "from sklearn.model_selection import KFold\n",
    "from sklearn.model_selection import GridSearchCV\n",
    "\n",
    "from scipy import stats\n"
   ]
  },
  {
   "cell_type": "markdown",
   "metadata": {},
   "source": [
    "# Load Dataset"
   ]
  },
  {
   "cell_type": "code",
   "execution_count": 2,
   "metadata": {},
   "outputs": [],
   "source": [
    "data_path = \"data/complex_processed_data.csv\"\n",
    "standardized_data_path = 'data/complex_processed_standardized_data.csv'\n",
    "standardized_poutliers_removed_data_path = 'data/complex_processed_standardized_outliers_removed_data.csv'\n",
    "\n",
    "df_solubility = pd.read_csv(standardized_data_path)"
   ]
  },
  {
   "cell_type": "markdown",
   "metadata": {},
   "source": [
    "# Process Dataset\n",
    "\n",
    "Process Dataset before the model creation.\n",
    "The following actions were done:\n",
    "* Split the independent variable from the dependent ones;\n",
    "* Split Dataset for training and testing."
   ]
  },
  {
   "cell_type": "code",
   "execution_count": 3,
   "metadata": {},
   "outputs": [],
   "source": [
    "# Split dataset into X and Y for machine learning\n",
    "\n",
    "df_sol_X = df_solubility.copy()\n",
    "df_sol_X.drop(columns=['solubility'], axis=1, inplace=True)\n",
    "\n",
    "df_sol_y = df_solubility[['solubility']]"
   ]
  },
  {
   "cell_type": "code",
   "execution_count": 4,
   "metadata": {},
   "outputs": [
    {
     "data": {
      "text/html": [
       "<div>\n",
       "<style scoped>\n",
       "    .dataframe tbody tr th:only-of-type {\n",
       "        vertical-align: middle;\n",
       "    }\n",
       "\n",
       "    .dataframe tbody tr th {\n",
       "        vertical-align: top;\n",
       "    }\n",
       "\n",
       "    .dataframe thead th {\n",
       "        text-align: right;\n",
       "    }\n",
       "</style>\n",
       "<table border=\"1\" class=\"dataframe\">\n",
       "  <thead>\n",
       "    <tr style=\"text-align: right;\">\n",
       "      <th></th>\n",
       "      <th>total_score</th>\n",
       "      <th>score</th>\n",
       "      <th>dslf_fa13</th>\n",
       "      <th>fa_atr</th>\n",
       "      <th>fa_dun</th>\n",
       "      <th>fa_elec</th>\n",
       "      <th>fa_intra_rep</th>\n",
       "      <th>fa_intra_sol_xover4</th>\n",
       "      <th>fa_rep</th>\n",
       "      <th>fa_sol</th>\n",
       "      <th>...</th>\n",
       "      <th>hbond_lr_bb</th>\n",
       "      <th>hbond_sc</th>\n",
       "      <th>hbond_sr_bb</th>\n",
       "      <th>lk_ball_wtd</th>\n",
       "      <th>omega</th>\n",
       "      <th>p_aa_pp</th>\n",
       "      <th>pro_close</th>\n",
       "      <th>rama_prepro</th>\n",
       "      <th>ref</th>\n",
       "      <th>time</th>\n",
       "    </tr>\n",
       "  </thead>\n",
       "  <tbody>\n",
       "    <tr>\n",
       "      <th>0</th>\n",
       "      <td>0.743094</td>\n",
       "      <td>0.743094</td>\n",
       "      <td>0.524355</td>\n",
       "      <td>0.810367</td>\n",
       "      <td>0.194955</td>\n",
       "      <td>0.805052</td>\n",
       "      <td>0.204689</td>\n",
       "      <td>0.194424</td>\n",
       "      <td>0.150016</td>\n",
       "      <td>0.181959</td>\n",
       "      <td>...</td>\n",
       "      <td>0.899018</td>\n",
       "      <td>0.865276</td>\n",
       "      <td>0.745269</td>\n",
       "      <td>0.814943</td>\n",
       "      <td>0.064154</td>\n",
       "      <td>0.842755</td>\n",
       "      <td>0.029479</td>\n",
       "      <td>0.322475</td>\n",
       "      <td>0.208127</td>\n",
       "      <td>1.0</td>\n",
       "    </tr>\n",
       "    <tr>\n",
       "      <th>1</th>\n",
       "      <td>0.676975</td>\n",
       "      <td>0.676975</td>\n",
       "      <td>0.524355</td>\n",
       "      <td>0.686317</td>\n",
       "      <td>0.305593</td>\n",
       "      <td>0.720613</td>\n",
       "      <td>0.293997</td>\n",
       "      <td>0.271051</td>\n",
       "      <td>0.288532</td>\n",
       "      <td>0.295748</td>\n",
       "      <td>...</td>\n",
       "      <td>0.869617</td>\n",
       "      <td>0.799924</td>\n",
       "      <td>0.590403</td>\n",
       "      <td>0.680818</td>\n",
       "      <td>0.105766</td>\n",
       "      <td>0.764504</td>\n",
       "      <td>0.181751</td>\n",
       "      <td>0.415949</td>\n",
       "      <td>0.510299</td>\n",
       "      <td>1.0</td>\n",
       "    </tr>\n",
       "    <tr>\n",
       "      <th>2</th>\n",
       "      <td>0.834347</td>\n",
       "      <td>0.834347</td>\n",
       "      <td>0.524355</td>\n",
       "      <td>0.876691</td>\n",
       "      <td>0.142758</td>\n",
       "      <td>0.869296</td>\n",
       "      <td>0.133184</td>\n",
       "      <td>0.142547</td>\n",
       "      <td>0.125866</td>\n",
       "      <td>0.120619</td>\n",
       "      <td>...</td>\n",
       "      <td>0.855511</td>\n",
       "      <td>0.941145</td>\n",
       "      <td>0.857638</td>\n",
       "      <td>0.858072</td>\n",
       "      <td>0.030711</td>\n",
       "      <td>0.905852</td>\n",
       "      <td>0.017323</td>\n",
       "      <td>0.258000</td>\n",
       "      <td>0.190017</td>\n",
       "      <td>0.0</td>\n",
       "    </tr>\n",
       "    <tr>\n",
       "      <th>3</th>\n",
       "      <td>0.577278</td>\n",
       "      <td>0.577278</td>\n",
       "      <td>0.442461</td>\n",
       "      <td>0.650845</td>\n",
       "      <td>0.340551</td>\n",
       "      <td>0.656721</td>\n",
       "      <td>0.348769</td>\n",
       "      <td>0.316203</td>\n",
       "      <td>0.326141</td>\n",
       "      <td>0.338899</td>\n",
       "      <td>...</td>\n",
       "      <td>0.709356</td>\n",
       "      <td>0.720251</td>\n",
       "      <td>0.652735</td>\n",
       "      <td>0.635345</td>\n",
       "      <td>0.063897</td>\n",
       "      <td>0.660731</td>\n",
       "      <td>0.099558</td>\n",
       "      <td>0.240302</td>\n",
       "      <td>0.307287</td>\n",
       "      <td>0.0</td>\n",
       "    </tr>\n",
       "    <tr>\n",
       "      <th>4</th>\n",
       "      <td>0.583740</td>\n",
       "      <td>0.583740</td>\n",
       "      <td>0.524355</td>\n",
       "      <td>0.693861</td>\n",
       "      <td>0.255558</td>\n",
       "      <td>0.675543</td>\n",
       "      <td>0.336511</td>\n",
       "      <td>0.257846</td>\n",
       "      <td>0.234749</td>\n",
       "      <td>0.303265</td>\n",
       "      <td>...</td>\n",
       "      <td>0.686046</td>\n",
       "      <td>0.681776</td>\n",
       "      <td>0.650759</td>\n",
       "      <td>0.687100</td>\n",
       "      <td>0.041349</td>\n",
       "      <td>0.791688</td>\n",
       "      <td>0.129160</td>\n",
       "      <td>0.355501</td>\n",
       "      <td>0.316987</td>\n",
       "      <td>0.0</td>\n",
       "    </tr>\n",
       "  </tbody>\n",
       "</table>\n",
       "<p>5 rows × 21 columns</p>\n",
       "</div>"
      ],
      "text/plain": [
       "   total_score     score  dslf_fa13    fa_atr    fa_dun   fa_elec  \\\n",
       "0     0.743094  0.743094   0.524355  0.810367  0.194955  0.805052   \n",
       "1     0.676975  0.676975   0.524355  0.686317  0.305593  0.720613   \n",
       "2     0.834347  0.834347   0.524355  0.876691  0.142758  0.869296   \n",
       "3     0.577278  0.577278   0.442461  0.650845  0.340551  0.656721   \n",
       "4     0.583740  0.583740   0.524355  0.693861  0.255558  0.675543   \n",
       "\n",
       "   fa_intra_rep  fa_intra_sol_xover4    fa_rep    fa_sol  ...  hbond_lr_bb  \\\n",
       "0      0.204689             0.194424  0.150016  0.181959  ...     0.899018   \n",
       "1      0.293997             0.271051  0.288532  0.295748  ...     0.869617   \n",
       "2      0.133184             0.142547  0.125866  0.120619  ...     0.855511   \n",
       "3      0.348769             0.316203  0.326141  0.338899  ...     0.709356   \n",
       "4      0.336511             0.257846  0.234749  0.303265  ...     0.686046   \n",
       "\n",
       "   hbond_sc  hbond_sr_bb  lk_ball_wtd     omega   p_aa_pp  pro_close  \\\n",
       "0  0.865276     0.745269     0.814943  0.064154  0.842755   0.029479   \n",
       "1  0.799924     0.590403     0.680818  0.105766  0.764504   0.181751   \n",
       "2  0.941145     0.857638     0.858072  0.030711  0.905852   0.017323   \n",
       "3  0.720251     0.652735     0.635345  0.063897  0.660731   0.099558   \n",
       "4  0.681776     0.650759     0.687100  0.041349  0.791688   0.129160   \n",
       "\n",
       "   rama_prepro       ref  time  \n",
       "0     0.322475  0.208127   1.0  \n",
       "1     0.415949  0.510299   1.0  \n",
       "2     0.258000  0.190017   0.0  \n",
       "3     0.240302  0.307287   0.0  \n",
       "4     0.355501  0.316987   0.0  \n",
       "\n",
       "[5 rows x 21 columns]"
      ]
     },
     "execution_count": 4,
     "metadata": {},
     "output_type": "execute_result"
    }
   ],
   "source": [
    "df_sol_X.head()"
   ]
  },
  {
   "cell_type": "code",
   "execution_count": 5,
   "metadata": {},
   "outputs": [
    {
     "data": {
      "text/html": [
       "<div>\n",
       "<style scoped>\n",
       "    .dataframe tbody tr th:only-of-type {\n",
       "        vertical-align: middle;\n",
       "    }\n",
       "\n",
       "    .dataframe tbody tr th {\n",
       "        vertical-align: top;\n",
       "    }\n",
       "\n",
       "    .dataframe thead th {\n",
       "        text-align: right;\n",
       "    }\n",
       "</style>\n",
       "<table border=\"1\" class=\"dataframe\">\n",
       "  <thead>\n",
       "    <tr style=\"text-align: right;\">\n",
       "      <th></th>\n",
       "      <th>solubility</th>\n",
       "    </tr>\n",
       "  </thead>\n",
       "  <tbody>\n",
       "    <tr>\n",
       "      <th>0</th>\n",
       "      <td>0.572519</td>\n",
       "    </tr>\n",
       "    <tr>\n",
       "      <th>1</th>\n",
       "      <td>0.274809</td>\n",
       "    </tr>\n",
       "    <tr>\n",
       "      <th>2</th>\n",
       "      <td>0.618321</td>\n",
       "    </tr>\n",
       "    <tr>\n",
       "      <th>3</th>\n",
       "      <td>0.458015</td>\n",
       "    </tr>\n",
       "    <tr>\n",
       "      <th>4</th>\n",
       "      <td>0.648855</td>\n",
       "    </tr>\n",
       "  </tbody>\n",
       "</table>\n",
       "</div>"
      ],
      "text/plain": [
       "   solubility\n",
       "0    0.572519\n",
       "1    0.274809\n",
       "2    0.618321\n",
       "3    0.458015\n",
       "4    0.648855"
      ]
     },
     "execution_count": 5,
     "metadata": {},
     "output_type": "execute_result"
    }
   ],
   "source": [
    "df_sol_y.head()"
   ]
  },
  {
   "cell_type": "code",
   "execution_count": 6,
   "metadata": {},
   "outputs": [],
   "source": [
    "x_train, x_test, y_train, y_test = train_test_split(\n",
    "                        df_sol_X, df_sol_y, \n",
    "                        train_size = 0.8,\n",
    "                        test_size = 0.2,\n",
    "                        random_state = 10\n",
    "                        )"
   ]
  },
  {
   "cell_type": "markdown",
   "metadata": {},
   "source": [
    "# Support Vector Regression (SVR)"
   ]
  },
  {
   "cell_type": "code",
   "execution_count": 7,
   "metadata": {},
   "outputs": [],
   "source": [
    "# The cross validation scheme to be used\n",
    "cv = 10\n",
    "folds = KFold(n_splits = cv, shuffle = True, random_state = 100)"
   ]
  },
  {
   "cell_type": "code",
   "execution_count": 8,
   "metadata": {},
   "outputs": [
    {
     "name": "stdout",
     "output_type": "stream",
     "text": [
      "Train R2 score: [0.21188984 0.22036139 0.19591976 0.2107361  0.21919154 0.26842116\n",
      " 0.21990612 0.22405558 0.21906073 0.20890184]\n",
      "Test R2 score: [ 0.24952506  0.10166905  0.40115562  0.23081565  0.21221029 -0.28303423\n",
      "  0.1801292   0.10694309  0.14179503  0.28495393]\n"
     ]
    }
   ],
   "source": [
    "# Create a SVR model with cross validation and default parameters\n",
    "\n",
    "svr = SVR(kernel='rbf', C=1.0, gamma='auto', epsilon=0.1, degree=3)\n",
    "\n",
    "scores = cross_validate(estimator=svr, X=x_train, y=np.ravel(y_train), cv=folds,\n",
    "    scoring=('r2', 'neg_mean_squared_error'),\n",
    "    return_train_score=True)\n",
    "\n",
    "#print(scores.keys())\n",
    "print(\"Train R2 score: {}\".format(scores['train_r2']))\n",
    "print(\"Test R2 score: {}\".format(scores['test_r2']))\n",
    "\n",
    "# Save the test scores from cross validation\n",
    "first_try_results = scores['test_r2'] "
   ]
  },
  {
   "cell_type": "code",
   "execution_count": 9,
   "metadata": {},
   "outputs": [
    {
     "name": "stdout",
     "output_type": "stream",
     "text": [
      "0.21237884506754456\n"
     ]
    }
   ],
   "source": [
    "# Test the model\n",
    "\n",
    "svr.fit(x_train, np.ravel(y_train))\n",
    "y_pred = svr.predict(x_test)\n",
    "r2 = metrics.r2_score(y_test, y_pred)\n",
    "print(r2)"
   ]
  },
  {
   "cell_type": "code",
   "execution_count": 10,
   "metadata": {},
   "outputs": [
    {
     "name": "stdout",
     "output_type": "stream",
     "text": [
      "0.19733971258727123\n",
      "0.039202326913430174\n",
      "0.35951412449359\n",
      "0.17732932059702777\n",
      "0.1574302101019851\n",
      "-0.37225183833883313\n",
      "0.12311831692236685\n",
      "0.044843109028393946\n",
      "0.08211852051196156\n",
      "0.23523217831738397\n"
     ]
    }
   ],
   "source": [
    "# Check the Adjusted R2\n",
    "\n",
    "n_observations = len(y_train)\n",
    "n_independent_variables = x_train.shape[1]\n",
    "\n",
    "for cross_val_r2 in scores['test_r2']:\n",
    "    Adj_r2 = 1 - (1 - cross_val_r2) * (n_observations - 1) / (n_observations - n_independent_variables - 1)\n",
    "    print(Adj_r2)"
   ]
  },
  {
   "cell_type": "markdown",
   "metadata": {},
   "source": [
    "## Grid Search"
   ]
  },
  {
   "cell_type": "code",
   "execution_count": 11,
   "metadata": {},
   "outputs": [
    {
     "name": "stdout",
     "output_type": "stream",
     "text": [
      "Fitting 10 folds for each of 768 candidates, totalling 7680 fits\n"
     ]
    },
    {
     "name": "stderr",
     "output_type": "stream",
     "text": [
      "[Parallel(n_jobs=-1)]: Using backend LokyBackend with 4 concurrent workers.\n",
      "[Parallel(n_jobs=-1)]: Done  48 tasks      | elapsed:   11.5s\n",
      "[Parallel(n_jobs=-1)]: Done 1060 tasks      | elapsed:   19.4s\n",
      "[Parallel(n_jobs=-1)]: Done 4996 tasks      | elapsed:   40.6s\n"
     ]
    },
    {
     "name": "stdout",
     "output_type": "stream",
     "text": [
      "{'C': 1.5, 'degree': 1, 'epsilon': 0.2, 'gamma': 'scale', 'kernel': 'rbf'}\n"
     ]
    },
    {
     "name": "stderr",
     "output_type": "stream",
     "text": [
      "[Parallel(n_jobs=-1)]: Done 7680 out of 7680 | elapsed:  1.1min finished\n"
     ]
    }
   ],
   "source": [
    "# Specify range of hyperparameters to tune\n",
    "hyper_params = {\n",
    "    'kernel': ('linear', 'rbf','poly', 'sigmoid'),\n",
    "    'C':[1, 1.5, 10, 100],\n",
    "    'gamma': [1e-7, 1e-4, 'auto', 'scale'],\n",
    "    'epsilon':[0.1,0.2,0.5,0.3],\n",
    "    'degree': [1,2,3,4]\n",
    "    }\n",
    "\n",
    "\n",
    "# Specify model\n",
    "svr = SVR()\n",
    "svr.fit(x_train, np.ravel(y_train))\n",
    "\n",
    "# Call GridSearchCV()\n",
    "model_cv = GridSearchCV(\n",
    "    estimator = svr,\n",
    "    param_grid = hyper_params,\n",
    "    scoring= 'r2',\n",
    "    cv = folds,\n",
    "    verbose = 1,\n",
    "    return_train_score=True,\n",
    "    n_jobs = -1,\n",
    "    refit = True\n",
    "    )\n",
    "\n",
    "# Fit the model\n",
    "best_model = model_cv.fit(x_train, np.ravel(y_train)) \n",
    "\n",
    "print(model_cv.best_params_)"
   ]
  },
  {
   "cell_type": "code",
   "execution_count": 13,
   "metadata": {},
   "outputs": [
    {
     "name": "stdout",
     "output_type": "stream",
     "text": [
      "Train R2 score: [0.32093988 0.33328547 0.31823966 0.32026569 0.33359129 0.35968942\n",
      " 0.34059933 0.33424372 0.32346938 0.3282754 ]\n",
      "Test R2 score: [ 0.27134574  0.13602266  0.3282046   0.31202866  0.19940002 -0.09615614\n",
      "  0.18304571  0.17160202  0.22694649  0.2720827 ]\n"
     ]
    }
   ],
   "source": [
    "# Create new model with best_params_ from grid search\n",
    "\n",
    "svr_best = SVR(\n",
    "    kernel=model_cv.best_params_['kernel'],\n",
    "    C=model_cv.best_params_['C'],\n",
    "    gamma=model_cv.best_params_['gamma'],\n",
    "    epsilon=model_cv.best_params_['epsilon'],\n",
    "    degree=model_cv.best_params_['degree']\n",
    "    )\n",
    "\n",
    "scores = cross_validate(estimator=svr_best, X=x_train, y=np.ravel(y_train), cv=folds,\n",
    "    scoring=('r2', 'neg_mean_squared_error'),\n",
    "    return_train_score=True)\n",
    "\n",
    "#print(scores.keys())\n",
    "print(\"Train R2 score: {}\".format(scores['train_r2']))\n",
    "print(\"Test R2 score: {}\".format(scores['test_r2']))\n",
    "\n",
    "# Save the test scores from cross validation\n",
    "best_parameters_result = scores['test_r2']"
   ]
  },
  {
   "cell_type": "code",
   "execution_count": 14,
   "metadata": {},
   "outputs": [
    {
     "name": "stdout",
     "output_type": "stream",
     "text": [
      "First try: [ 0.24952506  0.10166905  0.40115562  0.23081565  0.21221029 -0.28303423\n",
      "  0.1801292   0.10694309  0.14179503  0.28495393]\n",
      "Best parameters: [ 0.27134574  0.13602266  0.3282046   0.31202866  0.19940002 -0.09615614\n",
      "  0.18304571  0.17160202  0.22694649  0.2720827 ]\n"
     ]
    }
   ],
   "source": [
    "# check the cross validation test scores\n",
    "print('First try: {}'.format(first_try_results))\n",
    "print('Best parameters: {}'.format(best_parameters_result))"
   ]
  },
  {
   "cell_type": "code",
   "execution_count": 16,
   "metadata": {},
   "outputs": [
    {
     "name": "stdout",
     "output_type": "stream",
     "text": [
      "0.15514305038842702\n"
     ]
    }
   ],
   "source": [
    "svr_best.fit(x_train, np.ravel(y_train))\n",
    "y_pred = svr_best.predict(x_test)\n",
    "r2 = metrics.r2_score(y_test, y_pred)\n",
    "print(r2)"
   ]
  },
  {
   "cell_type": "code",
   "execution_count": 17,
   "metadata": {},
   "outputs": [
    {
     "name": "stdout",
     "output_type": "stream",
     "text": [
      "0.2206777286889462\n",
      "0.07594476732026856\n",
      "0.2814903542821776\n",
      "0.2641895978968528\n",
      "0.14372915607705827\n",
      "-0.17237891703444919\n",
      "0.12623763445367364\n",
      "0.1139981899299003\n",
      "0.17319110986660147\n",
      "0.2214659365425392\n"
     ]
    }
   ],
   "source": [
    "# Check the Adjusted R2\n",
    "\n",
    "n_observations = len(y_train)\n",
    "n_independent_variables = x_train.shape[1]\n",
    "\n",
    "for cross_val_r2 in best_parameters_result:\n",
    "    Adj_r2 = 1 - (1 - cross_val_r2) * (n_observations - 1) / (n_observations - n_independent_variables - 1)\n",
    "    print(Adj_r2)"
   ]
  },
  {
   "cell_type": "markdown",
   "metadata": {},
   "source": [
    "# Conclusions\n",
    "\n",
    "What was done:\n",
    "* Split dataset in test 20% and train 80%.\n",
    "* Create a SVR model with grid seach then perform a grid search to find the best hyper parameters.\n",
    "* Compare the test scores from before the grid search and after\n",
    "* On grid search: C=1000 did not show better results so it was removed"
   ]
  },
  {
   "cell_type": "markdown",
   "metadata": {},
   "source": []
  }
 ],
 "metadata": {
  "interpreter": {
   "hash": "5edc29c2ed010d6458d71a83433b383a96a8cbd3efe8531bc90c4b8a5b8bcec9"
  },
  "kernelspec": {
   "display_name": "Python 3",
   "language": "python",
   "name": "python3"
  },
  "language_info": {
   "codemirror_mode": {
    "name": "ipython",
    "version": 3
   },
   "file_extension": ".py",
   "mimetype": "text/x-python",
   "name": "python",
   "nbconvert_exporter": "python",
   "pygments_lexer": "ipython3",
   "version": "3.7.3"
  },
  "orig_nbformat": 4
 },
 "nbformat": 4,
 "nbformat_minor": 2
}
