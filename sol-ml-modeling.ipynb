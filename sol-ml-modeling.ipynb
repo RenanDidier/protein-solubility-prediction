{
 "cells": [
  {
   "cell_type": "code",
   "execution_count": 675,
   "metadata": {},
   "outputs": [],
   "source": [
    "# General libraries\n",
    "import pandas as pd\n",
    "import numpy as np\n",
    "\n",
    "# Graphic libraries\n",
    "#import matplotlib.pyplot as plt\n",
    "\n",
    "# Scikit Learn libraries\n",
    "from sklearn.model_selection import train_test_split\n",
    "from sklearn.linear_model import LinearRegression\n",
    "from sklearn.model_selection import cross_validate\n",
    "from scipy.stats import pearsonr\n",
    "from sklearn import metrics"
   ]
  },
  {
   "cell_type": "markdown",
   "metadata": {},
   "source": [
    "# Load Dataset"
   ]
  },
  {
   "cell_type": "code",
   "execution_count": 676,
   "metadata": {},
   "outputs": [],
   "source": [
    "data_path = \"data/complex_processed_data.csv\"\n",
    "standardized_data_path = 'data/complex_processed_standardized_data.csv'\n",
    "\n",
    "df_solubility = pd.read_csv(standardized_data_path)"
   ]
  },
  {
   "cell_type": "markdown",
   "metadata": {},
   "source": [
    "# Process Dataset\n",
    "\n",
    "Process Dataset before the model creation.\n",
    "The following actions were done:\n",
    "* Split the independent variable from the dependent ones;\n",
    "* Split Dataset for training and testing."
   ]
  },
  {
   "cell_type": "code",
   "execution_count": 677,
   "metadata": {},
   "outputs": [],
   "source": [
    "# Split dataset into X and Y for machine learning\n",
    "\n",
    "df_sol_X = df_solubility.copy()\n",
    "df_sol_X.drop(columns=['solubility'], axis=1, inplace=True)\n",
    "\n",
    "df_sol_y = df_solubility[['solubility']]"
   ]
  },
  {
   "cell_type": "code",
   "execution_count": 678,
   "metadata": {},
   "outputs": [
    {
     "data": {
      "text/html": [
       "<div>\n",
       "<style scoped>\n",
       "    .dataframe tbody tr th:only-of-type {\n",
       "        vertical-align: middle;\n",
       "    }\n",
       "\n",
       "    .dataframe tbody tr th {\n",
       "        vertical-align: top;\n",
       "    }\n",
       "\n",
       "    .dataframe thead th {\n",
       "        text-align: right;\n",
       "    }\n",
       "</style>\n",
       "<table border=\"1\" class=\"dataframe\">\n",
       "  <thead>\n",
       "    <tr style=\"text-align: right;\">\n",
       "      <th></th>\n",
       "      <th>total_score</th>\n",
       "      <th>score</th>\n",
       "      <th>dslf_fa13</th>\n",
       "      <th>fa_atr</th>\n",
       "      <th>fa_dun</th>\n",
       "      <th>fa_elec</th>\n",
       "      <th>fa_intra_rep</th>\n",
       "      <th>fa_intra_sol_xover4</th>\n",
       "      <th>fa_rep</th>\n",
       "      <th>fa_sol</th>\n",
       "      <th>...</th>\n",
       "      <th>hbond_lr_bb</th>\n",
       "      <th>hbond_sc</th>\n",
       "      <th>hbond_sr_bb</th>\n",
       "      <th>lk_ball_wtd</th>\n",
       "      <th>omega</th>\n",
       "      <th>p_aa_pp</th>\n",
       "      <th>pro_close</th>\n",
       "      <th>rama_prepro</th>\n",
       "      <th>ref</th>\n",
       "      <th>time</th>\n",
       "    </tr>\n",
       "  </thead>\n",
       "  <tbody>\n",
       "    <tr>\n",
       "      <th>0</th>\n",
       "      <td>0.743094</td>\n",
       "      <td>0.743094</td>\n",
       "      <td>0.524355</td>\n",
       "      <td>0.810367</td>\n",
       "      <td>0.194955</td>\n",
       "      <td>0.805052</td>\n",
       "      <td>0.204689</td>\n",
       "      <td>0.194424</td>\n",
       "      <td>0.150016</td>\n",
       "      <td>0.181959</td>\n",
       "      <td>...</td>\n",
       "      <td>0.899018</td>\n",
       "      <td>0.865276</td>\n",
       "      <td>0.745269</td>\n",
       "      <td>0.814943</td>\n",
       "      <td>0.064154</td>\n",
       "      <td>0.842755</td>\n",
       "      <td>0.029479</td>\n",
       "      <td>0.322475</td>\n",
       "      <td>0.208127</td>\n",
       "      <td>1.0</td>\n",
       "    </tr>\n",
       "    <tr>\n",
       "      <th>1</th>\n",
       "      <td>0.676975</td>\n",
       "      <td>0.676975</td>\n",
       "      <td>0.524355</td>\n",
       "      <td>0.686317</td>\n",
       "      <td>0.305593</td>\n",
       "      <td>0.720613</td>\n",
       "      <td>0.293997</td>\n",
       "      <td>0.271051</td>\n",
       "      <td>0.288532</td>\n",
       "      <td>0.295748</td>\n",
       "      <td>...</td>\n",
       "      <td>0.869617</td>\n",
       "      <td>0.799924</td>\n",
       "      <td>0.590403</td>\n",
       "      <td>0.680818</td>\n",
       "      <td>0.105766</td>\n",
       "      <td>0.764504</td>\n",
       "      <td>0.181751</td>\n",
       "      <td>0.415949</td>\n",
       "      <td>0.510299</td>\n",
       "      <td>1.0</td>\n",
       "    </tr>\n",
       "    <tr>\n",
       "      <th>2</th>\n",
       "      <td>0.834347</td>\n",
       "      <td>0.834347</td>\n",
       "      <td>0.524355</td>\n",
       "      <td>0.876691</td>\n",
       "      <td>0.142758</td>\n",
       "      <td>0.869296</td>\n",
       "      <td>0.133184</td>\n",
       "      <td>0.142547</td>\n",
       "      <td>0.125866</td>\n",
       "      <td>0.120619</td>\n",
       "      <td>...</td>\n",
       "      <td>0.855511</td>\n",
       "      <td>0.941145</td>\n",
       "      <td>0.857638</td>\n",
       "      <td>0.858072</td>\n",
       "      <td>0.030711</td>\n",
       "      <td>0.905852</td>\n",
       "      <td>0.017323</td>\n",
       "      <td>0.258000</td>\n",
       "      <td>0.190017</td>\n",
       "      <td>0.0</td>\n",
       "    </tr>\n",
       "    <tr>\n",
       "      <th>3</th>\n",
       "      <td>0.577278</td>\n",
       "      <td>0.577278</td>\n",
       "      <td>0.442461</td>\n",
       "      <td>0.650845</td>\n",
       "      <td>0.340551</td>\n",
       "      <td>0.656721</td>\n",
       "      <td>0.348769</td>\n",
       "      <td>0.316203</td>\n",
       "      <td>0.326141</td>\n",
       "      <td>0.338899</td>\n",
       "      <td>...</td>\n",
       "      <td>0.709356</td>\n",
       "      <td>0.720251</td>\n",
       "      <td>0.652735</td>\n",
       "      <td>0.635345</td>\n",
       "      <td>0.063897</td>\n",
       "      <td>0.660731</td>\n",
       "      <td>0.099558</td>\n",
       "      <td>0.240302</td>\n",
       "      <td>0.307287</td>\n",
       "      <td>0.0</td>\n",
       "    </tr>\n",
       "    <tr>\n",
       "      <th>4</th>\n",
       "      <td>0.583740</td>\n",
       "      <td>0.583740</td>\n",
       "      <td>0.524355</td>\n",
       "      <td>0.693861</td>\n",
       "      <td>0.255558</td>\n",
       "      <td>0.675543</td>\n",
       "      <td>0.336511</td>\n",
       "      <td>0.257846</td>\n",
       "      <td>0.234749</td>\n",
       "      <td>0.303265</td>\n",
       "      <td>...</td>\n",
       "      <td>0.686046</td>\n",
       "      <td>0.681776</td>\n",
       "      <td>0.650759</td>\n",
       "      <td>0.687100</td>\n",
       "      <td>0.041349</td>\n",
       "      <td>0.791688</td>\n",
       "      <td>0.129160</td>\n",
       "      <td>0.355501</td>\n",
       "      <td>0.316987</td>\n",
       "      <td>0.0</td>\n",
       "    </tr>\n",
       "  </tbody>\n",
       "</table>\n",
       "<p>5 rows × 21 columns</p>\n",
       "</div>"
      ],
      "text/plain": [
       "   total_score     score  dslf_fa13    fa_atr    fa_dun   fa_elec  \\\n",
       "0     0.743094  0.743094   0.524355  0.810367  0.194955  0.805052   \n",
       "1     0.676975  0.676975   0.524355  0.686317  0.305593  0.720613   \n",
       "2     0.834347  0.834347   0.524355  0.876691  0.142758  0.869296   \n",
       "3     0.577278  0.577278   0.442461  0.650845  0.340551  0.656721   \n",
       "4     0.583740  0.583740   0.524355  0.693861  0.255558  0.675543   \n",
       "\n",
       "   fa_intra_rep  fa_intra_sol_xover4    fa_rep    fa_sol  ...  hbond_lr_bb  \\\n",
       "0      0.204689             0.194424  0.150016  0.181959  ...     0.899018   \n",
       "1      0.293997             0.271051  0.288532  0.295748  ...     0.869617   \n",
       "2      0.133184             0.142547  0.125866  0.120619  ...     0.855511   \n",
       "3      0.348769             0.316203  0.326141  0.338899  ...     0.709356   \n",
       "4      0.336511             0.257846  0.234749  0.303265  ...     0.686046   \n",
       "\n",
       "   hbond_sc  hbond_sr_bb  lk_ball_wtd     omega   p_aa_pp  pro_close  \\\n",
       "0  0.865276     0.745269     0.814943  0.064154  0.842755   0.029479   \n",
       "1  0.799924     0.590403     0.680818  0.105766  0.764504   0.181751   \n",
       "2  0.941145     0.857638     0.858072  0.030711  0.905852   0.017323   \n",
       "3  0.720251     0.652735     0.635345  0.063897  0.660731   0.099558   \n",
       "4  0.681776     0.650759     0.687100  0.041349  0.791688   0.129160   \n",
       "\n",
       "   rama_prepro       ref  time  \n",
       "0     0.322475  0.208127   1.0  \n",
       "1     0.415949  0.510299   1.0  \n",
       "2     0.258000  0.190017   0.0  \n",
       "3     0.240302  0.307287   0.0  \n",
       "4     0.355501  0.316987   0.0  \n",
       "\n",
       "[5 rows x 21 columns]"
      ]
     },
     "execution_count": 678,
     "metadata": {},
     "output_type": "execute_result"
    }
   ],
   "source": [
    "df_sol_X.head()"
   ]
  },
  {
   "cell_type": "code",
   "execution_count": 679,
   "metadata": {},
   "outputs": [
    {
     "data": {
      "text/html": [
       "<div>\n",
       "<style scoped>\n",
       "    .dataframe tbody tr th:only-of-type {\n",
       "        vertical-align: middle;\n",
       "    }\n",
       "\n",
       "    .dataframe tbody tr th {\n",
       "        vertical-align: top;\n",
       "    }\n",
       "\n",
       "    .dataframe thead th {\n",
       "        text-align: right;\n",
       "    }\n",
       "</style>\n",
       "<table border=\"1\" class=\"dataframe\">\n",
       "  <thead>\n",
       "    <tr style=\"text-align: right;\">\n",
       "      <th></th>\n",
       "      <th>solubility</th>\n",
       "    </tr>\n",
       "  </thead>\n",
       "  <tbody>\n",
       "    <tr>\n",
       "      <th>0</th>\n",
       "      <td>0.572519</td>\n",
       "    </tr>\n",
       "    <tr>\n",
       "      <th>1</th>\n",
       "      <td>0.274809</td>\n",
       "    </tr>\n",
       "    <tr>\n",
       "      <th>2</th>\n",
       "      <td>0.618321</td>\n",
       "    </tr>\n",
       "    <tr>\n",
       "      <th>3</th>\n",
       "      <td>0.458015</td>\n",
       "    </tr>\n",
       "    <tr>\n",
       "      <th>4</th>\n",
       "      <td>0.648855</td>\n",
       "    </tr>\n",
       "  </tbody>\n",
       "</table>\n",
       "</div>"
      ],
      "text/plain": [
       "   solubility\n",
       "0    0.572519\n",
       "1    0.274809\n",
       "2    0.618321\n",
       "3    0.458015\n",
       "4    0.648855"
      ]
     },
     "execution_count": 679,
     "metadata": {},
     "output_type": "execute_result"
    }
   ],
   "source": [
    "df_sol_y.head()"
   ]
  },
  {
   "cell_type": "code",
   "execution_count": 680,
   "metadata": {},
   "outputs": [],
   "source": [
    "x_train, x_test, y_train, y_test = train_test_split(\n",
    "                        df_sol_X, df_sol_y, \n",
    "                        train_size = 0.8,\n",
    "                        test_size = 0.2,\n",
    "                        random_state = 10\n",
    "                        )"
   ]
  },
  {
   "cell_type": "markdown",
   "metadata": {},
   "source": [
    "# Machine Learning Modeling"
   ]
  },
  {
   "cell_type": "markdown",
   "metadata": {},
   "source": [
    "## Linear Regression (LR)"
   ]
  },
  {
   "cell_type": "code",
   "execution_count": 699,
   "metadata": {},
   "outputs": [
    {
     "name": "stdout",
     "output_type": "stream",
     "text": [
      "Train R2 score: [0.28046008 0.2243075  0.23393399 0.2614297  0.27306358]\n",
      "Test R2 score: [-0.15607619  0.21526166  0.1788878  -0.00400742 -0.04637872]\n"
     ]
    }
   ],
   "source": [
    "# Create the Linear Regression model\n",
    "# Use cross validation\n",
    "# Check the R2 score for train and test\n",
    "\n",
    "\n",
    "lm = LinearRegression()\n",
    "cv = 5\n",
    "\n",
    "scores = cross_validate(estimator=lm, X=x_train, y=y_train, cv=cv,\n",
    "    scoring=('r2', 'neg_mean_squared_error'),\n",
    "    return_train_score=True)\n",
    "\n",
    "#print(scores.keys())\n",
    "print(\"Train R2 score: {}\".format(scores['train_r2']))\n",
    "print(\"Test R2 score: {}\".format(scores['test_r2']))"
   ]
  },
  {
   "cell_type": "code",
   "execution_count": 700,
   "metadata": {},
   "outputs": [
    {
     "name": "stdout",
     "output_type": "stream",
     "text": [
      "0.019538122610365583\n"
     ]
    }
   ],
   "source": [
    "# Test the model\n",
    "\n",
    "lm.fit(x_train, y_train)\n",
    "y_pred = lm.predict(x_test)\n",
    "r2 = metrics.r2_score(y_test, y_pred)\n",
    "print(r2)"
   ]
  },
  {
   "cell_type": "code",
   "execution_count": 683,
   "metadata": {},
   "outputs": [
    {
     "name": "stdout",
     "output_type": "stream",
     "text": [
      "-0.23646559686856494\n",
      "0.1606937582045065\n",
      "0.121790598501067\n",
      "-0.07382250485921205\n",
      "-0.11914015871283445\n"
     ]
    }
   ],
   "source": [
    "# Check the Adjusted R2\n",
    "\n",
    "n_observations = len(y_train)\n",
    "n_independent_variables = x_train.shape[1]\n",
    "\n",
    "# Adj_r2 = 1 - (1 - r2) * (n_observations - 1) / (n_observations - n_independent_variables - 1)\n",
    "\n",
    "for cross_val_r2 in scores['test_r2']:\n",
    "    Adj_r2 = 1 - (1 - cross_val_r2) * (n_observations - 1) / (n_observations - n_independent_variables - 1)\n",
    "    print(Adj_r2)"
   ]
  },
  {
   "cell_type": "markdown",
   "metadata": {},
   "source": [
    "### Pearson Correlation and P Value\n",
    "\n",
    "\n",
    "* https://docs.scipy.org/doc/scipy/reference/generated/scipy.stats.pearsonr.html"
   ]
  },
  {
   "cell_type": "code",
   "execution_count": 684,
   "metadata": {},
   "outputs": [
    {
     "name": "stdout",
     "output_type": "stream",
     "text": [
      "('total_score', False)\n",
      "('score', False)\n",
      "('dslf_fa13', True)\n",
      "('fa_atr', False)\n",
      "('fa_dun', False)\n",
      "('fa_elec', False)\n",
      "('fa_intra_rep', False)\n",
      "('fa_intra_sol_xover4', False)\n",
      "('fa_rep', False)\n",
      "('fa_sol', False)\n",
      "('hbond_bb_sc', False)\n",
      "('hbond_lr_bb', False)\n",
      "('hbond_sc', False)\n",
      "('hbond_sr_bb', False)\n",
      "('lk_ball_wtd', False)\n",
      "('omega', False)\n",
      "('p_aa_pp', False)\n",
      "('pro_close', False)\n",
      "('rama_prepro', True)\n",
      "('ref', False)\n",
      "('time', True)\n"
     ]
    }
   ],
   "source": [
    "# Get the P-Value and Pearson Correlation\n",
    "\n",
    "p_value_list = []\n",
    "pearson_cor_list = []\n",
    "\n",
    "for column in x_train.columns:\n",
    "    p_value_list.append((\n",
    "        column,\n",
    "        pearsonr(x_train[column], y_train['solubility'])[1]\n",
    "    ))\n",
    "\n",
    "    pearson_cor_list.append((\n",
    "        column,\n",
    "        pearsonr(x_train[column], y_train['solubility'])[0]\n",
    "    ))\n",
    "\n",
    "# P_value_list\n",
    "\n",
    "# é pra ser acima de 0.5 ou 0.05?\n",
    "for p_value in p_value_list:\n",
    "    if p_value[1] > 0.05:\n",
    "        print((p_value[0], True))\n",
    "    else:\n",
    "        print((p_value[0], False))"
   ]
  },
  {
   "cell_type": "code",
   "execution_count": 685,
   "metadata": {},
   "outputs": [
    {
     "name": "stdout",
     "output_type": "stream",
     "text": [
      "[('total_score', 0.3728542151106772), ('score', 0.37285421755565656), ('dslf_fa13', -0.021612082615918415), ('fa_atr', 0.3747633387978939), ('fa_dun', -0.3316716816947804), ('fa_elec', 0.35939734818916225), ('fa_intra_rep', -0.33879880876089635), ('fa_intra_sol_xover4', -0.3723242091406435), ('fa_rep', -0.3008201264822252), ('fa_sol', -0.3692202027268628), ('hbond_bb_sc', 0.3843437641453255), ('hbond_lr_bb', 0.18118716381572553), ('hbond_sc', 0.3660864985706804), ('hbond_sr_bb', 0.3686373398087358), ('lk_ball_wtd', 0.37945815340623745), ('omega', -0.2218947840483731), ('p_aa_pp', 0.3295659505177393), ('pro_close', -0.11133538376392353), ('rama_prepro', -0.10075373697664987), ('ref', -0.31363544858811976), ('time', -0.024636387977706065)]\n"
     ]
    }
   ],
   "source": [
    "print(pearson_cor_list)"
   ]
  }
 ],
 "metadata": {
  "interpreter": {
   "hash": "5edc29c2ed010d6458d71a83433b383a96a8cbd3efe8531bc90c4b8a5b8bcec9"
  },
  "kernelspec": {
   "display_name": "Python 3",
   "language": "python",
   "name": "python3"
  },
  "language_info": {
   "codemirror_mode": {
    "name": "ipython",
    "version": 3
   },
   "file_extension": ".py",
   "mimetype": "text/x-python",
   "name": "python",
   "nbconvert_exporter": "python",
   "pygments_lexer": "ipython3",
   "version": "3.7.3"
  },
  "orig_nbformat": 4
 },
 "nbformat": 4,
 "nbformat_minor": 2
}
