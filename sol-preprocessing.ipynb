{
  "cells": [
    {
      "cell_type": "code",
      "execution_count": 264,
      "metadata": {
        "id": "T4gtCmZ6xirc"
      },
      "outputs": [],
      "source": [
        "# General libraries\n",
        "import pandas as pd\n",
        "import numpy as np\n",
        "\n",
        "# Graphic libraries\n",
        "import seaborn as sns\n",
        "import matplotlib.pyplot as plt\n",
        "import plotly.graph_objs as go\n",
        "from plotly.offline import iplot\n",
        "\n",
        "# Scikit Learn libraries\n",
        "from sklearn.ensemble import IsolationForest\n",
        "from sklearn.preprocessing import MinMaxScaler\n",
        "from sklearn.neighbors import LocalOutlierFactor"
      ]
    },
    {
      "cell_type": "markdown",
      "metadata": {
        "id": "25fL6bo0jMi0"
      },
      "source": [
        "# **Load Dataset**\n",
        "\n",
        "* Rosetta features description: https://www.rosettacommons.org/docs/latest/rosetta_basics/scoring/score-types\n",
        "\n",
        "\n",
        "\n"
      ]
    },
    {
      "cell_type": "code",
      "execution_count": 265,
      "metadata": {
        "id": "O_4FbO3nx3Ze"
      },
      "outputs": [],
      "source": [
        "df_solubility = pd.read_csv(\"data/complex_raw_data.csv\")"
      ]
    },
    {
      "cell_type": "code",
      "execution_count": 266,
      "metadata": {
        "colab": {
          "base_uri": "https://localhost:8080/",
          "height": 206
        },
        "id": "pnZEYq1u2Otf",
        "outputId": "19730f3e-a564-4716-a58c-cbfa8b4bfa7f"
      },
      "outputs": [
        {
          "data": {
            "text/html": [
              "<div>\n",
              "<style scoped>\n",
              "    .dataframe tbody tr th:only-of-type {\n",
              "        vertical-align: middle;\n",
              "    }\n",
              "\n",
              "    .dataframe tbody tr th {\n",
              "        vertical-align: top;\n",
              "    }\n",
              "\n",
              "    .dataframe thead th {\n",
              "        text-align: right;\n",
              "    }\n",
              "</style>\n",
              "<table border=\"1\" class=\"dataframe\">\n",
              "  <thead>\n",
              "    <tr style=\"text-align: right;\">\n",
              "      <th></th>\n",
              "      <th>SCORE:</th>\n",
              "      <th>total_score</th>\n",
              "      <th>score</th>\n",
              "      <th>dslf_fa13</th>\n",
              "      <th>fa_atr</th>\n",
              "      <th>fa_dun</th>\n",
              "      <th>fa_elec</th>\n",
              "      <th>fa_intra_rep</th>\n",
              "      <th>fa_intra_sol_xover4</th>\n",
              "      <th>fa_rep</th>\n",
              "      <th>...</th>\n",
              "      <th>omega</th>\n",
              "      <th>overlap_chainbreak</th>\n",
              "      <th>p_aa_pp</th>\n",
              "      <th>pro_close</th>\n",
              "      <th>rama_prepro</th>\n",
              "      <th>ref</th>\n",
              "      <th>time</th>\n",
              "      <th>yhh_planarity</th>\n",
              "      <th>description</th>\n",
              "      <th>solubility</th>\n",
              "    </tr>\n",
              "  </thead>\n",
              "  <tbody>\n",
              "    <tr>\n",
              "      <th>0</th>\n",
              "      <td>SCORE:</td>\n",
              "      <td>-470.914</td>\n",
              "      <td>-470.914</td>\n",
              "      <td>0.000</td>\n",
              "      <td>-1203.414</td>\n",
              "      <td>338.522</td>\n",
              "      <td>-341.858</td>\n",
              "      <td>2.604</td>\n",
              "      <td>46.000</td>\n",
              "      <td>129.335</td>\n",
              "      <td>...</td>\n",
              "      <td>11.135</td>\n",
              "      <td>0.0</td>\n",
              "      <td>-34.513</td>\n",
              "      <td>0.769</td>\n",
              "      <td>7.706</td>\n",
              "      <td>60.218</td>\n",
              "      <td>1.0</td>\n",
              "      <td>0.108</td>\n",
              "      <td>pdb1a0f.ent_A_0001_0001</td>\n",
              "      <td>77</td>\n",
              "    </tr>\n",
              "    <tr>\n",
              "      <th>1</th>\n",
              "      <td>SCORE:</td>\n",
              "      <td>-619.930</td>\n",
              "      <td>-619.930</td>\n",
              "      <td>0.000</td>\n",
              "      <td>-1890.675</td>\n",
              "      <td>497.641</td>\n",
              "      <td>-474.868</td>\n",
              "      <td>3.522</td>\n",
              "      <td>61.099</td>\n",
              "      <td>236.580</td>\n",
              "      <td>...</td>\n",
              "      <td>18.094</td>\n",
              "      <td>0.0</td>\n",
              "      <td>-48.935</td>\n",
              "      <td>4.452</td>\n",
              "      <td>21.634</td>\n",
              "      <td>147.414</td>\n",
              "      <td>1.0</td>\n",
              "      <td>0.158</td>\n",
              "      <td>pdb1a5t.ent_A_0001_0001</td>\n",
              "      <td>38</td>\n",
              "    </tr>\n",
              "    <tr>\n",
              "      <th>2</th>\n",
              "      <td>SCORE:</td>\n",
              "      <td>-265.255</td>\n",
              "      <td>-265.255</td>\n",
              "      <td>0.000</td>\n",
              "      <td>-835.965</td>\n",
              "      <td>263.453</td>\n",
              "      <td>-240.659</td>\n",
              "      <td>1.869</td>\n",
              "      <td>35.778</td>\n",
              "      <td>110.637</td>\n",
              "      <td>...</td>\n",
              "      <td>5.542</td>\n",
              "      <td>0.0</td>\n",
              "      <td>-22.884</td>\n",
              "      <td>0.475</td>\n",
              "      <td>-1.901</td>\n",
              "      <td>54.992</td>\n",
              "      <td>0.0</td>\n",
              "      <td>0.023</td>\n",
              "      <td>pdb1a6j.ent_A_0001_0001</td>\n",
              "      <td>83</td>\n",
              "    </tr>\n",
              "    <tr>\n",
              "      <th>3</th>\n",
              "      <td>SCORE:</td>\n",
              "      <td>-844.622</td>\n",
              "      <td>-844.622</td>\n",
              "      <td>-0.844</td>\n",
              "      <td>-2087.197</td>\n",
              "      <td>547.917</td>\n",
              "      <td>-575.513</td>\n",
              "      <td>4.085</td>\n",
              "      <td>69.996</td>\n",
              "      <td>265.698</td>\n",
              "      <td>...</td>\n",
              "      <td>11.092</td>\n",
              "      <td>0.0</td>\n",
              "      <td>-68.061</td>\n",
              "      <td>2.464</td>\n",
              "      <td>-4.538</td>\n",
              "      <td>88.832</td>\n",
              "      <td>0.0</td>\n",
              "      <td>1.059</td>\n",
              "      <td>pdb1a99.ent_A_0001_0001</td>\n",
              "      <td>62</td>\n",
              "    </tr>\n",
              "    <tr>\n",
              "      <th>4</th>\n",
              "      <td>SCORE:</td>\n",
              "      <td>-830.058</td>\n",
              "      <td>-830.058</td>\n",
              "      <td>0.000</td>\n",
              "      <td>-1848.881</td>\n",
              "      <td>425.681</td>\n",
              "      <td>-545.863</td>\n",
              "      <td>3.959</td>\n",
              "      <td>58.497</td>\n",
              "      <td>194.939</td>\n",
              "      <td>...</td>\n",
              "      <td>7.321</td>\n",
              "      <td>0.0</td>\n",
              "      <td>-43.925</td>\n",
              "      <td>3.180</td>\n",
              "      <td>12.627</td>\n",
              "      <td>91.631</td>\n",
              "      <td>0.0</td>\n",
              "      <td>0.289</td>\n",
              "      <td>pdb1abe.ent_A_0001_0001</td>\n",
              "      <td>87</td>\n",
              "    </tr>\n",
              "  </tbody>\n",
              "</table>\n",
              "<p>5 rows × 27 columns</p>\n",
              "</div>"
            ],
            "text/plain": [
              "   SCORE:  total_score    score  dslf_fa13    fa_atr   fa_dun  fa_elec  \\\n",
              "0  SCORE:     -470.914 -470.914      0.000 -1203.414  338.522 -341.858   \n",
              "1  SCORE:     -619.930 -619.930      0.000 -1890.675  497.641 -474.868   \n",
              "2  SCORE:     -265.255 -265.255      0.000  -835.965  263.453 -240.659   \n",
              "3  SCORE:     -844.622 -844.622     -0.844 -2087.197  547.917 -575.513   \n",
              "4  SCORE:     -830.058 -830.058      0.000 -1848.881  425.681 -545.863   \n",
              "\n",
              "   fa_intra_rep  fa_intra_sol_xover4   fa_rep  ...   omega  \\\n",
              "0         2.604               46.000  129.335  ...  11.135   \n",
              "1         3.522               61.099  236.580  ...  18.094   \n",
              "2         1.869               35.778  110.637  ...   5.542   \n",
              "3         4.085               69.996  265.698  ...  11.092   \n",
              "4         3.959               58.497  194.939  ...   7.321   \n",
              "\n",
              "   overlap_chainbreak  p_aa_pp  pro_close  rama_prepro      ref  time  \\\n",
              "0                 0.0  -34.513      0.769        7.706   60.218   1.0   \n",
              "1                 0.0  -48.935      4.452       21.634  147.414   1.0   \n",
              "2                 0.0  -22.884      0.475       -1.901   54.992   0.0   \n",
              "3                 0.0  -68.061      2.464       -4.538   88.832   0.0   \n",
              "4                 0.0  -43.925      3.180       12.627   91.631   0.0   \n",
              "\n",
              "   yhh_planarity              description  solubility  \n",
              "0          0.108  pdb1a0f.ent_A_0001_0001          77  \n",
              "1          0.158  pdb1a5t.ent_A_0001_0001          38  \n",
              "2          0.023  pdb1a6j.ent_A_0001_0001          83  \n",
              "3          1.059  pdb1a99.ent_A_0001_0001          62  \n",
              "4          0.289  pdb1abe.ent_A_0001_0001          87  \n",
              "\n",
              "[5 rows x 27 columns]"
            ]
          },
          "execution_count": 266,
          "metadata": {},
          "output_type": "execute_result"
        }
      ],
      "source": [
        "df_solubility.head()"
      ]
    },
    {
      "cell_type": "markdown",
      "metadata": {},
      "source": [
        "# Preprocessing"
      ]
    },
    {
      "cell_type": "code",
      "execution_count": 267,
      "metadata": {},
      "outputs": [
        {
          "data": {
            "text/plain": [
              "0"
            ]
          },
          "execution_count": 267,
          "metadata": {},
          "output_type": "execute_result"
        }
      ],
      "source": [
        "# Check if there is any missing value.\n",
        "# Must return 0.\n",
        "df_solubility.isna().sum().sum()"
      ]
    },
    {
      "cell_type": "code",
      "execution_count": 268,
      "metadata": {},
      "outputs": [
        {
          "name": "stdout",
          "output_type": "stream",
          "text": [
            "<class 'pandas.core.frame.DataFrame'>\n",
            "RangeIndex: 405 entries, 0 to 404\n",
            "Data columns (total 27 columns):\n",
            " #   Column               Non-Null Count  Dtype  \n",
            "---  ------               --------------  -----  \n",
            " 0   SCORE:               405 non-null    object \n",
            " 1   total_score          405 non-null    float64\n",
            " 2   score                405 non-null    float64\n",
            " 3   dslf_fa13            405 non-null    float64\n",
            " 4   fa_atr               405 non-null    float64\n",
            " 5   fa_dun               405 non-null    float64\n",
            " 6   fa_elec              405 non-null    float64\n",
            " 7   fa_intra_rep         405 non-null    float64\n",
            " 8   fa_intra_sol_xover4  405 non-null    float64\n",
            " 9   fa_rep               405 non-null    float64\n",
            " 10  fa_sol               405 non-null    float64\n",
            " 11  hbond_bb_sc          405 non-null    float64\n",
            " 12  hbond_lr_bb          405 non-null    float64\n",
            " 13  hbond_sc             405 non-null    float64\n",
            " 14  hbond_sr_bb          405 non-null    float64\n",
            " 15  linear_chainbreak    405 non-null    float64\n",
            " 16  lk_ball_wtd          405 non-null    float64\n",
            " 17  omega                405 non-null    float64\n",
            " 18  overlap_chainbreak   405 non-null    float64\n",
            " 19  p_aa_pp              405 non-null    float64\n",
            " 20  pro_close            405 non-null    float64\n",
            " 21  rama_prepro          405 non-null    float64\n",
            " 22  ref                  405 non-null    float64\n",
            " 23  time                 405 non-null    float64\n",
            " 24  yhh_planarity        405 non-null    float64\n",
            " 25  description          405 non-null    object \n",
            " 26  solubility           405 non-null    int64  \n",
            "dtypes: float64(24), int64(1), object(2)\n",
            "memory usage: 85.6+ KB\n"
          ]
        }
      ],
      "source": [
        "df_solubility.info()"
      ]
    },
    {
      "cell_type": "code",
      "execution_count": 269,
      "metadata": {},
      "outputs": [
        {
          "data": {
            "text/html": [
              "<div>\n",
              "<style scoped>\n",
              "    .dataframe tbody tr th:only-of-type {\n",
              "        vertical-align: middle;\n",
              "    }\n",
              "\n",
              "    .dataframe tbody tr th {\n",
              "        vertical-align: top;\n",
              "    }\n",
              "\n",
              "    .dataframe thead th {\n",
              "        text-align: right;\n",
              "    }\n",
              "</style>\n",
              "<table border=\"1\" class=\"dataframe\">\n",
              "  <thead>\n",
              "    <tr style=\"text-align: right;\">\n",
              "      <th></th>\n",
              "      <th>total_score</th>\n",
              "      <th>score</th>\n",
              "      <th>dslf_fa13</th>\n",
              "      <th>fa_atr</th>\n",
              "      <th>fa_dun</th>\n",
              "      <th>fa_elec</th>\n",
              "      <th>fa_intra_rep</th>\n",
              "      <th>fa_intra_sol_xover4</th>\n",
              "      <th>fa_rep</th>\n",
              "      <th>fa_sol</th>\n",
              "      <th>...</th>\n",
              "      <th>lk_ball_wtd</th>\n",
              "      <th>omega</th>\n",
              "      <th>overlap_chainbreak</th>\n",
              "      <th>p_aa_pp</th>\n",
              "      <th>pro_close</th>\n",
              "      <th>rama_prepro</th>\n",
              "      <th>ref</th>\n",
              "      <th>time</th>\n",
              "      <th>yhh_planarity</th>\n",
              "      <th>solubility</th>\n",
              "    </tr>\n",
              "  </thead>\n",
              "  <tbody>\n",
              "    <tr>\n",
              "      <th>count</th>\n",
              "      <td>405.000000</td>\n",
              "      <td>405.000000</td>\n",
              "      <td>405.000000</td>\n",
              "      <td>405.000000</td>\n",
              "      <td>405.000000</td>\n",
              "      <td>405.000000</td>\n",
              "      <td>405.000000</td>\n",
              "      <td>405.000000</td>\n",
              "      <td>405.000000</td>\n",
              "      <td>405.000000</td>\n",
              "      <td>...</td>\n",
              "      <td>405.000000</td>\n",
              "      <td>405.000000</td>\n",
              "      <td>405.0</td>\n",
              "      <td>405.000000</td>\n",
              "      <td>405.000000</td>\n",
              "      <td>405.000000</td>\n",
              "      <td>405.000000</td>\n",
              "      <td>405.000000</td>\n",
              "      <td>405.000000</td>\n",
              "      <td>405.000000</td>\n",
              "    </tr>\n",
              "    <tr>\n",
              "      <th>mean</th>\n",
              "      <td>-660.909341</td>\n",
              "      <td>-660.909343</td>\n",
              "      <td>-0.031175</td>\n",
              "      <td>-1662.169333</td>\n",
              "      <td>417.837035</td>\n",
              "      <td>-461.458563</td>\n",
              "      <td>3.185533</td>\n",
              "      <td>56.908037</td>\n",
              "      <td>195.155232</td>\n",
              "      <td>997.474953</td>\n",
              "      <td>...</td>\n",
              "      <td>-40.763867</td>\n",
              "      <td>26.701625</td>\n",
              "      <td>0.0</td>\n",
              "      <td>-52.729393</td>\n",
              "      <td>2.034030</td>\n",
              "      <td>8.808395</td>\n",
              "      <td>97.757899</td>\n",
              "      <td>0.059259</td>\n",
              "      <td>0.205395</td>\n",
              "      <td>59.419753</td>\n",
              "    </tr>\n",
              "    <tr>\n",
              "      <th>std</th>\n",
              "      <td>372.176345</td>\n",
              "      <td>372.176338</td>\n",
              "      <td>0.409363</td>\n",
              "      <td>881.899785</td>\n",
              "      <td>227.145880</td>\n",
              "      <td>245.769657</td>\n",
              "      <td>1.628280</td>\n",
              "      <td>29.314179</td>\n",
              "      <td>116.803439</td>\n",
              "      <td>538.269300</td>\n",
              "      <td>...</td>\n",
              "      <td>21.969469</td>\n",
              "      <td>26.211415</td>\n",
              "      <td>0.0</td>\n",
              "      <td>26.769766</td>\n",
              "      <td>2.438288</td>\n",
              "      <td>20.412649</td>\n",
              "      <td>52.213834</td>\n",
              "      <td>0.236401</td>\n",
              "      <td>0.242374</td>\n",
              "      <td>32.366429</td>\n",
              "    </tr>\n",
              "    <tr>\n",
              "      <th>min</th>\n",
              "      <td>-2145.657000</td>\n",
              "      <td>-2145.657000</td>\n",
              "      <td>-5.404000</td>\n",
              "      <td>-5693.017000</td>\n",
              "      <td>58.140000</td>\n",
              "      <td>-1609.998000</td>\n",
              "      <td>0.500000</td>\n",
              "      <td>7.690000</td>\n",
              "      <td>13.187000</td>\n",
              "      <td>98.422000</td>\n",
              "      <td>...</td>\n",
              "      <td>-140.635000</td>\n",
              "      <td>0.406000</td>\n",
              "      <td>0.0</td>\n",
              "      <td>-189.837000</td>\n",
              "      <td>0.056000</td>\n",
              "      <td>-40.344000</td>\n",
              "      <td>0.160000</td>\n",
              "      <td>0.000000</td>\n",
              "      <td>0.000000</td>\n",
              "      <td>2.000000</td>\n",
              "    </tr>\n",
              "    <tr>\n",
              "      <th>25%</th>\n",
              "      <td>-888.386000</td>\n",
              "      <td>-888.386000</td>\n",
              "      <td>0.000000</td>\n",
              "      <td>-2136.624000</td>\n",
              "      <td>256.230000</td>\n",
              "      <td>-601.431000</td>\n",
              "      <td>2.001000</td>\n",
              "      <td>34.343000</td>\n",
              "      <td>109.714000</td>\n",
              "      <td>574.828000</td>\n",
              "      <td>...</td>\n",
              "      <td>-51.688000</td>\n",
              "      <td>8.171000</td>\n",
              "      <td>0.0</td>\n",
              "      <td>-66.829000</td>\n",
              "      <td>0.886000</td>\n",
              "      <td>-5.907000</td>\n",
              "      <td>57.928000</td>\n",
              "      <td>0.000000</td>\n",
              "      <td>0.037000</td>\n",
              "      <td>30.000000</td>\n",
              "    </tr>\n",
              "    <tr>\n",
              "      <th>50%</th>\n",
              "      <td>-621.309000</td>\n",
              "      <td>-621.309000</td>\n",
              "      <td>0.000000</td>\n",
              "      <td>-1581.975000</td>\n",
              "      <td>374.421000</td>\n",
              "      <td>-432.050000</td>\n",
              "      <td>2.933000</td>\n",
              "      <td>53.377000</td>\n",
              "      <td>175.765000</td>\n",
              "      <td>922.336000</td>\n",
              "      <td>...</td>\n",
              "      <td>-38.137000</td>\n",
              "      <td>18.850000</td>\n",
              "      <td>0.0</td>\n",
              "      <td>-49.317000</td>\n",
              "      <td>1.513000</td>\n",
              "      <td>6.711000</td>\n",
              "      <td>92.886000</td>\n",
              "      <td>0.000000</td>\n",
              "      <td>0.125000</td>\n",
              "      <td>64.000000</td>\n",
              "    </tr>\n",
              "    <tr>\n",
              "      <th>75%</th>\n",
              "      <td>-392.645000</td>\n",
              "      <td>-392.645000</td>\n",
              "      <td>0.000000</td>\n",
              "      <td>-965.458000</td>\n",
              "      <td>518.917000</td>\n",
              "      <td>-268.588000</td>\n",
              "      <td>4.032000</td>\n",
              "      <td>70.347000</td>\n",
              "      <td>250.788000</td>\n",
              "      <td>1288.549000</td>\n",
              "      <td>...</td>\n",
              "      <td>-23.972000</td>\n",
              "      <td>35.629000</td>\n",
              "      <td>0.0</td>\n",
              "      <td>-33.371000</td>\n",
              "      <td>2.458000</td>\n",
              "      <td>20.826000</td>\n",
              "      <td>128.078000</td>\n",
              "      <td>0.000000</td>\n",
              "      <td>0.266000</td>\n",
              "      <td>86.000000</td>\n",
              "    </tr>\n",
              "    <tr>\n",
              "      <th>max</th>\n",
              "      <td>108.085000</td>\n",
              "      <td>108.085000</td>\n",
              "      <td>4.902000</td>\n",
              "      <td>-152.808000</td>\n",
              "      <td>1496.329000</td>\n",
              "      <td>-34.770000</td>\n",
              "      <td>10.779000</td>\n",
              "      <td>204.734000</td>\n",
              "      <td>787.426000</td>\n",
              "      <td>3498.846000</td>\n",
              "      <td>...</td>\n",
              "      <td>-4.531000</td>\n",
              "      <td>167.643000</td>\n",
              "      <td>0.0</td>\n",
              "      <td>-5.532000</td>\n",
              "      <td>24.243000</td>\n",
              "      <td>108.660000</td>\n",
              "      <td>288.724000</td>\n",
              "      <td>1.000000</td>\n",
              "      <td>1.904000</td>\n",
              "      <td>133.000000</td>\n",
              "    </tr>\n",
              "  </tbody>\n",
              "</table>\n",
              "<p>8 rows × 25 columns</p>\n",
              "</div>"
            ],
            "text/plain": [
              "       total_score        score   dslf_fa13       fa_atr       fa_dun  \\\n",
              "count   405.000000   405.000000  405.000000   405.000000   405.000000   \n",
              "mean   -660.909341  -660.909343   -0.031175 -1662.169333   417.837035   \n",
              "std     372.176345   372.176338    0.409363   881.899785   227.145880   \n",
              "min   -2145.657000 -2145.657000   -5.404000 -5693.017000    58.140000   \n",
              "25%    -888.386000  -888.386000    0.000000 -2136.624000   256.230000   \n",
              "50%    -621.309000  -621.309000    0.000000 -1581.975000   374.421000   \n",
              "75%    -392.645000  -392.645000    0.000000  -965.458000   518.917000   \n",
              "max     108.085000   108.085000    4.902000  -152.808000  1496.329000   \n",
              "\n",
              "           fa_elec  fa_intra_rep  fa_intra_sol_xover4      fa_rep  \\\n",
              "count   405.000000    405.000000           405.000000  405.000000   \n",
              "mean   -461.458563      3.185533            56.908037  195.155232   \n",
              "std     245.769657      1.628280            29.314179  116.803439   \n",
              "min   -1609.998000      0.500000             7.690000   13.187000   \n",
              "25%    -601.431000      2.001000            34.343000  109.714000   \n",
              "50%    -432.050000      2.933000            53.377000  175.765000   \n",
              "75%    -268.588000      4.032000            70.347000  250.788000   \n",
              "max     -34.770000     10.779000           204.734000  787.426000   \n",
              "\n",
              "            fa_sol  ...  lk_ball_wtd       omega  overlap_chainbreak  \\\n",
              "count   405.000000  ...   405.000000  405.000000               405.0   \n",
              "mean    997.474953  ...   -40.763867   26.701625                 0.0   \n",
              "std     538.269300  ...    21.969469   26.211415                 0.0   \n",
              "min      98.422000  ...  -140.635000    0.406000                 0.0   \n",
              "25%     574.828000  ...   -51.688000    8.171000                 0.0   \n",
              "50%     922.336000  ...   -38.137000   18.850000                 0.0   \n",
              "75%    1288.549000  ...   -23.972000   35.629000                 0.0   \n",
              "max    3498.846000  ...    -4.531000  167.643000                 0.0   \n",
              "\n",
              "          p_aa_pp   pro_close  rama_prepro         ref        time  \\\n",
              "count  405.000000  405.000000   405.000000  405.000000  405.000000   \n",
              "mean   -52.729393    2.034030     8.808395   97.757899    0.059259   \n",
              "std     26.769766    2.438288    20.412649   52.213834    0.236401   \n",
              "min   -189.837000    0.056000   -40.344000    0.160000    0.000000   \n",
              "25%    -66.829000    0.886000    -5.907000   57.928000    0.000000   \n",
              "50%    -49.317000    1.513000     6.711000   92.886000    0.000000   \n",
              "75%    -33.371000    2.458000    20.826000  128.078000    0.000000   \n",
              "max     -5.532000   24.243000   108.660000  288.724000    1.000000   \n",
              "\n",
              "       yhh_planarity  solubility  \n",
              "count     405.000000  405.000000  \n",
              "mean        0.205395   59.419753  \n",
              "std         0.242374   32.366429  \n",
              "min         0.000000    2.000000  \n",
              "25%         0.037000   30.000000  \n",
              "50%         0.125000   64.000000  \n",
              "75%         0.266000   86.000000  \n",
              "max         1.904000  133.000000  \n",
              "\n",
              "[8 rows x 25 columns]"
            ]
          },
          "execution_count": 269,
          "metadata": {},
          "output_type": "execute_result"
        }
      ],
      "source": [
        "# Are all columns with significant value?\n",
        "df_solubility.describe()"
      ]
    },
    {
      "cell_type": "code",
      "execution_count": 270,
      "metadata": {},
      "outputs": [
        {
          "data": {
            "text/plain": [
              "count                         405\n",
              "unique                        405\n",
              "top       pdb1a0f.ent_A_0001_0001\n",
              "freq                            1\n",
              "Name: description, dtype: object"
            ]
          },
          "execution_count": 270,
          "metadata": {},
          "output_type": "execute_result"
        }
      ],
      "source": [
        "df_solubility['description'].describe()"
      ]
    },
    {
      "cell_type": "code",
      "execution_count": 271,
      "metadata": {},
      "outputs": [],
      "source": [
        "# Remove 'yhh_planarity', 'overlap_chainbreak' and 'linear_chainbreak' because are constants / only have 1 value.\n",
        "df_solubility.drop(columns=[\n",
        "    'yhh_planarity', \n",
        "    'overlap_chainbreak', \n",
        "    'linear_chainbreak',\n",
        "    'SCORE:'], \n",
        "    axis=1, inplace=True)\n",
        "\n",
        "\n",
        "# Remove description because each row have a diferent value. Basicaly an index.\n",
        "df_solubility.drop(columns=['description'], axis=1, inplace=True)"
      ]
    },
    {
      "cell_type": "markdown",
      "metadata": {},
      "source": [
        "# Exploratory Data Analysis (EDA)"
      ]
    },
    {
      "cell_type": "markdown",
      "metadata": {},
      "source": [
        "## Distribution"
      ]
    },
    {
      "cell_type": "code",
      "execution_count": 272,
      "metadata": {},
      "outputs": [
        {
          "data": {
            "text/plain": [
              "array([[<AxesSubplot:title={'center':'total_score'}>,\n",
              "        <AxesSubplot:title={'center':'score'}>,\n",
              "        <AxesSubplot:title={'center':'dslf_fa13'}>,\n",
              "        <AxesSubplot:title={'center':'fa_atr'}>,\n",
              "        <AxesSubplot:title={'center':'fa_dun'}>],\n",
              "       [<AxesSubplot:title={'center':'fa_elec'}>,\n",
              "        <AxesSubplot:title={'center':'fa_intra_rep'}>,\n",
              "        <AxesSubplot:title={'center':'fa_intra_sol_xover4'}>,\n",
              "        <AxesSubplot:title={'center':'fa_rep'}>,\n",
              "        <AxesSubplot:title={'center':'fa_sol'}>],\n",
              "       [<AxesSubplot:title={'center':'hbond_bb_sc'}>,\n",
              "        <AxesSubplot:title={'center':'hbond_lr_bb'}>,\n",
              "        <AxesSubplot:title={'center':'hbond_sc'}>,\n",
              "        <AxesSubplot:title={'center':'hbond_sr_bb'}>,\n",
              "        <AxesSubplot:title={'center':'lk_ball_wtd'}>],\n",
              "       [<AxesSubplot:title={'center':'omega'}>,\n",
              "        <AxesSubplot:title={'center':'p_aa_pp'}>,\n",
              "        <AxesSubplot:title={'center':'pro_close'}>,\n",
              "        <AxesSubplot:title={'center':'rama_prepro'}>,\n",
              "        <AxesSubplot:title={'center':'ref'}>],\n",
              "       [<AxesSubplot:title={'center':'time'}>,\n",
              "        <AxesSubplot:title={'center':'solubility'}>, <AxesSubplot:>,\n",
              "        <AxesSubplot:>, <AxesSubplot:>]], dtype=object)"
            ]
          },
          "execution_count": 272,
          "metadata": {},
          "output_type": "execute_result"
        },
        {
          "data": {
            "image/png": "[encoded data removed]",
            "text/plain": [
              "<Figure size 1296x1296 with 25 Axes>"
            ]
          },
          "metadata": {
            "needs_background": "light"
          },
          "output_type": "display_data"
        }
      ],
      "source": [
        "df_solubility.hist(figsize=(18, 18))"
      ]
    },
    {
      "cell_type": "code",
      "execution_count": 273,
      "metadata": {},
      "outputs": [
        {
          "data": {
            "text/plain": [
              "array([[<AxesSubplot:title={'center':'total_score'}>,\n",
              "        <AxesSubplot:title={'center':'score'}>,\n",
              "        <AxesSubplot:title={'center':'dslf_fa13'}>,\n",
              "        <AxesSubplot:title={'center':'fa_atr'}>,\n",
              "        <AxesSubplot:title={'center':'fa_dun'}>],\n",
              "       [<AxesSubplot:title={'center':'fa_elec'}>,\n",
              "        <AxesSubplot:title={'center':'fa_intra_rep'}>,\n",
              "        <AxesSubplot:title={'center':'fa_intra_sol_xover4'}>,\n",
              "        <AxesSubplot:title={'center':'fa_rep'}>,\n",
              "        <AxesSubplot:title={'center':'fa_sol'}>],\n",
              "       [<AxesSubplot:title={'center':'hbond_bb_sc'}>,\n",
              "        <AxesSubplot:title={'center':'hbond_lr_bb'}>,\n",
              "        <AxesSubplot:title={'center':'hbond_sc'}>,\n",
              "        <AxesSubplot:title={'center':'hbond_sr_bb'}>,\n",
              "        <AxesSubplot:title={'center':'lk_ball_wtd'}>],\n",
              "       [<AxesSubplot:title={'center':'omega'}>,\n",
              "        <AxesSubplot:title={'center':'p_aa_pp'}>,\n",
              "        <AxesSubplot:title={'center':'pro_close'}>,\n",
              "        <AxesSubplot:title={'center':'rama_prepro'}>,\n",
              "        <AxesSubplot:title={'center':'ref'}>],\n",
              "       [<AxesSubplot:title={'center':'time'}>,\n",
              "        <AxesSubplot:title={'center':'solubility'}>, <AxesSubplot:>,\n",
              "        <AxesSubplot:>, <AxesSubplot:>]], dtype=object)"
            ]
          },
          "execution_count": 273,
          "metadata": {},
          "output_type": "execute_result"
        },
        {
          "data": {
            "image/png": "[encoded data removed]",
            "text/plain": [
              "<Figure size 1296x1296 with 25 Axes>"
            ]
          },
          "metadata": {
            "needs_background": "light"
          },
          "output_type": "display_data"
        }
      ],
      "source": [
        "# Data Standardization/Escalation\n",
        "\n",
        "df_scaler = df_solubility.copy()\n",
        "\n",
        "scaler = MinMaxScaler()\n",
        "\n",
        "df_new = scaler.fit_transform(df_scaler)\n",
        "\n",
        "cols = df_scaler.columns\n",
        "\n",
        "df_plot = pd.DataFrame(data=df_new, columns=cols)\n",
        "\n",
        "df_plot.hist(figsize=(18, 18))"
      ]
    },
    {
      "cell_type": "markdown",
      "metadata": {},
      "source": [
        "# Correlation"
      ]
    },
    {
      "cell_type": "code",
      "execution_count": 274,
      "metadata": {},
      "outputs": [
        {
          "data": {
            "application/vnd.plotly.v1+json": {
              "config": {
                "linkText": "Export to plot.ly",
                "plotlyServerURL": "https://plot.ly",
                "showLink": false
              },
              "data": [
                {
                  "colorscale": [
                    [
                      0,
                      "#440154"
                    ],
                    [
                      0.1111111111111111,
                      "#482878"
                    ],
                    [
                      0.2222222222222222,
                      "#3e4989"
                    ],
                    [
                      0.3333333333333333,
                      "#31688e"
                    ],
                    [
                      0.4444444444444444,
                      "#26828e"
                    ],
                    [
                      0.5555555555555556,
                      "#1f9e89"
                    ],
                    [
                      0.6666666666666666,
                      "#35b779"
                    ],
                    [
                      0.7777777777777778,
                      "#6ece58"
                    ],
                    [
                      0.8888888888888888,
                      "#b5de2b"
                    ],
                    [
                      1,
                      "#fde725"
                    ]
                  ],
                  "type": "heatmap",
                  "x": [
                    "total_score",
                    "score",
                    "dslf_fa13",
                    "fa_atr",
                    "fa_dun",
                    "fa_elec",
                    "fa_intra_rep",
                    "fa_intra_sol_xover4",
                    "fa_rep",
                    "fa_sol",
                    "hbond_bb_sc",
                    "hbond_lr_bb",
                    "hbond_sc",
                    "hbond_sr_bb",
                    "lk_ball_wtd",
                    "omega",
                    "p_aa_pp",
                    "pro_close",
                    "rama_prepro",
                    "ref",
                    "time",
                    "solubility"
                  ],
                  "y": [
                    "total_score",
                    "score",
                    "dslf_fa13",
                    "fa_atr",
                    "fa_dun",
                    "fa_elec",
                    "fa_intra_rep",
                    "fa_intra_sol_xover4",
                    "fa_rep",
                    "fa_sol",
                    "hbond_bb_sc",
                    "hbond_lr_bb",
                    "hbond_sc",
                    "hbond_sr_bb",
                    "lk_ball_wtd",
                    "omega",
                    "p_aa_pp",
                    "pro_close",
                    "rama_prepro",
                    "ref",
                    "time",
                    "solubility"
                  ],
                  "z": [
                    [
                      1,
                      0.9999999999999554,
                      0.039411281292433736,
                      0.9254495525186589,
                      -0.7928665070939194,
                      0.9359907740136532,
                      -0.8394180757015118,
                      -0.884839866092448,
                      -0.7598546642500728,
                      -0.9118343760601058,
                      0.9026597019566405,
                      0.7009535017775558,
                      0.8872962697054556,
                      0.8317106470831782,
                      0.8979942720696408,
                      -0.4310192057459161,
                      0.9057360493060551,
                      -0.2556803009197856,
                      -0.08633458668800596,
                      -0.7787233050781212,
                      -0.12170748630860673,
                      0.36688244696877115
                    ],
                    [
                      0.9999999999999554,
                      1,
                      0.03941128159881624,
                      0.9254495452345366,
                      -0.7928664984650469,
                      0.9359907696710886,
                      -0.8394180682074105,
                      -0.8848398565832216,
                      -0.7598546554597754,
                      -0.9118343681168065,
                      0.9026596986626175,
                      0.7009534973463292,
                      0.8872962673928911,
                      0.8317106400521777,
                      0.8979942593928134,
                      -0.4310191909917219,
                      0.9057360468156511,
                      -0.25568029692474437,
                      -0.08633458525994257,
                      -0.7787232938090276,
                      -0.12170748715171935,
                      0.3668824410602765
                    ],
                    [
                      0.039411281292433736,
                      0.03941128159881624,
                      1,
                      0.019448062280307918,
                      -0.002643558772269302,
                      0.023592675220493495,
                      0.003342349112058437,
                      -0.02039023791383393,
                      -0.008780773828456196,
                      -0.02714944710110543,
                      0.03524151653350864,
                      -0.011407562324364802,
                      0.02115797785788419,
                      0.03278847662540997,
                      0.02890106785273627,
                      0.035913580210215484,
                      0.015576208765107919,
                      0.021936248825173203,
                      0.04938169875653091,
                      0.0377389792352848,
                      0.0191373826818504,
                      0.005340118043757363
                    ],
                    [
                      0.9254495525186589,
                      0.9254495452345366,
                      0.019448062280307918,
                      1,
                      -0.9580082389544585,
                      0.9934542634838058,
                      -0.971093524474633,
                      -0.9855944545283716,
                      -0.9281755255697267,
                      -0.9960692032792864,
                      0.9305872805671219,
                      0.7203999873620555,
                      0.9145946852141936,
                      0.8972364234580156,
                      0.9632679462438895,
                      -0.5682234230622392,
                      0.931661098177354,
                      -0.44478831846577666,
                      -0.2927211084944846,
                      -0.8148378601227307,
                      -0.12864606777219578,
                      0.3662440857945894
                    ],
                    [
                      -0.7928665070939194,
                      -0.7928664984650469,
                      -0.002643558772269302,
                      -0.9580082389544585,
                      1,
                      -0.9456609801383445,
                      0.9747084627673555,
                      0.9731751767959086,
                      0.9464861371360841,
                      0.9616899350621976,
                      -0.8664926830037801,
                      -0.700816504531687,
                      -0.86681397252234,
                      -0.8406713751978315,
                      -0.9162365742636803,
                      0.5928162152986342,
                      -0.8745640765212535,
                      0.5257340082510952,
                      0.37754472104695447,
                      0.727423046568829,
                      0.12493491151648384,
                      -0.3221622269311766
                    ],
                    [
                      0.9359907740136532,
                      0.9359907696710886,
                      0.023592675220493495,
                      0.9934542634838058,
                      -0.9456609801383445,
                      1,
                      -0.9582013595026194,
                      -0.9775762977549949,
                      -0.9122111694821665,
                      -0.9924769202702407,
                      0.9301930975716227,
                      0.7361014856072394,
                      0.9282977733369151,
                      0.8921435682555858,
                      0.9484987577023699,
                      -0.5587169583181262,
                      0.9287486113126214,
                      -0.4226645881184753,
                      -0.2767830734700507,
                      -0.8065360778199512,
                      -0.11862512457486671,
                      0.3523582132746008
                    ],
                    [
                      -0.8394180757015118,
                      -0.8394180682074105,
                      0.003342349112058437,
                      -0.971093524474633,
                      0.9747084627673555,
                      -0.9582013595026194,
                      1,
                      0.9724972280200802,
                      0.9471042067714858,
                      0.9691629167964001,
                      -0.8854177655581938,
                      -0.7205360382869679,
                      -0.8713459175541313,
                      -0.8499859628496299,
                      -0.929812594136542,
                      0.5664143958621567,
                      -0.9014098052232168,
                      0.4932899861137769,
                      0.35472164177287574,
                      0.7873707259951023,
                      0.12027594671959325,
                      -0.33744671312209057
                    ],
                    [
                      -0.884839866092448,
                      -0.8848398565832216,
                      -0.02039023791383393,
                      -0.9855944545283716,
                      0.9731751767959086,
                      -0.9775762977549949,
                      0.9724972280200802,
                      1,
                      0.9231411506921416,
                      0.9883515942154877,
                      -0.9137491750615965,
                      -0.7028513226289911,
                      -0.9142179368719454,
                      -0.8807936665455292,
                      -0.9523090242856908,
                      0.5575926158688556,
                      -0.9042458009847587,
                      0.4391049800057904,
                      0.29924779544221686,
                      0.7463207598620111,
                      0.13293468717409293,
                      -0.3631467977976555
                    ],
                    [
                      -0.7598546642500728,
                      -0.7598546554597754,
                      -0.008780773828456196,
                      -0.9281755255697267,
                      0.9464861371360841,
                      -0.9122111694821665,
                      0.9471042067714858,
                      0.9231411506921416,
                      1,
                      0.9235064983222758,
                      -0.8507306626955591,
                      -0.687044746874535,
                      -0.8074802467452117,
                      -0.7945709839410628,
                      -0.8755311104709045,
                      0.5198753581923393,
                      -0.8607886025624458,
                      0.5314389367145393,
                      0.3796110666217623,
                      0.7506639027437988,
                      0.10053058466209026,
                      -0.30594889084590726
                    ],
                    [
                      -0.9118343760601058,
                      -0.9118343681168065,
                      -0.02714944710110543,
                      -0.9960692032792864,
                      0.9616899350621976,
                      -0.9924769202702407,
                      0.9691629167964001,
                      0.9883515942154877,
                      0.9235064983222758,
                      1,
                      -0.9257582399302824,
                      -0.6945799202831928,
                      -0.920285084768501,
                      -0.9098949069114334,
                      -0.9630265050906404,
                      0.5640704067126264,
                      -0.9141627323118238,
                      0.4380246969201865,
                      0.28701143840141535,
                      0.7853341201430434,
                      0.13186738020504876,
                      -0.3585600868435846
                    ],
                    [
                      0.9026597019566405,
                      0.9026596986626175,
                      0.03524151653350864,
                      0.9305872805671219,
                      -0.8664926830037801,
                      0.9301930975716227,
                      -0.8854177655581938,
                      -0.9137491750615965,
                      -0.8507306626955591,
                      -0.9257582399302824,
                      1,
                      0.7143279226567189,
                      0.8894412574998768,
                      0.7714694247528977,
                      0.8742263162319089,
                      -0.49901081668955316,
                      0.9081352927388012,
                      -0.38845939476114044,
                      -0.20757607472216796,
                      -0.7499346907012827,
                      -0.11206824367651251,
                      0.37527274048070575
                    ],
                    [
                      0.7009535017775558,
                      0.7009534973463292,
                      -0.011407562324364802,
                      0.7203999873620555,
                      -0.700816504531687,
                      0.7361014856072394,
                      -0.7205360382869679,
                      -0.7028513226289911,
                      -0.687044746874535,
                      -0.6945799202831928,
                      0.7143279226567189,
                      1,
                      0.6977791786172695,
                      0.38664639591373956,
                      0.6005467808752627,
                      -0.4482333893926896,
                      0.8053812023357382,
                      -0.3590816799825944,
                      -0.3104854094472835,
                      -0.637694305036555,
                      -0.03707609553174003,
                      0.1972147163293908
                    ],
                    [
                      0.8872962697054556,
                      0.8872962673928911,
                      0.02115797785788419,
                      0.9145946852141936,
                      -0.86681397252234,
                      0.9282977733369151,
                      -0.8713459175541313,
                      -0.9142179368719454,
                      -0.8074802467452117,
                      -0.920285084768501,
                      0.8894412574998768,
                      0.6977791786172695,
                      1,
                      0.7888730322081553,
                      0.8549594431003148,
                      -0.522888807754242,
                      0.8497167105144607,
                      -0.3623334994485707,
                      -0.2513997597005141,
                      -0.6585801805110839,
                      -0.12305559794085143,
                      0.3573719511201875
                    ],
                    [
                      0.8317106470831782,
                      0.8317106400521777,
                      0.03278847662540997,
                      0.8972364234580156,
                      -0.8406713751978315,
                      0.8921435682555858,
                      -0.8499859628496299,
                      -0.8807936665455292,
                      -0.7945709839410628,
                      -0.9098949069114334,
                      0.7714694247528977,
                      0.38664639591373956,
                      0.7888730322081553,
                      1,
                      0.9210620483017045,
                      -0.4944903603261009,
                      0.7502507322758257,
                      -0.34309766813299025,
                      -0.19799376260331203,
                      -0.7367905921895704,
                      -0.13778615759592344,
                      0.35316354367935726
                    ],
                    [
                      0.8979942720696408,
                      0.8979942593928134,
                      0.02890106785273627,
                      0.9632679462438895,
                      -0.9162365742636803,
                      0.9484987577023699,
                      -0.929812594136542,
                      -0.9523090242856908,
                      -0.8755311104709045,
                      -0.9630265050906404,
                      0.8742263162319089,
                      0.6005467808752627,
                      0.8549594431003148,
                      0.9210620483017045,
                      1,
                      -0.528099372003639,
                      0.8821719143378387,
                      -0.40896166859301125,
                      -0.22364967443936967,
                      -0.7624984073605937,
                      -0.1501402802525554,
                      0.3660498935865656
                    ],
                    [
                      -0.4310192057459161,
                      -0.4310191909917219,
                      0.035913580210215484,
                      -0.5682234230622392,
                      0.5928162152986342,
                      -0.5587169583181262,
                      0.5664143958621567,
                      0.5575926158688556,
                      0.5198753581923393,
                      0.5640704067126264,
                      -0.49901081668955316,
                      -0.4482333893926896,
                      -0.522888807754242,
                      -0.4944903603261009,
                      -0.528099372003639,
                      1,
                      -0.5257141042730968,
                      0.530489418929037,
                      0.3459670981807168,
                      0.49813859329126514,
                      0.058386541838077045,
                      -0.21523912717220356
                    ],
                    [
                      0.9057360493060551,
                      0.9057360468156511,
                      0.015576208765107919,
                      0.931661098177354,
                      -0.8745640765212535,
                      0.9287486113126214,
                      -0.9014098052232168,
                      -0.9042458009847587,
                      -0.8607886025624458,
                      -0.9141627323118238,
                      0.9081352927388012,
                      0.8053812023357382,
                      0.8497167105144607,
                      0.7502507322758257,
                      0.8821719143378387,
                      -0.5257141042730968,
                      1,
                      -0.41764437813387195,
                      -0.19372206246786544,
                      -0.8130275723511113,
                      -0.09268851084516413,
                      0.3214812802309372
                    ],
                    [
                      -0.2556803009197856,
                      -0.25568029692474437,
                      0.021936248825173203,
                      -0.44478831846577666,
                      0.5257340082510952,
                      -0.4226645881184753,
                      0.4932899861137769,
                      0.4391049800057904,
                      0.5314389367145393,
                      0.4380246969201865,
                      -0.38845939476114044,
                      -0.3590816799825944,
                      -0.3623334994485707,
                      -0.34309766813299025,
                      -0.40896166859301125,
                      0.530489418929037,
                      -0.41764437813387195,
                      1,
                      0.3798347905257128,
                      0.3808128762379958,
                      0.009628869949804879,
                      -0.132065496373864
                    ],
                    [
                      -0.08633458668800596,
                      -0.08633458525994257,
                      0.04938169875653091,
                      -0.2927211084944846,
                      0.37754472104695447,
                      -0.2767830734700507,
                      0.35472164177287574,
                      0.29924779544221686,
                      0.3796110666217623,
                      0.28701143840141535,
                      -0.20757607472216796,
                      -0.3104854094472835,
                      -0.2513997597005141,
                      -0.19799376260331203,
                      -0.22364967443936967,
                      0.3459670981807168,
                      -0.19372206246786544,
                      0.3798347905257128,
                      1,
                      0.2871664053719343,
                      -0.011878474522201914,
                      -0.09973935461702285
                    ],
                    [
                      -0.7787233050781212,
                      -0.7787232938090276,
                      0.0377389792352848,
                      -0.8148378601227307,
                      0.727423046568829,
                      -0.8065360778199512,
                      0.7873707259951023,
                      0.7463207598620111,
                      0.7506639027437988,
                      0.7853341201430434,
                      -0.7499346907012827,
                      -0.637694305036555,
                      -0.6585801805110839,
                      -0.7367905921895704,
                      -0.7624984073605937,
                      0.49813859329126514,
                      -0.8130275723511113,
                      0.3808128762379958,
                      0.2871664053719343,
                      1,
                      0.046719370708728815,
                      -0.31899123771620524
                    ],
                    [
                      -0.12170748630860673,
                      -0.12170748715171935,
                      0.0191373826818504,
                      -0.12864606777219578,
                      0.12493491151648384,
                      -0.11862512457486671,
                      0.12027594671959325,
                      0.13293468717409293,
                      0.10053058466209026,
                      0.13186738020504876,
                      -0.11206824367651251,
                      -0.03707609553174003,
                      -0.12305559794085143,
                      -0.13778615759592344,
                      -0.1501402802525554,
                      0.058386541838077045,
                      -0.09268851084516413,
                      0.009628869949804879,
                      -0.011878474522201914,
                      0.046719370708728815,
                      1,
                      -0.032373936482974625
                    ],
                    [
                      0.36688244696877115,
                      0.3668824410602765,
                      0.005340118043757363,
                      0.3662440857945894,
                      -0.3221622269311766,
                      0.3523582132746008,
                      -0.33744671312209057,
                      -0.3631467977976555,
                      -0.30594889084590726,
                      -0.3585600868435846,
                      0.37527274048070575,
                      0.1972147163293908,
                      0.3573719511201875,
                      0.35316354367935726,
                      0.3660498935865656,
                      -0.21523912717220356,
                      0.3214812802309372,
                      -0.132065496373864,
                      -0.09973935461702285,
                      -0.31899123771620524,
                      -0.032373936482974625,
                      1
                    ]
                  ]
                }
              ],
              "layout": {
                "template": {
                  "data": {
                    "bar": [
                      {
                        "error_x": {
                          "color": "#2a3f5f"
                        },
                        "error_y": {
                          "color": "#2a3f5f"
                        },
                        "marker": {
                          "line": {
                            "color": "#E5ECF6",
                            "width": 0.5
                          },
                          "pattern": {
                            "fillmode": "overlay",
                            "size": 10,
                            "solidity": 0.2
                          }
                        },
                        "type": "bar"
                      }
                    ],
                    "barpolar": [
                      {
                        "marker": {
                          "line": {
                            "color": "#E5ECF6",
                            "width": 0.5
                          },
                          "pattern": {
                            "fillmode": "overlay",
                            "size": 10,
                            "solidity": 0.2
                          }
                        },
                        "type": "barpolar"
                      }
                    ],
                    "carpet": [
                      {
                        "aaxis": {
                          "endlinecolor": "#2a3f5f",
                          "gridcolor": "white",
                          "linecolor": "white",
                          "minorgridcolor": "white",
                          "startlinecolor": "#2a3f5f"
                        },
                        "baxis": {
                          "endlinecolor": "#2a3f5f",
                          "gridcolor": "white",
                          "linecolor": "white",
                          "minorgridcolor": "white",
                          "startlinecolor": "#2a3f5f"
                        },
                        "type": "carpet"
                      }
                    ],
                    "choropleth": [
                      {
                        "colorbar": {
                          "outlinewidth": 0,
                          "ticks": ""
                        },
                        "type": "choropleth"
                      }
                    ],
                    "contour": [
                      {
                        "colorbar": {
                          "outlinewidth": 0,
                          "ticks": ""
                        },
                        "colorscale": [
                          [
                            0,
                            "#0d0887"
                          ],
                          [
                            0.1111111111111111,
                            "#46039f"
                          ],
                          [
                            0.2222222222222222,
                            "#7201a8"
                          ],
                          [
                            0.3333333333333333,
                            "#9c179e"
                          ],
                          [
                            0.4444444444444444,
                            "#bd3786"
                          ],
                          [
                            0.5555555555555556,
                            "#d8576b"
                          ],
                          [
                            0.6666666666666666,
                            "#ed7953"
                          ],
                          [
                            0.7777777777777778,
                            "#fb9f3a"
                          ],
                          [
                            0.8888888888888888,
                            "#fdca26"
                          ],
                          [
                            1,
                            "#f0f921"
                          ]
                        ],
                        "type": "contour"
                      }
                    ],
                    "contourcarpet": [
                      {
                        "colorbar": {
                          "outlinewidth": 0,
                          "ticks": ""
                        },
                        "type": "contourcarpet"
                      }
                    ],
                    "heatmap": [
                      {
                        "colorbar": {
                          "outlinewidth": 0,
                          "ticks": ""
                        },
                        "colorscale": [
                          [
                            0,
                            "#0d0887"
                          ],
                          [
                            0.1111111111111111,
                            "#46039f"
                          ],
                          [
                            0.2222222222222222,
                            "#7201a8"
                          ],
                          [
                            0.3333333333333333,
                            "#9c179e"
                          ],
                          [
                            0.4444444444444444,
                            "#bd3786"
                          ],
                          [
                            0.5555555555555556,
                            "#d8576b"
                          ],
                          [
                            0.6666666666666666,
                            "#ed7953"
                          ],
                          [
                            0.7777777777777778,
                            "#fb9f3a"
                          ],
                          [
                            0.8888888888888888,
                            "#fdca26"
                          ],
                          [
                            1,
                            "#f0f921"
                          ]
                        ],
                        "type": "heatmap"
                      }
                    ],
                    "heatmapgl": [
                      {
                        "colorbar": {
                          "outlinewidth": 0,
                          "ticks": ""
                        },
                        "colorscale": [
                          [
                            0,
                            "#0d0887"
                          ],
                          [
                            0.1111111111111111,
                            "#46039f"
                          ],
                          [
                            0.2222222222222222,
                            "#7201a8"
                          ],
                          [
                            0.3333333333333333,
                            "#9c179e"
                          ],
                          [
                            0.4444444444444444,
                            "#bd3786"
                          ],
                          [
                            0.5555555555555556,
                            "#d8576b"
                          ],
                          [
                            0.6666666666666666,
                            "#ed7953"
                          ],
                          [
                            0.7777777777777778,
                            "#fb9f3a"
                          ],
                          [
                            0.8888888888888888,
                            "#fdca26"
                          ],
                          [
                            1,
                            "#f0f921"
                          ]
                        ],
                        "type": "heatmapgl"
                      }
                    ],
                    "histogram": [
                      {
                        "marker": {
                          "pattern": {
                            "fillmode": "overlay",
                            "size": 10,
                            "solidity": 0.2
                          }
                        },
                        "type": "histogram"
                      }
                    ],
                    "histogram2d": [
                      {
                        "colorbar": {
                          "outlinewidth": 0,
                          "ticks": ""
                        },
                        "colorscale": [
                          [
                            0,
                            "#0d0887"
                          ],
                          [
                            0.1111111111111111,
                            "#46039f"
                          ],
                          [
                            0.2222222222222222,
                            "#7201a8"
                          ],
                          [
                            0.3333333333333333,
                            "#9c179e"
                          ],
                          [
                            0.4444444444444444,
                            "#bd3786"
                          ],
                          [
                            0.5555555555555556,
                            "#d8576b"
                          ],
                          [
                            0.6666666666666666,
                            "#ed7953"
                          ],
                          [
                            0.7777777777777778,
                            "#fb9f3a"
                          ],
                          [
                            0.8888888888888888,
                            "#fdca26"
                          ],
                          [
                            1,
                            "#f0f921"
                          ]
                        ],
                        "type": "histogram2d"
                      }
                    ],
                    "histogram2dcontour": [
                      {
                        "colorbar": {
                          "outlinewidth": 0,
                          "ticks": ""
                        },
                        "colorscale": [
                          [
                            0,
                            "#0d0887"
                          ],
                          [
                            0.1111111111111111,
                            "#46039f"
                          ],
                          [
                            0.2222222222222222,
                            "#7201a8"
                          ],
                          [
                            0.3333333333333333,
                            "#9c179e"
                          ],
                          [
                            0.4444444444444444,
                            "#bd3786"
                          ],
                          [
                            0.5555555555555556,
                            "#d8576b"
                          ],
                          [
                            0.6666666666666666,
                            "#ed7953"
                          ],
                          [
                            0.7777777777777778,
                            "#fb9f3a"
                          ],
                          [
                            0.8888888888888888,
                            "#fdca26"
                          ],
                          [
                            1,
                            "#f0f921"
                          ]
                        ],
                        "type": "histogram2dcontour"
                      }
                    ],
                    "mesh3d": [
                      {
                        "colorbar": {
                          "outlinewidth": 0,
                          "ticks": ""
                        },
                        "type": "mesh3d"
                      }
                    ],
                    "parcoords": [
                      {
                        "line": {
                          "colorbar": {
                            "outlinewidth": 0,
                            "ticks": ""
                          }
                        },
                        "type": "parcoords"
                      }
                    ],
                    "pie": [
                      {
                        "automargin": true,
                        "type": "pie"
                      }
                    ],
                    "scatter": [
                      {
                        "fillpattern": {
                          "fillmode": "overlay",
                          "size": 10,
                          "solidity": 0.2
                        },
                        "type": "scatter"
                      }
                    ],
                    "scatter3d": [
                      {
                        "line": {
                          "colorbar": {
                            "outlinewidth": 0,
                            "ticks": ""
                          }
                        },
                        "marker": {
                          "colorbar": {
                            "outlinewidth": 0,
                            "ticks": ""
                          }
                        },
                        "type": "scatter3d"
                      }
                    ],
                    "scattercarpet": [
                      {
                        "marker": {
                          "colorbar": {
                            "outlinewidth": 0,
                            "ticks": ""
                          }
                        },
                        "type": "scattercarpet"
                      }
                    ],
                    "scattergeo": [
                      {
                        "marker": {
                          "colorbar": {
                            "outlinewidth": 0,
                            "ticks": ""
                          }
                        },
                        "type": "scattergeo"
                      }
                    ],
                    "scattergl": [
                      {
                        "marker": {
                          "colorbar": {
                            "outlinewidth": 0,
                            "ticks": ""
                          }
                        },
                        "type": "scattergl"
                      }
                    ],
                    "scattermapbox": [
                      {
                        "marker": {
                          "colorbar": {
                            "outlinewidth": 0,
                            "ticks": ""
                          }
                        },
                        "type": "scattermapbox"
                      }
                    ],
                    "scatterpolar": [
                      {
                        "marker": {
                          "colorbar": {
                            "outlinewidth": 0,
                            "ticks": ""
                          }
                        },
                        "type": "scatterpolar"
                      }
                    ],
                    "scatterpolargl": [
                      {
                        "marker": {
                          "colorbar": {
                            "outlinewidth": 0,
                            "ticks": ""
                          }
                        },
                        "type": "scatterpolargl"
                      }
                    ],
                    "scatterternary": [
                      {
                        "marker": {
                          "colorbar": {
                            "outlinewidth": 0,
                            "ticks": ""
                          }
                        },
                        "type": "scatterternary"
                      }
                    ],
                    "surface": [
                      {
                        "colorbar": {
                          "outlinewidth": 0,
                          "ticks": ""
                        },
                        "colorscale": [
                          [
                            0,
                            "#0d0887"
                          ],
                          [
                            0.1111111111111111,
                            "#46039f"
                          ],
                          [
                            0.2222222222222222,
                            "#7201a8"
                          ],
                          [
                            0.3333333333333333,
                            "#9c179e"
                          ],
                          [
                            0.4444444444444444,
                            "#bd3786"
                          ],
                          [
                            0.5555555555555556,
                            "#d8576b"
                          ],
                          [
                            0.6666666666666666,
                            "#ed7953"
                          ],
                          [
                            0.7777777777777778,
                            "#fb9f3a"
                          ],
                          [
                            0.8888888888888888,
                            "#fdca26"
                          ],
                          [
                            1,
                            "#f0f921"
                          ]
                        ],
                        "type": "surface"
                      }
                    ],
                    "table": [
                      {
                        "cells": {
                          "fill": {
                            "color": "#EBF0F8"
                          },
                          "line": {
                            "color": "white"
                          }
                        },
                        "header": {
                          "fill": {
                            "color": "#C8D4E3"
                          },
                          "line": {
                            "color": "white"
                          }
                        },
                        "type": "table"
                      }
                    ]
                  },
                  "layout": {
                    "annotationdefaults": {
                      "arrowcolor": "#2a3f5f",
                      "arrowhead": 0,
                      "arrowwidth": 1
                    },
                    "autotypenumbers": "strict",
                    "coloraxis": {
                      "colorbar": {
                        "outlinewidth": 0,
                        "ticks": ""
                      }
                    },
                    "colorscale": {
                      "diverging": [
                        [
                          0,
                          "#8e0152"
                        ],
                        [
                          0.1,
                          "#c51b7d"
                        ],
                        [
                          0.2,
                          "#de77ae"
                        ],
                        [
                          0.3,
                          "#f1b6da"
                        ],
                        [
                          0.4,
                          "#fde0ef"
                        ],
                        [
                          0.5,
                          "#f7f7f7"
                        ],
                        [
                          0.6,
                          "#e6f5d0"
                        ],
                        [
                          0.7,
                          "#b8e186"
                        ],
                        [
                          0.8,
                          "#7fbc41"
                        ],
                        [
                          0.9,
                          "#4d9221"
                        ],
                        [
                          1,
                          "#276419"
                        ]
                      ],
                      "sequential": [
                        [
                          0,
                          "#0d0887"
                        ],
                        [
                          0.1111111111111111,
                          "#46039f"
                        ],
                        [
                          0.2222222222222222,
                          "#7201a8"
                        ],
                        [
                          0.3333333333333333,
                          "#9c179e"
                        ],
                        [
                          0.4444444444444444,
                          "#bd3786"
                        ],
                        [
                          0.5555555555555556,
                          "#d8576b"
                        ],
                        [
                          0.6666666666666666,
                          "#ed7953"
                        ],
                        [
                          0.7777777777777778,
                          "#fb9f3a"
                        ],
                        [
                          0.8888888888888888,
                          "#fdca26"
                        ],
                        [
                          1,
                          "#f0f921"
                        ]
                      ],
                      "sequentialminus": [
                        [
                          0,
                          "#0d0887"
                        ],
                        [
                          0.1111111111111111,
                          "#46039f"
                        ],
                        [
                          0.2222222222222222,
                          "#7201a8"
                        ],
                        [
                          0.3333333333333333,
                          "#9c179e"
                        ],
                        [
                          0.4444444444444444,
                          "#bd3786"
                        ],
                        [
                          0.5555555555555556,
                          "#d8576b"
                        ],
                        [
                          0.6666666666666666,
                          "#ed7953"
                        ],
                        [
                          0.7777777777777778,
                          "#fb9f3a"
                        ],
                        [
                          0.8888888888888888,
                          "#fdca26"
                        ],
                        [
                          1,
                          "#f0f921"
                        ]
                      ]
                    },
                    "colorway": [
                      "#636efa",
                      "#EF553B",
                      "#00cc96",
                      "#ab63fa",
                      "#FFA15A",
                      "#19d3f3",
                      "#FF6692",
                      "#B6E880",
                      "#FF97FF",
                      "#FECB52"
                    ],
                    "font": {
                      "color": "#2a3f5f"
                    },
                    "geo": {
                      "bgcolor": "white",
                      "lakecolor": "white",
                      "landcolor": "#E5ECF6",
                      "showlakes": true,
                      "showland": true,
                      "subunitcolor": "white"
                    },
                    "hoverlabel": {
                      "align": "left"
                    },
                    "hovermode": "closest",
                    "mapbox": {
                      "style": "light"
                    },
                    "paper_bgcolor": "white",
                    "plot_bgcolor": "#E5ECF6",
                    "polar": {
                      "angularaxis": {
                        "gridcolor": "white",
                        "linecolor": "white",
                        "ticks": ""
                      },
                      "bgcolor": "#E5ECF6",
                      "radialaxis": {
                        "gridcolor": "white",
                        "linecolor": "white",
                        "ticks": ""
                      }
                    },
                    "scene": {
                      "xaxis": {
                        "backgroundcolor": "#E5ECF6",
                        "gridcolor": "white",
                        "gridwidth": 2,
                        "linecolor": "white",
                        "showbackground": true,
                        "ticks": "",
                        "zerolinecolor": "white"
                      },
                      "yaxis": {
                        "backgroundcolor": "#E5ECF6",
                        "gridcolor": "white",
                        "gridwidth": 2,
                        "linecolor": "white",
                        "showbackground": true,
                        "ticks": "",
                        "zerolinecolor": "white"
                      },
                      "zaxis": {
                        "backgroundcolor": "#E5ECF6",
                        "gridcolor": "white",
                        "gridwidth": 2,
                        "linecolor": "white",
                        "showbackground": true,
                        "ticks": "",
                        "zerolinecolor": "white"
                      }
                    },
                    "shapedefaults": {
                      "line": {
                        "color": "#2a3f5f"
                      }
                    },
                    "ternary": {
                      "aaxis": {
                        "gridcolor": "white",
                        "linecolor": "white",
                        "ticks": ""
                      },
                      "baxis": {
                        "gridcolor": "white",
                        "linecolor": "white",
                        "ticks": ""
                      },
                      "bgcolor": "#E5ECF6",
                      "caxis": {
                        "gridcolor": "white",
                        "linecolor": "white",
                        "ticks": ""
                      }
                    },
                    "title": {
                      "x": 0.05
                    },
                    "xaxis": {
                      "automargin": true,
                      "gridcolor": "white",
                      "linecolor": "white",
                      "ticks": "",
                      "title": {
                        "standoff": 15
                      },
                      "zerolinecolor": "white",
                      "zerolinewidth": 2
                    },
                    "yaxis": {
                      "automargin": true,
                      "gridcolor": "white",
                      "linecolor": "white",
                      "ticks": "",
                      "title": {
                        "standoff": 15
                      },
                      "zerolinecolor": "white",
                      "zerolinewidth": 2
                    }
                  }
                }
              }
            }
          },
          "metadata": {},
          "output_type": "display_data"
        }
      ],
      "source": [
        "# Heatmap of correlation matrix\n",
        "\n",
        "corr = df_solubility.corr()\n",
        "data = [go.Heatmap( z=corr.values, x=list(corr.columns), y=list(corr.index), colorscale='Viridis')]\n",
        "iplot(data, filename='pandas-heatmap')"
      ]
    },
    {
      "cell_type": "markdown",
      "metadata": {},
      "source": [
        "# Anomaly Detection (outliers)\n",
        "\n",
        "Two models were used:\n",
        "* Isolation Forest;\n",
        "* Local Outlier Factor (LOF)."
      ]
    },
    {
      "cell_type": "markdown",
      "metadata": {},
      "source": [
        "## Isolation Forest (IF)\n",
        "\n",
        "Some links to better understand the topic:\n",
        "* https://scikit-learn.org/stable/modules/generated/sklearn.ensemble.IsolationForest.html"
      ]
    },
    {
      "cell_type": "code",
      "execution_count": 275,
      "metadata": {},
      "outputs": [
        {
          "data": {
            "text/plain": [
              "IsolationForest(behaviour='deprecated', bootstrap=False, contamination=0.1,\n",
              "                max_features=1.0, max_samples='auto', n_estimators=100,\n",
              "                n_jobs=None, random_state=42, verbose=0, warm_start=False)"
            ]
          },
          "execution_count": 275,
          "metadata": {},
          "output_type": "execute_result"
        }
      ],
      "source": [
        "model=IsolationForest(n_estimators=100,max_samples='auto',contamination=float(0.1),random_state=42)\n",
        "#df = df_solubility.copy()\n",
        "df = df_solubility.copy().drop(columns=['solubility'])\n",
        "model.fit(df)"
      ]
    },
    {
      "cell_type": "code",
      "execution_count": 276,
      "metadata": {},
      "outputs": [
        {
          "data": {
            "text/html": [
              "<div>\n",
              "<style scoped>\n",
              "    .dataframe tbody tr th:only-of-type {\n",
              "        vertical-align: middle;\n",
              "    }\n",
              "\n",
              "    .dataframe tbody tr th {\n",
              "        vertical-align: top;\n",
              "    }\n",
              "\n",
              "    .dataframe thead th {\n",
              "        text-align: right;\n",
              "    }\n",
              "</style>\n",
              "<table border=\"1\" class=\"dataframe\">\n",
              "  <thead>\n",
              "    <tr style=\"text-align: right;\">\n",
              "      <th></th>\n",
              "      <th>IF_scores</th>\n",
              "    </tr>\n",
              "  </thead>\n",
              "  <tbody>\n",
              "    <tr>\n",
              "      <th>139</th>\n",
              "      <td>-0.262036</td>\n",
              "    </tr>\n",
              "    <tr>\n",
              "      <th>109</th>\n",
              "      <td>-0.220063</td>\n",
              "    </tr>\n",
              "    <tr>\n",
              "      <th>345</th>\n",
              "      <td>-0.206957</td>\n",
              "    </tr>\n",
              "    <tr>\n",
              "      <th>237</th>\n",
              "      <td>-0.203977</td>\n",
              "    </tr>\n",
              "    <tr>\n",
              "      <th>269</th>\n",
              "      <td>-0.187313</td>\n",
              "    </tr>\n",
              "    <tr>\n",
              "      <th>225</th>\n",
              "      <td>-0.173017</td>\n",
              "    </tr>\n",
              "    <tr>\n",
              "      <th>262</th>\n",
              "      <td>-0.168038</td>\n",
              "    </tr>\n",
              "    <tr>\n",
              "      <th>317</th>\n",
              "      <td>-0.167842</td>\n",
              "    </tr>\n",
              "    <tr>\n",
              "      <th>323</th>\n",
              "      <td>-0.155992</td>\n",
              "    </tr>\n",
              "    <tr>\n",
              "      <th>276</th>\n",
              "      <td>-0.143469</td>\n",
              "    </tr>\n",
              "    <tr>\n",
              "      <th>144</th>\n",
              "      <td>-0.139450</td>\n",
              "    </tr>\n",
              "    <tr>\n",
              "      <th>266</th>\n",
              "      <td>-0.129991</td>\n",
              "    </tr>\n",
              "    <tr>\n",
              "      <th>326</th>\n",
              "      <td>-0.105017</td>\n",
              "    </tr>\n",
              "    <tr>\n",
              "      <th>297</th>\n",
              "      <td>-0.093340</td>\n",
              "    </tr>\n",
              "    <tr>\n",
              "      <th>15</th>\n",
              "      <td>-0.089653</td>\n",
              "    </tr>\n",
              "    <tr>\n",
              "      <th>396</th>\n",
              "      <td>-0.089630</td>\n",
              "    </tr>\n",
              "    <tr>\n",
              "      <th>337</th>\n",
              "      <td>-0.074987</td>\n",
              "    </tr>\n",
              "    <tr>\n",
              "      <th>74</th>\n",
              "      <td>-0.074635</td>\n",
              "    </tr>\n",
              "    <tr>\n",
              "      <th>197</th>\n",
              "      <td>-0.071894</td>\n",
              "    </tr>\n",
              "    <tr>\n",
              "      <th>57</th>\n",
              "      <td>-0.067405</td>\n",
              "    </tr>\n",
              "    <tr>\n",
              "      <th>146</th>\n",
              "      <td>-0.064695</td>\n",
              "    </tr>\n",
              "    <tr>\n",
              "      <th>239</th>\n",
              "      <td>-0.062681</td>\n",
              "    </tr>\n",
              "    <tr>\n",
              "      <th>129</th>\n",
              "      <td>-0.052876</td>\n",
              "    </tr>\n",
              "    <tr>\n",
              "      <th>306</th>\n",
              "      <td>-0.043771</td>\n",
              "    </tr>\n",
              "    <tr>\n",
              "      <th>240</th>\n",
              "      <td>-0.042330</td>\n",
              "    </tr>\n",
              "    <tr>\n",
              "      <th>334</th>\n",
              "      <td>-0.039216</td>\n",
              "    </tr>\n",
              "    <tr>\n",
              "      <th>154</th>\n",
              "      <td>-0.037800</td>\n",
              "    </tr>\n",
              "    <tr>\n",
              "      <th>242</th>\n",
              "      <td>-0.037259</td>\n",
              "    </tr>\n",
              "    <tr>\n",
              "      <th>170</th>\n",
              "      <td>-0.033347</td>\n",
              "    </tr>\n",
              "    <tr>\n",
              "      <th>210</th>\n",
              "      <td>-0.031693</td>\n",
              "    </tr>\n",
              "    <tr>\n",
              "      <th>72</th>\n",
              "      <td>-0.027880</td>\n",
              "    </tr>\n",
              "    <tr>\n",
              "      <th>18</th>\n",
              "      <td>-0.023237</td>\n",
              "    </tr>\n",
              "    <tr>\n",
              "      <th>252</th>\n",
              "      <td>-0.020038</td>\n",
              "    </tr>\n",
              "    <tr>\n",
              "      <th>361</th>\n",
              "      <td>-0.014950</td>\n",
              "    </tr>\n",
              "    <tr>\n",
              "      <th>45</th>\n",
              "      <td>-0.014028</td>\n",
              "    </tr>\n",
              "    <tr>\n",
              "      <th>232</th>\n",
              "      <td>-0.010719</td>\n",
              "    </tr>\n",
              "    <tr>\n",
              "      <th>393</th>\n",
              "      <td>-0.005261</td>\n",
              "    </tr>\n",
              "    <tr>\n",
              "      <th>284</th>\n",
              "      <td>-0.004282</td>\n",
              "    </tr>\n",
              "    <tr>\n",
              "      <th>320</th>\n",
              "      <td>-0.002474</td>\n",
              "    </tr>\n",
              "    <tr>\n",
              "      <th>246</th>\n",
              "      <td>-0.002469</td>\n",
              "    </tr>\n",
              "    <tr>\n",
              "      <th>185</th>\n",
              "      <td>-0.000550</td>\n",
              "    </tr>\n",
              "  </tbody>\n",
              "</table>\n",
              "</div>"
            ],
            "text/plain": [
              "     IF_scores\n",
              "139  -0.262036\n",
              "109  -0.220063\n",
              "345  -0.206957\n",
              "237  -0.203977\n",
              "269  -0.187313\n",
              "225  -0.173017\n",
              "262  -0.168038\n",
              "317  -0.167842\n",
              "323  -0.155992\n",
              "276  -0.143469\n",
              "144  -0.139450\n",
              "266  -0.129991\n",
              "326  -0.105017\n",
              "297  -0.093340\n",
              "15   -0.089653\n",
              "396  -0.089630\n",
              "337  -0.074987\n",
              "74   -0.074635\n",
              "197  -0.071894\n",
              "57   -0.067405\n",
              "146  -0.064695\n",
              "239  -0.062681\n",
              "129  -0.052876\n",
              "306  -0.043771\n",
              "240  -0.042330\n",
              "334  -0.039216\n",
              "154  -0.037800\n",
              "242  -0.037259\n",
              "170  -0.033347\n",
              "210  -0.031693\n",
              "72   -0.027880\n",
              "18   -0.023237\n",
              "252  -0.020038\n",
              "361  -0.014950\n",
              "45   -0.014028\n",
              "232  -0.010719\n",
              "393  -0.005261\n",
              "284  -0.004282\n",
              "320  -0.002474\n",
              "246  -0.002469\n",
              "185  -0.000550"
            ]
          },
          "execution_count": 276,
          "metadata": {},
          "output_type": "execute_result"
        }
      ],
      "source": [
        "anomaly_score = model.predict(df)\n",
        "scores = model.decision_function(df)\n",
        "\n",
        "df['IF_anomaly_score'] = anomaly_score\n",
        "df['IF_scores'] = scores\n",
        "df[df['IF_anomaly_score']==-1][['IF_scores']].sort_values(by=['IF_scores'])"
      ]
    },
    {
      "cell_type": "markdown",
      "metadata": {},
      "source": [
        "## Local Outlier Factor (LOF)\n",
        "\n",
        "Some links to better understand the topic:\n",
        "* https://towardsdatascience.com/anomaly-detection-with-local-outlier-factor-lof-d91e41df10f2\n",
        "* https://scikit-learn.org/stable/modules/generated/sklearn.neighbors.LocalOutlierFactor.html"
      ]
    },
    {
      "cell_type": "code",
      "execution_count": 277,
      "metadata": {},
      "outputs": [],
      "source": [
        "# Model specification\n",
        "model_LOF = LocalOutlierFactor(n_neighbors = 2, metric = \"manhattan\", contamination = 0.1)\n",
        "\n",
        "# Model fitting\n",
        "lof_y_pred = model_LOF.fit_predict(df_solubility.copy().drop(columns=['solubility']))\n",
        "#lof_scores = model_LOF.decision_function(df)"
      ]
    },
    {
      "cell_type": "code",
      "execution_count": 278,
      "metadata": {},
      "outputs": [
        {
          "data": {
            "text/html": [
              "<div>\n",
              "<style scoped>\n",
              "    .dataframe tbody tr th:only-of-type {\n",
              "        vertical-align: middle;\n",
              "    }\n",
              "\n",
              "    .dataframe tbody tr th {\n",
              "        vertical-align: top;\n",
              "    }\n",
              "\n",
              "    .dataframe thead th {\n",
              "        text-align: right;\n",
              "    }\n",
              "</style>\n",
              "<table border=\"1\" class=\"dataframe\">\n",
              "  <thead>\n",
              "    <tr style=\"text-align: right;\">\n",
              "      <th></th>\n",
              "      <th>total_score</th>\n",
              "      <th>score</th>\n",
              "      <th>dslf_fa13</th>\n",
              "      <th>fa_atr</th>\n",
              "      <th>fa_dun</th>\n",
              "      <th>fa_elec</th>\n",
              "      <th>fa_intra_rep</th>\n",
              "      <th>fa_intra_sol_xover4</th>\n",
              "      <th>fa_rep</th>\n",
              "      <th>fa_sol</th>\n",
              "      <th>...</th>\n",
              "      <th>lk_ball_wtd</th>\n",
              "      <th>omega</th>\n",
              "      <th>p_aa_pp</th>\n",
              "      <th>pro_close</th>\n",
              "      <th>rama_prepro</th>\n",
              "      <th>ref</th>\n",
              "      <th>time</th>\n",
              "      <th>IF_anomaly_score</th>\n",
              "      <th>IF_scores</th>\n",
              "      <th>LOF_y_pred</th>\n",
              "    </tr>\n",
              "  </thead>\n",
              "  <tbody>\n",
              "    <tr>\n",
              "      <th>0</th>\n",
              "      <td>-470.914</td>\n",
              "      <td>-470.914</td>\n",
              "      <td>0.000</td>\n",
              "      <td>-1203.414</td>\n",
              "      <td>338.522</td>\n",
              "      <td>-341.858</td>\n",
              "      <td>2.604</td>\n",
              "      <td>46.000</td>\n",
              "      <td>129.335</td>\n",
              "      <td>717.160</td>\n",
              "      <td>...</td>\n",
              "      <td>-29.718</td>\n",
              "      <td>11.135</td>\n",
              "      <td>-34.513</td>\n",
              "      <td>0.769</td>\n",
              "      <td>7.706</td>\n",
              "      <td>60.218</td>\n",
              "      <td>1.0</td>\n",
              "      <td>1</td>\n",
              "      <td>0.047649</td>\n",
              "      <td>1</td>\n",
              "    </tr>\n",
              "    <tr>\n",
              "      <th>1</th>\n",
              "      <td>-619.930</td>\n",
              "      <td>-619.930</td>\n",
              "      <td>0.000</td>\n",
              "      <td>-1890.675</td>\n",
              "      <td>497.641</td>\n",
              "      <td>-474.868</td>\n",
              "      <td>3.522</td>\n",
              "      <td>61.099</td>\n",
              "      <td>236.580</td>\n",
              "      <td>1104.089</td>\n",
              "      <td>...</td>\n",
              "      <td>-47.973</td>\n",
              "      <td>18.094</td>\n",
              "      <td>-48.935</td>\n",
              "      <td>4.452</td>\n",
              "      <td>21.634</td>\n",
              "      <td>147.414</td>\n",
              "      <td>1.0</td>\n",
              "      <td>1</td>\n",
              "      <td>0.043023</td>\n",
              "      <td>1</td>\n",
              "    </tr>\n",
              "    <tr>\n",
              "      <th>2</th>\n",
              "      <td>-265.255</td>\n",
              "      <td>-265.255</td>\n",
              "      <td>0.000</td>\n",
              "      <td>-835.965</td>\n",
              "      <td>263.453</td>\n",
              "      <td>-240.659</td>\n",
              "      <td>1.869</td>\n",
              "      <td>35.778</td>\n",
              "      <td>110.637</td>\n",
              "      <td>508.578</td>\n",
              "      <td>...</td>\n",
              "      <td>-23.848</td>\n",
              "      <td>5.542</td>\n",
              "      <td>-22.884</td>\n",
              "      <td>0.475</td>\n",
              "      <td>-1.901</td>\n",
              "      <td>54.992</td>\n",
              "      <td>0.0</td>\n",
              "      <td>1</td>\n",
              "      <td>0.095872</td>\n",
              "      <td>1</td>\n",
              "    </tr>\n",
              "    <tr>\n",
              "      <th>3</th>\n",
              "      <td>-844.622</td>\n",
              "      <td>-844.622</td>\n",
              "      <td>-0.844</td>\n",
              "      <td>-2087.197</td>\n",
              "      <td>547.917</td>\n",
              "      <td>-575.513</td>\n",
              "      <td>4.085</td>\n",
              "      <td>69.996</td>\n",
              "      <td>265.698</td>\n",
              "      <td>1250.822</td>\n",
              "      <td>...</td>\n",
              "      <td>-54.162</td>\n",
              "      <td>11.092</td>\n",
              "      <td>-68.061</td>\n",
              "      <td>2.464</td>\n",
              "      <td>-4.538</td>\n",
              "      <td>88.832</td>\n",
              "      <td>0.0</td>\n",
              "      <td>1</td>\n",
              "      <td>0.074371</td>\n",
              "      <td>1</td>\n",
              "    </tr>\n",
              "    <tr>\n",
              "      <th>4</th>\n",
              "      <td>-830.058</td>\n",
              "      <td>-830.058</td>\n",
              "      <td>0.000</td>\n",
              "      <td>-1848.881</td>\n",
              "      <td>425.681</td>\n",
              "      <td>-545.863</td>\n",
              "      <td>3.959</td>\n",
              "      <td>58.497</td>\n",
              "      <td>194.939</td>\n",
              "      <td>1129.652</td>\n",
              "      <td>...</td>\n",
              "      <td>-47.118</td>\n",
              "      <td>7.321</td>\n",
              "      <td>-43.925</td>\n",
              "      <td>3.180</td>\n",
              "      <td>12.627</td>\n",
              "      <td>91.631</td>\n",
              "      <td>0.0</td>\n",
              "      <td>1</td>\n",
              "      <td>0.099765</td>\n",
              "      <td>1</td>\n",
              "    </tr>\n",
              "  </tbody>\n",
              "</table>\n",
              "<p>5 rows × 24 columns</p>\n",
              "</div>"
            ],
            "text/plain": [
              "   total_score    score  dslf_fa13    fa_atr   fa_dun  fa_elec  fa_intra_rep  \\\n",
              "0     -470.914 -470.914      0.000 -1203.414  338.522 -341.858         2.604   \n",
              "1     -619.930 -619.930      0.000 -1890.675  497.641 -474.868         3.522   \n",
              "2     -265.255 -265.255      0.000  -835.965  263.453 -240.659         1.869   \n",
              "3     -844.622 -844.622     -0.844 -2087.197  547.917 -575.513         4.085   \n",
              "4     -830.058 -830.058      0.000 -1848.881  425.681 -545.863         3.959   \n",
              "\n",
              "   fa_intra_sol_xover4   fa_rep    fa_sol  ...  lk_ball_wtd   omega  p_aa_pp  \\\n",
              "0               46.000  129.335   717.160  ...      -29.718  11.135  -34.513   \n",
              "1               61.099  236.580  1104.089  ...      -47.973  18.094  -48.935   \n",
              "2               35.778  110.637   508.578  ...      -23.848   5.542  -22.884   \n",
              "3               69.996  265.698  1250.822  ...      -54.162  11.092  -68.061   \n",
              "4               58.497  194.939  1129.652  ...      -47.118   7.321  -43.925   \n",
              "\n",
              "   pro_close  rama_prepro      ref  time  IF_anomaly_score  IF_scores  \\\n",
              "0      0.769        7.706   60.218   1.0                 1   0.047649   \n",
              "1      4.452       21.634  147.414   1.0                 1   0.043023   \n",
              "2      0.475       -1.901   54.992   0.0                 1   0.095872   \n",
              "3      2.464       -4.538   88.832   0.0                 1   0.074371   \n",
              "4      3.180       12.627   91.631   0.0                 1   0.099765   \n",
              "\n",
              "   LOF_y_pred  \n",
              "0           1  \n",
              "1           1  \n",
              "2           1  \n",
              "3           1  \n",
              "4           1  \n",
              "\n",
              "[5 rows x 24 columns]"
            ]
          },
          "execution_count": 278,
          "metadata": {},
          "output_type": "execute_result"
        }
      ],
      "source": [
        "df['LOF_y_pred'] = lof_y_pred\n",
        "\n",
        "df.head()"
      ]
    },
    {
      "cell_type": "markdown",
      "metadata": {},
      "source": [
        "## Compare Isolation forest VS LOF predictions"
      ]
    },
    {
      "cell_type": "code",
      "execution_count": 279,
      "metadata": {},
      "outputs": [
        {
          "name": "stdout",
          "output_type": "stream",
          "text": [
            "[8, 18, 27, 31, 42, 61, 72, 76, 90, 107, 110, 115, 136, 139, 147, 148, 154, 156, 168, 170, 181, 197, 205, 210, 232, 250, 253, 259, 266, 284, 295, 304, 317, 320, 326, 337, 338, 362, 380, 389, 396]\n"
          ]
        }
      ],
      "source": [
        "lof_predictions = df.index[df['LOF_y_pred'] == -1].tolist()\n",
        "print(lof_predictions)"
      ]
    },
    {
      "cell_type": "code",
      "execution_count": 280,
      "metadata": {},
      "outputs": [
        {
          "name": "stdout",
          "output_type": "stream",
          "text": [
            "[15, 18, 45, 57, 72, 74, 109, 129, 139, 144, 146, 154, 170, 185, 197, 210, 225, 232, 237, 239, 240, 242, 246, 252, 262, 266, 269, 276, 284, 297, 306, 317, 320, 323, 326, 334, 337, 345, 361, 393, 396]\n"
          ]
        }
      ],
      "source": [
        "if_predictions = df.index[df['IF_anomaly_score'] == -1].tolist()\n",
        "print(if_predictions)"
      ]
    },
    {
      "cell_type": "code",
      "execution_count": 281,
      "metadata": {},
      "outputs": [
        {
          "name": "stdout",
          "output_type": "stream",
          "text": [
            "[18, 72, 139, 154, 170, 197, 210, 232, 266, 284, 317, 320, 326, 337, 396]\n"
          ]
        }
      ],
      "source": [
        "if_lof_match_values = []\n",
        "\n",
        "for i in lof_predictions:\n",
        "    if i in if_predictions:\n",
        "        if_lof_match_values.append(i)\n",
        "\n",
        "print(if_lof_match_values)"
      ]
    },
    {
      "cell_type": "code",
      "execution_count": 282,
      "metadata": {},
      "outputs": [
        {
          "name": "stdout",
          "output_type": "stream",
          "text": [
            "41\n",
            "41\n",
            "15\n"
          ]
        }
      ],
      "source": [
        "print(len(if_predictions))\n",
        "print(len(lof_predictions))\n",
        "\n",
        "print(len(if_lof_match_values))"
      ]
    },
    {
      "cell_type": "markdown",
      "metadata": {},
      "source": [
        "## Compare IF and LOF matching values with strange values from histogram"
      ]
    },
    {
      "cell_type": "code",
      "execution_count": 283,
      "metadata": {},
      "outputs": [
        {
          "name": "stdout",
          "output_type": "stream",
          "text": [
            "Number of indexes above estimated 'pro_close' value: 6\n",
            "{18, 317, 197, 326}\n"
          ]
        }
      ],
      "source": [
        "# 'pro_close' column seemed to have some distant values (possible outliers)\n",
        "# Verify how many values are above 0.5 (use standardized dataset)\n",
        "\n",
        "filtered = standardized_df.query(\"pro_close >= 0.5\")\n",
        "print('Number of indexes above estimated \\'pro_close\\' value: {}'.format(filtered.shape[0]))\n",
        "\n",
        "# Compare filtered pro_close list with the IF and LOF matching predictions\n",
        "filtered_list = filtered.index.tolist()\n",
        "intersection = set(filtered_list).intersection(if_lof_match_values)\n",
        "print(intersection)"
      ]
    },
    {
      "cell_type": "code",
      "execution_count": 284,
      "metadata": {},
      "outputs": [],
      "source": [
        "# Remove same indexes\n",
        "\n",
        "#print(df.shape[0])\n",
        "#df.drop(index=if_lof_match_values, inplace=True)\n",
        "#print(df.shape[0])"
      ]
    },
    {
      "cell_type": "markdown",
      "metadata": {},
      "source": [
        "# Create Treated Data .CSV"
      ]
    },
    {
      "cell_type": "code",
      "execution_count": 285,
      "metadata": {},
      "outputs": [],
      "source": [
        "df_solubility.to_csv('data/complex_processed_data.csv', index=False)\n",
        "\n",
        "\n",
        "standardized_df = pd.DataFrame(df_new, columns =df_solubility.columns.to_list())\n",
        "standardized_df.to_csv('data/complex_processed_standardized_data.csv', index=False)"
      ]
    },
    {
      "cell_type": "markdown",
      "metadata": {},
      "source": [
        "# Conclusions / Overview\n",
        "\n",
        "* No NA values;\n",
        "* Only working with float64 values;\n",
        "* Target ranges from 2 to 133;\n",
        "* Removed 'yhh_planarity', 'overlap_chainbreak' and 'linear_chainbreak' because are constants / only have 1 value;\n",
        "* Removed 'description' because each row have a diferent value. Basicaly an index;\n",
        "* Plotted histograms with raw and standardized values to check data distribution (no anomalies detected);\n",
        "* Plotted heatmap to check columns correlations;\n",
        "* Applied Isolation Forest and Local Outlier Factor to verify outliers (compared the results from the 2 models and 15/41 values matched);\n",
        "* Verified how many indexes are equal or above 0.2 and 0.5 for 'pro_close' column on an stardadized dataset. 20 and 6 values were found respectively.\n",
        "* Compared the indexes from the IF_LOF predictions with the pro_close results.Six and 4 values matched for 0.2 and 0.5 interations.\n",
        "* Generated 2 .csv files: one without stardadization and other with."
      ]
    },
    {
      "cell_type": "markdown",
      "metadata": {},
      "source": []
    }
  ],
  "metadata": {
    "accelerator": "GPU",
    "colab": {
      "collapsed_sections": [],
      "name": "preprocessing.ipynb",
      "provenance": []
    },
    "interpreter": {
      "hash": "5edc29c2ed010d6458d71a83433b383a96a8cbd3efe8531bc90c4b8a5b8bcec9"
    },
    "kernelspec": {
      "display_name": "Python 3",
      "language": "python",
      "name": "python3"
    },
    "language_info": {
      "codemirror_mode": {
        "name": "ipython",
        "version": 3
      },
      "file_extension": ".py",
      "mimetype": "text/x-python",
      "name": "python",
      "nbconvert_exporter": "python",
      "pygments_lexer": "ipython3",
      "version": "3.7.3"
    }
  },
  "nbformat": 4,
  "nbformat_minor": 0
}
