{
 "cells": [
  {
   "cell_type": "code",
   "execution_count": 2,
   "metadata": {},
   "outputs": [],
   "source": [
    "# General libraries\n",
    "import pandas as pd\n",
    "import joblib\n",
    "import warnings\n",
    "warnings.filterwarnings('ignore')\n",
    "\n",
    "# Scikit Learn libraries\n",
    "from sklearn.model_selection import train_test_split\n",
    "\n",
    "# Utils functions\n",
    "from utils.utils import five_two"
   ]
  },
  {
   "cell_type": "code",
   "execution_count": 3,
   "metadata": {},
   "outputs": [],
   "source": [
    "data_folder_path = '../data/'\n",
    "\n",
    "data_path = data_folder_path + 'complex_processed_data.csv'\n",
    "standardized_data_path = data_folder_path + 'complex_processed_standardized_data.csv'\n",
    "standardized_poutliers_removed_data_path = data_folder_path + 'complex_processed_standardized_outliers_removed_data.csv'\n",
    "\n",
    "df_solubility = pd.read_csv(standardized_data_path)"
   ]
  },
  {
   "cell_type": "code",
   "execution_count": 4,
   "metadata": {},
   "outputs": [],
   "source": [
    "# Split dataset into X and Y for machine learning\n",
    "\n",
    "df_sol_X = df_solubility.copy()\n",
    "df_sol_X.drop(columns=['solubility'], axis=1, inplace=True)\n",
    "\n",
    "df_sol_y = df_solubility[['solubility']]"
   ]
  },
  {
   "cell_type": "code",
   "execution_count": 5,
   "metadata": {},
   "outputs": [],
   "source": [
    "x_train, x_test, y_train, y_test = train_test_split(\n",
    "                        df_sol_X, df_sol_y, \n",
    "                        train_size = 0.8,\n",
    "                        test_size = 0.2,\n",
    "                        random_state = 10\n",
    "                        )"
   ]
  },
  {
   "cell_type": "code",
   "execution_count": 6,
   "metadata": {},
   "outputs": [],
   "source": [
    "models_folder = '../models/'\n",
    "\n",
    "lr = joblib.load(models_folder + 'lr_model.joblib')\n",
    "svr = joblib.load(models_folder + 'svr_model.joblib')\n",
    "xgboost = joblib.load(models_folder + 'xgboost_model.joblib')"
   ]
  },
  {
   "cell_type": "code",
   "execution_count": 7,
   "metadata": {},
   "outputs": [
    {
     "name": "stdout",
     "output_type": "stream",
     "text": [
      "Fold  1 score difference = -0.091774\n",
      "Fold  2 score difference = -0.148147\n",
      "Fold  1 score difference = -0.094295\n",
      "Fold  2 score difference = -0.315811\n",
      "Fold  1 score difference = -0.223874\n",
      "Fold  2 score difference = -0.110085\n",
      "Fold  1 score difference = -0.080927\n",
      "Fold  2 score difference = -0.219854\n",
      "Fold  1 score difference = -0.180492\n",
      "Fold  2 score difference = -0.171668\n",
      "Regression 1 mean score and stdev : 0.035916 + 0.077861\n",
      "Regression 2 mean score and stdev : 0.199609 + 0.039461\n",
      "Score difference mean + stdev : -0.163693 + 0.070863\n",
      "t_value for the current test is -0.997938\n"
     ]
    }
   ],
   "source": [
    "five_two(\n",
    "    reg1=lr,\n",
    "    reg2=svr,\n",
    "    X=df_sol_X,\n",
    "    y=df_sol_y\n",
    ")"
   ]
  },
  {
   "cell_type": "code",
   "execution_count": 8,
   "metadata": {},
   "outputs": [
    {
     "name": "stdout",
     "output_type": "stream",
     "text": [
      "Fold  1 score difference = -0.106143\n",
      "Fold  2 score difference = -0.136482\n",
      "Fold  1 score difference = -0.122537\n",
      "Fold  2 score difference = -0.280703\n",
      "Fold  1 score difference = -0.241252\n",
      "Fold  2 score difference = -0.064965\n",
      "Fold  1 score difference = -0.053893\n",
      "Fold  2 score difference = -0.234865\n",
      "Fold  1 score difference = -0.188628\n",
      "Fold  2 score difference = -0.193510\n",
      "Regression 1 mean score and stdev : 0.035916 + 0.077861\n",
      "Regression 2 mean score and stdev : 0.198214 + 0.039724\n",
      "Score difference mean + stdev : -0.162298 + 0.073357\n",
      "t_value for the current test is -1.120160\n"
     ]
    }
   ],
   "source": [
    "five_two(\n",
    "    reg1=lr,\n",
    "    reg2=xgboost,\n",
    "    X=df_sol_X,\n",
    "    y=df_sol_y\n",
    ")"
   ]
  },
  {
   "cell_type": "code",
   "execution_count": 9,
   "metadata": {},
   "outputs": [
    {
     "name": "stdout",
     "output_type": "stream",
     "text": [
      "Fold  1 score difference = -0.014231\n",
      "Fold  2 score difference = 0.013538\n",
      "Fold  1 score difference = -0.027198\n",
      "Fold  2 score difference = 0.035107\n",
      "Fold  1 score difference = -0.016885\n",
      "Fold  2 score difference = 0.044343\n",
      "Fold  1 score difference = 0.026443\n",
      "Fold  2 score difference = -0.014028\n",
      "Fold  1 score difference = -0.009166\n",
      "Fold  2 score difference = -0.021058\n",
      "Regression 1 mean score and stdev : 0.199609 + 0.039461\n",
      "Regression 2 mean score and stdev : 0.197923 + 0.039187\n",
      "Score difference mean + stdev : 0.001687 + 0.024504\n",
      "t_value for the current test is -0.446007\n"
     ]
    }
   ],
   "source": [
    "five_two(\n",
    "    reg1=svr,\n",
    "    reg2=xgboost,\n",
    "    X=df_sol_X,\n",
    "    y=df_sol_y\n",
    ")"
   ]
  },
  {
   "cell_type": "code",
   "execution_count": null,
   "metadata": {},
   "outputs": [],
   "source": []
  }
 ],
 "metadata": {
  "kernelspec": {
   "display_name": "Python 3",
   "language": "python",
   "name": "python3"
  },
  "language_info": {
   "codemirror_mode": {
    "name": "ipython",
    "version": 3
   },
   "file_extension": ".py",
   "mimetype": "text/x-python",
   "name": "python",
   "nbconvert_exporter": "python",
   "pygments_lexer": "ipython3",
   "version": "3.7.3"
  },
  "orig_nbformat": 4,
  "vscode": {
   "interpreter": {
    "hash": "5edc29c2ed010d6458d71a83433b383a96a8cbd3efe8531bc90c4b8a5b8bcec9"
   }
  }
 },
 "nbformat": 4,
 "nbformat_minor": 2
}
