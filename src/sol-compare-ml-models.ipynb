{
 "cells": [
  {
   "cell_type": "code",
   "execution_count": 1,
   "metadata": {},
   "outputs": [],
   "source": [
    "# General libraries\n",
    "import pandas as pd\n",
    "import joblib\n",
    "import warnings\n",
    "warnings.filterwarnings('ignore')\n",
    "\n",
    "# Scikit Learn libraries\n",
    "from sklearn.model_selection import train_test_split\n",
    "\n",
    "# Utils functions\n",
    "from utils.utils import compare_models"
   ]
  },
  {
   "cell_type": "code",
   "execution_count": 2,
   "metadata": {},
   "outputs": [],
   "source": [
    "data_folder_path = '../data/'\n",
    "\n",
    "data_path = data_folder_path + 'complex_processed_data.csv'\n",
    "standardized_data_path = data_folder_path + 'complex_processed_standardized_data.csv'\n",
    "standardized_poutliers_removed_data_path = data_folder_path + 'complex_processed_standardized_outliers_removed_data.csv'\n",
    "\n",
    "df_solubility = pd.read_csv(standardized_data_path)"
   ]
  },
  {
   "cell_type": "code",
   "execution_count": 3,
   "metadata": {},
   "outputs": [],
   "source": [
    "# Split dataset into X and Y for machine learning\n",
    "\n",
    "df_sol_X = df_solubility.copy()\n",
    "df_sol_X.drop(columns=['solubility'], axis=1, inplace=True)\n",
    "\n",
    "df_sol_y = df_solubility[['solubility']]"
   ]
  },
  {
   "cell_type": "code",
   "execution_count": 4,
   "metadata": {},
   "outputs": [],
   "source": [
    "x_train, x_test, y_train, y_test = train_test_split(\n",
    "                        df_sol_X, df_sol_y, \n",
    "                        train_size = 0.8,\n",
    "                        test_size = 0.2,\n",
    "                        random_state = 10\n",
    "                        )"
   ]
  },
  {
   "cell_type": "code",
   "execution_count": 5,
   "metadata": {},
   "outputs": [],
   "source": [
    "def load_model(model):\n",
    "    models_folder = '../models/'\n",
    "    return joblib.load(models_folder + model + '_model.joblib')"
   ]
  },
  {
   "cell_type": "code",
   "execution_count": 6,
   "metadata": {},
   "outputs": [
    {
     "name": "stdout",
     "output_type": "stream",
     "text": [
      "Iteration  1 score difference = 0.315003\n",
      "Iteration  2 score difference = -0.250495\n",
      "Iteration  3 score difference = -0.607164\n",
      "Iteration  4 score difference = -0.030802\n",
      "Iteration  5 score difference = -0.281113\n",
      "Iteration  6 score difference = -0.639541\n",
      "Iteration  7 score difference = -0.187477\n",
      "Iteration  8 score difference = 0.019428\n",
      "Iteration  9 score difference = -0.661571\n",
      "Iteration 10 score difference = -0.885296\n",
      "mean_score_1 -0.07437663173168368, std 0.3272123203761014\n",
      "mean_score_2 0.2465262921698143, std 0.1920332768785105\n",
      "Ttest_relResult(statistic=-2.726472535872227, pvalue=0.023359013651871822)\n"
     ]
    }
   ],
   "source": [
    "# Compare LR with SVR\n",
    "\n",
    "compare_models(\n",
    "    reg1=load_model('lr'),\n",
    "    reg2=load_model('svr'),\n",
    "    X=x_test,\n",
    "    y=y_test\n",
    ")"
   ]
  },
  {
   "cell_type": "code",
   "execution_count": 7,
   "metadata": {},
   "outputs": [
    {
     "name": "stdout",
     "output_type": "stream",
     "text": [
      "Iteration  1 score difference = 0.300196\n",
      "Iteration  2 score difference = -0.365482\n",
      "Iteration  3 score difference = -0.419712\n",
      "Iteration  4 score difference = 0.002041\n",
      "Iteration  5 score difference = -0.180386\n",
      "Iteration  6 score difference = -0.606326\n",
      "Iteration  7 score difference = -0.100105\n",
      "Iteration  8 score difference = -0.092002\n",
      "Iteration  9 score difference = -0.556166\n",
      "Iteration 10 score difference = -0.646214\n",
      "mean_score_1 -0.07437663173168368, std 0.3272123203761014\n",
      "mean_score_2 0.1920391250798394, std 0.19021803919470226\n",
      "Ttest_relResult(statistic=-2.764827844340375, pvalue=0.02193826351132964)\n"
     ]
    }
   ],
   "source": [
    "# Compare LR with XGBoost\n",
    "\n",
    "compare_models(\n",
    "    reg1=load_model('lr'),\n",
    "    reg2=load_model('xgboost'),\n",
    "    X=x_test,\n",
    "    y=y_test\n",
    ")"
   ]
  },
  {
   "cell_type": "code",
   "execution_count": 8,
   "metadata": {},
   "outputs": [
    {
     "name": "stdout",
     "output_type": "stream",
     "text": [
      "Iteration  1 score difference = -0.014807\n",
      "Iteration  2 score difference = -0.114987\n",
      "Iteration  3 score difference = 0.187452\n",
      "Iteration  4 score difference = 0.032843\n",
      "Iteration  5 score difference = 0.100727\n",
      "Iteration  6 score difference = 0.033215\n",
      "Iteration  7 score difference = 0.087372\n",
      "Iteration  8 score difference = -0.111430\n",
      "Iteration  9 score difference = 0.105405\n",
      "Iteration 10 score difference = 0.239082\n",
      "mean_score_1 0.2465262921698143, std 0.1920332768785105\n",
      "mean_score_2 0.1920391250798394, std 0.19021803919470226\n",
      "Ttest_relResult(statistic=1.4950630451980296, pvalue=0.16911027480240523)\n"
     ]
    }
   ],
   "source": [
    "# Compare SVR with XGBoost\n",
    "\n",
    "compare_models(\n",
    "    reg1=load_model('svr'),\n",
    "    reg2=load_model('xgboost'),\n",
    "    X=x_test,\n",
    "    y=y_test\n",
    ")"
   ]
  },
  {
   "cell_type": "code",
   "execution_count": null,
   "metadata": {},
   "outputs": [],
   "source": []
  }
 ],
 "metadata": {
  "kernelspec": {
   "display_name": "Python 3",
   "language": "python",
   "name": "python3"
  },
  "language_info": {
   "codemirror_mode": {
    "name": "ipython",
    "version": 3
   },
   "file_extension": ".py",
   "mimetype": "text/x-python",
   "name": "python",
   "nbconvert_exporter": "python",
   "pygments_lexer": "ipython3",
   "version": "3.7.3"
  },
  "orig_nbformat": 4,
  "vscode": {
   "interpreter": {
    "hash": "5edc29c2ed010d6458d71a83433b383a96a8cbd3efe8531bc90c4b8a5b8bcec9"
   }
  }
 },
 "nbformat": 4,
 "nbformat_minor": 2
}
