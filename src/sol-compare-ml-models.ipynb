{
 "cells": [
  {
   "cell_type": "code",
   "execution_count": 1,
   "metadata": {},
   "outputs": [],
   "source": [
    "# General libraries\n",
    "import pandas as pd\n",
    "import joblib\n",
    "import warnings\n",
    "warnings.filterwarnings('ignore')\n",
    "\n",
    "# Scikit Learn libraries\n",
    "from sklearn.model_selection import train_test_split\n",
    "\n",
    "# Utils functions\n",
    "from utils.utils import compare_models"
   ]
  },
  {
   "cell_type": "code",
   "execution_count": 2,
   "metadata": {},
   "outputs": [],
   "source": [
    "data_folder_path = '../data/'\n",
    "\n",
    "data_path = data_folder_path + 'complex_processed_data.csv'\n",
    "standardized_data_path = data_folder_path + 'complex_processed_standardized_data.csv'\n",
    "standardized_poutliers_removed_data_path = data_folder_path + 'complex_processed_standardized_outliers_removed_data.csv'\n",
    "\n",
    "df_solubility = pd.read_csv(standardized_data_path)"
   ]
  },
  {
   "cell_type": "code",
   "execution_count": 3,
   "metadata": {},
   "outputs": [],
   "source": [
    "# Split dataset into X and Y for machine learning\n",
    "\n",
    "df_sol_X = df_solubility.copy()\n",
    "df_sol_X.drop(columns=['solubility'], axis=1, inplace=True)\n",
    "\n",
    "df_sol_y = df_solubility[['solubility']]"
   ]
  },
  {
   "cell_type": "code",
   "execution_count": 4,
   "metadata": {},
   "outputs": [],
   "source": [
    "x_train, x_test, y_train, y_test = train_test_split(\n",
    "                        df_sol_X, df_sol_y, \n",
    "                        train_size = 0.8,\n",
    "                        test_size = 0.2,\n",
    "                        random_state = 10\n",
    "                        )"
   ]
  },
  {
   "cell_type": "code",
   "execution_count": 5,
   "metadata": {},
   "outputs": [],
   "source": [
    "def load_model(model):\n",
    "    models_folder = '../models/'\n",
    "    return joblib.load(models_folder + model + '_model.joblib')"
   ]
  },
  {
   "cell_type": "code",
   "execution_count": 6,
   "metadata": {},
   "outputs": [
    {
     "name": "stdout",
     "output_type": "stream",
     "text": [
      "Iteration  1 score difference = -0.382427\n",
      "Iteration  2 score difference = -0.210558\n",
      "Iteration  3 score difference = -0.386934\n",
      "Iteration  4 score difference = -0.220979\n",
      "Iteration  5 score difference = -0.162628\n",
      "Iteration  6 score difference = -0.173434\n",
      "Iteration  7 score difference = -0.221071\n",
      "Iteration  8 score difference = -0.060403\n",
      "Iteration  9 score difference = -0.161637\n",
      "Iteration 10 score difference = -0.246155\n",
      "mean_score_1 0.06740107824084776, std 0.09271151310129545\n",
      "mean_score_2 0.2900237144436351, std 0.04076351287193381\n",
      "Ttest_relResult(statistic=-7.067760218484142, pvalue=5.8704317814202804e-05)\n",
      "P value menor ou igual a 0.05\n"
     ]
    }
   ],
   "source": [
    "# Compare LR with SVR\n",
    "\n",
    "compare_models(\n",
    "    reg1=load_model('lr'),\n",
    "    reg2=load_model('svr'),\n",
    "    X=x_test.copy(),\n",
    "    y=y_test.copy()\n",
    ")"
   ]
  },
  {
   "cell_type": "code",
   "execution_count": 7,
   "metadata": {},
   "outputs": [
    {
     "name": "stdout",
     "output_type": "stream",
     "text": [
      "Iteration  1 score difference = -0.366040\n",
      "Iteration  2 score difference = -0.196164\n",
      "Iteration  3 score difference = -0.350153\n",
      "Iteration  4 score difference = -0.177931\n",
      "Iteration  5 score difference = -0.184947\n",
      "Iteration  6 score difference = -0.226295\n",
      "Iteration  7 score difference = -0.124930\n",
      "Iteration  8 score difference = -0.112214\n",
      "Iteration  9 score difference = -0.100741\n",
      "Iteration 10 score difference = -0.280679\n",
      "mean_score_1 0.06740107824084776, std 0.09271151310129545\n",
      "mean_score_2 0.27941039416367447, std 0.04376212379295462\n",
      "Ttest_relResult(statistic=-7.120095454665582, pvalue=5.5439650247468435e-05)\n",
      "P value menor ou igual a 0.05\n"
     ]
    }
   ],
   "source": [
    "# Compare LR with XGBoost\n",
    "\n",
    "compare_models(\n",
    "    reg1=load_model('lr'),\n",
    "    reg2=load_model('xgboost'),\n",
    "    X=x_test.copy(),\n",
    "    y=y_test.copy()\n",
    ")"
   ]
  },
  {
   "cell_type": "code",
   "execution_count": 8,
   "metadata": {},
   "outputs": [
    {
     "name": "stdout",
     "output_type": "stream",
     "text": [
      "Iteration  1 score difference = 0.016387\n",
      "Iteration  2 score difference = 0.014394\n",
      "Iteration  3 score difference = 0.036781\n",
      "Iteration  4 score difference = 0.043048\n",
      "Iteration  5 score difference = -0.022318\n",
      "Iteration  6 score difference = -0.052861\n",
      "Iteration  7 score difference = 0.096141\n",
      "Iteration  8 score difference = -0.051811\n",
      "Iteration  9 score difference = 0.060896\n",
      "Iteration 10 score difference = -0.034524\n",
      "mean_score_1 0.2900237144436351, std 0.04076351287193381\n",
      "mean_score_2 0.27941039416367447, std 0.04376212379295462\n",
      "Ttest_relResult(statistic=0.6686446512348456, pvalue=0.5205014728218971)\n"
     ]
    }
   ],
   "source": [
    "# Compare SVR with XGBoost\n",
    "\n",
    "compare_models(\n",
    "    reg1=load_model('svr'),\n",
    "    reg2=load_model('xgboost'),\n",
    "    X=x_test.copy(),\n",
    "    y=y_test.copy()\n",
    ")"
   ]
  },
  {
   "cell_type": "code",
   "execution_count": 9,
   "metadata": {},
   "outputs": [
    {
     "name": "stdout",
     "output_type": "stream",
     "text": [
      "Iteration  1 score difference = 0.034989\n",
      "Iteration  2 score difference = 0.030733\n",
      "Iteration  3 score difference = 0.078531\n",
      "Iteration  4 score difference = 0.091913\n",
      "Iteration  5 score difference = -0.047653\n",
      "Iteration  6 score difference = -0.112865\n",
      "Iteration  7 score difference = 0.205275\n",
      "Iteration  8 score difference = -0.110623\n",
      "Iteration  9 score difference = 0.130021\n",
      "Iteration 10 score difference = -0.073714\n",
      "mean_score_1 -0.5158953124041306, std 0.08703560856439922\n",
      "mean_score_2 -0.5385561854343165, std 0.0934380480984707\n",
      "Ttest_relResult(statistic=0.6686446512348417, pvalue=0.5205014728218995)\n"
     ]
    }
   ],
   "source": [
    "compare_models(\n",
    "    reg1=load_model('svr'),\n",
    "    reg2=load_model('xgboost'),\n",
    "    X=x_test.copy(),\n",
    "    y=y_test.copy(),\n",
    "    metric=\"adj_r2\"\n",
    ")"
   ]
  },
  {
   "cell_type": "code",
   "execution_count": null,
   "metadata": {},
   "outputs": [],
   "source": []
  }
 ],
 "metadata": {
  "kernelspec": {
   "display_name": "Python 3",
   "language": "python",
   "name": "python3"
  },
  "language_info": {
   "codemirror_mode": {
    "name": "ipython",
    "version": 3
   },
   "file_extension": ".py",
   "mimetype": "text/x-python",
   "name": "python",
   "nbconvert_exporter": "python",
   "pygments_lexer": "ipython3",
   "version": "3.7.3"
  },
  "orig_nbformat": 4,
  "vscode": {
   "interpreter": {
    "hash": "5edc29c2ed010d6458d71a83433b383a96a8cbd3efe8531bc90c4b8a5b8bcec9"
   }
  }
 },
 "nbformat": 4,
 "nbformat_minor": 2
}
