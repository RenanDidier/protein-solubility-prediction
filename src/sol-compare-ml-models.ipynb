{
 "cells": [
  {
   "cell_type": "code",
   "execution_count": 15,
   "metadata": {},
   "outputs": [],
   "source": [
    "import pandas as pd\n",
    "import joblib\n",
    "from sklearn.model_selection import train_test_split\n",
    "from sklearn import metrics\n",
    "from sklearn.model_selection import KFold\n",
    "import numpy as np\n",
    "from sklearn.metrics import r2_score\n",
    "\n",
    "import warnings\n",
    "warnings.filterwarnings('ignore')"
   ]
  },
  {
   "cell_type": "code",
   "execution_count": 3,
   "metadata": {},
   "outputs": [],
   "source": [
    "data_folder_path = '../data/'\n",
    "\n",
    "data_path = data_folder_path + 'complex_processed_data.csv'\n",
    "standardized_data_path = data_folder_path + 'complex_processed_standardized_data.csv'\n",
    "standardized_poutliers_removed_data_path = data_folder_path + 'complex_processed_standardized_outliers_removed_data.csv'\n",
    "\n",
    "df_solubility = pd.read_csv(standardized_data_path)"
   ]
  },
  {
   "cell_type": "code",
   "execution_count": 4,
   "metadata": {},
   "outputs": [],
   "source": [
    "# Split dataset into X and Y for machine learning\n",
    "\n",
    "df_sol_X = df_solubility.copy()\n",
    "df_sol_X.drop(columns=['solubility'], axis=1, inplace=True)\n",
    "\n",
    "df_sol_y = df_solubility[['solubility']]"
   ]
  },
  {
   "cell_type": "code",
   "execution_count": 5,
   "metadata": {},
   "outputs": [],
   "source": [
    "x_train, x_test, y_train, y_test = train_test_split(\n",
    "                        df_sol_X, df_sol_y, \n",
    "                        train_size = 0.8,\n",
    "                        test_size = 0.2,\n",
    "                        random_state = 10\n",
    "                        )"
   ]
  },
  {
   "cell_type": "code",
   "execution_count": 6,
   "metadata": {},
   "outputs": [],
   "source": [
    "models_folder = '../models/'\n",
    "\n",
    "lr = joblib.load(models_folder + 'lr_model.joblib')\n",
    "svr = joblib.load(models_folder + 'svr_model.joblib')"
   ]
  },
  {
   "cell_type": "code",
   "execution_count": 7,
   "metadata": {},
   "outputs": [],
   "source": [
    "def five_two(reg1, reg2, X, y, metric='default'):\n",
    "\n",
    "  # Choose seeds for each 2-fold iterations\n",
    "  seeds = [13, 51, 137, 24659, 347]\n",
    "\n",
    "  # Initialize the score difference for the 1st fold of the 1st iteration \n",
    "  p_1_1 = 0.0\n",
    "\n",
    "  # Initialize a place holder for the variance estimate\n",
    "  s_sqr = 0.0\n",
    "\n",
    "  # Initialize scores list for both classifiers\n",
    "  scores_1 = []\n",
    "  scores_2 = []\n",
    "  diff_scores = []\n",
    "\n",
    "  # Iterate through 5 2-fold CV\n",
    "  for i_s, seed in enumerate(seeds):\n",
    "\n",
    "    # Split the dataset in 2 parts with the current seed\n",
    "    folds = KFold(n_splits=2, shuffle=True, random_state=seed)\n",
    "\n",
    "    # Initialize score differences\n",
    "    p_i = np.zeros(2)\n",
    "\n",
    "    # Go through the current 2 fold\n",
    "    for i_f, (trn_idx, val_idx) in enumerate(folds.split(X)):\n",
    "      # Split the data\n",
    "      trn_x, trn_y = X.iloc[trn_idx], y.iloc[trn_idx]\n",
    "      val_x, val_y = X.iloc[val_idx], y.iloc[val_idx]\n",
    "\n",
    "      # Train regression\n",
    "      reg1.fit(trn_x, trn_y)\n",
    "      reg2.fit(trn_x, trn_y)\n",
    "\n",
    "      # Compute scores\n",
    "      preds_1 = reg1.predict(val_x)\n",
    "      score_1 = r2_score(val_y, preds_1)\n",
    "      \n",
    "      preds_2 = reg2.predict(val_x)\n",
    "      score_2 = r2_score(val_y, preds_2)\n",
    "\n",
    "      if metric == \"adj_r2\":\n",
    "        score_1 = base_train_adj_r2 = get_adj_r2(\n",
    "          n_observations=len(trn_y) / 2,\n",
    "          n_independent_variables=trn_x.shape[1],\n",
    "          r2_score = score_1\n",
    "        )\n",
    "\n",
    "        score_2 = base_train_adj_r2 = get_adj_r2(\n",
    "          n_observations=len(trn_y) / 2,\n",
    "          n_independent_variables=trn_x.shape[1],\n",
    "          r2_score = score_2\n",
    "        )\n",
    "\n",
    "\n",
    "      # keep score history for mean and stdev calculation\n",
    "      scores_1.append(score_1)\n",
    "      scores_2.append(score_2)\n",
    "      diff_scores.append(score_1 - score_2)\n",
    "      print(\"Fold %2d score difference = %.6f\" % (i_f + 1, score_1 - score_2))\n",
    "\n",
    "      # Compute score difference for current fold  \n",
    "      p_i[i_f] = score_1 - score_2\n",
    "\n",
    "      # Keep the score difference of the 1st iteration and 1st fold\n",
    "      if (i_s == 0) & (i_f == 0):\n",
    "        p_1_1 = p_i[i_f]\n",
    "\n",
    "    # Compute mean of scores difference for the current 2-fold CV\n",
    "    p_i_bar = (p_i[0] + p_i[1]) / 2\n",
    "\n",
    "    # Compute the variance estimate for the current 2-fold CV\n",
    "    s_i_sqr = (p_i[0] - p_i_bar) ** 2 + (p_i[1] - p_i_bar) ** 2 \n",
    "\n",
    "    # Add up to the overall variance\n",
    "    s_sqr += s_i_sqr\n",
    "    \n",
    "  # Compute t value as the first difference divided by the square root of variance estimate\n",
    "  t_bar = p_1_1 / ((s_sqr / 5) ** .5) \n",
    "\n",
    "  print(\"Regression 1 mean score and stdev : %.6f + %.6f\" % (np.mean(scores_1), np.std(scores_1)))\n",
    "  print(\"Regression 2 mean score and stdev : %.6f + %.6f\" % (np.mean(scores_2), np.std(scores_2)))\n",
    "  print(\"Score difference mean + stdev : %.6f + %.6f\" \n",
    "        % (np.mean(diff_scores), np.std(diff_scores)))\n",
    "  print(\"t_value for the current test is %.6f\" % t_bar)"
   ]
  },
  {
   "cell_type": "code",
   "execution_count": 16,
   "metadata": {},
   "outputs": [
    {
     "name": "stdout",
     "output_type": "stream",
     "text": [
      "Fold  1 score difference = -0.091774\n",
      "Fold  2 score difference = -0.148147\n",
      "Fold  1 score difference = -0.094295\n",
      "Fold  2 score difference = -0.315811\n",
      "Fold  1 score difference = -0.223874\n",
      "Fold  2 score difference = -0.110085\n",
      "Fold  1 score difference = -0.080927\n",
      "Fold  2 score difference = -0.219854\n",
      "Fold  1 score difference = -0.180492\n",
      "Fold  2 score difference = -0.171668\n",
      "Regression 1 mean score and stdev : 0.035916 + 0.077861\n",
      "Regression 2 mean score and stdev : 0.199609 + 0.039461\n",
      "Score difference mean + stdev : -0.163693 + 0.070863\n",
      "t_value for the current test is -0.997938\n"
     ]
    }
   ],
   "source": [
    "five_two(\n",
    "    reg1=lr,\n",
    "    reg2=svr,\n",
    "    X=df_sol_X,\n",
    "    y=df_sol_y\n",
    ")"
   ]
  },
  {
   "cell_type": "code",
   "execution_count": null,
   "metadata": {},
   "outputs": [],
   "source": []
  }
 ],
 "metadata": {
  "kernelspec": {
   "display_name": "Python 3",
   "language": "python",
   "name": "python3"
  },
  "language_info": {
   "codemirror_mode": {
    "name": "ipython",
    "version": 3
   },
   "file_extension": ".py",
   "mimetype": "text/x-python",
   "name": "python",
   "nbconvert_exporter": "python",
   "pygments_lexer": "ipython3",
   "version": "3.7.3"
  },
  "orig_nbformat": 4,
  "vscode": {
   "interpreter": {
    "hash": "5edc29c2ed010d6458d71a83433b383a96a8cbd3efe8531bc90c4b8a5b8bcec9"
   }
  }
 },
 "nbformat": 4,
 "nbformat_minor": 2
}
