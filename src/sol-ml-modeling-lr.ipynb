{
 "cells": [
  {
   "cell_type": "code",
   "execution_count": 1,
   "metadata": {},
   "outputs": [],
   "source": [
    "# General libraries\n",
    "import pandas as pd\n",
    "import numpy as np\n",
    "\n",
    "# Scikit Learn libraries\n",
    "from sklearn.model_selection import train_test_split\n",
    "from sklearn.linear_model import LinearRegression\n",
    "from sklearn.model_selection import cross_validate\n",
    "from sklearn import metrics\n",
    "\n",
    "# Scipy libraries\n",
    "from scipy import stats\n",
    "\n",
    "# Single import from another libraries\n",
    "import seaborn as sns\n",
    "import statsmodels.api as sm\n",
    "import joblib\n",
    "import warnings\n",
    "warnings.filterwarnings('ignore')\n",
    "\n",
    "\n",
    "# Utils functions\n",
    "from utils.utils import kfold, get_adj_r2, read_datasets"
   ]
  },
  {
   "cell_type": "markdown",
   "metadata": {},
   "source": [
    "# Load Dataset"
   ]
  },
  {
   "cell_type": "code",
   "execution_count": 2,
   "metadata": {},
   "outputs": [],
   "source": [
    "x_train, x_test, y_train, y_test = read_datasets(\n",
    "    'x_train.csv',\n",
    "    'x_test.csv',\n",
    "    'y_train.csv',\n",
    "    'y_test.csv'\n",
    ")"
   ]
  },
  {
   "cell_type": "code",
   "execution_count": 3,
   "metadata": {},
   "outputs": [
    {
     "data": {
      "text/html": [
       "<div>\n",
       "<style scoped>\n",
       "    .dataframe tbody tr th:only-of-type {\n",
       "        vertical-align: middle;\n",
       "    }\n",
       "\n",
       "    .dataframe tbody tr th {\n",
       "        vertical-align: top;\n",
       "    }\n",
       "\n",
       "    .dataframe thead th {\n",
       "        text-align: right;\n",
       "    }\n",
       "</style>\n",
       "<table border=\"1\" class=\"dataframe\">\n",
       "  <thead>\n",
       "    <tr style=\"text-align: right;\">\n",
       "      <th></th>\n",
       "      <th>dslf_fa13</th>\n",
       "      <th>fa_atr</th>\n",
       "      <th>fa_dun</th>\n",
       "      <th>fa_elec</th>\n",
       "      <th>fa_intra_rep</th>\n",
       "      <th>fa_intra_sol_xover4</th>\n",
       "      <th>fa_rep</th>\n",
       "      <th>fa_sol</th>\n",
       "      <th>hbond_bb_sc</th>\n",
       "      <th>hbond_lr_bb</th>\n",
       "      <th>hbond_sc</th>\n",
       "      <th>hbond_sr_bb</th>\n",
       "      <th>lk_ball_wtd</th>\n",
       "      <th>omega</th>\n",
       "      <th>p_aa_pp</th>\n",
       "      <th>pro_close</th>\n",
       "      <th>rama_prepro</th>\n",
       "      <th>ref</th>\n",
       "      <th>time</th>\n",
       "      <th>yhh_planarity</th>\n",
       "    </tr>\n",
       "  </thead>\n",
       "  <tbody>\n",
       "    <tr>\n",
       "      <th>0</th>\n",
       "      <td>0.22973</td>\n",
       "      <td>0.763596</td>\n",
       "      <td>0.308557</td>\n",
       "      <td>0.775237</td>\n",
       "      <td>0.338457</td>\n",
       "      <td>0.243961</td>\n",
       "      <td>0.297071</td>\n",
       "      <td>0.233128</td>\n",
       "      <td>0.801774</td>\n",
       "      <td>0.686648</td>\n",
       "      <td>0.810329</td>\n",
       "      <td>0.780078</td>\n",
       "      <td>0.771760</td>\n",
       "      <td>0.201707</td>\n",
       "      <td>0.734554</td>\n",
       "      <td>0.040848</td>\n",
       "      <td>0.712342</td>\n",
       "      <td>0.523591</td>\n",
       "      <td>0.0</td>\n",
       "      <td>0.013655</td>\n",
       "    </tr>\n",
       "    <tr>\n",
       "      <th>1</th>\n",
       "      <td>0.22973</td>\n",
       "      <td>0.701397</td>\n",
       "      <td>0.316951</td>\n",
       "      <td>0.706863</td>\n",
       "      <td>0.311703</td>\n",
       "      <td>0.261941</td>\n",
       "      <td>0.278929</td>\n",
       "      <td>0.294983</td>\n",
       "      <td>0.693164</td>\n",
       "      <td>0.630547</td>\n",
       "      <td>0.735858</td>\n",
       "      <td>0.733178</td>\n",
       "      <td>0.694929</td>\n",
       "      <td>0.074615</td>\n",
       "      <td>0.636059</td>\n",
       "      <td>0.065490</td>\n",
       "      <td>0.423793</td>\n",
       "      <td>0.334937</td>\n",
       "      <td>0.0</td>\n",
       "      <td>0.097689</td>\n",
       "    </tr>\n",
       "    <tr>\n",
       "      <th>2</th>\n",
       "      <td>0.22973</td>\n",
       "      <td>0.934183</td>\n",
       "      <td>0.104464</td>\n",
       "      <td>0.930745</td>\n",
       "      <td>0.074034</td>\n",
       "      <td>0.117862</td>\n",
       "      <td>0.039392</td>\n",
       "      <td>0.093871</td>\n",
       "      <td>0.991470</td>\n",
       "      <td>0.971738</td>\n",
       "      <td>0.936427</td>\n",
       "      <td>0.821288</td>\n",
       "      <td>0.917112</td>\n",
       "      <td>0.044517</td>\n",
       "      <td>0.954476</td>\n",
       "      <td>0.003597</td>\n",
       "      <td>0.268529</td>\n",
       "      <td>0.001079</td>\n",
       "      <td>0.0</td>\n",
       "      <td>0.002101</td>\n",
       "    </tr>\n",
       "    <tr>\n",
       "      <th>3</th>\n",
       "      <td>0.22973</td>\n",
       "      <td>0.503359</td>\n",
       "      <td>0.489959</td>\n",
       "      <td>0.519385</td>\n",
       "      <td>0.506761</td>\n",
       "      <td>0.425321</td>\n",
       "      <td>0.454789</td>\n",
       "      <td>0.470166</td>\n",
       "      <td>0.523125</td>\n",
       "      <td>0.461226</td>\n",
       "      <td>0.521223</td>\n",
       "      <td>0.576508</td>\n",
       "      <td>0.483125</td>\n",
       "      <td>0.798760</td>\n",
       "      <td>0.529375</td>\n",
       "      <td>0.816637</td>\n",
       "      <td>0.601882</td>\n",
       "      <td>0.801711</td>\n",
       "      <td>0.0</td>\n",
       "      <td>0.056723</td>\n",
       "    </tr>\n",
       "    <tr>\n",
       "      <th>4</th>\n",
       "      <td>0.22973</td>\n",
       "      <td>0.946765</td>\n",
       "      <td>0.046850</td>\n",
       "      <td>0.936256</td>\n",
       "      <td>0.048643</td>\n",
       "      <td>0.062377</td>\n",
       "      <td>0.041516</td>\n",
       "      <td>0.069711</td>\n",
       "      <td>0.970284</td>\n",
       "      <td>0.899250</td>\n",
       "      <td>0.963758</td>\n",
       "      <td>0.914094</td>\n",
       "      <td>0.911180</td>\n",
       "      <td>0.011580</td>\n",
       "      <td>0.907310</td>\n",
       "      <td>0.019308</td>\n",
       "      <td>0.267537</td>\n",
       "      <td>0.034116</td>\n",
       "      <td>0.0</td>\n",
       "      <td>0.003151</td>\n",
       "    </tr>\n",
       "  </tbody>\n",
       "</table>\n",
       "</div>"
      ],
      "text/plain": [
       "   dslf_fa13    fa_atr    fa_dun   fa_elec  fa_intra_rep  fa_intra_sol_xover4  \\\n",
       "0    0.22973  0.763596  0.308557  0.775237      0.338457             0.243961   \n",
       "1    0.22973  0.701397  0.316951  0.706863      0.311703             0.261941   \n",
       "2    0.22973  0.934183  0.104464  0.930745      0.074034             0.117862   \n",
       "3    0.22973  0.503359  0.489959  0.519385      0.506761             0.425321   \n",
       "4    0.22973  0.946765  0.046850  0.936256      0.048643             0.062377   \n",
       "\n",
       "     fa_rep    fa_sol  hbond_bb_sc  hbond_lr_bb  hbond_sc  hbond_sr_bb  \\\n",
       "0  0.297071  0.233128     0.801774     0.686648  0.810329     0.780078   \n",
       "1  0.278929  0.294983     0.693164     0.630547  0.735858     0.733178   \n",
       "2  0.039392  0.093871     0.991470     0.971738  0.936427     0.821288   \n",
       "3  0.454789  0.470166     0.523125     0.461226  0.521223     0.576508   \n",
       "4  0.041516  0.069711     0.970284     0.899250  0.963758     0.914094   \n",
       "\n",
       "   lk_ball_wtd     omega   p_aa_pp  pro_close  rama_prepro       ref  time  \\\n",
       "0     0.771760  0.201707  0.734554   0.040848     0.712342  0.523591   0.0   \n",
       "1     0.694929  0.074615  0.636059   0.065490     0.423793  0.334937   0.0   \n",
       "2     0.917112  0.044517  0.954476   0.003597     0.268529  0.001079   0.0   \n",
       "3     0.483125  0.798760  0.529375   0.816637     0.601882  0.801711   0.0   \n",
       "4     0.911180  0.011580  0.907310   0.019308     0.267537  0.034116   0.0   \n",
       "\n",
       "   yhh_planarity  \n",
       "0       0.013655  \n",
       "1       0.097689  \n",
       "2       0.002101  \n",
       "3       0.056723  \n",
       "4       0.003151  "
      ]
     },
     "execution_count": 3,
     "metadata": {},
     "output_type": "execute_result"
    }
   ],
   "source": [
    "x_train.head()"
   ]
  },
  {
   "cell_type": "code",
   "execution_count": 4,
   "metadata": {},
   "outputs": [
    {
     "data": {
      "text/html": [
       "<div>\n",
       "<style scoped>\n",
       "    .dataframe tbody tr th:only-of-type {\n",
       "        vertical-align: middle;\n",
       "    }\n",
       "\n",
       "    .dataframe tbody tr th {\n",
       "        vertical-align: top;\n",
       "    }\n",
       "\n",
       "    .dataframe thead th {\n",
       "        text-align: right;\n",
       "    }\n",
       "</style>\n",
       "<table border=\"1\" class=\"dataframe\">\n",
       "  <thead>\n",
       "    <tr style=\"text-align: right;\">\n",
       "      <th></th>\n",
       "      <th>solubility</th>\n",
       "    </tr>\n",
       "  </thead>\n",
       "  <tbody>\n",
       "    <tr>\n",
       "      <th>0</th>\n",
       "      <td>94</td>\n",
       "    </tr>\n",
       "    <tr>\n",
       "      <th>1</th>\n",
       "      <td>66</td>\n",
       "    </tr>\n",
       "    <tr>\n",
       "      <th>2</th>\n",
       "      <td>98</td>\n",
       "    </tr>\n",
       "    <tr>\n",
       "      <th>3</th>\n",
       "      <td>10</td>\n",
       "    </tr>\n",
       "    <tr>\n",
       "      <th>4</th>\n",
       "      <td>23</td>\n",
       "    </tr>\n",
       "  </tbody>\n",
       "</table>\n",
       "</div>"
      ],
      "text/plain": [
       "   solubility\n",
       "0          94\n",
       "1          66\n",
       "2          98\n",
       "3          10\n",
       "4          23"
      ]
     },
     "execution_count": 4,
     "metadata": {},
     "output_type": "execute_result"
    }
   ],
   "source": [
    "y_train.head()"
   ]
  },
  {
   "cell_type": "code",
   "execution_count": 5,
   "metadata": {},
   "outputs": [],
   "source": [
    "# Graphic libraries\n",
    "#import matplotlib.pyplot as plt\n",
    "#import seaborn as sns\n",
    "\n",
    "# yeo-jhonson Transformation\n",
    "\n",
    "# normalize the exponential data with Yeo Jhonson\n",
    "#normalized_data = stats.yeojohnson(df_sol_y['solubility'])\n",
    "\n",
    "# plot both together to compare\n",
    "#fig, ax=plt.subplots(1,2)\n",
    "#sns.histplot(df_sol_y['solubility'], ax=ax[0])\n",
    "#ax[0].set_title(\"Original Data\")\n",
    "#sns.histplot(normalized_data[0], ax=ax[1])\n",
    "#ax[1].set_title(\"Normalized data\")\n",
    "\n",
    "#df_sol_y = pd.DataFrame({'solubility' : normalized_data[0]})"
   ]
  },
  {
   "cell_type": "markdown",
   "metadata": {},
   "source": [
    "# Linear Regression (LR)"
   ]
  },
  {
   "cell_type": "code",
   "execution_count": 6,
   "metadata": {},
   "outputs": [],
   "source": [
    "# The cross validation scheme to be used\n",
    "folds = kfold()"
   ]
  },
  {
   "cell_type": "code",
   "execution_count": 7,
   "metadata": {},
   "outputs": [
    {
     "name": "stdout",
     "output_type": "stream",
     "text": [
      "Train R2 score: [0.25286675 0.23355529 0.23417866 0.23198461 0.24178976 0.2974929\n",
      " 0.24005319 0.24272515 0.22979474 0.23844723]\n",
      "Test R2 score: [ 0.04053155  0.18325907  0.17604815  0.21213734  0.12600244 -0.43771814\n",
      "  0.16370202  0.13143949  0.24589643  0.17161078]\n"
     ]
    }
   ],
   "source": [
    "# Create the Linear Regression model\n",
    "# Use cross validation\n",
    "# Check the R2 score for train and test\n",
    "\n",
    "\n",
    "lm = LinearRegression()\n",
    "\n",
    "scores = cross_validate(estimator=lm, X=x_train, y=y_train, cv=folds,\n",
    "    scoring=('r2', 'neg_mean_squared_error'),\n",
    "    return_train_score=True)\n",
    "\n",
    "#print(scores.keys())\n",
    "print(\"Train R2 score: {}\".format(scores['train_r2']))\n",
    "print(\"Test R2 score: {}\".format(scores['test_r2']))"
   ]
  },
  {
   "cell_type": "code",
   "execution_count": 8,
   "metadata": {},
   "outputs": [
    {
     "name": "stdout",
     "output_type": "stream",
     "text": [
      "0.020430262219981454\n"
     ]
    }
   ],
   "source": [
    "# Test the model\n",
    "\n",
    "lm.fit(x_train, y_train)\n",
    "y_pred = lm.predict(x_test)\n",
    "r2 = metrics.r2_score(y_test, y_pred)\n",
    "print(r2)"
   ]
  },
  {
   "cell_type": "code",
   "execution_count": 9,
   "metadata": {},
   "outputs": [
    {
     "name": "stdout",
     "output_type": "stream",
     "text": [
      "-0.022799699824254338\n",
      "0.1293487812459032\n",
      "0.1216618881353313\n",
      "0.16013320558446642\n",
      "0.06831283212384998\n",
      "-0.5326170268046035\n",
      "0.10850083798198296\n",
      "0.0741087614654734\n",
      "0.19612061387038215\n",
      "0.11693162680523905\n"
     ]
    }
   ],
   "source": [
    "# Check the Adjusted R2\n",
    "\n",
    "n_observations = len(y_train)\n",
    "n_independent_variables = x_train.shape[1]\n",
    "\n",
    "for cross_val_r2 in scores['test_r2']:\n",
    "    Adj_r2 = get_adj_r2(n_observations=n_observations, n_independent_variables=n_independent_variables, r2_score=cross_val_r2)\n",
    "    print(Adj_r2)"
   ]
  },
  {
   "cell_type": "code",
   "execution_count": 10,
   "metadata": {},
   "outputs": [
    {
     "name": "stdout",
     "output_type": "stream",
     "text": [
      "                            OLS Regression Results                            \n",
      "==============================================================================\n",
      "Dep. Variable:             solubility   R-squared:                       0.238\n",
      "Model:                            OLS   Adj. R-squared:                  0.188\n",
      "Method:                 Least Squares   F-statistic:                     4.738\n",
      "Date:                Sun, 06 Nov 2022   Prob (F-statistic):           5.85e-10\n",
      "Time:                        12:47:20   Log-Likelihood:                -1539.2\n",
      "No. Observations:                 324   AIC:                             3120.\n",
      "Df Residuals:                     303   BIC:                             3200.\n",
      "Df Model:                          20                                         \n",
      "Covariance Type:            nonrobust                                         \n",
      "=======================================================================================\n",
      "                          coef    std err          t      P>|t|      [0.025      0.975]\n",
      "---------------------------------------------------------------------------------------\n",
      "const                -266.6742    205.929     -1.295      0.196    -671.906     138.558\n",
      "dslf_fa13             -25.9637     30.610     -0.848      0.397     -86.198      34.270\n",
      "fa_atr                466.7462    213.141      2.190      0.029      47.323     886.170\n",
      "fa_dun                 17.9404     70.768      0.254      0.800    -121.318     157.199\n",
      "fa_elec              -326.4107    151.589     -2.153      0.032    -624.711     -28.110\n",
      "fa_intra_rep           15.6658     62.759      0.250      0.803    -107.833     139.165\n",
      "fa_intra_sol_xover4  -109.4182    107.151     -1.021      0.308    -320.272     101.436\n",
      "fa_rep                 31.6285     40.456      0.782      0.435     -47.981     111.238\n",
      "fa_sol                320.8415    206.120      1.557      0.121     -84.767     726.450\n",
      "hbond_bb_sc            94.7951     36.179      2.620      0.009      23.602     165.988\n",
      "hbond_lr_bb            -1.0826     38.597     -0.028      0.978     -77.035      74.870\n",
      "hbond_sc               56.3072     30.394      1.853      0.065      -3.503     116.117\n",
      "hbond_sr_bb            84.3708     80.307      1.051      0.294     -73.659     242.401\n",
      "lk_ball_wtd             1.6313     50.289      0.032      0.974     -97.328     100.590\n",
      "omega                 -11.8075     14.262     -0.828      0.408     -39.872      16.257\n",
      "p_aa_pp               -23.7140     35.263     -0.672      0.502     -93.105      45.677\n",
      "pro_close              17.0476     21.239      0.803      0.423     -24.747      58.842\n",
      "rama_prepro            -7.3959     12.575     -0.588      0.557     -32.142      17.350\n",
      "ref                     1.1043     21.914      0.050      0.960     -42.018      44.227\n",
      "time                    1.0250      7.753      0.132      0.895     -14.232      16.282\n",
      "yhh_planarity          32.6566     17.756      1.839      0.067      -2.284      67.598\n",
      "==============================================================================\n",
      "Omnibus:                       16.181   Durbin-Watson:                   1.828\n",
      "Prob(Omnibus):                  0.000   Jarque-Bera (JB):                7.751\n",
      "Skew:                          -0.146   Prob(JB):                       0.0207\n",
      "Kurtosis:                       2.301   Cond. No.                         490.\n",
      "==============================================================================\n",
      "\n",
      "Notes:\n",
      "[1] Standard Errors assume that the covariance matrix of the errors is correctly specified.\n"
     ]
    }
   ],
   "source": [
    "X2 = sm.add_constant(x_train)\n",
    "est = sm.OLS(y_train, X2)\n",
    "est2 = est.fit()\n",
    "print(est2.summary())"
   ]
  },
  {
   "cell_type": "code",
   "execution_count": 11,
   "metadata": {},
   "outputs": [
    {
     "data": {
      "text/plain": [
       "const                  0.196312\n",
       "dslf_fa13              0.396983\n",
       "fa_atr                 0.029297\n",
       "fa_dun                 0.800045\n",
       "fa_elec                0.032087\n",
       "fa_intra_rep           0.803053\n",
       "fa_intra_sol_xover4    0.307993\n",
       "fa_rep                 0.434938\n",
       "fa_sol                 0.120615\n",
       "hbond_bb_sc            0.009231\n",
       "hbond_lr_bb            0.977642\n",
       "hbond_sc               0.064916\n",
       "hbond_sr_bb            0.294278\n",
       "lk_ball_wtd            0.974143\n",
       "omega                  0.408372\n",
       "p_aa_pp                0.501780\n",
       "pro_close              0.422800\n",
       "rama_prepro            0.556877\n",
       "ref                    0.959843\n",
       "time                   0.894914\n",
       "yhh_planarity          0.066869\n",
       "dtype: float64"
      ]
     },
     "execution_count": 11,
     "metadata": {},
     "output_type": "execute_result"
    }
   ],
   "source": [
    "# Compute p-values\n",
    "est2.pvalues"
   ]
  },
  {
   "cell_type": "code",
   "execution_count": 12,
   "metadata": {},
   "outputs": [
    {
     "name": "stdout",
     "output_type": "stream",
     "text": [
      "('fa_atr', 0.02929731892792759)\n",
      "('fa_elec', 0.032087008100062965)\n",
      "('hbond_bb_sc', 0.009230714391811367)\n"
     ]
    }
   ],
   "source": [
    "# Get p-values below 0.05\n",
    "for feature in est2.pvalues.keys():\n",
    "    if est2.pvalues[feature] <= 0.05:\n",
    "        print((feature, est2.pvalues[feature]))"
   ]
  },
  {
   "cell_type": "markdown",
   "metadata": {},
   "source": [
    "# Saving trained model"
   ]
  },
  {
   "cell_type": "code",
   "execution_count": 13,
   "metadata": {},
   "outputs": [
    {
     "data": {
      "text/plain": [
       "['../models/lr_model.joblib']"
      ]
     },
     "execution_count": 13,
     "metadata": {},
     "output_type": "execute_result"
    }
   ],
   "source": [
    "filename = '../models/lr_model.joblib'\n",
    "joblib.dump(lm, filename)"
   ]
  },
  {
   "cell_type": "markdown",
   "metadata": {},
   "source": [
    "# Conclusions\n",
    "\n",
    "What was done:\n",
    "* Used crossValidate with 10 folds and linear regression. Checked the R2, adjusted R2 and p_values (checked for columns with p_value above 0.05)"
   ]
  }
 ],
 "metadata": {
  "interpreter": {
   "hash": "5edc29c2ed010d6458d71a83433b383a96a8cbd3efe8531bc90c4b8a5b8bcec9"
  },
  "kernelspec": {
   "display_name": "Python 3",
   "language": "python",
   "name": "python3"
  },
  "language_info": {
   "codemirror_mode": {
    "name": "ipython",
    "version": 3
   },
   "file_extension": ".py",
   "mimetype": "text/x-python",
   "name": "python",
   "nbconvert_exporter": "python",
   "pygments_lexer": "ipython3",
   "version": "3.7.3"
  },
  "orig_nbformat": 4
 },
 "nbformat": 4,
 "nbformat_minor": 2
}
