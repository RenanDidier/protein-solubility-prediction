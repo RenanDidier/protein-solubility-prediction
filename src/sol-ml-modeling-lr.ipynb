{
 "cells": [
  {
   "cell_type": "code",
   "execution_count": 1,
   "metadata": {},
   "outputs": [],
   "source": [
    "# General libraries\n",
    "import pandas as pd\n",
    "import numpy as np\n",
    "\n",
    "# Scikit Learn libraries\n",
    "from sklearn.model_selection import train_test_split\n",
    "from sklearn.linear_model import LinearRegression\n",
    "from sklearn.model_selection import cross_validate\n",
    "from sklearn import metrics\n",
    "\n",
    "# Scipy libraries\n",
    "from scipy import stats\n",
    "\n",
    "# Single import from another libraries\n",
    "import seaborn as sns\n",
    "import statsmodels.api as sm\n",
    "import joblib\n",
    "import warnings\n",
    "warnings.filterwarnings('ignore')\n",
    "\n",
    "\n",
    "# Utils functions\n",
    "from utils.utils import kfold, get_adj_r2, read_datasets, plot_pred_expected_results"
   ]
  },
  {
   "cell_type": "markdown",
   "metadata": {},
   "source": [
    "# Load Dataset"
   ]
  },
  {
   "cell_type": "code",
   "execution_count": 2,
   "metadata": {},
   "outputs": [],
   "source": [
    "x_train, x_test, y_train, y_test = read_datasets(\n",
    "    'x_train.csv',\n",
    "    'x_test.csv',\n",
    "    'y_train.csv',\n",
    "    'y_test.csv'\n",
    ")"
   ]
  },
  {
   "cell_type": "code",
   "execution_count": 3,
   "metadata": {},
   "outputs": [
    {
     "data": {
      "text/html": [
       "<div>\n",
       "<style scoped>\n",
       "    .dataframe tbody tr th:only-of-type {\n",
       "        vertical-align: middle;\n",
       "    }\n",
       "\n",
       "    .dataframe tbody tr th {\n",
       "        vertical-align: top;\n",
       "    }\n",
       "\n",
       "    .dataframe thead th {\n",
       "        text-align: right;\n",
       "    }\n",
       "</style>\n",
       "<table border=\"1\" class=\"dataframe\">\n",
       "  <thead>\n",
       "    <tr style=\"text-align: right;\">\n",
       "      <th></th>\n",
       "      <th>dslf_fa13</th>\n",
       "      <th>fa_atr</th>\n",
       "      <th>fa_dun</th>\n",
       "      <th>fa_elec</th>\n",
       "      <th>fa_intra_rep</th>\n",
       "      <th>fa_intra_sol_xover4</th>\n",
       "      <th>fa_rep</th>\n",
       "      <th>fa_sol</th>\n",
       "      <th>hbond_bb_sc</th>\n",
       "      <th>hbond_lr_bb</th>\n",
       "      <th>hbond_sc</th>\n",
       "      <th>hbond_sr_bb</th>\n",
       "      <th>lk_ball_wtd</th>\n",
       "      <th>omega</th>\n",
       "      <th>p_aa_pp</th>\n",
       "      <th>pro_close</th>\n",
       "      <th>rama_prepro</th>\n",
       "      <th>ref</th>\n",
       "      <th>time</th>\n",
       "      <th>yhh_planarity</th>\n",
       "    </tr>\n",
       "  </thead>\n",
       "  <tbody>\n",
       "    <tr>\n",
       "      <th>0</th>\n",
       "      <td>0.22973</td>\n",
       "      <td>0.763596</td>\n",
       "      <td>0.308557</td>\n",
       "      <td>0.775237</td>\n",
       "      <td>0.338457</td>\n",
       "      <td>0.243961</td>\n",
       "      <td>0.297071</td>\n",
       "      <td>0.233128</td>\n",
       "      <td>0.801774</td>\n",
       "      <td>0.686648</td>\n",
       "      <td>0.810329</td>\n",
       "      <td>0.780078</td>\n",
       "      <td>0.771760</td>\n",
       "      <td>0.201707</td>\n",
       "      <td>0.734554</td>\n",
       "      <td>0.040848</td>\n",
       "      <td>0.712342</td>\n",
       "      <td>0.523591</td>\n",
       "      <td>0.0</td>\n",
       "      <td>0.013655</td>\n",
       "    </tr>\n",
       "    <tr>\n",
       "      <th>1</th>\n",
       "      <td>0.22973</td>\n",
       "      <td>0.701397</td>\n",
       "      <td>0.316951</td>\n",
       "      <td>0.706863</td>\n",
       "      <td>0.311703</td>\n",
       "      <td>0.261941</td>\n",
       "      <td>0.278929</td>\n",
       "      <td>0.294983</td>\n",
       "      <td>0.693164</td>\n",
       "      <td>0.630547</td>\n",
       "      <td>0.735858</td>\n",
       "      <td>0.733178</td>\n",
       "      <td>0.694929</td>\n",
       "      <td>0.074615</td>\n",
       "      <td>0.636059</td>\n",
       "      <td>0.065490</td>\n",
       "      <td>0.423793</td>\n",
       "      <td>0.334937</td>\n",
       "      <td>0.0</td>\n",
       "      <td>0.097689</td>\n",
       "    </tr>\n",
       "    <tr>\n",
       "      <th>2</th>\n",
       "      <td>0.22973</td>\n",
       "      <td>0.934183</td>\n",
       "      <td>0.104464</td>\n",
       "      <td>0.930745</td>\n",
       "      <td>0.074034</td>\n",
       "      <td>0.117862</td>\n",
       "      <td>0.039392</td>\n",
       "      <td>0.093871</td>\n",
       "      <td>0.991470</td>\n",
       "      <td>0.971738</td>\n",
       "      <td>0.936427</td>\n",
       "      <td>0.821288</td>\n",
       "      <td>0.917112</td>\n",
       "      <td>0.044517</td>\n",
       "      <td>0.954476</td>\n",
       "      <td>0.003597</td>\n",
       "      <td>0.268529</td>\n",
       "      <td>0.001079</td>\n",
       "      <td>0.0</td>\n",
       "      <td>0.002101</td>\n",
       "    </tr>\n",
       "    <tr>\n",
       "      <th>3</th>\n",
       "      <td>0.22973</td>\n",
       "      <td>0.503359</td>\n",
       "      <td>0.489959</td>\n",
       "      <td>0.519385</td>\n",
       "      <td>0.506761</td>\n",
       "      <td>0.425321</td>\n",
       "      <td>0.454789</td>\n",
       "      <td>0.470166</td>\n",
       "      <td>0.523125</td>\n",
       "      <td>0.461226</td>\n",
       "      <td>0.521223</td>\n",
       "      <td>0.576508</td>\n",
       "      <td>0.483125</td>\n",
       "      <td>0.798760</td>\n",
       "      <td>0.529375</td>\n",
       "      <td>0.816637</td>\n",
       "      <td>0.601882</td>\n",
       "      <td>0.801711</td>\n",
       "      <td>0.0</td>\n",
       "      <td>0.056723</td>\n",
       "    </tr>\n",
       "    <tr>\n",
       "      <th>4</th>\n",
       "      <td>0.22973</td>\n",
       "      <td>0.946765</td>\n",
       "      <td>0.046850</td>\n",
       "      <td>0.936256</td>\n",
       "      <td>0.048643</td>\n",
       "      <td>0.062377</td>\n",
       "      <td>0.041516</td>\n",
       "      <td>0.069711</td>\n",
       "      <td>0.970284</td>\n",
       "      <td>0.899250</td>\n",
       "      <td>0.963758</td>\n",
       "      <td>0.914094</td>\n",
       "      <td>0.911180</td>\n",
       "      <td>0.011580</td>\n",
       "      <td>0.907310</td>\n",
       "      <td>0.019308</td>\n",
       "      <td>0.267537</td>\n",
       "      <td>0.034116</td>\n",
       "      <td>0.0</td>\n",
       "      <td>0.003151</td>\n",
       "    </tr>\n",
       "  </tbody>\n",
       "</table>\n",
       "</div>"
      ],
      "text/plain": [
       "   dslf_fa13    fa_atr    fa_dun   fa_elec  fa_intra_rep  fa_intra_sol_xover4  \\\n",
       "0    0.22973  0.763596  0.308557  0.775237      0.338457             0.243961   \n",
       "1    0.22973  0.701397  0.316951  0.706863      0.311703             0.261941   \n",
       "2    0.22973  0.934183  0.104464  0.930745      0.074034             0.117862   \n",
       "3    0.22973  0.503359  0.489959  0.519385      0.506761             0.425321   \n",
       "4    0.22973  0.946765  0.046850  0.936256      0.048643             0.062377   \n",
       "\n",
       "     fa_rep    fa_sol  hbond_bb_sc  hbond_lr_bb  hbond_sc  hbond_sr_bb  \\\n",
       "0  0.297071  0.233128     0.801774     0.686648  0.810329     0.780078   \n",
       "1  0.278929  0.294983     0.693164     0.630547  0.735858     0.733178   \n",
       "2  0.039392  0.093871     0.991470     0.971738  0.936427     0.821288   \n",
       "3  0.454789  0.470166     0.523125     0.461226  0.521223     0.576508   \n",
       "4  0.041516  0.069711     0.970284     0.899250  0.963758     0.914094   \n",
       "\n",
       "   lk_ball_wtd     omega   p_aa_pp  pro_close  rama_prepro       ref  time  \\\n",
       "0     0.771760  0.201707  0.734554   0.040848     0.712342  0.523591   0.0   \n",
       "1     0.694929  0.074615  0.636059   0.065490     0.423793  0.334937   0.0   \n",
       "2     0.917112  0.044517  0.954476   0.003597     0.268529  0.001079   0.0   \n",
       "3     0.483125  0.798760  0.529375   0.816637     0.601882  0.801711   0.0   \n",
       "4     0.911180  0.011580  0.907310   0.019308     0.267537  0.034116   0.0   \n",
       "\n",
       "   yhh_planarity  \n",
       "0       0.013655  \n",
       "1       0.097689  \n",
       "2       0.002101  \n",
       "3       0.056723  \n",
       "4       0.003151  "
      ]
     },
     "execution_count": 3,
     "metadata": {},
     "output_type": "execute_result"
    }
   ],
   "source": [
    "x_train.head()"
   ]
  },
  {
   "cell_type": "code",
   "execution_count": 4,
   "metadata": {},
   "outputs": [
    {
     "data": {
      "text/html": [
       "<div>\n",
       "<style scoped>\n",
       "    .dataframe tbody tr th:only-of-type {\n",
       "        vertical-align: middle;\n",
       "    }\n",
       "\n",
       "    .dataframe tbody tr th {\n",
       "        vertical-align: top;\n",
       "    }\n",
       "\n",
       "    .dataframe thead th {\n",
       "        text-align: right;\n",
       "    }\n",
       "</style>\n",
       "<table border=\"1\" class=\"dataframe\">\n",
       "  <thead>\n",
       "    <tr style=\"text-align: right;\">\n",
       "      <th></th>\n",
       "      <th>solubility</th>\n",
       "    </tr>\n",
       "  </thead>\n",
       "  <tbody>\n",
       "    <tr>\n",
       "      <th>0</th>\n",
       "      <td>94</td>\n",
       "    </tr>\n",
       "    <tr>\n",
       "      <th>1</th>\n",
       "      <td>66</td>\n",
       "    </tr>\n",
       "    <tr>\n",
       "      <th>2</th>\n",
       "      <td>98</td>\n",
       "    </tr>\n",
       "    <tr>\n",
       "      <th>3</th>\n",
       "      <td>10</td>\n",
       "    </tr>\n",
       "    <tr>\n",
       "      <th>4</th>\n",
       "      <td>23</td>\n",
       "    </tr>\n",
       "  </tbody>\n",
       "</table>\n",
       "</div>"
      ],
      "text/plain": [
       "   solubility\n",
       "0          94\n",
       "1          66\n",
       "2          98\n",
       "3          10\n",
       "4          23"
      ]
     },
     "execution_count": 4,
     "metadata": {},
     "output_type": "execute_result"
    }
   ],
   "source": [
    "y_train.head()"
   ]
  },
  {
   "cell_type": "markdown",
   "metadata": {},
   "source": [
    "# Linear Regression (LR)"
   ]
  },
  {
   "cell_type": "code",
   "execution_count": 5,
   "metadata": {},
   "outputs": [],
   "source": [
    "# The cross validation scheme to be used\n",
    "folds = kfold()"
   ]
  },
  {
   "cell_type": "code",
   "execution_count": 6,
   "metadata": {},
   "outputs": [
    {
     "name": "stdout",
     "output_type": "stream",
     "text": [
      "Train R2 score: [0.25286675 0.23355529 0.23417866 0.23198461 0.24178976 0.2974929\n",
      " 0.24005319 0.24272515 0.22979474 0.23844723]\n",
      "Test R2 score: [ 0.04053155  0.18325907  0.17604815  0.21213734  0.12600244 -0.43771814\n",
      "  0.16370202  0.13143949  0.24589643  0.17161078]\n"
     ]
    }
   ],
   "source": [
    "# No texto dizer que foi usado os valores default e o LR foi usado como o limite inferior\n",
    "\n",
    "# Create the Linear Regression model\n",
    "# Use cross validation\n",
    "# Check the R2 score for train and test\n",
    "\n",
    "\n",
    "lm = LinearRegression()\n",
    "\n",
    "scores = cross_validate(estimator=lm, X=x_train, y=y_train, cv=folds,\n",
    "    scoring=('r2', 'neg_mean_squared_error'),\n",
    "    return_train_score=True)\n",
    "\n",
    "#print(scores.keys())\n",
    "print(\"Train R2 score: {}\".format(scores['train_r2']))\n",
    "print(\"Test R2 score: {}\".format(scores['test_r2']))"
   ]
  },
  {
   "cell_type": "code",
   "execution_count": 7,
   "metadata": {},
   "outputs": [
    {
     "name": "stdout",
     "output_type": "stream",
     "text": [
      "0.020430262219981454\n"
     ]
    }
   ],
   "source": [
    "# Test the model\n",
    "\n",
    "lm.fit(x_train, y_train)\n",
    "y_pred = lm.predict(x_test)\n",
    "r2 = metrics.r2_score(y_test, y_pred)\n",
    "print(r2)"
   ]
  },
  {
   "cell_type": "code",
   "execution_count": 8,
   "metadata": {},
   "outputs": [
    {
     "data": {
      "image/png": "[encoded data removed]",
      "text/plain": [
       "<Figure size 720x576 with 1 Axes>"
      ]
     },
     "metadata": {
      "needs_background": "light"
     },
     "output_type": "display_data"
    }
   ],
   "source": [
    "# Plot the R2 predicted and expected results\n",
    "plot_pred_expected_results(y_test, y_pred)"
   ]
  },
  {
   "cell_type": "code",
   "execution_count": 9,
   "metadata": {},
   "outputs": [
    {
     "name": "stdout",
     "output_type": "stream",
     "text": [
      "-0.022799699824254338\n",
      "0.1293487812459032\n",
      "0.1216618881353313\n",
      "0.16013320558446642\n",
      "0.06831283212384998\n",
      "-0.5326170268046035\n",
      "0.10850083798198296\n",
      "0.0741087614654734\n",
      "0.19612061387038215\n",
      "0.11693162680523905\n"
     ]
    }
   ],
   "source": [
    "# Check the Adjusted R2\n",
    "\n",
    "n_observations = len(y_train)\n",
    "n_independent_variables = x_train.shape[1]\n",
    "\n",
    "for cross_val_r2 in scores['test_r2']:\n",
    "    Adj_r2 = get_adj_r2(n_observations=n_observations, n_independent_variables=n_independent_variables, r2_score=cross_val_r2)\n",
    "    print(Adj_r2)"
   ]
  },
  {
   "cell_type": "markdown",
   "metadata": {},
   "source": [
    "# Saving trained model"
   ]
  },
  {
   "cell_type": "code",
   "execution_count": 10,
   "metadata": {},
   "outputs": [
    {
     "data": {
      "text/plain": [
       "['../models/lr_model.joblib']"
      ]
     },
     "execution_count": 10,
     "metadata": {},
     "output_type": "execute_result"
    }
   ],
   "source": [
    "filename = '../models/lr_model.joblib'\n",
    "joblib.dump(lm, filename)"
   ]
  },
  {
   "cell_type": "code",
   "execution_count": 11,
   "metadata": {},
   "outputs": [
    {
     "name": "stdout",
     "output_type": "stream",
     "text": [
      "const          0.038679\n",
      "fa_atr         0.001714\n",
      "fa_elec        0.001498\n",
      "fa_sol         0.029604\n",
      "hbond_bb_sc    0.001010\n",
      "hbond_sc       0.005394\n",
      "hbond_sr_bb    0.000185\n",
      "dtype: float64\n"
     ]
    }
   ],
   "source": [
    "# Remove features with high p value\n",
    "\n",
    "x_train_copy = x_train.copy()\n",
    "x_test_copy = x_test.copy()\n",
    "\n",
    "X2 = sm.add_constant(x_train_copy)\n",
    "est = sm.OLS(y_train, X2)\n",
    "est2 = est.fit()\n",
    "\n",
    "p_values = est2.pvalues\n",
    "\n",
    "while p_values[p_values > 0.05].empty == False:\n",
    "    max_p_value = p_values[p_values > 0.05].idxmax()\n",
    "\n",
    "    x_train_copy.drop(columns=[max_p_value], inplace=True)\n",
    "    x_test_copy.drop(columns=[max_p_value], inplace=True)\n",
    "\n",
    "    X2 = sm.add_constant(x_train_copy)\n",
    "    est = sm.OLS(y_train, X2)\n",
    "    est2 = est.fit()\n",
    "\n",
    "    p_values = est2.pvalues\n",
    "\n",
    "\n",
    "print(p_values)"
   ]
  },
  {
   "cell_type": "code",
   "execution_count": 12,
   "metadata": {},
   "outputs": [
    {
     "name": "stdout",
     "output_type": "stream",
     "text": [
      "0.10194067392097961\n"
     ]
    }
   ],
   "source": [
    "# Create RL model without the columns with p_value higher than 0.05\n",
    "\n",
    "lm_removed_high_corr = LinearRegression()\n",
    "lm_removed_high_corr.fit(x_train_copy, y_train)\n",
    "\n",
    "y_pred = lm_removed_high_corr.predict(x_test_copy)\n",
    "r2_removed_high_corr = metrics.r2_score(y_test, y_pred)\n",
    "\n",
    "print(r2_removed_high_corr)"
   ]
  },
  {
   "cell_type": "code",
   "execution_count": 13,
   "metadata": {},
   "outputs": [],
   "source": [
    "# Save files without the p values above 0.05\n",
    "folder_path = \"../data/\"\n",
    "x_train_copy.to_csv(folder_path + 'x_train_p_value_removed.csv', index=False)\n",
    "x_test_copy.to_csv(folder_path + 'x_test_p_value_removed.csv', index=False)"
   ]
  },
  {
   "cell_type": "code",
   "execution_count": null,
   "metadata": {},
   "outputs": [],
   "source": []
  }
 ],
 "metadata": {
  "interpreter": {
   "hash": "5edc29c2ed010d6458d71a83433b383a96a8cbd3efe8531bc90c4b8a5b8bcec9"
  },
  "kernelspec": {
   "display_name": "Python 3",
   "language": "python",
   "name": "python3"
  },
  "language_info": {
   "codemirror_mode": {
    "name": "ipython",
    "version": 3
   },
   "file_extension": ".py",
   "mimetype": "text/x-python",
   "name": "python",
   "nbconvert_exporter": "python",
   "pygments_lexer": "ipython3",
   "version": "3.7.3"
  },
  "orig_nbformat": 4
 },
 "nbformat": 4,
 "nbformat_minor": 2
}
