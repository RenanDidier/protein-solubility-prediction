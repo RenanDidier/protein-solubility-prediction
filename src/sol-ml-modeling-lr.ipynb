{
 "cells": [
  {
   "cell_type": "code",
   "execution_count": 1,
   "metadata": {},
   "outputs": [],
   "source": [
    "# General libraries\n",
    "import pandas as pd\n",
    "import numpy as np\n",
    "\n",
    "# Scikit Learn libraries\n",
    "from sklearn.model_selection import train_test_split\n",
    "from sklearn.linear_model import LinearRegression\n",
    "from sklearn.model_selection import cross_validate\n",
    "from sklearn import metrics\n",
    "\n",
    "# Scipy libraries\n",
    "from scipy import stats\n",
    "\n",
    "# Single import from another libraries\n",
    "import seaborn as sns\n",
    "import statsmodels.api as sm\n",
    "import joblib\n",
    "import warnings\n",
    "warnings.filterwarnings('ignore')\n",
    "\n",
    "\n",
    "# Utils functions\n",
    "from utils.utils import kfold, get_adj_r2, read_datasets"
   ]
  },
  {
   "cell_type": "markdown",
   "metadata": {},
   "source": [
    "# Load Dataset"
   ]
  },
  {
   "cell_type": "code",
   "execution_count": 2,
   "metadata": {},
   "outputs": [],
   "source": [
    "x_train, x_test, y_train, y_test = read_datasets(\n",
    "    'x_train.csv',\n",
    "    'x_test.csv',\n",
    "    'y_train.csv',\n",
    "    'y_test.csv'\n",
    ")"
   ]
  },
  {
   "cell_type": "code",
   "execution_count": 3,
   "metadata": {},
   "outputs": [
    {
     "data": {
      "text/html": [
       "<div>\n",
       "<style scoped>\n",
       "    .dataframe tbody tr th:only-of-type {\n",
       "        vertical-align: middle;\n",
       "    }\n",
       "\n",
       "    .dataframe tbody tr th {\n",
       "        vertical-align: top;\n",
       "    }\n",
       "\n",
       "    .dataframe thead th {\n",
       "        text-align: right;\n",
       "    }\n",
       "</style>\n",
       "<table border=\"1\" class=\"dataframe\">\n",
       "  <thead>\n",
       "    <tr style=\"text-align: right;\">\n",
       "      <th></th>\n",
       "      <th>dslf_fa13</th>\n",
       "      <th>fa_atr</th>\n",
       "      <th>fa_dun</th>\n",
       "      <th>fa_elec</th>\n",
       "      <th>fa_intra_rep</th>\n",
       "      <th>fa_intra_sol_xover4</th>\n",
       "      <th>fa_rep</th>\n",
       "      <th>fa_sol</th>\n",
       "      <th>hbond_bb_sc</th>\n",
       "      <th>hbond_lr_bb</th>\n",
       "      <th>hbond_sc</th>\n",
       "      <th>hbond_sr_bb</th>\n",
       "      <th>lk_ball_wtd</th>\n",
       "      <th>omega</th>\n",
       "      <th>p_aa_pp</th>\n",
       "      <th>pro_close</th>\n",
       "      <th>rama_prepro</th>\n",
       "      <th>ref</th>\n",
       "      <th>time</th>\n",
       "    </tr>\n",
       "  </thead>\n",
       "  <tbody>\n",
       "    <tr>\n",
       "      <th>0</th>\n",
       "      <td>0.22973</td>\n",
       "      <td>0.763596</td>\n",
       "      <td>0.308557</td>\n",
       "      <td>0.775237</td>\n",
       "      <td>0.338457</td>\n",
       "      <td>0.243961</td>\n",
       "      <td>0.297071</td>\n",
       "      <td>0.233128</td>\n",
       "      <td>0.801774</td>\n",
       "      <td>0.686648</td>\n",
       "      <td>0.810329</td>\n",
       "      <td>0.780078</td>\n",
       "      <td>0.771760</td>\n",
       "      <td>0.201707</td>\n",
       "      <td>0.734554</td>\n",
       "      <td>0.040848</td>\n",
       "      <td>0.712342</td>\n",
       "      <td>0.523591</td>\n",
       "      <td>0.0</td>\n",
       "    </tr>\n",
       "    <tr>\n",
       "      <th>1</th>\n",
       "      <td>0.22973</td>\n",
       "      <td>0.701397</td>\n",
       "      <td>0.316951</td>\n",
       "      <td>0.706863</td>\n",
       "      <td>0.311703</td>\n",
       "      <td>0.261941</td>\n",
       "      <td>0.278929</td>\n",
       "      <td>0.294983</td>\n",
       "      <td>0.693164</td>\n",
       "      <td>0.630547</td>\n",
       "      <td>0.735858</td>\n",
       "      <td>0.733178</td>\n",
       "      <td>0.694929</td>\n",
       "      <td>0.074615</td>\n",
       "      <td>0.636059</td>\n",
       "      <td>0.065490</td>\n",
       "      <td>0.423793</td>\n",
       "      <td>0.334937</td>\n",
       "      <td>0.0</td>\n",
       "    </tr>\n",
       "    <tr>\n",
       "      <th>2</th>\n",
       "      <td>0.22973</td>\n",
       "      <td>0.934183</td>\n",
       "      <td>0.104464</td>\n",
       "      <td>0.930745</td>\n",
       "      <td>0.074034</td>\n",
       "      <td>0.117862</td>\n",
       "      <td>0.039392</td>\n",
       "      <td>0.093871</td>\n",
       "      <td>0.991470</td>\n",
       "      <td>0.971738</td>\n",
       "      <td>0.936427</td>\n",
       "      <td>0.821288</td>\n",
       "      <td>0.917112</td>\n",
       "      <td>0.044517</td>\n",
       "      <td>0.954476</td>\n",
       "      <td>0.003597</td>\n",
       "      <td>0.268529</td>\n",
       "      <td>0.001079</td>\n",
       "      <td>0.0</td>\n",
       "    </tr>\n",
       "    <tr>\n",
       "      <th>3</th>\n",
       "      <td>0.22973</td>\n",
       "      <td>0.503359</td>\n",
       "      <td>0.489959</td>\n",
       "      <td>0.519385</td>\n",
       "      <td>0.506761</td>\n",
       "      <td>0.425321</td>\n",
       "      <td>0.454789</td>\n",
       "      <td>0.470166</td>\n",
       "      <td>0.523125</td>\n",
       "      <td>0.461226</td>\n",
       "      <td>0.521223</td>\n",
       "      <td>0.576508</td>\n",
       "      <td>0.483125</td>\n",
       "      <td>0.798760</td>\n",
       "      <td>0.529375</td>\n",
       "      <td>0.816637</td>\n",
       "      <td>0.601882</td>\n",
       "      <td>0.801711</td>\n",
       "      <td>0.0</td>\n",
       "    </tr>\n",
       "    <tr>\n",
       "      <th>4</th>\n",
       "      <td>0.22973</td>\n",
       "      <td>0.946765</td>\n",
       "      <td>0.046850</td>\n",
       "      <td>0.936256</td>\n",
       "      <td>0.048643</td>\n",
       "      <td>0.062377</td>\n",
       "      <td>0.041516</td>\n",
       "      <td>0.069711</td>\n",
       "      <td>0.970284</td>\n",
       "      <td>0.899250</td>\n",
       "      <td>0.963758</td>\n",
       "      <td>0.914094</td>\n",
       "      <td>0.911180</td>\n",
       "      <td>0.011580</td>\n",
       "      <td>0.907310</td>\n",
       "      <td>0.019308</td>\n",
       "      <td>0.267537</td>\n",
       "      <td>0.034116</td>\n",
       "      <td>0.0</td>\n",
       "    </tr>\n",
       "  </tbody>\n",
       "</table>\n",
       "</div>"
      ],
      "text/plain": [
       "   dslf_fa13    fa_atr    fa_dun   fa_elec  fa_intra_rep  fa_intra_sol_xover4  \\\n",
       "0    0.22973  0.763596  0.308557  0.775237      0.338457             0.243961   \n",
       "1    0.22973  0.701397  0.316951  0.706863      0.311703             0.261941   \n",
       "2    0.22973  0.934183  0.104464  0.930745      0.074034             0.117862   \n",
       "3    0.22973  0.503359  0.489959  0.519385      0.506761             0.425321   \n",
       "4    0.22973  0.946765  0.046850  0.936256      0.048643             0.062377   \n",
       "\n",
       "     fa_rep    fa_sol  hbond_bb_sc  hbond_lr_bb  hbond_sc  hbond_sr_bb  \\\n",
       "0  0.297071  0.233128     0.801774     0.686648  0.810329     0.780078   \n",
       "1  0.278929  0.294983     0.693164     0.630547  0.735858     0.733178   \n",
       "2  0.039392  0.093871     0.991470     0.971738  0.936427     0.821288   \n",
       "3  0.454789  0.470166     0.523125     0.461226  0.521223     0.576508   \n",
       "4  0.041516  0.069711     0.970284     0.899250  0.963758     0.914094   \n",
       "\n",
       "   lk_ball_wtd     omega   p_aa_pp  pro_close  rama_prepro       ref  time  \n",
       "0     0.771760  0.201707  0.734554   0.040848     0.712342  0.523591   0.0  \n",
       "1     0.694929  0.074615  0.636059   0.065490     0.423793  0.334937   0.0  \n",
       "2     0.917112  0.044517  0.954476   0.003597     0.268529  0.001079   0.0  \n",
       "3     0.483125  0.798760  0.529375   0.816637     0.601882  0.801711   0.0  \n",
       "4     0.911180  0.011580  0.907310   0.019308     0.267537  0.034116   0.0  "
      ]
     },
     "execution_count": 3,
     "metadata": {},
     "output_type": "execute_result"
    }
   ],
   "source": [
    "x_train.head()"
   ]
  },
  {
   "cell_type": "code",
   "execution_count": 4,
   "metadata": {},
   "outputs": [
    {
     "data": {
      "text/html": [
       "<div>\n",
       "<style scoped>\n",
       "    .dataframe tbody tr th:only-of-type {\n",
       "        vertical-align: middle;\n",
       "    }\n",
       "\n",
       "    .dataframe tbody tr th {\n",
       "        vertical-align: top;\n",
       "    }\n",
       "\n",
       "    .dataframe thead th {\n",
       "        text-align: right;\n",
       "    }\n",
       "</style>\n",
       "<table border=\"1\" class=\"dataframe\">\n",
       "  <thead>\n",
       "    <tr style=\"text-align: right;\">\n",
       "      <th></th>\n",
       "      <th>solubility</th>\n",
       "    </tr>\n",
       "  </thead>\n",
       "  <tbody>\n",
       "    <tr>\n",
       "      <th>0</th>\n",
       "      <td>94</td>\n",
       "    </tr>\n",
       "    <tr>\n",
       "      <th>1</th>\n",
       "      <td>66</td>\n",
       "    </tr>\n",
       "    <tr>\n",
       "      <th>2</th>\n",
       "      <td>98</td>\n",
       "    </tr>\n",
       "    <tr>\n",
       "      <th>3</th>\n",
       "      <td>10</td>\n",
       "    </tr>\n",
       "    <tr>\n",
       "      <th>4</th>\n",
       "      <td>23</td>\n",
       "    </tr>\n",
       "  </tbody>\n",
       "</table>\n",
       "</div>"
      ],
      "text/plain": [
       "   solubility\n",
       "0          94\n",
       "1          66\n",
       "2          98\n",
       "3          10\n",
       "4          23"
      ]
     },
     "execution_count": 4,
     "metadata": {},
     "output_type": "execute_result"
    }
   ],
   "source": [
    "y_train.head()"
   ]
  },
  {
   "cell_type": "code",
   "execution_count": 5,
   "metadata": {},
   "outputs": [],
   "source": [
    "# Graphic libraries\n",
    "#import matplotlib.pyplot as plt\n",
    "#import seaborn as sns\n",
    "\n",
    "# yeo-jhonson Transformation\n",
    "\n",
    "# normalize the exponential data with Yeo Jhonson\n",
    "#normalized_data = stats.yeojohnson(df_sol_y['solubility'])\n",
    "\n",
    "# plot both together to compare\n",
    "#fig, ax=plt.subplots(1,2)\n",
    "#sns.histplot(df_sol_y['solubility'], ax=ax[0])\n",
    "#ax[0].set_title(\"Original Data\")\n",
    "#sns.histplot(normalized_data[0], ax=ax[1])\n",
    "#ax[1].set_title(\"Normalized data\")\n",
    "\n",
    "#df_sol_y = pd.DataFrame({'solubility' : normalized_data[0]})"
   ]
  },
  {
   "cell_type": "markdown",
   "metadata": {},
   "source": [
    "# Linear Regression (LR)"
   ]
  },
  {
   "cell_type": "code",
   "execution_count": 6,
   "metadata": {},
   "outputs": [],
   "source": [
    "# The cross validation scheme to be used\n",
    "folds = kfold()"
   ]
  },
  {
   "cell_type": "code",
   "execution_count": 7,
   "metadata": {},
   "outputs": [
    {
     "name": "stdout",
     "output_type": "stream",
     "text": [
      "Train R2 score: [0.24052222 0.22660758 0.21966282 0.2229576  0.22923777 0.29305453\n",
      " 0.23677373 0.23819216 0.21423684 0.23172377]\n",
      "Test R2 score: [ 0.07620727  0.15694303  0.22684268  0.20414696  0.16092345 -0.46963786\n",
      "  0.10838149  0.09087698  0.34087172  0.14350298]\n"
     ]
    }
   ],
   "source": [
    "# Create the Linear Regression model\n",
    "# Use cross validation\n",
    "# Check the R2 score for train and test\n",
    "\n",
    "\n",
    "lm = LinearRegression()\n",
    "\n",
    "scores = cross_validate(estimator=lm, X=x_train, y=y_train, cv=folds,\n",
    "    scoring=('r2', 'neg_mean_squared_error'),\n",
    "    return_train_score=True)\n",
    "\n",
    "#print(scores.keys())\n",
    "print(\"Train R2 score: {}\".format(scores['train_r2']))\n",
    "print(\"Test R2 score: {}\".format(scores['test_r2']))"
   ]
  },
  {
   "cell_type": "code",
   "execution_count": 8,
   "metadata": {},
   "outputs": [
    {
     "name": "stdout",
     "output_type": "stream",
     "text": [
      "0.07296303512162428\n"
     ]
    }
   ],
   "source": [
    "# Test the model\n",
    "\n",
    "lm.fit(x_train, y_train)\n",
    "y_pred = lm.predict(x_test)\n",
    "r2 = metrics.r2_score(y_test, y_pred)\n",
    "print(r2)"
   ]
  },
  {
   "cell_type": "code",
   "execution_count": 9,
   "metadata": {},
   "outputs": [
    {
     "name": "stdout",
     "output_type": "stream",
     "text": [
      "0.018470221613846483\n",
      "0.10425197427076416\n",
      "0.17852034442289766\n",
      "0.15440614953053744\n",
      "0.10848116436714783\n",
      "-0.5614902213306301\n",
      "0.05265532877347656\n",
      "0.034056790474161214\n",
      "0.2996762049512186\n",
      "0.08997191792417947\n"
     ]
    }
   ],
   "source": [
    "# Check the Adjusted R2\n",
    "\n",
    "n_observations = len(y_train)\n",
    "n_independent_variables = x_train.shape[1]\n",
    "\n",
    "for cross_val_r2 in scores['test_r2']:\n",
    "    Adj_r2 = get_adj_r2(n_observations=n_observations, n_independent_variables=n_independent_variables, r2_score=cross_val_r2)\n",
    "    print(Adj_r2)"
   ]
  },
  {
   "cell_type": "code",
   "execution_count": 10,
   "metadata": {},
   "outputs": [
    {
     "name": "stdout",
     "output_type": "stream",
     "text": [
      "                            OLS Regression Results                            \n",
      "==============================================================================\n",
      "Dep. Variable:             solubility   R-squared:                       0.230\n",
      "Model:                            OLS   Adj. R-squared:                  0.182\n",
      "Method:                 Least Squares   F-statistic:                     4.772\n",
      "Date:                Sat, 24 Sep 2022   Prob (F-statistic):           1.02e-09\n",
      "Time:                        09:29:52   Log-Likelihood:                -1541.0\n",
      "No. Observations:                 324   AIC:                             3122.\n",
      "Df Residuals:                     304   BIC:                             3198.\n",
      "Df Model:                          19                                         \n",
      "Covariance Type:            nonrobust                                         \n",
      "=======================================================================================\n",
      "                          coef    std err          t      P>|t|      [0.025      0.975]\n",
      "---------------------------------------------------------------------------------------\n",
      "const                -208.8346    204.309     -1.022      0.308    -610.874     193.205\n",
      "dslf_fa13             -27.6864     30.715     -0.901      0.368     -88.127      32.754\n",
      "fa_atr                397.7359    210.632      1.888      0.060     -16.746     812.218\n",
      "fa_dun                 12.8840     70.991      0.181      0.856    -126.812     152.580\n",
      "fa_elec              -342.1841    151.938     -2.252      0.025    -641.168     -43.201\n",
      "fa_intra_rep           29.7404     62.534      0.476      0.635     -93.315     152.796\n",
      "fa_intra_sol_xover4  -120.3929    107.403     -1.121      0.263    -331.740      90.954\n",
      "fa_rep                 20.2156     40.133      0.504      0.615     -58.759      99.190\n",
      "fa_sol                302.9112    206.695      1.466      0.144    -103.822     709.645\n",
      "hbond_bb_sc            98.3873     36.267      2.713      0.007      27.021     169.754\n",
      "hbond_lr_bb             5.7693     38.567      0.150      0.881     -70.123      81.662\n",
      "hbond_sc               58.8957     30.480      1.932      0.054      -1.083     118.875\n",
      "hbond_sr_bb            95.8323     80.378      1.192      0.234     -62.335     254.000\n",
      "lk_ball_wtd             6.9130     50.403      0.137      0.891     -92.270     106.096\n",
      "omega                 -12.0333     14.317     -0.840      0.401     -40.206      16.140\n",
      "p_aa_pp               -25.2044     35.391     -0.712      0.477     -94.847      44.438\n",
      "pro_close              16.7295     21.321      0.785      0.433     -25.226      58.685\n",
      "rama_prepro            -8.0369     12.619     -0.637      0.525     -32.869      16.796\n",
      "ref                   -10.6438     21.044     -0.506      0.613     -52.054      30.767\n",
      "time                    1.1560      7.783      0.149      0.882     -14.160      16.472\n",
      "==============================================================================\n",
      "Omnibus:                       13.791   Durbin-Watson:                   1.800\n",
      "Prob(Omnibus):                  0.001   Jarque-Bera (JB):                7.035\n",
      "Skew:                          -0.141   Prob(JB):                       0.0297\n",
      "Kurtosis:                       2.336   Cond. No.                         485.\n",
      "==============================================================================\n",
      "\n",
      "Notes:\n",
      "[1] Standard Errors assume that the covariance matrix of the errors is correctly specified.\n"
     ]
    }
   ],
   "source": [
    "X2 = sm.add_constant(x_train)\n",
    "est = sm.OLS(y_train, X2)\n",
    "est2 = est.fit()\n",
    "print(est2.summary())"
   ]
  },
  {
   "cell_type": "code",
   "execution_count": 11,
   "metadata": {},
   "outputs": [
    {
     "data": {
      "text/plain": [
       "const                  0.307523\n",
       "dslf_fa13              0.368089\n",
       "fa_atr                 0.059939\n",
       "fa_dun                 0.856105\n",
       "fa_elec                0.025028\n",
       "fa_intra_rep           0.634712\n",
       "fa_intra_sol_xover4    0.263195\n",
       "fa_rep                 0.614828\n",
       "fa_sol                 0.143818\n",
       "hbond_bb_sc            0.007051\n",
       "hbond_lr_bb            0.881187\n",
       "hbond_sc               0.054256\n",
       "hbond_sr_bb            0.234085\n",
       "lk_ball_wtd            0.890999\n",
       "omega                  0.401297\n",
       "p_aa_pp                0.476909\n",
       "pro_close              0.433275\n",
       "rama_prepro            0.524692\n",
       "ref                    0.613372\n",
       "time                   0.882028\n",
       "dtype: float64"
      ]
     },
     "execution_count": 11,
     "metadata": {},
     "output_type": "execute_result"
    }
   ],
   "source": [
    "# Compute p-values\n",
    "est2.pvalues"
   ]
  },
  {
   "cell_type": "code",
   "execution_count": 12,
   "metadata": {},
   "outputs": [
    {
     "name": "stdout",
     "output_type": "stream",
     "text": [
      "('fa_elec', 0.02502753003079)\n",
      "('hbond_bb_sc', 0.007050938767196124)\n"
     ]
    }
   ],
   "source": [
    "# Get p-values below 0.05\n",
    "for feature in est2.pvalues.keys():\n",
    "    if est2.pvalues[feature] <= 0.05:\n",
    "        print((feature, est2.pvalues[feature]))"
   ]
  },
  {
   "cell_type": "markdown",
   "metadata": {},
   "source": [
    "# Saving trained model"
   ]
  },
  {
   "cell_type": "code",
   "execution_count": 13,
   "metadata": {},
   "outputs": [
    {
     "data": {
      "text/plain": [
       "['../models/lr_model.joblib']"
      ]
     },
     "execution_count": 13,
     "metadata": {},
     "output_type": "execute_result"
    }
   ],
   "source": [
    "filename = '../models/lr_model.joblib'\n",
    "joblib.dump(lm, filename)"
   ]
  },
  {
   "cell_type": "markdown",
   "metadata": {},
   "source": [
    "# Conclusions\n",
    "\n",
    "What was done:\n",
    "* Used crossValidate with 10 folds and linear regression. Checked the R2, adjusted R2 and p_values (checked for columns with p_value above 0.05)"
   ]
  }
 ],
 "metadata": {
  "interpreter": {
   "hash": "5edc29c2ed010d6458d71a83433b383a96a8cbd3efe8531bc90c4b8a5b8bcec9"
  },
  "kernelspec": {
   "display_name": "Python 3",
   "language": "python",
   "name": "python3"
  },
  "language_info": {
   "codemirror_mode": {
    "name": "ipython",
    "version": 3
   },
   "file_extension": ".py",
   "mimetype": "text/x-python",
   "name": "python",
   "nbconvert_exporter": "python",
   "pygments_lexer": "ipython3",
   "version": "3.7.3"
  },
  "orig_nbformat": 4
 },
 "nbformat": 4,
 "nbformat_minor": 2
}
