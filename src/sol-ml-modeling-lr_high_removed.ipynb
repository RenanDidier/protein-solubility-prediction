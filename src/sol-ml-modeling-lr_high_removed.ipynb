{
 "cells": [
  {
   "cell_type": "code",
   "execution_count": 1,
   "metadata": {},
   "outputs": [],
   "source": [
    "# General libraries\n",
    "import pandas as pd\n",
    "import numpy as np\n",
    "\n",
    "# Scikit Learn libraries\n",
    "from sklearn.model_selection import train_test_split\n",
    "from sklearn.linear_model import LinearRegression\n",
    "from sklearn.model_selection import cross_validate\n",
    "from sklearn import metrics\n",
    "\n",
    "# Scipy libraries\n",
    "from scipy import stats\n",
    "\n",
    "# Single import from another libraries\n",
    "import seaborn as sns\n",
    "import statsmodels.api as sm\n",
    "import joblib\n",
    "import warnings\n",
    "warnings.filterwarnings('ignore')\n",
    "\n",
    "\n",
    "# Utils functions\n",
    "from utils.utils import kfold, get_adj_r2, read_datasets, plot_pred_expected_results"
   ]
  },
  {
   "cell_type": "markdown",
   "metadata": {},
   "source": [
    "# Load Dataset"
   ]
  },
  {
   "cell_type": "code",
   "execution_count": 2,
   "metadata": {},
   "outputs": [],
   "source": [
    "x_train, x_test, y_train, y_test = read_datasets(\n",
    "    'x_train_2.csv',\n",
    "    'x_test_2.csv',\n",
    "    'y_train_2.csv',\n",
    "    'y_test_2.csv'\n",
    ")"
   ]
  },
  {
   "cell_type": "code",
   "execution_count": 3,
   "metadata": {},
   "outputs": [
    {
     "data": {
      "text/html": [
       "<div>\n",
       "<style scoped>\n",
       "    .dataframe tbody tr th:only-of-type {\n",
       "        vertical-align: middle;\n",
       "    }\n",
       "\n",
       "    .dataframe tbody tr th {\n",
       "        vertical-align: top;\n",
       "    }\n",
       "\n",
       "    .dataframe thead th {\n",
       "        text-align: right;\n",
       "    }\n",
       "</style>\n",
       "<table border=\"1\" class=\"dataframe\">\n",
       "  <thead>\n",
       "    <tr style=\"text-align: right;\">\n",
       "      <th></th>\n",
       "      <th>dslf_fa13</th>\n",
       "      <th>fa_rep</th>\n",
       "      <th>hbond_bb_sc</th>\n",
       "      <th>hbond_lr_bb</th>\n",
       "      <th>hbond_sc</th>\n",
       "      <th>hbond_sr_bb</th>\n",
       "      <th>lk_ball_wtd</th>\n",
       "      <th>omega</th>\n",
       "      <th>p_aa_pp</th>\n",
       "      <th>pro_close</th>\n",
       "      <th>rama_prepro</th>\n",
       "      <th>ref</th>\n",
       "      <th>time</th>\n",
       "      <th>yhh_planarity</th>\n",
       "    </tr>\n",
       "  </thead>\n",
       "  <tbody>\n",
       "    <tr>\n",
       "      <th>0</th>\n",
       "      <td>0.22973</td>\n",
       "      <td>0.297071</td>\n",
       "      <td>0.801774</td>\n",
       "      <td>0.686648</td>\n",
       "      <td>0.810329</td>\n",
       "      <td>0.780078</td>\n",
       "      <td>0.771760</td>\n",
       "      <td>0.201707</td>\n",
       "      <td>0.734554</td>\n",
       "      <td>0.040848</td>\n",
       "      <td>0.712342</td>\n",
       "      <td>0.523591</td>\n",
       "      <td>0.0</td>\n",
       "      <td>0.013655</td>\n",
       "    </tr>\n",
       "    <tr>\n",
       "      <th>1</th>\n",
       "      <td>0.22973</td>\n",
       "      <td>0.278929</td>\n",
       "      <td>0.693164</td>\n",
       "      <td>0.630547</td>\n",
       "      <td>0.735858</td>\n",
       "      <td>0.733178</td>\n",
       "      <td>0.694929</td>\n",
       "      <td>0.074615</td>\n",
       "      <td>0.636059</td>\n",
       "      <td>0.065490</td>\n",
       "      <td>0.423793</td>\n",
       "      <td>0.334937</td>\n",
       "      <td>0.0</td>\n",
       "      <td>0.097689</td>\n",
       "    </tr>\n",
       "    <tr>\n",
       "      <th>2</th>\n",
       "      <td>0.22973</td>\n",
       "      <td>0.039392</td>\n",
       "      <td>0.991470</td>\n",
       "      <td>0.971738</td>\n",
       "      <td>0.936427</td>\n",
       "      <td>0.821288</td>\n",
       "      <td>0.917112</td>\n",
       "      <td>0.044517</td>\n",
       "      <td>0.954476</td>\n",
       "      <td>0.003597</td>\n",
       "      <td>0.268529</td>\n",
       "      <td>0.001079</td>\n",
       "      <td>0.0</td>\n",
       "      <td>0.002101</td>\n",
       "    </tr>\n",
       "    <tr>\n",
       "      <th>3</th>\n",
       "      <td>0.22973</td>\n",
       "      <td>0.454789</td>\n",
       "      <td>0.523125</td>\n",
       "      <td>0.461226</td>\n",
       "      <td>0.521223</td>\n",
       "      <td>0.576508</td>\n",
       "      <td>0.483125</td>\n",
       "      <td>0.798760</td>\n",
       "      <td>0.529375</td>\n",
       "      <td>0.816637</td>\n",
       "      <td>0.601882</td>\n",
       "      <td>0.801711</td>\n",
       "      <td>0.0</td>\n",
       "      <td>0.056723</td>\n",
       "    </tr>\n",
       "    <tr>\n",
       "      <th>4</th>\n",
       "      <td>0.22973</td>\n",
       "      <td>0.041516</td>\n",
       "      <td>0.970284</td>\n",
       "      <td>0.899250</td>\n",
       "      <td>0.963758</td>\n",
       "      <td>0.914094</td>\n",
       "      <td>0.911180</td>\n",
       "      <td>0.011580</td>\n",
       "      <td>0.907310</td>\n",
       "      <td>0.019308</td>\n",
       "      <td>0.267537</td>\n",
       "      <td>0.034116</td>\n",
       "      <td>0.0</td>\n",
       "      <td>0.003151</td>\n",
       "    </tr>\n",
       "  </tbody>\n",
       "</table>\n",
       "</div>"
      ],
      "text/plain": [
       "   dslf_fa13    fa_rep  hbond_bb_sc  hbond_lr_bb  hbond_sc  hbond_sr_bb  \\\n",
       "0    0.22973  0.297071     0.801774     0.686648  0.810329     0.780078   \n",
       "1    0.22973  0.278929     0.693164     0.630547  0.735858     0.733178   \n",
       "2    0.22973  0.039392     0.991470     0.971738  0.936427     0.821288   \n",
       "3    0.22973  0.454789     0.523125     0.461226  0.521223     0.576508   \n",
       "4    0.22973  0.041516     0.970284     0.899250  0.963758     0.914094   \n",
       "\n",
       "   lk_ball_wtd     omega   p_aa_pp  pro_close  rama_prepro       ref  time  \\\n",
       "0     0.771760  0.201707  0.734554   0.040848     0.712342  0.523591   0.0   \n",
       "1     0.694929  0.074615  0.636059   0.065490     0.423793  0.334937   0.0   \n",
       "2     0.917112  0.044517  0.954476   0.003597     0.268529  0.001079   0.0   \n",
       "3     0.483125  0.798760  0.529375   0.816637     0.601882  0.801711   0.0   \n",
       "4     0.911180  0.011580  0.907310   0.019308     0.267537  0.034116   0.0   \n",
       "\n",
       "   yhh_planarity  \n",
       "0       0.013655  \n",
       "1       0.097689  \n",
       "2       0.002101  \n",
       "3       0.056723  \n",
       "4       0.003151  "
      ]
     },
     "execution_count": 3,
     "metadata": {},
     "output_type": "execute_result"
    }
   ],
   "source": [
    "x_train.head()"
   ]
  },
  {
   "cell_type": "code",
   "execution_count": 4,
   "metadata": {},
   "outputs": [
    {
     "data": {
      "text/html": [
       "<div>\n",
       "<style scoped>\n",
       "    .dataframe tbody tr th:only-of-type {\n",
       "        vertical-align: middle;\n",
       "    }\n",
       "\n",
       "    .dataframe tbody tr th {\n",
       "        vertical-align: top;\n",
       "    }\n",
       "\n",
       "    .dataframe thead th {\n",
       "        text-align: right;\n",
       "    }\n",
       "</style>\n",
       "<table border=\"1\" class=\"dataframe\">\n",
       "  <thead>\n",
       "    <tr style=\"text-align: right;\">\n",
       "      <th></th>\n",
       "      <th>solubility</th>\n",
       "    </tr>\n",
       "  </thead>\n",
       "  <tbody>\n",
       "    <tr>\n",
       "      <th>0</th>\n",
       "      <td>94</td>\n",
       "    </tr>\n",
       "    <tr>\n",
       "      <th>1</th>\n",
       "      <td>66</td>\n",
       "    </tr>\n",
       "    <tr>\n",
       "      <th>2</th>\n",
       "      <td>98</td>\n",
       "    </tr>\n",
       "    <tr>\n",
       "      <th>3</th>\n",
       "      <td>10</td>\n",
       "    </tr>\n",
       "    <tr>\n",
       "      <th>4</th>\n",
       "      <td>23</td>\n",
       "    </tr>\n",
       "  </tbody>\n",
       "</table>\n",
       "</div>"
      ],
      "text/plain": [
       "   solubility\n",
       "0          94\n",
       "1          66\n",
       "2          98\n",
       "3          10\n",
       "4          23"
      ]
     },
     "execution_count": 4,
     "metadata": {},
     "output_type": "execute_result"
    }
   ],
   "source": [
    "y_train.head()"
   ]
  },
  {
   "cell_type": "markdown",
   "metadata": {},
   "source": [
    "# Linear Regression (LR)"
   ]
  },
  {
   "cell_type": "code",
   "execution_count": 5,
   "metadata": {},
   "outputs": [],
   "source": [
    "# The cross validation scheme to be used\n",
    "folds = kfold()"
   ]
  },
  {
   "cell_type": "code",
   "execution_count": 6,
   "metadata": {},
   "outputs": [
    {
     "name": "stdout",
     "output_type": "stream",
     "text": [
      "Train R2 score: [0.21291062 0.20531291 0.19530182 0.19964554 0.21213431 0.26819812\n",
      " 0.21384886 0.21504394 0.20298601 0.199347  ]\n",
      "Test R2 score: [ 0.13145059  0.14733488  0.26572906  0.21091189  0.11620462 -0.43059539\n",
      "  0.10630805  0.08869533  0.18446871  0.23296503]\n"
     ]
    }
   ],
   "source": [
    "# No texto dizer que foi usado os valores default e o LR foi usado como o limite inferior\n",
    "\n",
    "# Create the Linear Regression model\n",
    "# Use cross validation\n",
    "# Check the R2 score for train and test\n",
    "\n",
    "\n",
    "lm = LinearRegression()\n",
    "\n",
    "scores = cross_validate(estimator=lm, X=x_train, y=y_train, cv=folds,\n",
    "    scoring=('r2', 'neg_mean_squared_error'),\n",
    "    return_train_score=True)\n",
    "\n",
    "#print(scores.keys())\n",
    "print(\"Train R2 score: {}\".format(scores['train_r2']))\n",
    "print(\"Test R2 score: {}\".format(scores['test_r2']))"
   ]
  },
  {
   "cell_type": "code",
   "execution_count": 7,
   "metadata": {},
   "outputs": [
    {
     "name": "stdout",
     "output_type": "stream",
     "text": [
      "Train mean: 0.21247291329230583\n",
      "Train std: 0.019715609513024278\n",
      "-=-=-=-=-=-=-=-=-=-=-=\n",
      "Validation mean: 0.10534727652128535\n",
      "Validation std: 0.18694589435023923\n"
     ]
    }
   ],
   "source": [
    "#Get the mean and std for the train and test\n",
    "\n",
    "train_mean = sum(scores['train_r2'])/10\n",
    "test_mean = sum(scores['test_r2'])/10\n",
    "\n",
    "print(\"Train mean: {}\".format(train_mean))\n",
    "print(\"Train std: {}\".format(np.std(scores['train_r2'])))\n",
    "\n",
    "print(\"-=-=-=-=-=-=-=-=-=-=-=\")\n",
    "\n",
    "print(\"Validation mean: {}\".format(test_mean))\n",
    "print(\"Validation std: {}\".format(np.std(scores['test_r2'])))"
   ]
  },
  {
   "cell_type": "code",
   "execution_count": 8,
   "metadata": {},
   "outputs": [
    {
     "name": "stdout",
     "output_type": "stream",
     "text": [
      "-0.035173917162859114\n"
     ]
    }
   ],
   "source": [
    "# Test the model\n",
    "\n",
    "lm.fit(x_train, y_train)\n",
    "y_pred = lm.predict(x_test)\n",
    "r2 = metrics.r2_score(y_test, y_pred)\n",
    "print(r2)"
   ]
  },
  {
   "cell_type": "code",
   "execution_count": 9,
   "metadata": {},
   "outputs": [
    {
     "data": {
      "image/png": "[encoded data removed]",
      "text/plain": [
       "<Figure size 720x576 with 1 Axes>"
      ]
     },
     "metadata": {
      "needs_background": "light"
     },
     "output_type": "display_data"
    }
   ],
   "source": [
    "# Plot the R2 predicted and expected results\n",
    "plot_pred_expected_results(y_test, y_pred)"
   ]
  },
  {
   "cell_type": "code",
   "execution_count": 10,
   "metadata": {},
   "outputs": [
    {
     "name": "stdout",
     "output_type": "stream",
     "text": [
      "0.09209884051113992\n",
      "0.10870280233485063\n",
      "0.2324611260493561\n",
      "0.1751603238132171\n",
      "0.07616211067061485\n",
      "-0.49541201180659855\n",
      "0.06581715310394709\n",
      "0.04740644447204945\n",
      "0.14751906847995266\n",
      "0.1982126315745505\n"
     ]
    }
   ],
   "source": [
    "# Check the Adjusted R2\n",
    "\n",
    "n_observations = len(y_train)\n",
    "n_independent_variables = x_train.shape[1]\n",
    "\n",
    "for cross_val_r2 in scores['test_r2']:\n",
    "    Adj_r2 = get_adj_r2(n_observations=n_observations, n_independent_variables=n_independent_variables, r2_score=cross_val_r2)\n",
    "    print(Adj_r2)"
   ]
  },
  {
   "cell_type": "markdown",
   "metadata": {},
   "source": [
    "# Saving trained model"
   ]
  },
  {
   "cell_type": "code",
   "execution_count": 11,
   "metadata": {},
   "outputs": [
    {
     "data": {
      "text/plain": [
       "['../models/lr_model_high_removed.joblib']"
      ]
     },
     "execution_count": 11,
     "metadata": {},
     "output_type": "execute_result"
    }
   ],
   "source": [
    "filename = '../models/lr_model_high_removed.joblib'\n",
    "joblib.dump(lm, filename)"
   ]
  },
  {
   "cell_type": "code",
   "execution_count": null,
   "metadata": {},
   "outputs": [],
   "source": []
  }
 ],
 "metadata": {
  "interpreter": {
   "hash": "5edc29c2ed010d6458d71a83433b383a96a8cbd3efe8531bc90c4b8a5b8bcec9"
  },
  "kernelspec": {
   "display_name": "Python 3",
   "language": "python",
   "name": "python3"
  },
  "language_info": {
   "codemirror_mode": {
    "name": "ipython",
    "version": 3
   },
   "file_extension": ".py",
   "mimetype": "text/x-python",
   "name": "python",
   "nbconvert_exporter": "python",
   "pygments_lexer": "ipython3",
   "version": "3.7.3"
  },
  "orig_nbformat": 4
 },
 "nbformat": 4,
 "nbformat_minor": 2
}
