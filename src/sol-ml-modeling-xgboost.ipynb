{
 "cells": [
  {
   "cell_type": "code",
   "execution_count": 1,
   "metadata": {},
   "outputs": [],
   "source": [
    "# General libraries\n",
    "import pandas as pd\n",
    "import numpy as np\n",
    "import matplotlib.pyplot as plt\n",
    "\n",
    "# Scikit Learn libraries\n",
    "import xgboost as xgb\n",
    "from sklearn.metrics import r2_score\n",
    "from sklearn.model_selection import train_test_split\n",
    "from sklearn.model_selection import RandomizedSearchCV\n",
    "\n",
    "# Scipy libraries\n",
    "from scipy import stats\n",
    "import joblib\n",
    "import warnings\n",
    "warnings.filterwarnings('ignore')\n",
    "\n",
    "# Utils functions\n",
    "from utils.utils import kfold, five_two, read_datasets, plot_pred_expected_results"
   ]
  },
  {
   "cell_type": "markdown",
   "metadata": {},
   "source": [
    "# Load Dataset"
   ]
  },
  {
   "cell_type": "code",
   "execution_count": 2,
   "metadata": {},
   "outputs": [],
   "source": [
    "x_train, x_test, y_train, y_test = read_datasets(\n",
    "    'x_train.csv',\n",
    "    'x_test.csv',\n",
    "    'y_train.csv',\n",
    "    'y_test.csv'\n",
    ")"
   ]
  },
  {
   "cell_type": "markdown",
   "metadata": {},
   "source": [
    "# Gradient Boosting regression - XGBoost"
   ]
  },
  {
   "cell_type": "code",
   "execution_count": 3,
   "metadata": {},
   "outputs": [],
   "source": [
    "# The cross validation scheme to be used for train and test\n",
    "folds = kfold()"
   ]
  },
  {
   "cell_type": "markdown",
   "metadata": {},
   "source": [
    "## GridSearch"
   ]
  },
  {
   "cell_type": "code",
   "execution_count": 4,
   "metadata": {},
   "outputs": [
    {
     "name": "stdout",
     "output_type": "stream",
     "text": [
      "Fitting 10 folds for each of 15000 candidates, totalling 150000 fits\n",
      "[20:56:47] WARNING: /Users/runner/work/xgboost/xgboost/python-package/build/temp.macosx-10.9-x86_64-cpython-37/xgboost/src/gbm/gbtree.cc:82: DANGER AHEAD: You have manually specified `updater` parameter. The `tree_method` parameter will be ignored. Incorrect sequence of updaters will produce undefined behavior. For common uses, we recommend using `tree_method` parameter instead.\n",
      "{'updater': 'grow_histmaker', 'tree_method': 'approx', 'subsample': 0.7, 'sampling_method': 'uniform', 'reg_lambda': 0.5, 'refresh_leaf': 0, 'objective': 'reg:squarederror', 'n_estimators': 25, 'min_child_weight': 4, 'max_leaves': 3, 'max_depth': 1, 'max_delta_step': 0, 'grow_policy': 'depthwise', 'gamma': 0.5, 'eval_metric': 'rmse', 'eta': 0.3, 'colsample_bytree': 0.1, 'colsample_bynode': 1, 'colsample_bylevel': 1, 'booster': 'dart', 'base_score': 0.3, 'alpha': 0.4}\n"
     ]
    }
   ],
   "source": [
    "hyper_params = {\n",
    "    'colsample_bytree': [0.1, 0.2, 0.3],\n",
    "    'n_estimators': [10, 20, 25, 50], #75, 100\n",
    "    'subsample': [0.5, 0.6, 0.7],\n",
    "    'max_depth': [1, 2, 3],\n",
    "    'booster': ['gbtree', 'dart'],\n",
    "    'objective': [\"reg:squarederror\"],\n",
    "    'eta': [0.1, 0.2, 0.3, 0.4, 0.9],\n",
    "    'gamma': [0, 0.3, 0.5],\n",
    "    'min_child_weight': [2, 3, 4],\n",
    "    'max_delta_step':[0, 1],\n",
    "    'reg_lambda': [0.3, 0.5, 0.7],\n",
    "    'alpha': [0.2, 0.3, 0.4],\n",
    "    'tree_method': ['approx', 'auto', 'exact', 'gpu_hist', 'hist'],\n",
    "    'max_leaves': [0, 1, 3, 5, 8],\n",
    "    'eval_metric': ['rmse'],\n",
    "    'base_score': [0.1, 0.3, 0.4, 0.5],\n",
    "    'grow_policy': ['depthwise'],\n",
    "    'refresh_leaf': [0,1],\n",
    "    'sampling_method': ['uniform'],\n",
    "    'colsample_bylevel': [0.1, 0.2, 0.5, 1],\n",
    "    'colsample_bynode': [0.1, 0.2, 0.5, 1],\n",
    "    'colsample_bytree': [0.1, 0.2, 0.4, 1],\n",
    "    'updater': ['grow_colmaker', 'grow_histmaker', 'grow_quantile_histmaker', 'grow_gpu_hist', 'sync', 'refresh', 'prune']\n",
    "}\n",
    "\n",
    "\n",
    "\n",
    "\n",
    "# Call RandomizedSearchCV()\n",
    "model_cv = RandomizedSearchCV(\n",
    "    estimator = xgb.XGBRegressor(),\n",
    "    param_distributions = hyper_params,\n",
    "    n_iter=15000,\n",
    "    scoring= 'r2',\n",
    "    cv = folds,\n",
    "    verbose = 2,\n",
    "    return_train_score=True,\n",
    "    n_jobs = -1,\n",
    "    refit = True\n",
    "    )\n",
    "\n",
    "\n",
    "# Fit the model\n",
    "best_model = model_cv.fit(x_train, np.ravel(y_train)) \n",
    "\n",
    "print(model_cv.best_params_)"
   ]
  },
  {
   "cell_type": "code",
   "execution_count": 5,
   "metadata": {},
   "outputs": [],
   "source": [
    "# Create new model with best_params_ from grid search\n",
    "\n",
    "xgboost_best = best_model.best_estimator_"
   ]
  },
  {
   "cell_type": "code",
   "execution_count": 6,
   "metadata": {},
   "outputs": [
    {
     "name": "stdout",
     "output_type": "stream",
     "text": [
      "Train Results: [0.3066672463456256, 0.3257394732260702, 0.3064217869759662, 0.2974895794525573, 0.3120647200720027, 0.32768759716482243, 0.3140979004185773, 0.30579499734765003, 0.31936593593130247, 0.3062842302516018]\n",
      "Validation Results: [0.16931765201650306, 0.1269376981470567, 0.2646472208564231, 0.3119195415616982, 0.19341715381609026, -0.04391197858086726, 0.2471486054101285, 0.18056446266062176, 0.20128946916849455, 0.26446489294410136]\n"
     ]
    }
   ],
   "source": [
    "# Get the results for each split\n",
    "\n",
    "def get_best_model_cv_split_results(best_model, n_splits=10, set_type='train'):\n",
    "    results = []\n",
    "    best_index = best_model.best_index_\n",
    "    for i in range(0, n_splits):\n",
    "        current_split = 'split{}_{}_score'.format(i, set_type)\n",
    "        split_result = best_model.cv_results_[current_split][best_index]\n",
    "        results.append(split_result)\n",
    "\n",
    "    return results\n",
    "\n",
    "print(\"Train Results: {}\".format(get_best_model_cv_split_results(best_model, 10, 'train')))\n",
    "print(\"Validation Results: {}\".format(get_best_model_cv_split_results(best_model, 10, 'test')))"
   ]
  },
  {
   "cell_type": "code",
   "execution_count": 7,
   "metadata": {},
   "outputs": [
    {
     "name": "stdout",
     "output_type": "stream",
     "text": [
      "Train mean: 0.3121613467186176\n",
      "Train std: 0.009135398168516598\n",
      "-=-=-=-=-=-=-=-=-=-=-=\n",
      "Validation mean: 0.19157947180002505\n",
      "Validation std: 0.09411174413533142\n"
     ]
    }
   ],
   "source": [
    "#Get the mean and std for the train and test\n",
    "\n",
    "train_mean = sum(get_best_model_cv_split_results(best_model, 10, 'train'))/10\n",
    "test_mean = sum(get_best_model_cv_split_results(best_model, 10, 'test'))/10\n",
    "\n",
    "print(\"Train mean: {}\".format(train_mean))\n",
    "print(\"Train std: {}\".format(np.std(get_best_model_cv_split_results(best_model, 10, 'train'))))\n",
    "\n",
    "print(\"-=-=-=-=-=-=-=-=-=-=-=\")\n",
    "\n",
    "print(\"Validation mean: {}\".format(test_mean))\n",
    "print(\"Validation std: {}\".format(np.std(get_best_model_cv_split_results(best_model, 10, 'test'))))"
   ]
  },
  {
   "cell_type": "code",
   "execution_count": 8,
   "metadata": {},
   "outputs": [
    {
     "name": "stdout",
     "output_type": "stream",
     "text": [
      "The r2 score on test set: 0.2681\n"
     ]
    }
   ],
   "source": [
    "y_pred = xgboost_best.predict(x_test)\n",
    "r2 = r2_score(y_test, y_pred)\n",
    "print(\"The r2 score on test set: {:.4f}\".format(r2))"
   ]
  },
  {
   "cell_type": "code",
   "execution_count": 9,
   "metadata": {},
   "outputs": [
    {
     "data": {
      "image/png": "[encoded data removed]",
      "text/plain": [
       "<Figure size 720x576 with 1 Axes>"
      ]
     },
     "metadata": {
      "needs_background": "light"
     },
     "output_type": "display_data"
    }
   ],
   "source": [
    "# Plot the R2 predicted and expected results\n",
    "\n",
    "plot_pred_expected_results(y_test, y_pred)"
   ]
  },
  {
   "cell_type": "markdown",
   "metadata": {},
   "source": [
    "# Saving trained model"
   ]
  },
  {
   "cell_type": "code",
   "execution_count": 10,
   "metadata": {},
   "outputs": [
    {
     "data": {
      "text/plain": [
       "['../models/xgboost_model.joblib']"
      ]
     },
     "execution_count": 10,
     "metadata": {},
     "output_type": "execute_result"
    }
   ],
   "source": [
    "filename = '../models/xgboost_model.joblib'\n",
    "joblib.dump(xgboost_best, filename)"
   ]
  },
  {
   "cell_type": "markdown",
   "metadata": {},
   "source": [
    "## Notes\n",
    "\n",
    "* Create 10 folds\n",
    "* Set grid for the RandomSearchCV\n",
    "* Search and fit the model with best params\n",
    "* Get the results (r2) for each train and test results for training data\n",
    "* Get the result (r2) for test data"
   ]
  },
  {
   "cell_type": "code",
   "execution_count": null,
   "metadata": {},
   "outputs": [],
   "source": []
  }
 ],
 "metadata": {
  "kernelspec": {
   "display_name": "Python 3",
   "language": "python",
   "name": "python3"
  },
  "language_info": {
   "codemirror_mode": {
    "name": "ipython",
    "version": 3
   },
   "file_extension": ".py",
   "mimetype": "text/x-python",
   "name": "python",
   "nbconvert_exporter": "python",
   "pygments_lexer": "ipython3",
   "version": "3.7.3"
  },
  "orig_nbformat": 4,
  "vscode": {
   "interpreter": {
    "hash": "5edc29c2ed010d6458d71a83433b383a96a8cbd3efe8531bc90c4b8a5b8bcec9"
   }
  }
 },
 "nbformat": 4,
 "nbformat_minor": 2
}
