{
 "cells": [
  {
   "cell_type": "code",
   "execution_count": 1,
   "metadata": {},
   "outputs": [],
   "source": [
    "# General libraries\n",
    "import pandas as pd\n",
    "import numpy as np\n",
    "import matplotlib.pyplot as plt\n",
    "\n",
    "# Scikit Learn libraries\n",
    "import xgboost as xgb\n",
    "from sklearn.metrics import r2_score\n",
    "from sklearn.model_selection import train_test_split\n",
    "from sklearn.model_selection import RandomizedSearchCV\n",
    "\n",
    "# Scipy libraries\n",
    "from scipy import stats\n",
    "import joblib\n",
    "import warnings\n",
    "warnings.filterwarnings('ignore')\n",
    "\n",
    "# Utils functions\n",
    "from utils.utils import kfold, five_two, read_datasets, plot_pred_expected_results"
   ]
  },
  {
   "cell_type": "markdown",
   "metadata": {},
   "source": [
    "# Load Dataset"
   ]
  },
  {
   "cell_type": "code",
   "execution_count": 2,
   "metadata": {},
   "outputs": [],
   "source": [
    "x_train, x_test, y_train, y_test = read_datasets(\n",
    "    'x_train_2.csv',\n",
    "    'x_test_2.csv',\n",
    "    'y_train_2.csv',\n",
    "    'y_test_2.csv'\n",
    ")"
   ]
  },
  {
   "cell_type": "markdown",
   "metadata": {},
   "source": [
    "# Gradient Boosting regression - XGBoost"
   ]
  },
  {
   "cell_type": "code",
   "execution_count": 3,
   "metadata": {},
   "outputs": [],
   "source": [
    "# The cross validation scheme to be used for train and test\n",
    "folds = kfold()"
   ]
  },
  {
   "cell_type": "markdown",
   "metadata": {},
   "source": [
    "## GridSearch"
   ]
  },
  {
   "cell_type": "code",
   "execution_count": 4,
   "metadata": {},
   "outputs": [
    {
     "name": "stdout",
     "output_type": "stream",
     "text": [
      "Fitting 10 folds for each of 1 candidates, totalling 10 fits\n",
      "[06:31:56] WARNING: /Users/runner/work/xgboost/xgboost/python-package/build/temp.macosx-10.9-x86_64-cpython-37/xgboost/src/gbm/gbtree.cc:82: DANGER AHEAD: You have manually specified `updater` parameter. The `tree_method` parameter will be ignored. Incorrect sequence of updaters will produce undefined behavior. For common uses, we recommend using `tree_method` parameter instead.\n",
      "{'updater': 'grow_colmaker', 'tree_method': 'hist', 'subsample': 0.5, 'sampling_method': 'uniform', 'reg_lambda': 0.5, 'refresh_leaf': 1, 'objective': 'reg:squarederror', 'n_estimators': 50, 'min_child_weight': 2, 'max_leaves': 1, 'max_depth': 1, 'max_delta_step': 0, 'grow_policy': 'depthwise', 'gamma': 0.5, 'eval_metric': 'rmse', 'eta': 0.3, 'colsample_bytree': 1, 'colsample_bynode': 0.5, 'colsample_bylevel': 1, 'booster': 'gbtree', 'base_score': 0.3, 'alpha': 0.2}\n"
     ]
    }
   ],
   "source": [
    "# hyper_params = {\n",
    "#     'colsample_bytree': [0.1, 0.2, 0.3],\n",
    "#     'n_estimators': [10, 20, 25, 50], #75, 100\n",
    "#     'subsample': [0.5, 0.6, 0.7],\n",
    "#     'max_depth': [1, 2, 3],\n",
    "#     'booster': ['gbtree', 'dart'],\n",
    "#     'objective': [\"reg:squarederror\"],\n",
    "#     'eta': [0.1, 0.2, 0.3, 0.4, 0.9],\n",
    "#     'gamma': [0, 0.3, 0.5],\n",
    "#     'min_child_weight': [2, 3, 4],\n",
    "#     'max_delta_step':[0, 1],\n",
    "#     'reg_lambda': [0.3, 0.5, 0.7],\n",
    "#     'alpha': [0.2, 0.3, 0.4],\n",
    "#     'tree_method': ['approx', 'auto', 'exact', 'gpu_hist', 'hist'],\n",
    "#     'max_leaves': [0, 1, 3, 5, 8],\n",
    "#     'eval_metric': ['rmse'],\n",
    "#     'base_score': [0.1, 0.3, 0.4, 0.5],\n",
    "#     'grow_policy': ['depthwise'],\n",
    "#     'refresh_leaf': [0,1],\n",
    "#     'sampling_method': ['uniform'],\n",
    "#     'colsample_bylevel': [0.1, 0.2, 0.5, 1],\n",
    "#     'colsample_bynode': [0.1, 0.2, 0.5, 1],\n",
    "#     'colsample_bytree': [0.1, 0.2, 0.4, 1],\n",
    "#     'updater': ['grow_colmaker', 'grow_histmaker', 'grow_quantile_histmaker', 'grow_gpu_hist', 'sync', 'refresh', 'prune']\n",
    "# }\n",
    "\n",
    "\n",
    "hyper_params = {\n",
    "    'colsample_bytree': [0.1, 0.2, 0.3],\n",
    "    'n_estimators': [50],\n",
    "    'subsample': [0.5],\n",
    "    'max_depth': [1],\n",
    "    'booster': ['gbtree'],\n",
    "    'objective': [\"reg:squarederror\"],\n",
    "    'eta': [0.3],\n",
    "    'gamma': [0.5],\n",
    "    'min_child_weight': [2],\n",
    "    'max_delta_step':[0],\n",
    "    'reg_lambda': [0.5],\n",
    "    'alpha': [0.2],\n",
    "    'tree_method': ['hist'],\n",
    "    'max_leaves': [1],\n",
    "    'eval_metric': ['rmse'],\n",
    "    'base_score': [0.3],\n",
    "    'grow_policy': ['depthwise'],\n",
    "    'refresh_leaf': [1],\n",
    "    'sampling_method': ['uniform'],\n",
    "    'colsample_bylevel': [1],\n",
    "    'colsample_bynode': [0.5],\n",
    "    'colsample_bytree': [1],\n",
    "    'updater': ['grow_colmaker']\n",
    "}\n",
    "\n",
    "\n",
    "\n",
    "# Call RandomizedSearchCV()\n",
    "model_cv = RandomizedSearchCV(\n",
    "    estimator = xgb.XGBRegressor(),\n",
    "    param_distributions = hyper_params,\n",
    "    n_iter=15000,\n",
    "    scoring= 'r2',\n",
    "    cv = folds,\n",
    "    verbose = 2,\n",
    "    return_train_score=True,\n",
    "    n_jobs = -1,\n",
    "    refit = True\n",
    "    )\n",
    "\n",
    "\n",
    "# Fit the model\n",
    "best_model = model_cv.fit(x_train, np.ravel(y_train)) \n",
    "\n",
    "print(model_cv.best_params_)"
   ]
  },
  {
   "cell_type": "code",
   "execution_count": 5,
   "metadata": {},
   "outputs": [],
   "source": [
    "# Create new model with best_params_ from grid search\n",
    "\n",
    "xgboost_best = best_model.best_estimator_"
   ]
  },
  {
   "cell_type": "code",
   "execution_count": 6,
   "metadata": {},
   "outputs": [
    {
     "name": "stdout",
     "output_type": "stream",
     "text": [
      "Train Results: [0.40672630499440887, 0.3991088883606113, 0.39655167635397837, 0.3887413850487118, 0.42637176535988264, 0.4418187969054753, 0.39325037181471845, 0.4161004632461909, 0.4145566521275271, 0.415131986998698]\n",
      "Validation Results: [0.19174189029758948, 0.2958880679478769, 0.21174812919368313, 0.25973055256250743, 0.22764665355642488, -0.1400320560267978, 0.26704520249596575, 0.23223104815602602, 0.08495952735694245, 0.29838219577809333]\n"
     ]
    }
   ],
   "source": [
    "# Get the results for each split\n",
    "\n",
    "def get_best_model_cv_split_results(best_model, n_splits=10, set_type='train'):\n",
    "    results = []\n",
    "    best_index = best_model.best_index_\n",
    "    for i in range(0, n_splits):\n",
    "        current_split = 'split{}_{}_score'.format(i, set_type)\n",
    "        split_result = best_model.cv_results_[current_split][best_index]\n",
    "        results.append(split_result)\n",
    "\n",
    "    return results\n",
    "\n",
    "print(\"Train Results: {}\".format(get_best_model_cv_split_results(best_model, 10, 'train')))\n",
    "print(\"Validation Results: {}\".format(get_best_model_cv_split_results(best_model, 10, 'test')))"
   ]
  },
  {
   "cell_type": "code",
   "execution_count": 7,
   "metadata": {},
   "outputs": [
    {
     "name": "stdout",
     "output_type": "stream",
     "text": [
      "Train mean: 0.40983582912102035\n",
      "Train std: 0.015515110674216393\n",
      "-=-=-=-=-=-=-=-=-=-=-=\n",
      "Validation mean: 0.19293412113183117\n",
      "Validation std: 0.12542033805229114\n"
     ]
    }
   ],
   "source": [
    "#Get the mean and std for the train and test\n",
    "\n",
    "train_mean = sum(get_best_model_cv_split_results(best_model, 10, 'train'))/10\n",
    "test_mean = sum(get_best_model_cv_split_results(best_model, 10, 'test'))/10\n",
    "\n",
    "print(\"Train mean: {}\".format(train_mean))\n",
    "print(\"Train std: {}\".format(np.std(get_best_model_cv_split_results(best_model, 10, 'train'))))\n",
    "\n",
    "print(\"-=-=-=-=-=-=-=-=-=-=-=\")\n",
    "\n",
    "print(\"Validation mean: {}\".format(test_mean))\n",
    "print(\"Validation std: {}\".format(np.std(get_best_model_cv_split_results(best_model, 10, 'test'))))"
   ]
  },
  {
   "cell_type": "code",
   "execution_count": 8,
   "metadata": {},
   "outputs": [
    {
     "name": "stdout",
     "output_type": "stream",
     "text": [
      "The r2 score on test set: 0.1347\n"
     ]
    }
   ],
   "source": [
    "y_pred = xgboost_best.predict(x_test)\n",
    "r2 = r2_score(y_test, y_pred)\n",
    "print(\"The r2 score on test set: {:.4f}\".format(r2))"
   ]
  },
  {
   "cell_type": "code",
   "execution_count": 11,
   "metadata": {},
   "outputs": [
    {
     "data": {
      "text/html": [
       "<div>\n",
       "<style scoped>\n",
       "    .dataframe tbody tr th:only-of-type {\n",
       "        vertical-align: middle;\n",
       "    }\n",
       "\n",
       "    .dataframe tbody tr th {\n",
       "        vertical-align: top;\n",
       "    }\n",
       "\n",
       "    .dataframe thead th {\n",
       "        text-align: right;\n",
       "    }\n",
       "</style>\n",
       "<table border=\"1\" class=\"dataframe\">\n",
       "  <thead>\n",
       "    <tr style=\"text-align: right;\">\n",
       "      <th></th>\n",
       "      <th>Esperado</th>\n",
       "      <th>Predito</th>\n",
       "      <th>Residuo</th>\n",
       "    </tr>\n",
       "  </thead>\n",
       "  <tbody>\n",
       "    <tr>\n",
       "      <th>0</th>\n",
       "      <td>73</td>\n",
       "      <td>73.369385</td>\n",
       "      <td>-0.369385</td>\n",
       "    </tr>\n",
       "    <tr>\n",
       "      <th>1</th>\n",
       "      <td>38</td>\n",
       "      <td>66.658546</td>\n",
       "      <td>-28.658546</td>\n",
       "    </tr>\n",
       "    <tr>\n",
       "      <th>2</th>\n",
       "      <td>14</td>\n",
       "      <td>47.686352</td>\n",
       "      <td>-33.686352</td>\n",
       "    </tr>\n",
       "    <tr>\n",
       "      <th>3</th>\n",
       "      <td>10</td>\n",
       "      <td>43.047512</td>\n",
       "      <td>-33.047512</td>\n",
       "    </tr>\n",
       "    <tr>\n",
       "      <th>4</th>\n",
       "      <td>91</td>\n",
       "      <td>62.817902</td>\n",
       "      <td>28.182098</td>\n",
       "    </tr>\n",
       "  </tbody>\n",
       "</table>\n",
       "</div>"
      ],
      "text/plain": [
       "   Esperado    Predito    Residuo\n",
       "0        73  73.369385  -0.369385\n",
       "1        38  66.658546 -28.658546\n",
       "2        14  47.686352 -33.686352\n",
       "3        10  43.047512 -33.047512\n",
       "4        91  62.817902  28.182098"
      ]
     },
     "execution_count": 11,
     "metadata": {},
     "output_type": "execute_result"
    }
   ],
   "source": [
    "res_df = pd.DataFrame()\n",
    "res_df['Esperado'] = y_test\n",
    "res_df['Predito'] = y_pred\n",
    "res_df['Residuo'] = res_df['Esperado'] - res_df['Predito']\n",
    "\n",
    "res_df.head()"
   ]
  },
  {
   "cell_type": "code",
   "execution_count": 14,
   "metadata": {},
   "outputs": [
    {
     "data": {
      "text/plain": [
       "38"
      ]
     },
     "execution_count": 14,
     "metadata": {},
     "output_type": "execute_result"
    }
   ],
   "source": [
    "(res_df['Residuo'] > 0).sum().sum()"
   ]
  },
  {
   "cell_type": "code",
   "execution_count": 13,
   "metadata": {},
   "outputs": [
    {
     "data": {
      "image/png": "[encoded data removed]",
      "text/plain": [
       "<Figure size 560x400 with 1 Axes>"
      ]
     },
     "metadata": {
      "needs_background": "light"
     },
     "output_type": "display_data"
    }
   ],
   "source": [
    "from matplotlib.pyplot import figure\n",
    "figure(figsize=(7, 5), dpi=80)\n",
    "\n",
    "plt.hist(y_pred, label='Predito', color='teal', alpha=0.4)\n",
    "plt.hist(y_test, label='Esperado', color='darkred', alpha=0.4)\n",
    "plt.title('Histograma: Predito vs Esperado')\n",
    "plt.legend()\n",
    "plt.show()"
   ]
  },
  {
   "cell_type": "code",
   "execution_count": 9,
   "metadata": {},
   "outputs": [
    {
     "data": {
      "image/png": "[encoded data removed]",
      "text/plain": [
       "<Figure size 720x576 with 1 Axes>"
      ]
     },
     "metadata": {
      "needs_background": "light"
     },
     "output_type": "display_data"
    }
   ],
   "source": [
    "# Plot the R2 predicted and expected results\n",
    "\n",
    "plot_pred_expected_results(y_test, y_pred)"
   ]
  },
  {
   "cell_type": "markdown",
   "metadata": {},
   "source": [
    "# Saving trained model"
   ]
  },
  {
   "cell_type": "code",
   "execution_count": 10,
   "metadata": {},
   "outputs": [
    {
     "data": {
      "text/plain": [
       "['../models/xgboost_model_high_removed.joblib']"
      ]
     },
     "execution_count": 10,
     "metadata": {},
     "output_type": "execute_result"
    }
   ],
   "source": [
    "filename = '../models/xgboost_model_high_removed.joblib'\n",
    "joblib.dump(xgboost_best, filename)"
   ]
  },
  {
   "cell_type": "markdown",
   "metadata": {},
   "source": [
    "## Notes\n",
    "\n",
    "* Create 10 folds\n",
    "* Set grid for the RandomSearchCV\n",
    "* Search and fit the model with best params\n",
    "* Get the results (r2) for each train and test results for training data\n",
    "* Get the result (r2) for test data"
   ]
  },
  {
   "cell_type": "code",
   "execution_count": null,
   "metadata": {},
   "outputs": [],
   "source": []
  }
 ],
 "metadata": {
  "kernelspec": {
   "display_name": "Python 3",
   "language": "python",
   "name": "python3"
  },
  "language_info": {
   "codemirror_mode": {
    "name": "ipython",
    "version": 3
   },
   "file_extension": ".py",
   "mimetype": "text/x-python",
   "name": "python",
   "nbconvert_exporter": "python",
   "pygments_lexer": "ipython3",
   "version": "3.7.3"
  },
  "orig_nbformat": 4,
  "vscode": {
   "interpreter": {
    "hash": "5edc29c2ed010d6458d71a83433b383a96a8cbd3efe8531bc90c4b8a5b8bcec9"
   }
  }
 },
 "nbformat": 4,
 "nbformat_minor": 2
}
