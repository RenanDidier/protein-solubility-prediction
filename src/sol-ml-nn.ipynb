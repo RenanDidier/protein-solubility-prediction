{
 "cells": [
  {
   "cell_type": "code",
   "execution_count": 1,
   "metadata": {},
   "outputs": [],
   "source": [
    "# General libraries\n",
    "import pandas as pd\n",
    "import numpy as np\n",
    "\n",
    "from sklearn.metrics import r2_score\n",
    "from sklearn.neural_network import MLPRegressor\n",
    "from sklearn.model_selection import RandomizedSearchCV\n",
    "import joblib\n",
    "\n",
    "# Utils functions\n",
    "from utils.utils import kfold, read_datasets, plot_pred_expected_results"
   ]
  },
  {
   "cell_type": "code",
   "execution_count": 2,
   "metadata": {},
   "outputs": [],
   "source": [
    "x_train, x_test, y_train, y_test = read_datasets(\n",
    "    'x_train.csv',\n",
    "    'x_test.csv',\n",
    "    'y_train.csv',\n",
    "    'y_test.csv'\n",
    ")"
   ]
  },
  {
   "cell_type": "code",
   "execution_count": 3,
   "metadata": {},
   "outputs": [],
   "source": [
    "folds = kfold()"
   ]
  },
  {
   "cell_type": "code",
   "execution_count": 4,
   "metadata": {},
   "outputs": [
    {
     "name": "stdout",
     "output_type": "stream",
     "text": [
      "Fitting 10 folds for each of 300 candidates, totalling 3000 fits\n"
     ]
    },
    {
     "name": "stderr",
     "output_type": "stream",
     "text": [
      "/Users/renan/Library/Python/3.7/lib/python/site-packages/sklearn/model_selection/_search.py:972: UserWarning: One or more of the test scores are non-finite: [ 7.15949135e-02 -2.54604898e-02 -4.64489864e-01  1.09239843e-01\n",
      "  1.38147897e-01 -4.72267908e-01 -3.86983131e-01  1.01041049e-01\n",
      "  1.22786060e-01  1.05587376e-01  1.03316315e-01  1.06143574e-01\n",
      "             nan  9.63749254e-02  1.30843794e-02  5.14715542e-02\n",
      "  1.07566823e-01 -5.01803900e-01  1.26601947e-01 -4.83153589e-01\n",
      "  1.05101217e-01  1.15807280e-01             nan  9.73432500e-02\n",
      "  9.91942487e-02  4.76913723e-02  1.37221398e-01  1.02565890e-01\n",
      " -2.35363544e-02  1.36750191e-02 -5.27569224e-01  1.27085291e-01\n",
      "  1.23169767e-01  9.70069851e-02  1.38906308e-01  4.62581285e-03\n",
      " -2.55446576e-01  2.53684193e-02 -1.20617412e-01  9.54881282e-02\n",
      "  1.51222438e-01  7.65263150e-02 -2.04641825e-01  4.50762923e-02\n",
      " -3.11632716e-01 -3.93750128e-01  6.81693540e-02  1.53203412e-01\n",
      "  8.80984688e-02 -1.98086085e-01  5.03999734e-02  9.85900645e-02\n",
      "  1.14604886e-01  1.24094257e-01  9.72919053e-02 -3.95442601e-01\n",
      "  1.24540241e-01  9.72707616e-02 -5.78969554e-01  5.75060991e-02\n",
      "  4.88236717e-02  9.31275144e-02  1.31768117e-01  3.98335997e-02\n",
      "  1.14324568e-02  4.26562653e-02  9.70450448e-02 -3.00595827e-01\n",
      "  9.92931426e-02  1.08376977e-01 -1.50124357e-01  1.53098167e-01\n",
      "  1.03610462e-01  3.05976521e-05  8.85057173e-02  1.04393317e-01\n",
      "  1.09079638e-01 -8.24194672e-02  1.00533701e-01 -4.29618771e-01\n",
      " -2.32132866e-01  1.08031500e-01 -5.50857180e-01 -1.59186860e-02\n",
      "  2.17714092e-02  4.03345362e-02  4.45556143e-02  1.02816482e-01\n",
      "  1.10725763e-01 -1.46540409e-01  6.89292790e-02  1.29461688e-02\n",
      "  1.37789629e-01  5.18007563e-02  8.56478233e-02 -4.89992711e-01\n",
      " -2.65277742e-01  9.50338580e-02 -5.53132397e+01  1.34003831e-01\n",
      " -2.00536450e-02  1.54960451e-01 -3.71549779e-01 -5.09848108e-01\n",
      " -9.93813874e-02 -1.92877862e-01 -2.81894161e-01 -1.21881948e-02\n",
      " -3.01622525e-01  9.72452036e-02 -1.88509792e+00  9.67750618e-02\n",
      " -8.90051757e-03  1.05888751e-01 -3.33877185e-02  1.13001454e-01\n",
      " -2.30443119e-01  1.15152609e-01  1.20103444e-01 -6.18311806e-01\n",
      "  1.00116679e-01  4.83743163e-02  9.89389287e-02  9.86909476e-02\n",
      "  9.82685257e-02  7.33469537e-02  1.39008219e-01  1.51679552e-02\n",
      "  1.25539504e-01  9.27192278e-02  8.54305645e-02  1.13972059e-01\n",
      " -1.73477210e-01  1.40851698e-01 -3.09966161e-01 -2.08942620e-01\n",
      "  1.07006743e-01  1.35793084e-01  1.28035243e-01  1.42849202e-01\n",
      "  6.29007626e-02  1.10436787e-01  1.11526288e-01  9.14308136e-02\n",
      "             nan  1.44608182e-01  1.05061798e-01  8.79259275e-02\n",
      " -1.16653584e-02  1.09565627e-01  1.15545480e-01 -1.35579407e+00\n",
      " -5.14655218e-02  2.81931609e-02  1.44867798e-01  9.18667714e-02\n",
      "  1.29284499e-01  1.18335220e-01 -9.90110528e-02 -7.60819120e-01\n",
      " -1.59562927e-02 -5.64395780e-01  1.29781216e-01  7.88805204e-02\n",
      " -1.82096527e-01  1.28135317e-02  1.40474519e-01 -2.30914621e-01\n",
      "  1.08640668e-01  1.07198931e-01 -5.81364060e-01  1.09292185e-01\n",
      " -7.58339387e-02 -3.81801961e-01  1.03680974e-01 -4.58083715e-01\n",
      " -2.29335508e+00 -3.91399215e-01             nan -1.95511006e-01\n",
      "  1.18369071e-01  1.02292009e-01  1.39030712e-02  1.05431756e-01\n",
      "  1.06735514e-01  9.59200239e-02  4.51783822e-02  1.10902909e-01\n",
      " -2.04251186e-01 -2.12914628e+01  1.50146638e-01  1.51961998e-01\n",
      " -3.12450420e-01  1.04396016e-01  1.09539171e-01  9.29598558e-02\n",
      "  1.19043919e-01  1.47484357e-01  3.28645742e-03  9.57186919e-02\n",
      "  9.64729827e-02  1.71386725e-02  9.01974376e-02  9.23553690e-02\n",
      "  1.13264607e-01 -2.41325060e+00  4.85280591e-02  1.30094569e-01\n",
      " -7.09739576e-02  3.54467794e-02 -9.58240139e-01 -1.56944558e-02\n",
      "  9.57718417e-02 -2.10134946e-01 -1.99649593e-01 -3.05980753e-01\n",
      "  2.24466996e-02  1.22725617e-01 -3.10474939e+01  1.05429477e-01\n",
      "  3.89695587e-02 -2.72461825e-01  1.28501334e-01  1.18453488e-01\n",
      "  4.60660296e-02 -1.73847327e-01  1.55367250e-01  1.25938714e-01\n",
      "  1.33067132e-01 -6.21079467e-01 -6.82589094e-02  8.43490699e-02\n",
      " -7.64249855e-01 -4.78748364e-02 -3.05259627e-01  1.05523254e-01\n",
      "  9.77355091e-02  6.34449992e-02 -3.65649509e-01  9.12550469e-02\n",
      "  1.28526761e-01 -8.43977847e-02  1.19112853e-01  1.07283442e-01\n",
      "  9.83991277e-02 -1.90216715e-01 -2.39713841e-01  1.05812071e-01\n",
      "  1.43695552e-01 -3.62845136e-01 -4.43138693e-01 -1.31317273e-02\n",
      "  9.54697815e-02  9.72737831e-02  1.43591861e-01  1.35627999e-01\n",
      " -4.40960586e-01  2.84848180e-03  9.57909393e-02  8.99853414e-02\n",
      "  5.33688152e-02  9.92875005e-02 -1.80105654e-01 -1.91111619e-02\n",
      "  9.61732762e-02 -3.23364769e-01 -2.97024235e+00  9.96503736e-02\n",
      "  9.90650605e-02  8.91840414e-02  1.01099697e-01  4.02155279e-02\n",
      "  1.05059293e-01  6.85362743e-02  1.09768828e-01  3.83501286e-02\n",
      "  9.80203003e-02  1.58140464e-01  1.01739708e-01  1.03973543e-01\n",
      "  1.09400086e-02  1.05902648e-01 -1.92126437e-01  3.61571302e-02\n",
      "  8.38282054e-02  1.26475941e-01  1.09100683e-01  1.02886291e-01\n",
      "  9.07846188e-02  4.30364514e-02  6.80533856e-02  1.08751507e-01\n",
      " -2.09471534e-01 -4.50636584e-01 -5.80547851e+00  6.37097903e-02\n",
      "  9.73220744e-02 -2.16828007e-02  1.01811241e-01 -1.24117866e-02]\n",
      "  category=UserWarning,\n",
      "/Users/renan/Library/Python/3.7/lib/python/site-packages/sklearn/model_selection/_search.py:972: UserWarning: One or more of the train scores are non-finite: [ 4.59265445e-01  3.05483887e-01  8.89590097e-01  1.60772706e-01\n",
      "  2.61428681e-01  7.86139006e-01  7.68627678e-01  2.41624804e-01\n",
      "  1.78871659e-01  2.40980464e-01  2.20446790e-01  2.40695724e-01\n",
      "             nan  1.60735442e-01  4.92902996e-02  8.04646416e-02\n",
      "  1.44733599e-01  7.69941256e-01  1.76492426e-01 -3.29358145e-01\n",
      "  1.55693214e-01  1.71379286e-01             nan  1.53331944e-01\n",
      "  2.41499168e-01  8.33987964e-02  1.98025707e-01  1.43419834e-01\n",
      " -3.09665208e-03  4.47242627e-02  8.01330300e-01  1.77859618e-01\n",
      "  1.87902620e-01  1.57229335e-01  2.39312682e-01  4.49608248e-01\n",
      "  8.06255411e-01  1.72959603e-01 -1.01537249e-01  1.55633543e-01\n",
      "  2.77647125e-01  2.41790345e-01  8.08454555e-01  1.64351785e-01\n",
      "  7.46920576e-01  8.22968535e-01  9.90726558e-02  2.77151611e-01\n",
      "  1.34659463e-01  6.92327331e-01  8.38957428e-02  1.55764434e-01\n",
      "  2.49468702e-01  1.81638392e-01  1.56131352e-01  8.30876464e-01\n",
      "  1.80374107e-01  1.24490361e-01  8.53261406e-01  8.25780696e-02\n",
      "  8.34847550e-02  1.35225650e-01  2.98596427e-01  1.30276523e-01\n",
      "  4.12451678e-02  8.02128242e-02  1.23547684e-01  6.74297375e-01\n",
      "  1.60182752e-01  2.41279424e-01 -1.29009562e-01  3.05299642e-01\n",
      "  2.41848487e-01  4.53323298e-01  1.24473462e-01  2.41294724e-01\n",
      "  1.96334794e-01 -6.23032731e-02  2.41134145e-01 -3.40337384e-01\n",
      " -1.11143115e-01  1.66932480e-01 -5.23993629e-01  5.45683583e-03\n",
      "  4.61405027e-01  5.90610621e-02  8.18049883e-02  2.41128568e-01\n",
      "  4.46029193e-01 -1.27667687e-01  1.06946925e-01  4.53415085e-02\n",
      "  2.04342149e-01  9.77359108e-02  1.12741736e-01  8.23307304e-01\n",
      "  8.49505704e-01  1.57921467e-01 -5.61839632e+01  1.83309487e-01\n",
      "  9.03764653e-04  2.71506167e-01  7.29615806e-01  7.81402242e-01\n",
      "  7.64328074e-01 -1.73131485e-01  7.26163155e-01  1.07051090e-02\n",
      "  7.15722562e-01  1.35840604e-01 -1.86390295e+00  1.55921495e-01\n",
      "  4.55277975e-01  2.41601594e-01  4.64147336e-01  2.07472388e-01\n",
      "  7.31818870e-01  1.68148810e-01  1.72068913e-01 -5.81226877e-01\n",
      "  1.31910561e-01  8.37900887e-02  2.40750789e-01  1.14312085e-01\n",
      "  1.33730454e-01  4.72546322e-01  2.21116664e-01  4.53254781e-02\n",
      "  2.06057764e-01  4.64800189e-01  1.33665441e-01  1.65196780e-01\n",
      "  7.63946577e-01  3.41672922e-01  8.14407866e-01  7.30051682e-01\n",
      "  2.01362523e-01  3.10270392e-01  2.67877316e-01  2.03146697e-01\n",
      "  3.33492135e-01  1.48861533e-01  2.19054999e-01  1.35010455e-01\n",
      "             nan  2.02906459e-01  1.67959167e-01  4.46307416e-01\n",
      "  1.05973759e-02  2.41118381e-01  1.75854035e-01 -1.28340473e+00\n",
      "  4.69972532e-01  4.97977859e-02  2.71422691e-01  1.34174503e-01\n",
      "  3.10253500e-01  2.40230629e-01 -7.30430919e-02 -6.55346944e-01\n",
      "  5.77433169e-03  8.24385886e-01  2.82762342e-01  1.88442764e-01\n",
      "  6.69507279e-01  4.62256019e-01  2.29221772e-01  6.92180525e-01\n",
      "  2.41888048e-01  2.41373471e-01  7.94223886e-01  1.51716129e-01\n",
      "  4.71148655e-01  8.36808958e-01  2.41508245e-01  8.64816234e-01\n",
      " -2.25426538e+00  8.21042798e-01             nan  6.76729859e-01\n",
      "  2.45624312e-01  2.41553224e-01  4.52734629e-02  2.41737612e-01\n",
      "  1.56099073e-01  1.39091585e-01  8.26079726e-02  1.67092371e-01\n",
      "  8.17782021e-01 -2.07313284e+01  2.73744773e-01  2.48278026e-01\n",
      "  7.31456759e-01  2.41519759e-01  1.84707226e-01  1.33150249e-01\n",
      "  1.74373186e-01  2.32329767e-01  4.74645118e-01  1.58070972e-01\n",
      "  1.61093250e-01  3.33818436e-02  1.17002443e-01  1.13411872e-01\n",
      "  1.73177957e-01 -2.34190676e+00  7.39483945e-02  1.97552049e-01\n",
      "  4.64932024e-01  4.80474548e-01 -8.83268381e-01  6.46612100e-03\n",
      "  1.55870719e-01  7.36508646e-01  8.03118313e-01  7.20640261e-01\n",
      "  4.46053966e-02  2.38195892e-01 -3.03547880e+01  2.41153108e-01\n",
      "  4.55355273e-01 -2.38883001e-01  1.84924249e-01  1.80107444e-01\n",
      "  9.47389868e-02 -4.62210400e-02  2.71880109e-01  1.80430135e-01\n",
      "  2.48723728e-01  7.99643247e-01  4.50513745e-01  1.13041130e-01\n",
      " -8.22700741e-01 -2.20831712e-02  7.32820892e-01  2.41355815e-01\n",
      "  1.60425076e-01  1.01266965e-01  7.97331570e-01  1.38337405e-01\n",
      "  1.90718465e-01 -6.35968206e-02  1.90148538e-01  1.44677059e-01\n",
      "  1.60242192e-01  8.18604502e-01  8.08542963e-01  2.41147066e-01\n",
      "  2.77504546e-01  7.96984043e-01  7.78683073e-01  9.46209299e-02\n",
      "  1.42788256e-01  1.61589913e-01  2.26100651e-01  2.00605446e-01\n",
      " -4.16261571e-01  4.68321651e-01  1.39302379e-01  1.35735336e-01\n",
      "  9.40649772e-02  1.57341226e-01 -1.60884330e-01  1.43404053e-03\n",
      "  1.32359119e-01  8.34290969e-01 -2.89491879e+00  2.41383583e-01\n",
      "  2.88491379e-01  1.16054954e-01  2.40505105e-01  6.24088095e-02\n",
      "  2.41437182e-01  9.76270218e-02  2.41602640e-01  2.25822166e-01\n",
      "  1.60017736e-01  2.42047925e-01  2.41129380e-01  2.41154311e-01\n",
      "  4.24571239e-02  2.40137513e-01 -1.75445631e-01  6.27684052e-02\n",
      "  4.58189513e-01  1.84255634e-01  1.56133167e-01  2.41030462e-01\n",
      "  1.39221810e-01  4.49788225e-01  9.85170120e-02  1.38275703e-01\n",
      "  7.78696676e-01  8.37860012e-01 -5.64369899e+00  1.02063341e-01\n",
      "  1.38621433e-01  2.40108583e-03  2.41421890e-01  1.04592500e-02]\n",
      "  category=UserWarning,\n"
     ]
    },
    {
     "name": "stdout",
     "output_type": "stream",
     "text": [
      "{'solver': 'sgd', 'shuffle': True, 'power_t': 0.5, 'momentum': 0.5, 'max_iter': 200, 'learning_rate_init': 0.005, 'learning_rate': 'adaptive', 'hidden_layer_sizes': (80,), 'early_stopping': False, 'alpha': 0.1, 'activation': 'tanh'}\n"
     ]
    },
    {
     "name": "stderr",
     "output_type": "stream",
     "text": [
      "/Users/renan/Library/Python/3.7/lib/python/site-packages/sklearn/neural_network/_multilayer_perceptron.py:696: ConvergenceWarning: Stochastic Optimizer: Maximum iterations (200) reached and the optimization hasn't converged yet.\n",
      "  ConvergenceWarning,\n"
     ]
    }
   ],
   "source": [
    "# Specify range of hyperparameters to tune\n",
    "hyper_params = {\n",
    "    'hidden_layer_sizes': [(80,), (100,), (110,), (150,)],\n",
    "    'activation': ['identity', 'logistic', 'tanh', 'relu'],\n",
    "    'solver': ['lbfgs', 'sgd', 'adam'],\n",
    "    'alpha': [0.0001, 0.1],\n",
    "    'learning_rate': ['constant', 'invscaling', 'adaptive'],\n",
    "    'learning_rate_init': [0.001, 0.002, 0.005, 0.006],\n",
    "    'power_t': [0.5, 0.6],\n",
    "    'max_iter': [200],\n",
    "    'shuffle': [True],\n",
    "    'momentum': [0.5, 0.8, 0.9, 1],\n",
    "    'early_stopping': [False]\n",
    "\n",
    "}\n",
    "\n",
    "\n",
    "\n",
    "# Call RandomSearchCV()\n",
    "model_cv = RandomizedSearchCV(\n",
    "    estimator = MLPRegressor(),\n",
    "    param_distributions = hyper_params,\n",
    "    n_iter=300,\n",
    "    scoring= 'r2',\n",
    "    cv = folds,\n",
    "    verbose = 2,\n",
    "    return_train_score=True,\n",
    "    n_jobs = -1,\n",
    "    refit = True\n",
    "    )\n",
    "\n",
    "\n",
    "# Fit the model\n",
    "best_model = model_cv.fit(x_train, np.ravel(y_train)) \n",
    "\n",
    "print(model_cv.best_params_)"
   ]
  },
  {
   "cell_type": "code",
   "execution_count": 5,
   "metadata": {},
   "outputs": [],
   "source": [
    "# Create new model with best_params_ from grid search\n",
    "\n",
    "mlp_best = best_model.best_estimator_"
   ]
  },
  {
   "cell_type": "code",
   "execution_count": 6,
   "metadata": {},
   "outputs": [
    {
     "name": "stdout",
     "output_type": "stream",
     "text": [
      "Train Results: [0.22319935571012395, 0.2297059825608393, 0.2444497978098812, 0.24197894252461594, 0.23543700475801854, 0.26942281521240674, 0.2415653467072887, 0.25310784807302567, 0.2466667339127332, 0.2349454178224557]\n",
      "Test Results: [0.2169568647129736, 0.09950207104260023, 0.32264856989188506, 0.2577586079528028, 0.2547679977014805, -0.29724630149710185, 0.18494929898507406, 0.11079961832438334, 0.14731068736079822, 0.28395722097642584]\n"
     ]
    }
   ],
   "source": [
    "# Get the results for each split\n",
    "\n",
    "def get_best_model_cv_split_results(best_model, n_splits=10, set_type='train'):\n",
    "    results = []\n",
    "    best_index = best_model.best_index_\n",
    "    for i in range(0, n_splits):\n",
    "        current_split = 'split{}_{}_score'.format(i, set_type)\n",
    "        split_result = best_model.cv_results_[current_split][best_index]\n",
    "        results.append(split_result)\n",
    "\n",
    "    return results\n",
    "\n",
    "print(\"Train Results: {}\".format(get_best_model_cv_split_results(best_model, 10, 'train')))\n",
    "print(\"Test Results: {}\".format(get_best_model_cv_split_results(best_model, 10, 'test')))"
   ]
  },
  {
   "cell_type": "code",
   "execution_count": 7,
   "metadata": {},
   "outputs": [
    {
     "name": "stdout",
     "output_type": "stream",
     "text": [
      "Train mean: 0.24204792450913892\n",
      "Train std: 0.01225066742581801\n",
      "-=-=-=-=-=-=-=-=-=-=-=\n",
      "Validation mean: 0.15814046354513217\n",
      "Validation std: 0.16718418519405331\n"
     ]
    }
   ],
   "source": [
    "#Get the mean and std for the train and test\n",
    "\n",
    "train_mean = sum(get_best_model_cv_split_results(best_model, 10, 'train'))/10\n",
    "test_mean = sum(get_best_model_cv_split_results(best_model, 10, 'test'))/10\n",
    "\n",
    "print(\"Train mean: {}\".format(train_mean))\n",
    "print(\"Train std: {}\".format(np.std(get_best_model_cv_split_results(best_model, 10, 'train'))))\n",
    "\n",
    "print(\"-=-=-=-=-=-=-=-=-=-=-=\")\n",
    "\n",
    "print(\"Validation mean: {}\".format(test_mean))\n",
    "print(\"Validation std: {}\".format(np.std(get_best_model_cv_split_results(best_model, 10, 'test'))))"
   ]
  },
  {
   "cell_type": "code",
   "execution_count": 8,
   "metadata": {},
   "outputs": [
    {
     "name": "stdout",
     "output_type": "stream",
     "text": [
      "The r2 score on test set: 0.1982\n"
     ]
    }
   ],
   "source": [
    "y_pred = mlp_best.predict(x_test)\n",
    "r2 = r2_score(y_test, y_pred)\n",
    "print(\"The r2 score on test set: {:.4f}\".format(r2))"
   ]
  },
  {
   "cell_type": "code",
   "execution_count": 9,
   "metadata": {},
   "outputs": [
    {
     "data": {
      "image/png": "[encoded data removed]",
      "text/plain": [
       "<Figure size 720x576 with 1 Axes>"
      ]
     },
     "metadata": {
      "needs_background": "light"
     },
     "output_type": "display_data"
    }
   ],
   "source": [
    "# Plot the R2 predicted and expected results\n",
    "plot_pred_expected_results(y_test, y_pred)"
   ]
  },
  {
   "cell_type": "markdown",
   "metadata": {},
   "source": [
    "# Saving trained model"
   ]
  },
  {
   "cell_type": "code",
   "execution_count": 10,
   "metadata": {},
   "outputs": [
    {
     "data": {
      "text/plain": [
       "['../models/mlpRegressor_model.joblib']"
      ]
     },
     "execution_count": 10,
     "metadata": {},
     "output_type": "execute_result"
    }
   ],
   "source": [
    "filename = '../models/mlpRegressor_model.joblib'\n",
    "joblib.dump(mlp_best, filename)"
   ]
  },
  {
   "cell_type": "code",
   "execution_count": null,
   "metadata": {},
   "outputs": [],
   "source": []
  }
 ],
 "metadata": {
  "kernelspec": {
   "display_name": "Python 3",
   "language": "python",
   "name": "python3"
  },
  "language_info": {
   "codemirror_mode": {
    "name": "ipython",
    "version": 3
   },
   "file_extension": ".py",
   "mimetype": "text/x-python",
   "name": "python",
   "nbconvert_exporter": "python",
   "pygments_lexer": "ipython3",
   "version": "3.7.3"
  },
  "orig_nbformat": 4,
  "vscode": {
   "interpreter": {
    "hash": "5edc29c2ed010d6458d71a83433b383a96a8cbd3efe8531bc90c4b8a5b8bcec9"
   }
  }
 },
 "nbformat": 4,
 "nbformat_minor": 2
}
