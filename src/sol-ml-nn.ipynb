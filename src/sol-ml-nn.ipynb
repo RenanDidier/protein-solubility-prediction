{
 "cells": [
  {
   "cell_type": "code",
   "execution_count": 1,
   "metadata": {},
   "outputs": [],
   "source": [
    "# General libraries\n",
    "import pandas as pd\n",
    "import numpy as np\n",
    "\n",
    "from sklearn.metrics import r2_score\n",
    "from sklearn.neural_network import MLPRegressor\n",
    "from sklearn.model_selection import RandomizedSearchCV\n",
    "import joblib\n",
    "\n",
    "# Utils functions\n",
    "from utils.utils import kfold, read_datasets"
   ]
  },
  {
   "cell_type": "code",
   "execution_count": 2,
   "metadata": {},
   "outputs": [],
   "source": [
    "x_train, x_test, y_train, y_test = read_datasets(\n",
    "    'x_train.csv',\n",
    "    'x_test.csv',\n",
    "    'y_train.csv',\n",
    "    'y_test.csv'\n",
    ")"
   ]
  },
  {
   "cell_type": "code",
   "execution_count": 3,
   "metadata": {},
   "outputs": [],
   "source": [
    "folds = kfold()"
   ]
  },
  {
   "cell_type": "code",
   "execution_count": 4,
   "metadata": {},
   "outputs": [
    {
     "name": "stdout",
     "output_type": "stream",
     "text": [
      "Fitting 10 folds for each of 200 candidates, totalling 2000 fits\n"
     ]
    },
    {
     "name": "stderr",
     "output_type": "stream",
     "text": [
      "/Users/renan/Library/Python/3.7/lib/python/site-packages/sklearn/model_selection/_search.py:972: UserWarning: One or more of the test scores are non-finite: [ 9.81603913e-02  1.00465137e-01 -1.40852897e-02  1.15497644e-01\n",
      "  1.04774033e-01 -9.06570808e-01  9.75181224e-02 -3.45524627e-01\n",
      "  1.01560400e-01 -8.89190819e-01 -4.06274978e-02  1.23785871e-01\n",
      "  1.12835855e-02  1.09131123e-01  9.40955483e-02 -1.11426117e-03\n",
      "  1.07542876e-01  9.32414129e-02 -2.01440666e+00 -6.11257238e-01\n",
      "  2.19502477e-02  9.77335807e-02  1.40549049e-03 -2.87264428e-02\n",
      "  7.89742114e-02 -3.90683538e-01  1.05118206e-01  9.04252641e-02\n",
      "  5.65486424e-02  1.01807652e-01  1.27720346e-01  1.63908513e-01\n",
      "  9.67033824e-02 -2.98345990e+00  1.08556925e-01  1.10108676e-01\n",
      "  9.59120987e-02 -1.24413686e-02 -8.73196048e-01  1.04445524e-01\n",
      "  9.65603990e-02  4.62394018e-02 -1.77177522e-01  5.77671200e-03\n",
      " -2.20309536e-01  1.13751833e-01 -2.81164297e-02 -5.28135168e-01\n",
      " -1.96807676e-01 -4.20895004e-01  1.41497298e-01  5.78230907e-02\n",
      "  1.07177269e-01 -3.83254766e-01  8.91270610e-02 -2.92702986e+00\n",
      " -2.15417744e-01  1.53507341e-01  1.00647937e-01 -1.85750014e-01\n",
      "  1.40475124e-01  4.60958056e-02  8.88571287e-02  1.09779989e-01\n",
      " -1.93477016e-02  1.05385583e-01  1.05795221e-01 -1.63830987e-01\n",
      "  1.09025902e-01 -3.82412189e-01  9.50634179e-02 -2.08256513e+00\n",
      " -1.70570669e-01  2.21023464e-02  1.00518962e-01  1.31172747e-01\n",
      "  1.09869172e-01  1.06441947e-01 -2.23779984e-01 -2.87376020e-02\n",
      "  9.70721560e-02  1.19148593e-01  6.66811573e-02 -2.00479344e-01\n",
      " -1.52587175e-01 -2.94547360e-02  1.09420610e-01  1.17939590e-01\n",
      "  1.03931448e-01  1.02961159e-01 -1.10318775e+00 -2.39765004e-01\n",
      "  3.57438441e-02  3.04831388e-02 -2.42892988e-01 -1.96779513e-02\n",
      " -1.63268242e-02 -2.81803899e-01 -1.44131349e-01 -2.91964500e-01\n",
      "  1.43518600e-01  1.31965156e-01  1.06682123e-01 -3.04051335e-01\n",
      "  1.67489304e-01  1.00055534e-01 -3.11140587e-01 -1.09849639e-02\n",
      "  8.65752660e-02  1.48489876e-02  1.05240583e-01 -2.65783484e-01\n",
      " -2.89495187e-01  1.06848059e-01  1.03228927e-01  1.20064817e-01\n",
      "  1.04402027e-01  1.01458005e-01  1.05991303e-01  1.28999349e-01\n",
      " -2.76949246e+00  4.51558855e-02  9.78441581e-02  1.10516972e-01\n",
      "  7.08246519e-02 -3.85607821e-01 -1.29342545e+00 -1.97797729e-02\n",
      "  2.00447282e-02  1.04249134e-01 -5.47334856e-01 -3.84462546e+00\n",
      " -8.69661688e-01 -1.70644676e-01  9.51410372e-02  2.36164128e-03\n",
      "  3.75554987e-02 -4.01949682e-01  9.61547486e-02  1.02889969e-01\n",
      "  1.55010582e-01  1.47382944e-02 -2.65150540e-02  3.45611659e-02\n",
      " -2.89922124e-02  9.85840357e-02  1.44218030e-01  1.44966467e-01\n",
      "  1.00499989e-01  5.57188521e-02  1.01330708e-01  8.18875542e-02\n",
      "  1.51189469e-02  1.42959958e-01 -1.62058628e-02 -5.63177867e-01\n",
      "  1.05571160e-01 -3.29955614e-01 -2.35612833e-01  1.53842118e-01\n",
      "  1.09260225e-01  1.03411555e-01  1.55078215e-01  3.68221479e-02\n",
      " -3.87479458e-01 -2.66679825e-01  1.07865687e-01  1.02759893e-01\n",
      "  1.89137998e-02             nan -4.80078109e-01  1.14966720e-01\n",
      " -1.87358052e-01 -2.87861783e-02  1.31278156e-01 -3.18243350e-01\n",
      "  1.07202894e-01  6.65535645e-02 -2.50951312e-01  1.11814511e-01\n",
      "  1.02971307e-01  6.35640230e-02 -1.76991782e-01  1.05722407e-01\n",
      "  3.88475973e-02 -2.67889780e-01 -3.35065467e+00  5.06140340e-02\n",
      " -1.82417013e-01  5.46427914e-02  3.94344479e-02  1.38781500e-01\n",
      "  4.60667285e-02  5.00154421e-02 -1.96581407e-01  9.84334918e-02\n",
      "  5.15836166e-02             nan  1.06442833e-01 -2.85885989e-01]\n",
      "  category=UserWarning,\n",
      "/Users/renan/Library/Python/3.7/lib/python/site-packages/sklearn/model_selection/_search.py:972: UserWarning: One or more of the train scores are non-finite: [ 1.38239435e-01  2.41352810e-01  9.42486249e-02  2.87431307e-01\n",
      "  2.41581386e-01 -8.70143630e-01  1.47702711e-01  7.73264665e-01\n",
      "  2.41542145e-01 -8.54049213e-01  4.55738009e-01  1.82772863e-01\n",
      "  4.63666096e-01  1.87384649e-01  1.40720092e-01  4.59720259e-01\n",
      "  2.40792052e-01  1.15859478e-01 -1.95799863e+00  7.84626888e-01\n",
      "  4.64227110e-02  1.53505368e-01  4.51848646e-01 -8.23359339e-03\n",
      "  4.56155123e-01  7.51823774e-01  2.41201169e-01  1.37738287e-01\n",
      "  8.23224531e-02  2.41873511e-01  1.97909782e-01  2.63712153e-01\n",
      "  1.40370429e-01 -2.89512932e+00  2.41212913e-01  1.52175582e-01\n",
      "  1.38359193e-01  1.01115138e-02 -8.40066678e-01  1.87289603e-01\n",
      "  1.54078772e-01  7.40132509e-02 -1.55041917e-01  4.73130359e-01\n",
      "  7.34424758e-01  1.69497342e-01  3.01929008e-01  8.08797051e-01\n",
      "  8.18857599e-01  7.60750585e-01  3.09448895e-01  8.20799728e-02\n",
      "  1.97995940e-01 -3.62582631e-01  1.25156488e-01 -2.52394662e+00\n",
      "  7.32436662e-01  2.78457864e-01  2.41134919e-01 -1.65783643e-01\n",
      "  2.29792648e-01  8.95899073e-02  1.11323969e-01  1.69067009e-01\n",
      "  1.42457165e-03  1.49203552e-01  2.41695766e-01  7.53585284e-01\n",
      "  2.41453561e-01  7.69538223e-01  1.55804550e-01 -2.02030775e+00\n",
      "  8.30993646e-01  4.42230920e-01  1.55642523e-01  2.68770257e-01\n",
      "  2.41008158e-01  2.41243317e-01  8.29862460e-01 -8.18343222e-03\n",
      "  1.22562863e-01  1.78854869e-01  9.33791116e-02  7.08827940e-01\n",
      "  7.21760455e-01 -8.88511920e-03  1.51754913e-01  1.81790049e-01\n",
      "  2.41424346e-01  2.41547346e-01 -1.06293405e+00  7.97383480e-01\n",
      "  6.34470803e-02  5.65923838e-02  7.93436567e-01  1.12885537e-03\n",
      "  4.95739079e-03  7.43119354e-01  7.55173630e-01  8.12725301e-01\n",
      "  2.86559857e-01  3.09721717e-01  2.41651154e-01  8.02862760e-01\n",
      "  2.83257533e-01  1.52731068e-01  7.57631920e-01  4.48939286e-01\n",
      "  1.18209423e-01  4.65625640e-02  2.41083258e-01  7.28218585e-01\n",
      "  7.45403687e-01  2.41214091e-01  2.41001160e-01  1.72629104e-01\n",
      "  2.41482212e-01  1.39548978e-01  2.41294993e-01  1.98385178e-01\n",
      " -2.67459983e+00  4.58709059e-01  1.53553116e-01  2.41738839e-01\n",
      "  4.55472206e-01  8.10589904e-01 -1.23816863e+00  1.46305694e-03\n",
      "  4.48137367e-01  1.53154825e-01 -5.22032628e-01 -3.61050366e+00\n",
      " -8.31005805e-01  8.14627586e-01  1.38275648e-01  4.61937184e-01\n",
      "  6.51012810e-02 -3.58874941e-01  1.34728119e-01  2.40686603e-01\n",
      "  2.86354636e-01  4.53825692e-02  4.67302003e-01  6.04023715e-02\n",
      " -8.87169461e-03  1.53485944e-01  2.03398457e-01  2.40002742e-01\n",
      "  1.56642288e-01  4.59750832e-01  2.40906820e-01  1.18196690e-01\n",
      "  4.48162726e-01  2.10499988e-01  5.75256937e-03 -5.35575510e-01\n",
      "  1.43796559e-01 -3.09177672e-01  1.62574966e-01  2.79870034e-01\n",
      "  1.49159396e-01  2.40857258e-01  2.80984959e-01  5.95551194e-02\n",
      " -3.64292112e-01  7.20104041e-01  1.96440391e-01  2.40354392e-01\n",
      "  4.48101437e-02             nan -4.51811670e-01  1.68122066e-01\n",
      " -1.66809256e-01 -8.10624218e-03  1.87554213e-01  7.78570447e-01\n",
      "  2.41414836e-01  9.43159137e-02  6.89150952e-01  1.64838708e-01\n",
      "  2.41292144e-01  9.22706473e-02 -6.22756073e-02  2.41255103e-01\n",
      "  4.62162658e-01  7.96407958e-01 -3.20663568e+00  8.57285285e-02\n",
      " -1.58843155e-01  8.52831530e-02  9.75536508e-02  2.28436609e-01\n",
      "  9.01698597e-02  8.55234281e-02  7.06391056e-01  1.42637873e-01\n",
      "  9.22020931e-02             nan  2.41561458e-01  7.23424182e-01]\n",
      "  category=UserWarning,\n"
     ]
    },
    {
     "name": "stdout",
     "output_type": "stream",
     "text": [
      "{'solver': 'sgd', 'shuffle': True, 'power_t': 0.5, 'momentum': 0.8, 'max_iter': 200, 'learning_rate_init': 0.005, 'learning_rate': 'adaptive', 'hidden_layer_sizes': (110,), 'early_stopping': False, 'alpha': 0.0001, 'activation': 'tanh'}\n"
     ]
    },
    {
     "name": "stderr",
     "output_type": "stream",
     "text": [
      "/Users/renan/Library/Python/3.7/lib/python/site-packages/sklearn/neural_network/_multilayer_perceptron.py:696: ConvergenceWarning: Stochastic Optimizer: Maximum iterations (200) reached and the optimization hasn't converged yet.\n",
      "  ConvergenceWarning,\n"
     ]
    }
   ],
   "source": [
    "# Specify range of hyperparameters to tune\n",
    "hyper_params = {\n",
    "    'hidden_layer_sizes': [(100,), (80,), (110,)],\n",
    "    'activation': ['identity', 'logistic', 'tanh', 'relu'],\n",
    "    'solver': ['lbfgs', 'sgd', 'adam'],\n",
    "    'alpha': [0.0001, 0.1],\n",
    "    'learning_rate': ['constant', 'invscaling', 'adaptive'],\n",
    "    'learning_rate_init': [0.001, 0.002, 0.005],\n",
    "    'power_t': [0.5],\n",
    "    'max_iter': [200],\n",
    "    'shuffle': [True],\n",
    "    'momentum': [0.5, 0.8, 0.9, 1],\n",
    "    'early_stopping': [False]\n",
    "\n",
    "}\n",
    "\n",
    "\n",
    "\n",
    "# Call GridSearchCV()\n",
    "model_cv = RandomizedSearchCV(\n",
    "    estimator = MLPRegressor(),\n",
    "    param_distributions = hyper_params,\n",
    "    n_iter=200,\n",
    "    scoring= 'r2',\n",
    "    cv = folds,\n",
    "    verbose = 2,\n",
    "    return_train_score=True,\n",
    "    n_jobs = -1,\n",
    "    refit = True\n",
    "    )\n",
    "\n",
    "\n",
    "# Fit the model\n",
    "best_model = model_cv.fit(x_train, np.ravel(y_train)) \n",
    "\n",
    "print(model_cv.best_params_)"
   ]
  },
  {
   "cell_type": "code",
   "execution_count": 5,
   "metadata": {},
   "outputs": [],
   "source": [
    "# Create new model with best_params_ from grid search\n",
    "\n",
    "mlp_best = best_model.best_estimator_"
   ]
  },
  {
   "cell_type": "code",
   "execution_count": 6,
   "metadata": {},
   "outputs": [
    {
     "name": "stdout",
     "output_type": "stream",
     "text": [
      "Train Results: [0.28967482293825486, 0.29334147686826706, 0.2594181815892421, 0.2675555340596826, 0.2616288527477586, 0.33947715522991484, 0.271971219783791, 0.2876293371964239, 0.2896269347595166, 0.2722518188592422]\n",
      "Test Results: [0.27890663144582795, 0.12863441272748244, 0.3077986840470681, 0.2685943621283644, 0.23398626825114377, -0.29036166681079223, 0.1718545711009628, 0.12232688180674234, 0.19160842064950478, 0.26154447469035813]\n"
     ]
    }
   ],
   "source": [
    "# Get the results for each split\n",
    "\n",
    "def get_best_model_cv_split_results(best_model, n_splits=10, set_type='train'):\n",
    "    results = []\n",
    "    best_index = best_model.best_index_\n",
    "    for i in range(0, n_splits):\n",
    "        current_split = 'split{}_{}_score'.format(i, set_type)\n",
    "        split_result = best_model.cv_results_[current_split][best_index]\n",
    "        results.append(split_result)\n",
    "\n",
    "    return results\n",
    "\n",
    "print(\"Train Results: {}\".format(get_best_model_cv_split_results(best_model, 10, 'train')))\n",
    "print(\"Test Results: {}\".format(get_best_model_cv_split_results(best_model, 10, 'test')))"
   ]
  },
  {
   "cell_type": "code",
   "execution_count": 7,
   "metadata": {},
   "outputs": [
    {
     "name": "stdout",
     "output_type": "stream",
     "text": [
      "Train mean: 0.28325753340320936\n",
      "Test mean: 0.16748930400366624\n"
     ]
    }
   ],
   "source": [
    "#Get the mean for the train and test\n",
    "\n",
    "train_mean = sum(get_best_model_cv_split_results(best_model, 10, 'train'))/10\n",
    "test_mean = sum(get_best_model_cv_split_results(best_model, 10, 'test'))/10\n",
    "\n",
    "print(\"Train mean: {}\".format(train_mean))\n",
    "print(\"Validation mean: {}\".format(test_mean))"
   ]
  },
  {
   "cell_type": "code",
   "execution_count": 8,
   "metadata": {},
   "outputs": [
    {
     "name": "stdout",
     "output_type": "stream",
     "text": [
      "The r2 score on test set: 0.1514\n"
     ]
    }
   ],
   "source": [
    "r2 = r2_score(y_test, mlp_best.predict(x_test))\n",
    "print(\"The r2 score on test set: {:.4f}\".format(r2))"
   ]
  },
  {
   "cell_type": "markdown",
   "metadata": {},
   "source": [
    "# Saving trained model"
   ]
  },
  {
   "cell_type": "code",
   "execution_count": 9,
   "metadata": {},
   "outputs": [
    {
     "data": {
      "text/plain": [
       "['../models/mlpRegressor.joblib']"
      ]
     },
     "execution_count": 9,
     "metadata": {},
     "output_type": "execute_result"
    }
   ],
   "source": [
    "filename = '../models/mlpRegressor_model.joblib'\n",
    "joblib.dump(mlp_best, filename)"
   ]
  },
  {
   "cell_type": "code",
   "execution_count": null,
   "metadata": {},
   "outputs": [],
   "source": []
  }
 ],
 "metadata": {
  "kernelspec": {
   "display_name": "Python 3",
   "language": "python",
   "name": "python3"
  },
  "language_info": {
   "codemirror_mode": {
    "name": "ipython",
    "version": 3
   },
   "file_extension": ".py",
   "mimetype": "text/x-python",
   "name": "python",
   "nbconvert_exporter": "python",
   "pygments_lexer": "ipython3",
   "version": "3.7.3"
  },
  "orig_nbformat": 4,
  "vscode": {
   "interpreter": {
    "hash": "5edc29c2ed010d6458d71a83433b383a96a8cbd3efe8531bc90c4b8a5b8bcec9"
   }
  }
 },
 "nbformat": 4,
 "nbformat_minor": 2
}
