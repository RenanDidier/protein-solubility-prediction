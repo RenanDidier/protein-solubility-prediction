{
 "cells": [
  {
   "cell_type": "code",
   "execution_count": 1,
   "metadata": {},
   "outputs": [],
   "source": [
    "# General libraries\n",
    "import pandas as pd\n",
    "import numpy as np\n",
    "\n",
    "from sklearn.metrics import r2_score\n",
    "from sklearn.neural_network import MLPRegressor\n",
    "from sklearn.model_selection import RandomizedSearchCV\n",
    "import joblib\n",
    "\n",
    "# Utils functions\n",
    "from utils.utils import kfold, read_datasets, plot_pred_expected_results"
   ]
  },
  {
   "cell_type": "code",
   "execution_count": 2,
   "metadata": {},
   "outputs": [],
   "source": [
    "x_train, x_test, y_train, y_test = read_datasets(\n",
    "    'x_train.csv',\n",
    "    'x_test.csv',\n",
    "    'y_train.csv',\n",
    "    'y_test.csv'\n",
    ")"
   ]
  },
  {
   "cell_type": "code",
   "execution_count": 3,
   "metadata": {},
   "outputs": [],
   "source": [
    "folds = kfold()"
   ]
  },
  {
   "cell_type": "code",
   "execution_count": 4,
   "metadata": {},
   "outputs": [
    {
     "name": "stdout",
     "output_type": "stream",
     "text": [
      "Fitting 10 folds for each of 300 candidates, totalling 3000 fits\n"
     ]
    },
    {
     "name": "stderr",
     "output_type": "stream",
     "text": [
      "/Users/renan/Library/Python/3.7/lib/python/site-packages/sklearn/model_selection/_search.py:972: UserWarning: One or more of the test scores are non-finite: [-2.69170241e-01  1.09302881e-01  1.36268660e-01  1.44806782e-01\n",
      " -3.74817820e-02  1.70222651e-01  5.10998682e-02 -1.58262330e-01\n",
      " -1.82627598e-01  1.05831706e-01  1.34872301e-01  2.17714110e-02\n",
      " -6.11382666e+00  1.14213324e-01  5.45314486e-02  9.24959223e-02\n",
      "  7.97666449e-02 -2.31628189e+01  9.43007511e-02  7.68523666e-02\n",
      "  1.53638166e-01  1.07520169e-01  1.08287060e-01 -2.63020720e-01\n",
      " -2.94234656e-01  9.58424701e-02 -6.57241765e+00  1.02180339e-01\n",
      "  6.49885285e-02  1.59278346e-01  9.71609868e-02  3.98492001e-02\n",
      " -1.68234527e-02 -3.60290564e-01 -1.95745593e-02  1.18887597e-01\n",
      "  9.47818538e-02  1.38341019e-01  1.16503589e-01  6.55334811e-02\n",
      " -2.15233353e-01  1.05045636e-01 -1.52615232e+01  3.19295712e-02\n",
      "  1.52873435e-01 -8.70052783e-01 -1.72596882e-01  1.46971704e-01\n",
      " -4.92640226e-01  5.00630065e-02 -3.97738939e-01 -2.67227767e-01\n",
      "  1.29584804e-01 -4.40219821e-01 -2.82205496e-01  1.02514247e-01\n",
      "  9.07440422e-02  1.08034170e-01 -1.96133314e-02 -2.70652125e-01\n",
      "  9.76873840e-02  4.17061039e-02 -3.49141775e-01 -9.51459305e-02\n",
      "  9.60436909e-02  1.03300922e-01             nan -3.17665212e-01\n",
      " -2.12584095e-01 -2.63165201e+01  1.08642914e-01  1.01885648e-01\n",
      "  9.29322332e-02 -3.35673400e-01 -1.14964881e-02 -1.72088014e-02\n",
      " -1.67415079e-01  6.62642297e-02  1.43106115e-01 -2.94334360e-01\n",
      "  9.99917334e-02  1.18553315e-01 -2.81395385e-01  1.51049043e-01\n",
      "  1.09055055e-01 -5.48872375e-01  1.03396587e-01  1.06445997e-01\n",
      " -3.65492811e-01  1.82071113e-02  9.62200659e-02  1.48098743e-01\n",
      " -2.44482493e-01  1.13171833e-01 -1.55935647e-01 -3.72061645e-01\n",
      "  1.18941807e-01  1.06551883e-01  8.93986872e-02  1.18122078e-01\n",
      " -2.88042069e-01  1.05116020e-01 -2.90424106e-01  1.01856389e-01\n",
      " -1.37346858e-02  9.20855554e-02 -5.43885839e-03  1.12127545e-01\n",
      " -2.99310426e-01  9.75739631e-02             nan  1.49872773e-01\n",
      "  1.57392354e-01  7.92937056e-02  1.57092113e-01  9.48270543e-02\n",
      " -1.62306189e-02  9.72422616e-02  9.35437688e-02 -3.11176528e-01\n",
      "  4.17100821e-02  9.56679013e-02  7.99656510e-02  9.61892789e-02\n",
      "  5.52843248e-02  7.33484646e-02 -3.79392626e-01 -4.95834220e-03\n",
      "  1.06674433e-01 -1.56561866e-01 -2.29185802e-01  1.04551079e-01\n",
      "  1.02067448e-01  9.71781357e-02  1.08276041e-01  1.00093696e-01\n",
      "  9.60753705e-02 -2.56289823e-01  1.05755845e-01  4.47747486e-03\n",
      "  1.02871438e-01 -1.54622599e-02 -3.85318680e-01 -1.99109846e-02\n",
      "  5.00018697e-02  9.64516524e-02 -2.26955408e-02  9.69855559e-02\n",
      "  7.77486372e-02  8.14710741e-02 -1.39612693e-01  1.02311757e-01\n",
      " -4.60731036e-03  1.02731051e-01 -1.88294243e+00 -4.11597465e-01\n",
      " -3.45411869e-01 -2.14502383e-01 -5.69107028e-01  1.41272742e-01\n",
      " -2.68160464e-01 -1.24304482e-01  1.72244023e-02  5.25686655e-02\n",
      "  9.82256450e-02  3.67064531e-02 -3.47623985e-01  5.88269550e-02\n",
      " -3.23207548e-01  1.05095954e-01 -4.41268494e-01  9.66526401e-02\n",
      "  1.04116446e-01 -2.36551951e-01 -2.23393049e-01  3.33243090e-02\n",
      " -2.48826791e-01 -4.00932071e-01  9.57867632e-02  1.03381464e-01\n",
      "             nan -3.33236037e-01  1.06525412e-01 -2.43761030e-02\n",
      "  4.64668127e-02 -4.66196743e-01  1.05863069e-01 -2.13886127e-01\n",
      "  2.75739923e-02  1.49777302e-01 -2.59800390e-01  1.06986454e-01\n",
      "  1.34033156e-01  1.28205537e-01  1.23468624e-01  1.20911831e-01\n",
      " -2.16969116e-02  1.40321236e-02  1.63069930e-01 -1.23996162e-01\n",
      "  9.83742172e-02  9.36741648e-02  1.10458853e-01  1.01151758e-01\n",
      " -3.84704763e-02 -3.15220320e-01  1.03661119e-01 -1.82269263e-01\n",
      " -7.89242061e+00  1.03329947e-01  1.10701052e-01 -8.11817230e-02\n",
      "  1.29980618e-01 -4.50657519e-01 -1.56702190e-01 -4.74233868e-01\n",
      " -9.30709065e-03  9.49485794e-02  1.04619994e-01 -4.03557437e-01\n",
      "  9.55489176e-02  9.59159869e-02  9.14869149e-02             nan\n",
      "  3.34716078e-02 -3.31646466e-01  1.49685765e-02  9.65499223e-02\n",
      " -4.38518598e-03  1.18964195e-01  4.77214014e-02  1.03793648e-01\n",
      "  2.14645792e-03  2.64044609e-02  8.81023434e-02  8.73365707e-02\n",
      " -1.34589654e+00  1.01056615e-01  1.29399827e-01  1.26646978e-01\n",
      "  2.85986358e-02  1.54362168e-01 -2.84281658e-01  1.19772212e-02\n",
      "  1.56761832e-01 -2.96583325e-01  1.06693227e-01  3.50214857e-02\n",
      "  8.55036500e-02 -8.78936633e+00  1.22326935e-01  1.00816516e-01\n",
      "  4.89693063e-02  1.21927061e-01  1.06494423e-01 -3.75623689e-01\n",
      " -8.47333380e-01  1.18243288e-01  1.19282235e-01 -2.66105503e-01\n",
      " -3.71146144e-01  1.04867173e-01  1.29027303e-01  9.85295198e-02\n",
      "  1.11725897e-01  1.03383237e-01  1.34835884e-01  1.41475606e-01\n",
      " -1.98232027e-01 -1.26445383e-01  9.55499845e-02  9.89500914e-02\n",
      "  7.54191966e-02  1.04591694e-01 -2.11380506e-01  1.43990162e-01\n",
      " -2.36395841e-01             nan -1.48585016e+00  3.33602229e-02\n",
      "  4.70539990e-02 -5.58774671e-01  7.52970491e-02             nan\n",
      "  9.74023624e-02  1.00215410e-01  9.76425344e-02 -1.69847205e-01\n",
      "  1.09365161e-01 -1.96637599e-02 -3.24329894e-01  1.58857673e-01\n",
      "  2.65691195e-02 -9.32482413e-01  1.02549068e-01  9.50019127e-02\n",
      "  1.12523407e-01  1.54817584e-01 -3.11786374e-01  1.02413645e-01]\n",
      "  category=UserWarning,\n",
      "/Users/renan/Library/Python/3.7/lib/python/site-packages/sklearn/model_selection/_search.py:972: UserWarning: One or more of the train scores are non-finite: [ 8.31135876e-01  1.44932239e-01  2.63884696e-01  2.03340408e-01\n",
      " -1.71307111e-02  2.42793849e-01  8.43223626e-02 -1.33735460e-01\n",
      " -1.62399102e-01  1.48507253e-01  1.90841541e-01  4.55207618e-01\n",
      " -5.96880364e+00  1.67267803e-01  8.18628224e-02  1.40058431e-01\n",
      "  1.22586569e-01 -2.24339287e+01  1.55521903e-01  4.57382297e-01\n",
      "  2.76578553e-01  2.40825942e-01  1.67025967e-01  7.67985360e-02\n",
      "  7.95466337e-01  1.53960600e-01 -6.40834082e+00  2.40995540e-01\n",
      "  4.48307561e-01  2.87174107e-01  1.39306587e-01  4.56860925e-01\n",
      "  4.67061140e-01  8.15509365e-01  1.08763023e-03  1.68444655e-01\n",
      "  1.38697771e-01  2.00991111e-01  2.49556962e-01  8.54215760e-02\n",
      "  8.17832285e-01  2.40858950e-01 -1.49209757e+01  4.56783353e-01\n",
      "  2.32186629e-01 -8.34525738e-01  7.34912431e-01  2.86246195e-01\n",
      " -4.64106163e-01  9.20682773e-02 -3.70448193e-01  8.10610253e-01\n",
      "  1.99215053e-01  7.34880205e-01  8.26743746e-01  1.38980901e-01\n",
      "  1.33711761e-01  1.97463294e-01  1.23576316e-03  6.79764620e-01\n",
      "  4.64988803e-01  6.62770146e-02  7.75654308e-01 -7.16937682e-02\n",
      "  1.52965949e-01  2.42048244e-01             nan  7.53813673e-01\n",
      "  6.98759626e-01 -2.56068897e+01  2.81063226e-01  1.55608566e-01\n",
      "  1.11736084e-01  7.31804539e-01  1.06174163e-02  5.08597102e-03\n",
      "  7.20855994e-01  9.34884863e-02  2.34284300e-01  8.10978097e-01\n",
      "  2.40764426e-01  1.73464446e-01  7.53463621e-01  2.61764985e-01\n",
      "  1.51833193e-01 -5.20331363e-01  2.41296182e-01  1.95683407e-01\n",
      "  8.31471862e-01  4.56046165e-01  1.39084709e-01  2.64853347e-01\n",
      " -2.20448042e-01  2.59763405e-01  7.59345166e-01  7.85049117e-01\n",
      "  1.78945744e-01  1.34345414e-01  1.33411150e-01  1.81172351e-01\n",
      "  8.17216330e-01  2.40705334e-01  7.84121239e-01  2.41699063e-01\n",
      "  4.49131315e-01  1.24508259e-01  3.66027713e-01  1.65062525e-01\n",
      "  8.05160561e-01  2.41083083e-01             nan  2.33450935e-01\n",
      "  3.00978919e-01  1.12412758e-01  2.42471568e-01  1.25050968e-01\n",
      "  4.85038777e-01  1.65953287e-01  1.56705312e-01  6.84873590e-01\n",
      "  4.64165045e-01  1.42146600e-01  1.21545649e-01  1.18602481e-01\n",
      "  8.29030807e-02  4.50601454e-01 -3.57437158e-01  1.82892504e-02\n",
      "  1.61255999e-01  7.36795726e-01 -2.05737680e-01  2.41563924e-01\n",
      "  1.12889501e-01  1.60745704e-01  2.41220587e-01  2.40630068e-01\n",
      "  1.97742344e-01  8.32252386e-01  2.41790522e-01  1.35467235e-01\n",
      "  1.65742756e-01  5.27763724e-03 -3.35015299e-01  1.27723126e-03\n",
      "  8.62311779e-02  1.34738144e-01 -3.05649777e-03  1.58007518e-01\n",
      "  1.20352697e-01  1.16188599e-01  6.99856222e-01  1.44189944e-01\n",
      "  1.79735990e-02  1.96214288e-01 -1.84300957e+00  8.09921834e-01\n",
      "  7.97170417e-01  8.12462462e-01  8.54670247e-01  2.02891785e-01\n",
      "  7.45626912e-01 -1.04837597e-01  4.55735440e-01  4.68571705e-01\n",
      "  1.60737426e-01  5.56171376e-02  8.31635822e-01  4.52326118e-01\n",
      "  8.13464587e-01  2.40778169e-01 -4.16336120e-01  1.16142842e-01\n",
      "  2.41813511e-01  7.64863292e-01  6.80653944e-01  4.55697241e-01\n",
      "  7.31297763e-01  8.10319202e-01  1.39721414e-01  2.41662957e-01\n",
      "             nan  8.36112503e-01  2.41688923e-01  3.14367960e-02\n",
      "  8.14491840e-02  8.29924447e-01  2.41360074e-01  8.39625040e-01\n",
      "  5.88588235e-02  2.31205801e-01 -2.10561935e-01  1.68813791e-01\n",
      "  2.06358741e-01  2.05123414e-01  1.78599648e-01  1.78382484e-01\n",
      "  4.45520320e-01  4.46545280e-01  2.44738598e-01 -1.06474647e-01\n",
      "  1.38164558e-01  1.36670645e-01  2.02933909e-01  2.41521124e-01\n",
      "  4.57796583e-01  8.00359286e-01  1.69126289e-01  6.73530570e-01\n",
      " -8.42282333e+00  2.41641737e-01  1.67344843e-01  4.72509070e-01\n",
      "  2.10503590e-01  8.07991908e-01 -1.07649117e-01  8.18293424e-01\n",
      "  4.81109069e-01  1.39242506e-01  2.41844824e-01  7.41179572e-01\n",
      "  1.55910141e-01  1.34604358e-01  1.27233714e-01             nan\n",
      "  6.02289373e-02  7.58655476e-01  3.60083407e-02  1.42114475e-01\n",
      "  4.53258003e-01  2.92715321e-01  8.26693616e-02  2.01873208e-01\n",
      "  4.62183959e-01  5.27168670e-02  9.45603911e-02  1.24681539e-01\n",
      " -1.30706260e+00  2.41866200e-01  1.97777305e-01  1.88784105e-01\n",
      "  4.43495769e-01  2.78325211e-01  7.27108046e-01  4.38644239e-02\n",
      "  2.63305118e-01  7.26399220e-01  1.37963735e-01  4.53522651e-01\n",
      "  1.10814305e-01 -8.52927950e+00  1.72704783e-01  1.61293292e-01\n",
      "  9.41556774e-02  2.38983617e-01  2.41220334e-01 -3.49386747e-01\n",
      " -8.14881196e-01  1.73278710e-01  1.70474285e-01  8.41568036e-01\n",
      " -4.37690813e-01  2.41018023e-01  2.08468873e-01  1.61294421e-01\n",
      "  2.90865879e-01  2.41109978e-01  2.09335592e-01  2.29367040e-01\n",
      "  8.12746354e-01 -1.05803619e-01  1.61873223e-01  2.40850551e-01\n",
      "  1.10251617e-01  2.41098392e-01  7.44531701e-01  2.29048576e-01\n",
      " -1.34812805e-01             nan -1.44080872e+00  5.49073873e-02\n",
      "  4.54558355e-01  7.99253558e-01  9.64398490e-02             nan\n",
      "  1.35868405e-01  2.41468643e-01  1.61299770e-01  6.85772911e-01\n",
      "  1.71178243e-01  1.25753122e-03  8.12342784e-01  3.17778140e-01\n",
      "  4.69898068e-02 -8.33129198e-01  2.41147135e-01  1.11919021e-01\n",
      "  1.60670605e-01  2.73432995e-01  4.27421281e-01  2.41067238e-01]\n",
      "  category=UserWarning,\n"
     ]
    },
    {
     "name": "stdout",
     "output_type": "stream",
     "text": [
      "{'solver': 'sgd', 'shuffle': True, 'power_t': 0.6, 'momentum': 0.8, 'max_iter': 200, 'learning_rate_init': 0.005, 'learning_rate': 'constant', 'hidden_layer_sizes': (100,), 'early_stopping': False, 'alpha': 0.0001, 'activation': 'tanh'}\n"
     ]
    }
   ],
   "source": [
    "# Specify range of hyperparameters to tune\n",
    "hyper_params = {\n",
    "    'hidden_layer_sizes': [(80,), (100,), (110,), (150,)],\n",
    "    'activation': ['identity', 'logistic', 'tanh', 'relu'],\n",
    "    'solver': ['lbfgs', 'sgd', 'adam'],\n",
    "    'alpha': [0.0001, 0.1],\n",
    "    'learning_rate': ['constant', 'invscaling', 'adaptive'],\n",
    "    'learning_rate_init': [0.001, 0.002, 0.005, 0.006],\n",
    "    'power_t': [0.5, 0.6],\n",
    "    'max_iter': [200],\n",
    "    'shuffle': [True],\n",
    "    'momentum': [0.5, 0.8, 0.9, 1],\n",
    "    'early_stopping': [False]\n",
    "\n",
    "}\n",
    "\n",
    "\n",
    "\n",
    "# Call RandomSearchCV()\n",
    "model_cv = RandomizedSearchCV(\n",
    "    estimator = MLPRegressor(),\n",
    "    param_distributions = hyper_params,\n",
    "    n_iter=300,\n",
    "    scoring= 'r2',\n",
    "    cv = folds,\n",
    "    verbose = 2,\n",
    "    return_train_score=True,\n",
    "    n_jobs = -1,\n",
    "    refit = True\n",
    "    )\n",
    "\n",
    "\n",
    "# Fit the model\n",
    "best_model = model_cv.fit(x_train, np.ravel(y_train)) \n",
    "\n",
    "print(model_cv.best_params_)"
   ]
  },
  {
   "cell_type": "code",
   "execution_count": 5,
   "metadata": {},
   "outputs": [],
   "source": [
    "# Create new model with best_params_ from grid search\n",
    "\n",
    "mlp_best = best_model.best_estimator_"
   ]
  },
  {
   "cell_type": "code",
   "execution_count": 6,
   "metadata": {},
   "outputs": [
    {
     "name": "stdout",
     "output_type": "stream",
     "text": [
      "Train Results: [0.23670176851941405, 0.19597989520172177, 0.255311377385115, 0.2369655985375595, 0.24021313737161853, 0.27300426277683776, 0.2539328760433476, 0.23779979303208287, 0.27571841581315193, 0.22231137028656756]\n",
      "Test Results: [0.24383393961047073, 0.14701811737840564, 0.27965024820365303, 0.25586841347784417, 0.26620828632252513, -0.2776889244292007, 0.15804701064469306, 0.12087356739334199, 0.23447264164017756, 0.27394320584976906]\n"
     ]
    }
   ],
   "source": [
    "# Get the results for each split\n",
    "\n",
    "def get_best_model_cv_split_results(best_model, n_splits=10, set_type='train'):\n",
    "    results = []\n",
    "    best_index = best_model.best_index_\n",
    "    for i in range(0, n_splits):\n",
    "        current_split = 'split{}_{}_score'.format(i, set_type)\n",
    "        split_result = best_model.cv_results_[current_split][best_index]\n",
    "        results.append(split_result)\n",
    "\n",
    "    return results\n",
    "\n",
    "print(\"Train Results: {}\".format(get_best_model_cv_split_results(best_model, 10, 'train')))\n",
    "print(\"Test Results: {}\".format(get_best_model_cv_split_results(best_model, 10, 'test')))"
   ]
  },
  {
   "cell_type": "code",
   "execution_count": 7,
   "metadata": {},
   "outputs": [
    {
     "name": "stdout",
     "output_type": "stream",
     "text": [
      "Train mean: 0.24279384949674165\n",
      "Train std: 0.022341046217162725\n",
      "-=-=-=-=-=-=-=-=-=-=-=\n",
      "Validation mean: 0.170222650609168\n",
      "Validation std: 0.15892585771670034\n"
     ]
    }
   ],
   "source": [
    "#Get the mean and std for the train and test\n",
    "\n",
    "train_mean = sum(get_best_model_cv_split_results(best_model, 10, 'train'))/10\n",
    "test_mean = sum(get_best_model_cv_split_results(best_model, 10, 'test'))/10\n",
    "\n",
    "print(\"Train mean: {}\".format(train_mean))\n",
    "print(\"Train std: {}\".format(np.std(get_best_model_cv_split_results(best_model, 10, 'train'))))\n",
    "\n",
    "print(\"-=-=-=-=-=-=-=-=-=-=-=\")\n",
    "\n",
    "print(\"Validation mean: {}\".format(test_mean))\n",
    "print(\"Validation std: {}\".format(np.std(get_best_model_cv_split_results(best_model, 10, 'test'))))"
   ]
  },
  {
   "cell_type": "code",
   "execution_count": 8,
   "metadata": {},
   "outputs": [
    {
     "name": "stdout",
     "output_type": "stream",
     "text": [
      "The r2 score on test set: 0.1866\n"
     ]
    }
   ],
   "source": [
    "y_pred = mlp_best.predict(x_test)\n",
    "r2 = r2_score(y_test, y_pred)\n",
    "print(\"The r2 score on test set: {:.4f}\".format(r2))"
   ]
  },
  {
   "cell_type": "code",
   "execution_count": 9,
   "metadata": {},
   "outputs": [
    {
     "data": {
      "image/png": "[encoded data removed]",
      "text/plain": [
       "<Figure size 720x576 with 1 Axes>"
      ]
     },
     "metadata": {
      "needs_background": "light"
     },
     "output_type": "display_data"
    }
   ],
   "source": [
    "# Plot the R2 predicted and expected results\n",
    "plot_pred_expected_results(y_test, y_pred)"
   ]
  },
  {
   "cell_type": "markdown",
   "metadata": {},
   "source": [
    "# Saving trained model"
   ]
  },
  {
   "cell_type": "code",
   "execution_count": 10,
   "metadata": {},
   "outputs": [
    {
     "data": {
      "text/plain": [
       "['../models/mlpRegressor_model.joblib']"
      ]
     },
     "execution_count": 10,
     "metadata": {},
     "output_type": "execute_result"
    }
   ],
   "source": [
    "filename = '../models/mlpRegressor_model.joblib'\n",
    "joblib.dump(mlp_best, filename)"
   ]
  },
  {
   "cell_type": "code",
   "execution_count": null,
   "metadata": {},
   "outputs": [],
   "source": []
  }
 ],
 "metadata": {
  "kernelspec": {
   "display_name": "Python 3",
   "language": "python",
   "name": "python3"
  },
  "language_info": {
   "codemirror_mode": {
    "name": "ipython",
    "version": 3
   },
   "file_extension": ".py",
   "mimetype": "text/x-python",
   "name": "python",
   "nbconvert_exporter": "python",
   "pygments_lexer": "ipython3",
   "version": "3.7.3"
  },
  "orig_nbformat": 4,
  "vscode": {
   "interpreter": {
    "hash": "5edc29c2ed010d6458d71a83433b383a96a8cbd3efe8531bc90c4b8a5b8bcec9"
   }
  }
 },
 "nbformat": 4,
 "nbformat_minor": 2
}
