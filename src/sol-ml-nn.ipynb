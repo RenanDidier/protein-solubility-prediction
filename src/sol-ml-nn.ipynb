{
 "cells": [
  {
   "cell_type": "code",
   "execution_count": 9,
   "metadata": {},
   "outputs": [],
   "source": [
    "# General libraries\n",
    "import pandas as pd\n",
    "import numpy as np\n",
    "\n",
    "from sklearn.neural_network import MLPRegressor\n",
    "from sklearn.model_selection import RandomizedSearchCV\n",
    "import joblib\n",
    "\n",
    "# Utils functions\n",
    "from utils.utils import kfold, read_datasets"
   ]
  },
  {
   "cell_type": "code",
   "execution_count": 2,
   "metadata": {},
   "outputs": [],
   "source": [
    "x_train, x_test, y_train, y_test = read_datasets(\n",
    "    'x_train.csv',\n",
    "    'x_test.csv',\n",
    "    'y_train.csv',\n",
    "    'y_test.csv'\n",
    ")"
   ]
  },
  {
   "cell_type": "code",
   "execution_count": 3,
   "metadata": {},
   "outputs": [],
   "source": [
    "folds = kfold()"
   ]
  },
  {
   "cell_type": "code",
   "execution_count": 4,
   "metadata": {},
   "outputs": [
    {
     "name": "stdout",
     "output_type": "stream",
     "text": [
      "Fitting 10 folds for each of 200 candidates, totalling 2000 fits\n"
     ]
    },
    {
     "name": "stderr",
     "output_type": "stream",
     "text": [
      "/Users/renan/Library/Python/3.7/lib/python/site-packages/sklearn/model_selection/_search.py:972: UserWarning: One or more of the test scores are non-finite: [-0.03121394 -0.03727314 -0.30723139 -0.08607022  0.11354867  0.1587114\n",
      "  0.109865   -0.41294376 -0.57191971 -3.31846016 -0.13903974 -0.12560116\n",
      " -0.12599479 -0.40921275 -0.0189508  -0.2066092  -0.02812899  0.10488372\n",
      "         nan  0.09207659  0.13027474 -0.16508718  0.10613661 -0.81473421\n",
      "  0.1443546   0.15793863  0.15908342 -0.23481822  0.0310662   0.10838241\n",
      "  0.06229787 -0.18066147  0.05887641  0.07900634 -0.26267132  0.09618805\n",
      "  0.09506552  0.10802239 -0.39307423  0.11170017  0.09668739 -0.45851288\n",
      " -0.236141    0.13927162  0.11252988 -0.23134732  0.08782478  0.01299184\n",
      "  0.08752503  0.05194267  0.13115095  0.11136377  0.04411125  0.10787962\n",
      " -4.92399797  0.04441427  0.1104206   0.09586049  0.15737192 -0.01871133\n",
      "  0.14522603 -0.0159333  -0.28890801  0.06733982  0.08822563 -0.13573233\n",
      "  0.06893109  0.05477283 -0.42251562  0.08986741  0.09864483  0.08543894\n",
      " -0.55737755  0.10843739 -0.02956042 -0.86502239 -0.13508208  0.10731448\n",
      "  0.09468767 -0.43531611  0.0958418   0.08564355  0.10358082  0.10463726\n",
      " -0.25852001 -0.207615    0.06631483  0.04805602 -0.45957921  0.12156504\n",
      " -0.50373499 -1.97632776 -0.0399084   0.11000071  0.10217143  0.12076348\n",
      " -1.17080178  0.10442937  0.06268337  0.10422172 -0.210112   -0.1839467\n",
      "  0.10561563 -0.02848117 -0.28450427  0.11123432 -0.17780704  0.13375655\n",
      " -0.08368492  0.11041279 -0.192562    0.09686453 -0.87307946  0.05711165\n",
      "  0.11089299  0.02537014 -0.03602476 -0.38276968  0.06951616 -0.28329972\n",
      " -0.30002783  0.06842132  0.09032275  0.06686233 -0.4000623  -0.08727457\n",
      "  0.10482202 -0.02792384 -0.0844398   0.10722559 -0.31565793 -0.24269268\n",
      "  0.05456565 -0.35545536         nan  0.15396367 -0.33358602  0.1069118\n",
      "  0.01299345  0.10801665 -0.55744358  0.10535641  0.04492171  0.11926632\n",
      " -0.02895821  0.09013117 -0.24423289  0.10908274  0.10720551  0.0729489\n",
      "  0.05233927 -0.33895375 -0.15586243 -0.86367702 -0.12560022  0.13157465\n",
      " -0.52973262 -0.26169546 -0.08482887  0.09420916  0.0729748  -0.27804865\n",
      "  0.11761543 -0.17910871 -0.32534334  0.10623697 -0.22560905  0.09589196\n",
      "  0.12249652  0.10954985         nan  0.04790344  0.1076305          nan\n",
      " -0.89577571 -2.46597808  0.16319228  0.01223166         nan  0.12002618\n",
      "  0.09746733 -0.07930785  0.04111557 -0.01064767  0.0995978   0.11299231\n",
      "  0.11660953 -0.0130803  -0.048828    0.10667059 -0.309972    0.08204432\n",
      " -0.89398277 -0.2776116   0.09930896  0.13707161 -0.04952494 -0.80132572\n",
      "  0.01824947 -0.01600646]\n",
      "  category=UserWarning,\n",
      "/Users/renan/Library/Python/3.7/lib/python/site-packages/sklearn/model_selection/_search.py:972: UserWarning: One or more of the train scores are non-finite: [ 1.71033519e-01 -1.63855831e-02  6.99408509e-01 -6.58302117e-02\n",
      "  1.66672695e-01  2.68363619e-01  2.33010121e-01  8.03118050e-01\n",
      " -5.41848665e-01 -3.19268818e+00  6.95218225e-01 -1.05516030e-01\n",
      " -1.05302723e-01  7.07974670e-01  1.69353394e-03  8.14071906e-01\n",
      " -8.33915356e-03  2.32671196e-01             nan  1.25909486e-01\n",
      "  1.82569165e-01  6.71992557e-01  2.32753797e-01 -7.81315077e-01\n",
      "  2.34810348e-01  2.73857331e-01  2.52899727e-01  8.05185874e-01\n",
      "  5.88767874e-02  1.49403655e-01  9.99629256e-02 -1.54779366e-01\n",
      "  8.28208617e-02  1.78052247e-01  7.03101921e-01  1.33250642e-01\n",
      "  1.48636584e-01  2.32376083e-01 -3.65983777e-01  4.32996579e-01\n",
      "  1.51627604e-01 -4.30866357e-01  7.29316256e-01  2.45125940e-01\n",
      "  4.43042759e-01  6.68970174e-01  1.11706064e-01  4.58620434e-02\n",
      "  1.19148978e-01  4.28304217e-01  2.44416473e-01  1.65455671e-01\n",
      "  6.74106936e-02  2.32816649e-01 -4.91892509e+00  4.43461760e-01\n",
      "  2.31995593e-01  1.37499083e-01  2.64893531e-01  1.87777018e-03\n",
      "  2.56480799e-01  6.79894685e-03  7.99314075e-01  9.39239957e-02\n",
      "  1.30018603e-01 -1.09921911e-01  8.93867100e-02  8.22622154e-02\n",
      " -3.99452048e-01  1.39370378e-01  1.22201558e-01  4.29344866e-01\n",
      " -5.32354342e-01  2.32533892e-01 -8.55783674e-03 -8.28163146e-01\n",
      "  6.81783290e-01  2.32915750e-01  1.40772901e-01 -4.08919285e-01\n",
      "  1.50402393e-01  1.27527316e-01  1.80969380e-01  2.68639726e-01\n",
      "  7.00435543e-01  6.78887030e-01  9.37181456e-02  8.30568290e-02\n",
      "  8.08509826e-01  1.65071878e-01  8.02185124e-01 -1.92257369e+00\n",
      " -1.84259596e-02  2.32922515e-01  1.66753610e-01  1.65994065e-01\n",
      " -1.12831271e+00  1.23254071e-01  1.00555975e-01  1.51435559e-01\n",
      "  8.23225256e-01 -1.63548926e-01  1.68250876e-01 -7.99893729e-03\n",
      "  7.93288543e-01  1.61016365e-01  7.08872402e-01  2.17011529e-01\n",
      " -6.33888966e-02  2.32548184e-01  8.08763455e-01  1.48527808e-01\n",
      " -8.42915428e-01  8.28920493e-02  2.33074683e-01  4.85734660e-02\n",
      " -1.58550226e-02  8.07282758e-01  9.88139345e-02  6.85100727e-01\n",
      "  7.33696618e-01  4.47541397e-01  1.17972786e-01  9.42626554e-02\n",
      " -3.76735227e-01  3.68709510e-02  2.32450116e-01 -7.58676856e-03\n",
      " -6.41660993e-02  1.36318865e-01  7.87117238e-01  7.98035782e-01\n",
      "  2.91184636e-01 -3.26438119e-01             nan  2.78105508e-01\n",
      "  7.08520044e-01  2.33021175e-01  3.45709697e-02  2.32547029e-01\n",
      " -5.27229137e-01  2.32952404e-01  6.54398187e-02  1.67115034e-01\n",
      " -7.55419109e-03  1.13468281e-01  7.22665184e-01  1.37005726e-01\n",
      "  2.32193566e-01  4.48906412e-01  1.42044717e-01  7.94064010e-01\n",
      "  7.91263251e-01 -8.31798502e-01 -1.04290844e-01  2.24725434e-01\n",
      " -4.89854308e-01  6.75780921e-01 -6.43398972e-02  4.41147439e-01\n",
      "  2.19623511e-01  7.84980936e-01  1.61354196e-01 -1.58427368e-01\n",
      "  7.84441145e-01  1.86871985e-01  7.32729126e-01  1.34616659e-01\n",
      "  1.81061453e-01  1.53925017e-01             nan  8.86429762e-02\n",
      "  2.32320253e-01             nan -8.63858443e-01 -2.25523683e+00\n",
      "  2.81908575e-01  4.23612099e-02             nan  2.73316132e-01\n",
      "  1.37351361e-01 -6.09364721e-02  7.03919671e-02  1.26318099e-02\n",
      "  4.56772742e-01  1.81055296e-01  2.27664642e-01  1.13116924e-02\n",
      "  1.02606862e-01  1.36142056e-01  6.69899954e-01  2.39473112e-01\n",
      " -8.56931446e-01  9.46336165e-02  1.52016994e-01  2.92477838e-01\n",
      "  3.67621714e-01  8.42969786e-01  1.63300450e-01  6.09152255e-03]\n",
      "  category=UserWarning,\n"
     ]
    },
    {
     "name": "stdout",
     "output_type": "stream",
     "text": [
      "{'solver': 'sgd', 'shuffle': True, 'power_t': 0.5, 'momentum': 0.8, 'max_iter': 200, 'learning_rate_init': 0.005, 'learning_rate': 'adaptive', 'hidden_layer_sizes': (80,), 'early_stopping': False, 'alpha': 0.0001, 'activation': 'tanh'}\n"
     ]
    },
    {
     "name": "stderr",
     "output_type": "stream",
     "text": [
      "/Users/renan/Library/Python/3.7/lib/python/site-packages/sklearn/neural_network/_multilayer_perceptron.py:696: ConvergenceWarning: Stochastic Optimizer: Maximum iterations (200) reached and the optimization hasn't converged yet.\n",
      "  ConvergenceWarning,\n"
     ]
    }
   ],
   "source": [
    "# Specify range of hyperparameters to tune\n",
    "hyper_params = {\n",
    "    'hidden_layer_sizes': [(100,), (80,), (110,)],\n",
    "    'activation': ['identity', 'logistic', 'tanh', 'relu'],\n",
    "    'solver': ['lbfgs', 'sgd', 'adam'],\n",
    "    'alpha': [0.0001, 0.1],\n",
    "    'learning_rate': ['constant', 'invscaling', 'adaptive'],\n",
    "    'learning_rate_init': [0.001, 0.002, 0.005],\n",
    "    'power_t': [0.5],\n",
    "    'max_iter': [200],\n",
    "    'shuffle': [True],\n",
    "    'momentum': [0.5, 0.8, 0.9, 1],\n",
    "    'early_stopping': [False]\n",
    "\n",
    "}\n",
    "\n",
    "\n",
    "\n",
    "# Call GridSearchCV()\n",
    "model_cv = RandomizedSearchCV(\n",
    "    estimator = MLPRegressor(),\n",
    "    param_distributions = hyper_params,\n",
    "    n_iter=200,\n",
    "    scoring= 'r2',\n",
    "    cv = folds,\n",
    "    verbose = 2,\n",
    "    return_train_score=True,\n",
    "    n_jobs = -1,\n",
    "    refit = True\n",
    "    )\n",
    "\n",
    "\n",
    "# Fit the model\n",
    "best_model = model_cv.fit(x_train, np.ravel(y_train)) \n",
    "\n",
    "print(model_cv.best_params_)"
   ]
  },
  {
   "cell_type": "code",
   "execution_count": 5,
   "metadata": {},
   "outputs": [
    {
     "name": "stderr",
     "output_type": "stream",
     "text": [
      "/Users/renan/Library/Python/3.7/lib/python/site-packages/sklearn/neural_network/_multilayer_perceptron.py:1599: DataConversionWarning: A column-vector y was passed when a 1d array was expected. Please change the shape of y to (n_samples, ), for example using ravel().\n",
      "  y = column_or_1d(y, warn=True)\n",
      "/Users/renan/Library/Python/3.7/lib/python/site-packages/sklearn/neural_network/_multilayer_perceptron.py:696: ConvergenceWarning: Stochastic Optimizer: Maximum iterations (200) reached and the optimization hasn't converged yet.\n",
      "  ConvergenceWarning,\n"
     ]
    },
    {
     "data": {
      "text/plain": [
       "MLPRegressor(activation='tanh', hidden_layer_sizes=(80,),\n",
       "             learning_rate='adaptive', learning_rate_init=0.005, momentum=0.8,\n",
       "             solver='sgd')"
      ]
     },
     "execution_count": 5,
     "metadata": {},
     "output_type": "execute_result"
    }
   ],
   "source": [
    "# Create new model with best_params_ from grid search\n",
    "# Use cross validation on the best_params_ model\n",
    "\n",
    "mlp_best = MLPRegressor(\n",
    "    hidden_layer_sizes=model_cv.best_params_['hidden_layer_sizes'],\n",
    "    activation=model_cv.best_params_['activation'],\n",
    "    solver=model_cv.best_params_['solver'],\n",
    "    alpha=model_cv.best_params_['alpha'],\n",
    "    learning_rate=model_cv.best_params_['learning_rate'],\n",
    "    learning_rate_init=model_cv.best_params_['learning_rate_init'],\n",
    "    power_t=model_cv.best_params_['power_t'],\n",
    "    max_iter=model_cv.best_params_['max_iter'],\n",
    "    shuffle=model_cv.best_params_['shuffle'],\n",
    "    momentum=model_cv.best_params_['momentum'],\n",
    "    early_stopping=model_cv.best_params_['early_stopping'],\n",
    "    )\n",
    "\n",
    "\n",
    "mlp_best.fit(x_train, y_train)"
   ]
  },
  {
   "cell_type": "code",
   "execution_count": 6,
   "metadata": {},
   "outputs": [
    {
     "data": {
      "text/plain": [
       "array([55.29047869, 57.52386858, 40.62746309, 40.24377079, 72.20170168,\n",
       "       51.87977538, 61.1050331 , 49.19399083, 57.607557  , 67.79507919,\n",
       "       56.33937519, 56.62618219, 88.00091119, 64.42708382, 85.35974134,\n",
       "       25.60842078, 81.46391373, 55.55127558, 69.12647668, 56.76845783,\n",
       "       48.31342727, 50.38508996, 79.44966539, 72.20198733, 50.80106308,\n",
       "       79.21818637, 62.06620381, 42.90552471, 89.68841508, 36.28220809,\n",
       "       60.72073899, 48.37493444, 54.43564495, 63.11593543, 55.47626778,\n",
       "       48.85159693, 70.79964194, 88.58866954, 67.45652632, 70.82554017,\n",
       "       42.60367673, 67.68248467, 64.80157472, 71.37115197, 39.43885836,\n",
       "       73.09653214, 87.59637456, 58.91166905, 42.39672377, 28.65078181,\n",
       "       56.95211783, 72.47005046, 54.68267911, 64.51958253, 66.37415235,\n",
       "       69.2914049 , 53.21974794, 64.13976186, 55.49643187, 84.19380198,\n",
       "       64.61593344, 65.55945989, 63.50381558, 89.50828704, 66.70131543,\n",
       "       58.48614725, 38.54892031, 78.67582223, 37.43356019, 58.0794901 ,\n",
       "       51.75484562, 43.61029334, 59.68411952, 87.9874129 , 52.92552029,\n",
       "       40.31029168, 49.21723651, 65.27178954, 86.45557765, 38.22189406,\n",
       "       52.26010669])"
      ]
     },
     "execution_count": 6,
     "metadata": {},
     "output_type": "execute_result"
    }
   ],
   "source": [
    "mlp_best.predict(x_test)"
   ]
  },
  {
   "cell_type": "code",
   "execution_count": 7,
   "metadata": {},
   "outputs": [
    {
     "data": {
      "text/plain": [
       "0.20015740683010597"
      ]
     },
     "execution_count": 7,
     "metadata": {},
     "output_type": "execute_result"
    }
   ],
   "source": [
    "mlp_best.score(x_test, y_test)"
   ]
  },
  {
   "cell_type": "code",
   "execution_count": 11,
   "metadata": {},
   "outputs": [
    {
     "data": {
      "text/plain": [
       "['../models/mlpRegressor.joblib']"
      ]
     },
     "execution_count": 11,
     "metadata": {},
     "output_type": "execute_result"
    }
   ],
   "source": [
    "filename = '../models/mlpRegressor.joblib'\n",
    "joblib.dump(mlp_best, filename)"
   ]
  },
  {
   "cell_type": "code",
   "execution_count": null,
   "metadata": {},
   "outputs": [],
   "source": []
  }
 ],
 "metadata": {
  "kernelspec": {
   "display_name": "Python 3",
   "language": "python",
   "name": "python3"
  },
  "language_info": {
   "codemirror_mode": {
    "name": "ipython",
    "version": 3
   },
   "file_extension": ".py",
   "mimetype": "text/x-python",
   "name": "python",
   "nbconvert_exporter": "python",
   "pygments_lexer": "ipython3",
   "version": "3.7.3"
  },
  "orig_nbformat": 4,
  "vscode": {
   "interpreter": {
    "hash": "5edc29c2ed010d6458d71a83433b383a96a8cbd3efe8531bc90c4b8a5b8bcec9"
   }
  }
 },
 "nbformat": 4,
 "nbformat_minor": 2
}
