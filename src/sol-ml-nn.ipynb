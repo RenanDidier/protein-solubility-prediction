{
 "cells": [
  {
   "cell_type": "code",
   "execution_count": 1,
   "metadata": {},
   "outputs": [],
   "source": [
    "# General libraries\n",
    "import pandas as pd\n",
    "import numpy as np\n",
    "\n",
    "from sklearn.metrics import r2_score\n",
    "from sklearn.neural_network import MLPRegressor\n",
    "from sklearn.model_selection import RandomizedSearchCV\n",
    "import joblib\n",
    "\n",
    "# Utils functions\n",
    "from utils.utils import kfold, read_datasets, plot_pred_expected_results"
   ]
  },
  {
   "cell_type": "code",
   "execution_count": 2,
   "metadata": {},
   "outputs": [],
   "source": [
    "x_train, x_test, y_train, y_test = read_datasets(\n",
    "    'x_train.csv',\n",
    "    'x_test.csv',\n",
    "    'y_train.csv',\n",
    "    'y_test.csv'\n",
    ")"
   ]
  },
  {
   "cell_type": "code",
   "execution_count": 3,
   "metadata": {},
   "outputs": [],
   "source": [
    "folds = kfold()"
   ]
  },
  {
   "cell_type": "code",
   "execution_count": 4,
   "metadata": {},
   "outputs": [
    {
     "name": "stdout",
     "output_type": "stream",
     "text": [
      "Fitting 10 folds for each of 1 candidates, totalling 10 fits\n"
     ]
    },
    {
     "name": "stderr",
     "output_type": "stream",
     "text": [
      "/Users/renan/Library/Python/3.7/lib/python/site-packages/sklearn/model_selection/_search.py:296: UserWarning: The total space of parameters 1 is smaller than n_iter=300. Running 1 iterations. For exhaustive searches, use GridSearchCV.\n",
      "  UserWarning,\n"
     ]
    },
    {
     "name": "stdout",
     "output_type": "stream",
     "text": [
      "{'solver': 'sgd', 'shuffle': True, 'power_t': 0.6, 'momentum': 0.8, 'max_iter': 200, 'learning_rate_init': 0.005, 'learning_rate': 'constant', 'hidden_layer_sizes': (100,), 'early_stopping': False, 'alpha': 0.0001, 'activation': 'tanh'}\n"
     ]
    },
    {
     "name": "stderr",
     "output_type": "stream",
     "text": [
      "/Users/renan/Library/Python/3.7/lib/python/site-packages/sklearn/neural_network/_multilayer_perceptron.py:696: ConvergenceWarning: Stochastic Optimizer: Maximum iterations (200) reached and the optimization hasn't converged yet.\n",
      "  ConvergenceWarning,\n"
     ]
    }
   ],
   "source": [
    "# Specify range of hyperparameters to tune\n",
    "# hyper_params = {\n",
    "#     'hidden_layer_sizes': [(80,), (100,), (110,), (150,)],\n",
    "#     'activation': ['identity', 'logistic', 'tanh', 'relu'],\n",
    "#     'solver': ['lbfgs', 'sgd', 'adam'],\n",
    "#     'alpha': [0.0001, 0.1],\n",
    "#     'learning_rate': ['constant', 'invscaling', 'adaptive'],\n",
    "#     'learning_rate_init': [0.001, 0.002, 0.005, 0.006],\n",
    "#     'power_t': [0.5, 0.6],\n",
    "#     'max_iter': [200],\n",
    "#     'shuffle': [True],\n",
    "#     'momentum': [0.5, 0.8, 0.9, 1],\n",
    "#     'early_stopping': [False]\n",
    "\n",
    "# }\n",
    "\n",
    "hyper_params = {\n",
    "    'hidden_layer_sizes': [(100,)],\n",
    "    'activation': ['tanh'],\n",
    "    'solver': ['sgd'],\n",
    "    'alpha': [0.0001],\n",
    "    'learning_rate': ['constant'],\n",
    "    'learning_rate_init': [0.005],\n",
    "    'power_t': [0.6],\n",
    "    'max_iter': [200],\n",
    "    'shuffle': [True],\n",
    "    'momentum': [0.8],\n",
    "    'early_stopping': [False]\n",
    "\n",
    "}\n",
    "\n",
    "# Call RandomSearchCV()\n",
    "model_cv = RandomizedSearchCV(\n",
    "    estimator = MLPRegressor(),\n",
    "    param_distributions = hyper_params,\n",
    "    n_iter=300,\n",
    "    scoring= 'r2',\n",
    "    cv = folds,\n",
    "    verbose = 2,\n",
    "    return_train_score=True,\n",
    "    n_jobs = -1,\n",
    "    refit = True\n",
    "    )\n",
    "\n",
    "\n",
    "# Fit the model\n",
    "best_model = model_cv.fit(x_train, np.ravel(y_train)) \n",
    "\n",
    "print(model_cv.best_params_)"
   ]
  },
  {
   "cell_type": "code",
   "execution_count": 5,
   "metadata": {},
   "outputs": [],
   "source": [
    "# Create new model with best_params_ from grid search\n",
    "\n",
    "mlp_best = best_model.best_estimator_"
   ]
  },
  {
   "cell_type": "code",
   "execution_count": 6,
   "metadata": {},
   "outputs": [
    {
     "name": "stdout",
     "output_type": "stream",
     "text": [
      "Train Results: [0.2652356839593467, 0.20836885311776765, 0.23310460302081726, 0.2482745094393427, 0.25596987901389956, 0.28374104938798395, 0.25611720504950675, 0.27722705736987463, 0.271330479194814, 0.2492701713638079]\n",
      "Test Results: [0.2494389969475418, 0.0048850311740110675, 0.2845278799789627, 0.2629212102198, 0.2692912157371292, -0.32456841502138656, 0.17064956046939395, 0.12191548806893127, 0.09994798080228273, 0.209914835984636]\n"
     ]
    }
   ],
   "source": [
    "# Get the results for each split\n",
    "\n",
    "def get_best_model_cv_split_results(best_model, n_splits=10, set_type='train'):\n",
    "    results = []\n",
    "    best_index = best_model.best_index_\n",
    "    for i in range(0, n_splits):\n",
    "        current_split = 'split{}_{}_score'.format(i, set_type)\n",
    "        split_result = best_model.cv_results_[current_split][best_index]\n",
    "        results.append(split_result)\n",
    "\n",
    "    return results\n",
    "\n",
    "print(\"Train Results: {}\".format(get_best_model_cv_split_results(best_model, 10, 'train')))\n",
    "print(\"Test Results: {}\".format(get_best_model_cv_split_results(best_model, 10, 'test')))"
   ]
  },
  {
   "cell_type": "code",
   "execution_count": 7,
   "metadata": {},
   "outputs": [
    {
     "name": "stdout",
     "output_type": "stream",
     "text": [
      "Train mean: 0.25486394909171606\n",
      "Train std: 0.021036831790770823\n",
      "-=-=-=-=-=-=-=-=-=-=-=\n",
      "Validation mean: 0.13489237843613022\n",
      "Validation std: 0.1750053505610733\n"
     ]
    }
   ],
   "source": [
    "#Get the mean and std for the train and test\n",
    "\n",
    "train_mean = sum(get_best_model_cv_split_results(best_model, 10, 'train'))/10\n",
    "test_mean = sum(get_best_model_cv_split_results(best_model, 10, 'test'))/10\n",
    "\n",
    "print(\"Train mean: {}\".format(train_mean))\n",
    "print(\"Train std: {}\".format(np.std(get_best_model_cv_split_results(best_model, 10, 'train'))))\n",
    "\n",
    "print(\"-=-=-=-=-=-=-=-=-=-=-=\")\n",
    "\n",
    "print(\"Validation mean: {}\".format(test_mean))\n",
    "print(\"Validation std: {}\".format(np.std(get_best_model_cv_split_results(best_model, 10, 'test'))))"
   ]
  },
  {
   "cell_type": "code",
   "execution_count": 8,
   "metadata": {},
   "outputs": [
    {
     "name": "stdout",
     "output_type": "stream",
     "text": [
      "The r2 score on test set: 0.1167\n"
     ]
    }
   ],
   "source": [
    "y_pred = mlp_best.predict(x_test)\n",
    "r2 = r2_score(y_test, y_pred)\n",
    "print(\"The r2 score on test set: {:.4f}\".format(r2))"
   ]
  },
  {
   "cell_type": "code",
   "execution_count": 9,
   "metadata": {},
   "outputs": [
    {
     "name": "stderr",
     "output_type": "stream",
     "text": [
      "/Users/renan/Library/Python/3.7/lib/python/site-packages/sklearn/utils/validation.py:993: DataConversionWarning: A column-vector y was passed when a 1d array was expected. Please change the shape of y to (n_samples, ), for example using ravel().\n",
      "  y = column_or_1d(y, warn=True)\n"
     ]
    },
    {
     "data": {
      "image/png": "[encoded data removed]",
      "text/plain": [
       "<Figure size 720x576 with 1 Axes>"
      ]
     },
     "metadata": {
      "needs_background": "light"
     },
     "output_type": "display_data"
    }
   ],
   "source": [
    "# Plot the R2 predicted and expected results\n",
    "plot_pred_expected_results(y_test, y_pred)"
   ]
  },
  {
   "cell_type": "markdown",
   "metadata": {},
   "source": [
    "# Saving trained model"
   ]
  },
  {
   "cell_type": "code",
   "execution_count": 10,
   "metadata": {},
   "outputs": [
    {
     "data": {
      "text/plain": [
       "['../models/mlpRegressor_model.joblib']"
      ]
     },
     "execution_count": 10,
     "metadata": {},
     "output_type": "execute_result"
    }
   ],
   "source": [
    "filename = '../models/mlpRegressor_model.joblib'\n",
    "joblib.dump(mlp_best, filename)"
   ]
  },
  {
   "cell_type": "code",
   "execution_count": null,
   "metadata": {},
   "outputs": [],
   "source": []
  }
 ],
 "metadata": {
  "kernelspec": {
   "display_name": "Python 3",
   "language": "python",
   "name": "python3"
  },
  "language_info": {
   "codemirror_mode": {
    "name": "ipython",
    "version": 3
   },
   "file_extension": ".py",
   "mimetype": "text/x-python",
   "name": "python",
   "nbconvert_exporter": "python",
   "pygments_lexer": "ipython3",
   "version": "3.7.3"
  },
  "orig_nbformat": 4,
  "vscode": {
   "interpreter": {
    "hash": "5edc29c2ed010d6458d71a83433b383a96a8cbd3efe8531bc90c4b8a5b8bcec9"
   }
  }
 },
 "nbformat": 4,
 "nbformat_minor": 2
}
