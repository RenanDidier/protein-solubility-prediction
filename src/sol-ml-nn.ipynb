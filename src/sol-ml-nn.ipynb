{
 "cells": [
  {
   "cell_type": "code",
   "execution_count": 1,
   "metadata": {},
   "outputs": [],
   "source": [
    "# General libraries\n",
    "import pandas as pd\n",
    "import numpy as np\n",
    "\n",
    "from sklearn.neural_network import MLPRegressor\n",
    "from sklearn.model_selection import RandomizedSearchCV\n",
    "import joblib\n",
    "\n",
    "# Utils functions\n",
    "from utils.utils import kfold, read_datasets"
   ]
  },
  {
   "cell_type": "code",
   "execution_count": 2,
   "metadata": {},
   "outputs": [],
   "source": [
    "x_train, x_test, y_train, y_test = read_datasets(\n",
    "    'x_train.csv',\n",
    "    'x_test.csv',\n",
    "    'y_train.csv',\n",
    "    'y_test.csv'\n",
    ")"
   ]
  },
  {
   "cell_type": "code",
   "execution_count": 3,
   "metadata": {},
   "outputs": [],
   "source": [
    "folds = kfold()"
   ]
  },
  {
   "cell_type": "code",
   "execution_count": 4,
   "metadata": {},
   "outputs": [
    {
     "name": "stdout",
     "output_type": "stream",
     "text": [
      "Fitting 10 folds for each of 200 candidates, totalling 2000 fits\n"
     ]
    },
    {
     "name": "stderr",
     "output_type": "stream",
     "text": [
      "/Users/renan/Library/Python/3.7/lib/python/site-packages/sklearn/model_selection/_search.py:972: UserWarning: One or more of the test scores are non-finite: [ 1.06293710e-01 -5.27946609e+00  3.66237020e-02  9.04007754e-02\n",
      "  1.36077095e-02 -1.68767011e-01  1.02198418e-01  1.06011311e-01\n",
      "  9.33390117e-02 -1.98195375e-02 -8.42564787e-02  1.08160960e-01\n",
      "  1.21668935e-01  1.41220890e-01  1.06275851e-01 -2.65822696e+00\n",
      " -4.39446395e-01 -1.88078208e-01  6.46252779e-02  1.05832506e-01\n",
      " -1.27142262e-01  1.04340139e-01  1.81874736e-02  9.20220716e-02\n",
      " -3.21079505e-02  1.63230477e-02  9.11084415e-02  9.75895468e-02\n",
      " -4.47816443e-01 -9.33261468e-01 -3.58091821e-01 -3.74516371e-02\n",
      " -2.40515326e-01  9.73874539e-02  6.48047081e-02 -2.07169542e-01\n",
      "  9.72725719e-02             nan  1.18673753e-01  1.16230029e-01\n",
      " -3.25683102e+00 -1.54923600e-01  9.46910694e-02  1.31472986e-01\n",
      " -5.13111597e-01 -2.40102605e-01 -1.93798721e-01             nan\n",
      " -8.71552299e-01  1.03654938e-01  9.29072966e-02  1.22935007e-01\n",
      " -4.02693840e-01 -4.04829066e-03 -2.80856075e-02  1.05044339e-01\n",
      "  1.58221590e-01  7.81588367e-02  9.73431400e-02 -5.42395971e-01\n",
      "  1.03390519e-01  1.02087240e-01  1.40271640e-01 -8.89778363e-01\n",
      "  4.60456295e-02 -3.01233268e+01 -6.29905033e-03  9.51572299e-02\n",
      "  9.80751764e-02 -1.73469785e-01 -6.60489912e-01 -4.16535705e-02\n",
      "  1.06724999e-01  1.39354087e-01  1.07130721e-01 -2.46121117e+00\n",
      "  1.33845740e-01 -2.03731847e-02  1.50541815e-01 -3.61121023e-02\n",
      "  5.01538747e-02 -3.64704038e-02  1.07042510e-01 -2.77541120e-01\n",
      " -1.21994774e-01 -8.75341172e-02 -8.74264933e-02  1.12061707e-01\n",
      "  1.41537372e-01  9.68646453e-02 -2.29532492e-01 -2.34734420e-01\n",
      "  9.62039002e-02  9.65680315e-02  2.40812794e-02  5.46915467e-02\n",
      "  1.03257484e-01  3.92638054e-02  7.94692558e-02 -1.07938634e+00\n",
      "  1.11626530e-01  1.23568957e-02 -2.33766487e-01 -2.76204804e-01\n",
      "  6.24962665e-02  3.85292529e-02 -3.70249922e-01  1.17574777e-01\n",
      "  9.53310464e-02  9.67373758e-02 -1.78195462e-01  1.16845835e-01\n",
      " -9.22174749e-01  2.54562027e-03  1.03410227e-01  5.51370941e-02\n",
      "  7.99062873e-03  6.57716546e-02  1.30279099e-01  3.22178547e-02\n",
      " -1.94156411e-02 -3.12657109e-01  1.12289313e-01 -5.25799190e-01\n",
      "  1.03665109e-01  1.06654563e-01  1.02632977e-01  8.00285492e-02\n",
      "  3.20241981e-02  9.27867900e-02 -2.45978094e-01 -4.13919650e-01\n",
      "  1.36841122e-01 -1.84398730e-01 -8.68189583e-01  9.65190988e-02\n",
      "  1.22414112e-01 -3.27450793e-01  8.75693827e-02 -1.78567934e-01\n",
      "             nan -1.23421065e-01 -2.78808064e-01  1.66708446e-01\n",
      "  6.27726882e-02 -3.72490856e-02  1.07262356e-01 -4.30211378e-01\n",
      " -2.76348672e-01  1.02481045e-01  1.35983919e-02  1.15253257e-01\n",
      "  9.09249226e-02 -2.77299248e-01  9.87884580e-02  1.37056293e-01\n",
      " -3.41876811e-01  3.62015774e-02 -6.40218644e-03 -2.66603843e-01\n",
      " -3.55589513e-01  1.65336407e-01 -2.92114646e-02 -3.69828315e-02\n",
      "  1.06007313e-01  6.63553959e-02 -1.32499164e-02 -2.77880991e+00\n",
      "  3.48259384e-02 -1.02011252e-01  9.70897644e-02  6.96253328e-02\n",
      "  1.02812800e-01 -8.23462752e-02  3.97449177e-02 -7.86910389e-01\n",
      "  1.01872496e-01  1.28961736e-01 -2.88702566e-02  1.30401747e-01\n",
      "  1.02946810e-01 -3.73524273e-01 -3.63539605e-01 -2.05111280e-01\n",
      " -4.32507253e-01  1.56410454e-01  4.05112160e-02 -3.75091090e-01\n",
      "  9.45015281e-02  6.70591302e-02  9.99241950e-02  9.53196586e-02\n",
      " -1.89478995e+00  1.23137183e-01  5.53247460e-02  1.05362726e-01\n",
      "  1.29607673e-01 -3.84535298e-01 -4.46140573e-01 -8.42660794e-02]\n",
      "  category=UserWarning,\n",
      "/Users/renan/Library/Python/3.7/lib/python/site-packages/sklearn/model_selection/_search.py:972: UserWarning: One or more of the train scores are non-finite: [ 2.41329384e-01 -5.14950277e+00  6.33084480e-02  1.28357328e-01\n",
      "  4.33504083e-02  7.41983242e-01  2.40578127e-01  2.41162820e-01\n",
      "  1.34286464e-01  1.12097341e-03 -6.50636963e-02  1.71677608e-01\n",
      "  2.39364620e-01  3.27274787e-01  1.55890024e-01 -2.65529357e+00\n",
      "  8.01365726e-01  7.08317619e-01  1.03095277e-01  2.41714193e-01\n",
      "  6.81206207e-01  2.39840220e-01  4.75480153e-01  1.32688999e-01\n",
      "  4.55108310e-01  4.52110392e-02  1.29597553e-01  1.20907485e-01\n",
      "  7.92101383e-01 -8.52846210e-01  7.29640385e-01 -1.64305579e-02\n",
      "  7.54596136e-01  1.38274692e-01  1.01838685e-01  7.44516212e-01\n",
      "  1.31327016e-01             nan  2.44824058e-01  1.69736327e-01\n",
      " -3.19312837e+00  6.69485480e-01  1.33716567e-01  2.01466668e-01\n",
      " -4.60741030e-01  8.12323040e-01  6.98301416e-01             nan\n",
      " -8.37888565e-01  2.41233819e-01  1.99278873e-01  1.79631969e-01\n",
      "  7.51146863e-01  4.59967754e-01 -7.85676275e-03  2.41592468e-01\n",
      "  3.66041251e-01  1.00427824e-01  1.38236246e-01 -5.13067825e-01\n",
      "  1.95032893e-01  2.41426508e-01  1.82685574e-01 -8.50633295e-01\n",
      "  4.42129280e-01 -2.92104853e+01  1.54579841e-02  1.53453612e-01\n",
      "  2.41894928e-01  6.66002276e-01 -5.64052477e-01  4.66274510e-01\n",
      "  1.49649490e-01  2.03402890e-01  1.43895437e-01 -2.33222283e+00\n",
      "  1.89137683e-01  4.52356786e-01  2.64616939e-01 -1.75200298e-02\n",
      "  4.63085513e-01 -1.28355173e-02  1.54917513e-01  6.81793273e-01\n",
      " -1.01497639e-01  6.79335913e-01  2.20244448e-01  3.20635134e-01\n",
      "  2.63570517e-01  1.38490704e-01  6.84647507e-01  6.64324463e-01\n",
      "  1.38237899e-01  1.38070918e-01  4.54975939e-01  4.29777334e-01\n",
      "  2.41693718e-01  6.75882656e-02  1.80119038e-01 -1.03675890e+00\n",
      "  1.61030352e-01  4.27386288e-02  7.36636291e-01  7.20419716e-01\n",
      "  7.86312602e-02  6.83045267e-02  8.30699171e-01  1.71023050e-01\n",
      "  1.35040714e-01  1.36923932e-01 -8.61327383e-02  1.71699044e-01\n",
      " -7.21961968e-01  2.40537983e-02  2.41445243e-01  8.16844054e-02\n",
      "  4.48586445e-01  1.01671180e-01  2.06355392e-01  1.19667115e-01\n",
      "  1.45756599e-03  7.43436924e-01  2.51772064e-01  8.02686975e-01\n",
      "  2.40973412e-01  2.41439448e-01  2.41414144e-01  1.25064548e-01\n",
      "  6.24924919e-02  1.32819744e-01  7.29885940e-01  8.05438435e-01\n",
      "  2.20056546e-01  7.31849105e-01 -8.37633324e-01  1.56212896e-01\n",
      "  1.79631477e-01  8.52360363e-01  1.19293591e-01 -1.49074896e-01\n",
      "             nan -1.03367797e-01  8.18106999e-01  2.53445024e-01\n",
      "  1.49989169e-01 -1.66441647e-02  1.43802976e-01 -4.04632472e-01\n",
      "  6.98598474e-01  1.34301145e-01  4.48686983e-02  1.70366786e-01\n",
      "  1.39274292e-01  7.55186048e-01  1.21785889e-01  2.25908056e-01\n",
      "  7.99466713e-01  4.22449086e-02  4.61392091e-01  6.97458632e-01\n",
      "  8.06349152e-01  2.71353325e-01 -8.62055669e-03 -1.54569086e-02\n",
      "  2.41339727e-01  1.01860208e-01  1.04769783e-02 -2.74846323e+00\n",
      "  4.60638367e-01  6.94112298e-01  1.55839086e-01  9.23377862e-02\n",
      "  2.41226217e-01 -6.20759517e-02  6.88029506e-02 -7.53867391e-01\n",
      "  1.73994672e-01  2.53737881e-01 -8.42796046e-03  1.84899834e-01\n",
      "  2.41898521e-01 -3.50502527e-01  8.28693501e-01  8.11573469e-01\n",
      "  7.88136547e-01  2.77904218e-01  8.49335881e-02  7.47422217e-01\n",
      "  1.34615795e-01  1.02392545e-01  2.41148211e-01  1.44252394e-01\n",
      " -1.83964505e+00  1.97381824e-01  2.53477998e-01  2.41164407e-01\n",
      "  1.96364221e-01  7.28034687e-01 -4.22214629e-01 -6.40023189e-02]\n",
      "  category=UserWarning,\n"
     ]
    },
    {
     "name": "stdout",
     "output_type": "stream",
     "text": [
      "{'solver': 'sgd', 'shuffle': True, 'power_t': 0.5, 'momentum': 0.9, 'max_iter': 200, 'learning_rate_init': 0.001, 'learning_rate': 'adaptive', 'hidden_layer_sizes': (110,), 'early_stopping': False, 'alpha': 0.0001, 'activation': 'tanh'}\n"
     ]
    },
    {
     "name": "stderr",
     "output_type": "stream",
     "text": [
      "/Users/renan/Library/Python/3.7/lib/python/site-packages/sklearn/neural_network/_multilayer_perceptron.py:696: ConvergenceWarning: Stochastic Optimizer: Maximum iterations (200) reached and the optimization hasn't converged yet.\n",
      "  ConvergenceWarning,\n"
     ]
    }
   ],
   "source": [
    "# Specify range of hyperparameters to tune\n",
    "hyper_params = {\n",
    "    'hidden_layer_sizes': [(100,), (80,), (110,)],\n",
    "    'activation': ['identity', 'logistic', 'tanh', 'relu'],\n",
    "    'solver': ['lbfgs', 'sgd', 'adam'],\n",
    "    'alpha': [0.0001, 0.1],\n",
    "    'learning_rate': ['constant', 'invscaling', 'adaptive'],\n",
    "    'learning_rate_init': [0.001, 0.002, 0.005],\n",
    "    'power_t': [0.5],\n",
    "    'max_iter': [200],\n",
    "    'shuffle': [True],\n",
    "    'momentum': [0.5, 0.8, 0.9, 1],\n",
    "    'early_stopping': [False]\n",
    "\n",
    "}\n",
    "\n",
    "\n",
    "\n",
    "# Call GridSearchCV()\n",
    "model_cv = RandomizedSearchCV(\n",
    "    estimator = MLPRegressor(),\n",
    "    param_distributions = hyper_params,\n",
    "    n_iter=200,\n",
    "    scoring= 'r2',\n",
    "    cv = folds,\n",
    "    verbose = 2,\n",
    "    return_train_score=True,\n",
    "    n_jobs = -1,\n",
    "    refit = True\n",
    "    )\n",
    "\n",
    "\n",
    "# Fit the model\n",
    "best_model = model_cv.fit(x_train, np.ravel(y_train)) \n",
    "\n",
    "print(model_cv.best_params_)"
   ]
  },
  {
   "cell_type": "code",
   "execution_count": 5,
   "metadata": {},
   "outputs": [
    {
     "name": "stderr",
     "output_type": "stream",
     "text": [
      "/Users/renan/Library/Python/3.7/lib/python/site-packages/sklearn/neural_network/_multilayer_perceptron.py:1599: DataConversionWarning: A column-vector y was passed when a 1d array was expected. Please change the shape of y to (n_samples, ), for example using ravel().\n",
      "  y = column_or_1d(y, warn=True)\n",
      "/Users/renan/Library/Python/3.7/lib/python/site-packages/sklearn/neural_network/_multilayer_perceptron.py:696: ConvergenceWarning: Stochastic Optimizer: Maximum iterations (200) reached and the optimization hasn't converged yet.\n",
      "  ConvergenceWarning,\n"
     ]
    },
    {
     "data": {
      "text/plain": [
       "MLPRegressor(activation='tanh', hidden_layer_sizes=(110,),\n",
       "             learning_rate='adaptive', solver='sgd')"
      ]
     },
     "execution_count": 5,
     "metadata": {},
     "output_type": "execute_result"
    }
   ],
   "source": [
    "# Create new model with best_params_ from grid search\n",
    "# Use cross validation on the best_params_ model\n",
    "\n",
    "mlp_best = MLPRegressor(\n",
    "    hidden_layer_sizes=model_cv.best_params_['hidden_layer_sizes'],\n",
    "    activation=model_cv.best_params_['activation'],\n",
    "    solver=model_cv.best_params_['solver'],\n",
    "    alpha=model_cv.best_params_['alpha'],\n",
    "    learning_rate=model_cv.best_params_['learning_rate'],\n",
    "    learning_rate_init=model_cv.best_params_['learning_rate_init'],\n",
    "    power_t=model_cv.best_params_['power_t'],\n",
    "    max_iter=model_cv.best_params_['max_iter'],\n",
    "    shuffle=model_cv.best_params_['shuffle'],\n",
    "    momentum=model_cv.best_params_['momentum'],\n",
    "    early_stopping=model_cv.best_params_['early_stopping'],\n",
    "    )\n",
    "\n",
    "\n",
    "mlp_best.fit(x_train, y_train)"
   ]
  },
  {
   "cell_type": "code",
   "execution_count": 6,
   "metadata": {},
   "outputs": [
    {
     "data": {
      "text/plain": [
       "array([52.78234243, 51.85333624, 40.50676087, 39.65287434, 70.87047149,\n",
       "       50.61452904, 60.2627015 , 48.12503759, 57.33702632, 66.36852643,\n",
       "       54.92141756, 57.68531831, 87.63234689, 66.40618723, 82.91559553,\n",
       "       30.28363047, 78.88711468, 50.93698578, 69.32490502, 55.26829159,\n",
       "       46.30059082, 49.96023852, 76.5447495 , 68.27622282, 50.45836345,\n",
       "       77.1003379 , 54.27321588, 43.59828317, 88.28809727, 39.40197083,\n",
       "       58.29652871, 48.47483042, 47.92556534, 53.06488   , 48.64109433,\n",
       "       47.26122508, 68.00383635, 87.34602934, 65.1894306 , 70.45175361,\n",
       "       43.91588422, 66.33389224, 66.0250955 , 68.8737904 , 43.45559072,\n",
       "       70.24033755, 85.83828484, 60.07747141, 41.47201569, 30.47775224,\n",
       "       51.63564234, 69.67358265, 48.28624669, 61.51693564, 65.04677597,\n",
       "       66.3101646 , 52.59339976, 63.71378157, 53.62720113, 81.35145423,\n",
       "       58.09560758, 61.50581148, 61.8762005 , 88.3688526 , 64.5571993 ,\n",
       "       56.48373726, 42.71122914, 77.23653468, 40.3528721 , 52.8290043 ,\n",
       "       47.9115927 , 45.16977311, 57.77548412, 87.01031056, 52.71144063,\n",
       "       42.70157852, 46.63842986, 62.3903603 , 85.01129096, 36.20829752,\n",
       "       48.55733935])"
      ]
     },
     "execution_count": 6,
     "metadata": {},
     "output_type": "execute_result"
    }
   ],
   "source": [
    "mlp_best.predict(x_test)"
   ]
  },
  {
   "cell_type": "code",
   "execution_count": 7,
   "metadata": {},
   "outputs": [
    {
     "data": {
      "text/plain": [
       "0.20223824883521002"
      ]
     },
     "execution_count": 7,
     "metadata": {},
     "output_type": "execute_result"
    }
   ],
   "source": [
    "mlp_best.score(x_test, y_test)"
   ]
  },
  {
   "cell_type": "code",
   "execution_count": 8,
   "metadata": {},
   "outputs": [
    {
     "data": {
      "text/plain": [
       "['../models/mlpRegressor.joblib']"
      ]
     },
     "execution_count": 8,
     "metadata": {},
     "output_type": "execute_result"
    }
   ],
   "source": [
    "filename = '../models/mlpRegressor.joblib'\n",
    "joblib.dump(mlp_best, filename)"
   ]
  },
  {
   "cell_type": "code",
   "execution_count": null,
   "metadata": {},
   "outputs": [],
   "source": []
  }
 ],
 "metadata": {
  "kernelspec": {
   "display_name": "Python 3",
   "language": "python",
   "name": "python3"
  },
  "language_info": {
   "codemirror_mode": {
    "name": "ipython",
    "version": 3
   },
   "file_extension": ".py",
   "mimetype": "text/x-python",
   "name": "python",
   "nbconvert_exporter": "python",
   "pygments_lexer": "ipython3",
   "version": "3.7.3"
  },
  "orig_nbformat": 4,
  "vscode": {
   "interpreter": {
    "hash": "5edc29c2ed010d6458d71a83433b383a96a8cbd3efe8531bc90c4b8a5b8bcec9"
   }
  }
 },
 "nbformat": 4,
 "nbformat_minor": 2
}
