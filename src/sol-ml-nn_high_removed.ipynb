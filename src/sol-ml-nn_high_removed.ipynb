{
 "cells": [
  {
   "cell_type": "code",
   "execution_count": 1,
   "metadata": {},
   "outputs": [],
   "source": [
    "# General libraries\n",
    "import pandas as pd\n",
    "import numpy as np\n",
    "\n",
    "from sklearn.metrics import r2_score\n",
    "from sklearn.neural_network import MLPRegressor\n",
    "from sklearn.model_selection import RandomizedSearchCV\n",
    "import joblib\n",
    "\n",
    "# Utils functions\n",
    "from utils.utils import kfold, read_datasets, plot_pred_expected_results"
   ]
  },
  {
   "cell_type": "code",
   "execution_count": 2,
   "metadata": {},
   "outputs": [],
   "source": [
    "x_train, x_test, y_train, y_test = read_datasets(\n",
    "    'x_train_2.csv',\n",
    "    'x_test_2.csv',\n",
    "    'y_train_2.csv',\n",
    "    'y_test_2.csv'\n",
    ")"
   ]
  },
  {
   "cell_type": "code",
   "execution_count": 3,
   "metadata": {},
   "outputs": [],
   "source": [
    "folds = kfold()"
   ]
  },
  {
   "cell_type": "code",
   "execution_count": 4,
   "metadata": {},
   "outputs": [
    {
     "name": "stdout",
     "output_type": "stream",
     "text": [
      "Fitting 10 folds for each of 300 candidates, totalling 3000 fits\n"
     ]
    },
    {
     "name": "stderr",
     "output_type": "stream",
     "text": [
      "/Users/renan/Library/Python/3.7/lib/python/site-packages/sklearn/model_selection/_search.py:972: UserWarning: One or more of the test scores are non-finite: [ 1.01507635e-01  1.05319393e-01 -2.76140857e+00 -2.85765951e-01\n",
      "  5.03429064e-02  1.05361057e-01 -1.50629592e+00 -1.80081365e+00\n",
      "  2.79085436e-02  1.12475976e-01 -5.73687761e-01  3.36345097e-02\n",
      " -8.67370672e-02  9.17672639e-02  7.19660865e-02 -9.47130728e-02\n",
      "  1.05490549e-01  8.73685014e-02 -4.84438801e-01  1.21247529e-01\n",
      " -2.52217101e-02 -3.68665061e+01  8.16847604e-02  2.10742189e-02\n",
      " -3.75300217e-03  5.22135079e-02  2.36319918e-02  7.78176003e-02\n",
      "  1.00811397e-01  7.02129642e-02 -4.36481077e-01 -4.25184734e-03\n",
      "  2.81300411e-02 -3.61275698e-01 -4.20161698e-01             nan\n",
      "  1.75316578e-03 -3.13692869e-01  1.05659352e-01  9.20483110e-02\n",
      "  1.05718526e-01  1.10900873e-01 -1.62380475e-01 -6.94131453e-03\n",
      " -2.57971685e-01  1.05369745e-01  1.10090856e-01  1.07740903e-01\n",
      " -1.56783100e+00  6.26071315e-02 -2.90860520e-01 -7.54206769e-01\n",
      " -5.25920022e-01  1.19980925e-01  6.91159640e-02 -1.63081890e+00\n",
      "  9.86906901e-02 -3.83378280e-01  1.05360011e-01  1.05831659e-01\n",
      "  5.39983632e-02  1.61396337e-01 -2.48239929e-01 -6.94468424e-02\n",
      "  9.07524572e-02 -3.91072708e-01  1.04990734e-01 -1.84546015e+00\n",
      "  2.61372995e-02  5.82122040e-02 -4.73043597e-01  4.75665209e-02\n",
      "  6.55774651e-02  1.00582323e-01  1.12635248e-01  1.32254269e-01\n",
      "  4.80102387e-02  2.07790189e-02  8.95090556e-02  5.87440260e-02\n",
      "  1.14865616e-01  1.05371507e-01 -5.55596415e-01 -7.41444094e-01\n",
      " -2.27538600e-02 -5.99889349e-01 -4.35396530e-01  8.73970069e-02\n",
      " -8.13248685e-03 -1.89978011e-02 -4.72865714e-01 -2.24675947e-02\n",
      " -8.22576546e-02 -4.66539343e-01 -8.57459014e-01  1.17680515e-01\n",
      "  1.05720094e-01  1.47714327e-01  1.03047685e-01  1.05396405e-01\n",
      "  9.79403499e-02 -3.86880731e-01  9.48882952e-02 -1.22287052e-01\n",
      " -4.51672550e-01 -4.13032126e-01 -4.31484938e-01 -5.20816361e-01\n",
      "  1.10689598e-01 -4.95249765e-02  5.55272076e-02  6.89978656e-02\n",
      " -3.76690645e-01  9.09383812e-02  1.54901423e-01 -1.86827008e+00\n",
      "  3.56158755e-02  9.92631110e-02  9.59518292e-02 -6.28429682e-01\n",
      "  1.05530231e-01  9.04495448e-02  4.52738309e-04  5.21603559e-02\n",
      " -3.99900098e-01  6.05880576e-02 -1.79538127e-01  1.01754217e-01\n",
      "  2.51490389e-02  9.41702475e-02 -4.07497935e-03 -4.66476530e-01\n",
      "  1.01193437e-01  7.29319658e-02 -2.51984727e-02  1.05311854e-01\n",
      " -4.18569386e-02 -5.82823266e-01 -4.33209417e-01 -4.95648981e-01\n",
      "  9.98757740e-02  1.43507354e-01 -3.41384523e-01             nan\n",
      " -5.67888303e-01  1.18919798e-01  9.94829459e-02 -2.45049816e+00\n",
      " -6.03677171e-01 -5.35813292e-01  1.98131082e-03 -3.72848984e-01\n",
      " -6.61064484e-02 -5.90798336e-01  6.85000348e-02  1.05080813e-01\n",
      " -1.95984514e-01  1.00361576e-01  6.72084480e-02  1.07455331e-01\n",
      "  6.69536607e-02  9.50960447e-02 -6.09762152e-02 -1.04277892e+00\n",
      "  1.14936689e-01 -3.86282860e-01  1.05361434e-01  5.58235603e-02\n",
      " -2.33262756e+00 -6.41664046e-02 -1.60068940e-01 -3.25491705e-01\n",
      "  7.48644318e-02  1.05660124e-01  4.16125521e-02 -2.29115694e-01\n",
      " -1.71351608e-01 -1.31598791e-01  1.47519321e-01  3.54388218e-02\n",
      "  1.21757843e-01  6.99294161e-02  9.58275863e-02  8.29324121e-02\n",
      " -3.52462962e-01  6.36246996e-02  5.66304978e-02  1.07744924e-01\n",
      "  2.38573358e-03  1.27744511e-01 -2.06263738e-02 -3.28801090e-02\n",
      "  4.23180572e-02             nan -4.78619524e-01  2.18685820e-02\n",
      "  1.10433833e-01 -7.58802547e-01  2.47991702e-03 -1.87997106e-03\n",
      "  6.18723935e-02  1.17624896e-01  2.26743102e-02 -6.68576673e-02\n",
      "  1.04158730e-01 -5.31158791e-01  1.05413893e-01 -2.58995171e-02\n",
      " -1.16110828e-01 -1.68744937e-01  7.46892016e-02  1.05356231e-01\n",
      "  1.29435610e-01  8.28389778e-02  1.52680797e-02  1.10699936e-01\n",
      " -4.69015373e-01  1.63952190e-02 -4.91549789e-01 -3.53543314e-01\n",
      "  1.14803610e-01 -8.23696141e-01 -4.44792074e-01  1.10944368e-01\n",
      " -1.72502084e-01  8.59889093e-02 -4.87578794e-01  7.61320286e-02\n",
      "  1.47983842e-01  1.11982207e-01 -3.44730160e-01 -5.85395228e-01\n",
      "  1.05630855e-01 -4.51279021e-02  1.56773641e-01  6.25779312e-02\n",
      "  5.86791717e-02  1.05341128e-01  1.49208702e-01 -2.71513662e-01\n",
      " -3.95799375e-01             nan -6.04381896e-01 -1.01733379e-02\n",
      "  1.14872277e-01  7.14777132e-02  7.61325691e-02 -4.88829573e-01\n",
      "  1.39527728e-01 -8.81375744e-03  1.08235917e-01  3.47736513e-02\n",
      " -1.13748118e+00  1.18663103e-01  1.05648859e-01  1.05355032e-01\n",
      " -2.13617858e+00 -2.56374187e-01  9.52025000e-02 -5.10344748e-01\n",
      " -6.04368259e-01  1.17119769e-01  1.42029205e-01  9.38590062e-04\n",
      "  6.07030390e-02 -6.05994421e-01 -2.16899722e-01  5.10024270e-02\n",
      " -1.06052876e-01  1.14279071e-01 -2.27092450e-01 -2.05534713e+01\n",
      "  5.91276504e-03  1.05330888e-01  1.05329525e-01 -6.40955090e-01\n",
      "  1.55926943e-01 -1.88216863e-01  5.33758781e-03  1.24582858e-02\n",
      "  1.21906287e-01 -8.41755339e-03 -4.59923044e-01  7.57963292e-02\n",
      "  7.51112082e-02  4.10305114e-03 -8.96514411e-01  1.05602025e-01\n",
      "  1.30516252e-01 -3.73672936e-01  7.21480052e-02 -4.98031577e-01\n",
      " -4.97604630e-01  1.05304922e-01  5.55268949e-02  2.13928460e-02\n",
      " -4.30419030e-02  1.14464760e-01  2.04820896e-02  5.43542237e-02]\n",
      "  category=UserWarning,\n",
      "/Users/renan/Library/Python/3.7/lib/python/site-packages/sklearn/model_selection/_search.py:972: UserWarning: One or more of the train scores are non-finite: [ 1.25642357e-01  2.12472856e-01 -2.69263829e+00  7.95984230e-01\n",
      "  4.29268388e-01  2.12472845e-01 -1.47927144e+00 -1.74335319e+00\n",
      "  6.20275864e-02  1.72720636e-01  8.32134236e-01  4.12682108e-01\n",
      "  4.26910618e-01  1.31837247e-01  1.73782801e-01  2.00900983e-01\n",
      "  2.12471258e-01  1.24554402e-01  7.14881083e-01  1.86966971e-01\n",
      " -5.74194699e-03 -3.43596404e+01  1.21182793e-01  4.28553266e-01\n",
      "  4.00030845e-01  1.00932185e-01  5.82696884e-02  2.14798241e-01\n",
      "  1.67618038e-01  9.68108358e-02  8.03309188e-01  1.75363689e-02\n",
      "  5.01422196e-02  6.63167318e-01  8.13080685e-01             nan\n",
      "  2.43679824e-02  7.13718697e-01  2.12469291e-01  1.37285737e-01\n",
      "  2.12468137e-01  1.56754551e-01 -1.41564349e-01  1.31470239e-02\n",
      "  6.84248058e-01  2.12472865e-01  1.66023964e-01  1.30857196e-01\n",
      " -1.52005972e+00  8.71591211e-02  6.97792381e-01  8.26135904e-01\n",
      "  8.16626778e-01  2.04935158e-01  1.21557373e-01 -1.56955396e+00\n",
      "  1.56201589e-01  6.82984842e-01  2.12472874e-01  2.12469299e-01\n",
      "  7.28186808e-02  2.74910065e-01  8.18505480e-01 -4.83381464e-02\n",
      "  2.28386154e-01 -3.66399252e-01  2.12470285e-01 -1.78187422e+00\n",
      "  6.08611707e-02  1.72655255e-01  7.84984622e-01  8.96813140e-02\n",
      "  9.29717103e-02  1.41234572e-01  1.82745699e-01  2.34714552e-01\n",
      "  8.85754544e-02  3.13832563e-01  1.25467733e-01  8.43685841e-02\n",
      "  2.00339427e-01  2.12471468e-01  8.03595126e-01 -7.01150565e-01\n",
      "  4.18856176e-01  7.60574776e-01  7.27484171e-01  1.21244209e-01\n",
      "  1.31683192e-02  9.29645789e-04  8.49758797e-01 -2.86522693e-03\n",
      "  4.10103196e-01  7.84654696e-01 -8.20605794e-01  2.29250942e-01\n",
      "  2.12470282e-01  2.37074530e-01  1.57509331e-01  2.12472854e-01\n",
      "  1.47400583e-01  8.15069161e-01  1.65361957e-01 -1.02687506e-01\n",
      "  8.15282890e-01  7.43645784e-01  8.20447123e-01  8.00497512e-01\n",
      "  1.41516823e-01  4.19735433e-01  1.00161006e-01  1.23073147e-01\n",
      "  7.19731002e-01  1.29202518e-01  2.97302098e-01 -1.87675976e+00\n",
      "  7.15450261e-02  1.57744461e-01  1.51897460e-01  8.17788538e-01\n",
      "  2.12469706e-01  1.31223697e-01  2.47280170e-02  4.31653467e-01\n",
      " -9.00613287e-02  8.61610288e-02 -1.58075319e-01  2.16703337e-01\n",
      "  5.99918869e-02  1.16259283e-01  1.79299985e-02 -4.43861335e-01\n",
      "  1.61350450e-01  1.03514577e-01  4.12426787e-01  2.12469928e-01\n",
      "  4.35947270e-01  7.81169618e-01  7.68651690e-01  8.17534555e-01\n",
      "  1.65458774e-01  2.39834605e-01  7.90937720e-01             nan\n",
      "  8.02080450e-01  2.05121971e-01  1.33636349e-01 -2.37250374e+00\n",
      "  7.68201918e-01  8.01397626e-01  4.16863256e-01 -2.92000230e-01\n",
      "  4.34509361e-01  7.44348882e-01  1.20569344e-01  2.12470379e-01\n",
      "  6.73722325e-01  1.25678358e-01  1.22329470e-01  1.66926811e-01\n",
      "  9.50852897e-02  1.16202589e-01  4.22541567e-01 -9.97308451e-01\n",
      "  1.84329202e-01 -3.63829592e-01  2.12472870e-01  2.54507116e-01\n",
      " -2.27175085e+00  3.76336500e-01 -2.01558449e-01  6.81690543e-01\n",
      "  1.33751113e-01  2.12468439e-01  4.22760770e-01  6.67773492e-01\n",
      " -1.50528363e-01  3.28563384e-01  2.67051496e-01  7.24403991e-02\n",
      "  1.87261892e-01  1.20977193e-01  1.52008613e-01  2.40098084e-01\n",
      " -3.22370290e-01  8.84634050e-02  1.33782214e-01  1.87542461e-01\n",
      "  2.51284549e-02  2.09266551e-01  4.08851997e-02  4.27499877e-01\n",
      "  8.89591475e-02             nan -4.52221993e-01  5.06292288e-02\n",
      "  2.03108567e-01  8.25047909e-01  2.49971827e-02  4.29786396e-01\n",
      "  8.91047057e-02  1.85363450e-01  4.18878380e-01  1.46987799e-01\n",
      "  1.32522701e-01  8.33424719e-01  2.12472857e-01 -5.06487910e-03\n",
      " -9.63626181e-02 -1.46679533e-01  3.40550964e-01  2.12472883e-01\n",
      "  2.44804856e-01  1.19508264e-01  4.42433685e-01  2.07446940e-01\n",
      "  6.62985731e-01  4.40249179e-01  8.04336682e-01  8.34435098e-01\n",
      "  1.85133656e-01 -9.77791837e-01  8.20377034e-01  1.52199023e-01\n",
      " -1.52816030e-01  2.42151532e-01 -4.60462580e-01  1.24506504e-01\n",
      "  2.38607438e-01  1.84116743e-01  8.15902899e-01 -5.61896429e-01\n",
      "  2.12470673e-01  4.30625480e-01  2.56587636e-01  4.14118652e-01\n",
      "  8.81140412e-02  2.12472859e-01  2.47628260e-01  1.12170847e-01\n",
      "  7.63063641e-01             nan -5.76660302e-01  3.63221606e-01\n",
      "  2.01300275e-01  1.20901932e-01  1.04586389e-01  7.10166239e-01\n",
      "  1.76013049e-01  4.21098962e-01  1.57844657e-01  4.27073108e-01\n",
      " -1.09567293e+00  1.92404598e-01  2.12468224e-01  2.12472862e-01\n",
      " -2.07524004e+00  6.50276351e-01  1.56924016e-01  7.29481480e-01\n",
      " -5.79118427e-01  1.83699578e-01  2.56671963e-01  2.37609354e-02\n",
      "  1.04500117e-01  8.61727297e-01 -1.92830830e-01  7.23528159e-02\n",
      "  4.37529614e-01  1.87342475e-01  7.14426212e-01 -2.10894455e+01\n",
      "  4.20083360e-01  2.12472874e-01  2.12472827e-01  7.69509251e-01\n",
      "  2.99341548e-01  7.03152468e-01  4.25039874e-01  4.22930714e-01\n",
      "  1.87477398e-01  1.22635230e-02  8.26415225e-01  1.24845599e-01\n",
      "  1.31410646e-01  2.59806242e-02 -8.45942047e-01  2.12471461e-01\n",
      "  3.16007864e-01 -3.36762191e-01  1.23794622e-01  7.44174773e-01\n",
      "  8.13933506e-01  2.12469346e-01  9.92389638e-02  4.13365470e-02\n",
      "  4.17473194e-01  2.04466947e-01  4.88110300e-02  4.06699805e-01]\n",
      "  category=UserWarning,\n"
     ]
    },
    {
     "name": "stdout",
     "output_type": "stream",
     "text": [
      "{'solver': 'sgd', 'shuffle': True, 'power_t': 0.6, 'momentum': 0.8, 'max_iter': 200, 'learning_rate_init': 0.005, 'learning_rate': 'adaptive', 'hidden_layer_sizes': (100,), 'early_stopping': False, 'alpha': 0.0001, 'activation': 'tanh'}\n"
     ]
    },
    {
     "name": "stderr",
     "output_type": "stream",
     "text": [
      "/Users/renan/Library/Python/3.7/lib/python/site-packages/sklearn/neural_network/_multilayer_perceptron.py:696: ConvergenceWarning: Stochastic Optimizer: Maximum iterations (200) reached and the optimization hasn't converged yet.\n",
      "  ConvergenceWarning,\n"
     ]
    }
   ],
   "source": [
    "# Specify range of hyperparameters to tune\n",
    "hyper_params = {\n",
    "    'hidden_layer_sizes': [(80,), (100,), (110,), (150,)],\n",
    "    'activation': ['identity', 'logistic', 'tanh', 'relu'],\n",
    "    'solver': ['lbfgs', 'sgd', 'adam'],\n",
    "    'alpha': [0.0001, 0.1],\n",
    "    'learning_rate': ['constant', 'invscaling', 'adaptive'],\n",
    "    'learning_rate_init': [0.001, 0.002, 0.005, 0.006],\n",
    "    'power_t': [0.5, 0.6],\n",
    "    'max_iter': [200],\n",
    "    'shuffle': [True],\n",
    "    'momentum': [0.5, 0.8, 0.9, 1],\n",
    "    'early_stopping': [False]\n",
    "\n",
    "}\n",
    "\n",
    "\n",
    "\n",
    "# Call RandomSearchCV()\n",
    "model_cv = RandomizedSearchCV(\n",
    "    estimator = MLPRegressor(),\n",
    "    param_distributions = hyper_params,\n",
    "    n_iter=300,\n",
    "    scoring= 'r2',\n",
    "    cv = folds,\n",
    "    verbose = 2,\n",
    "    return_train_score=True,\n",
    "    n_jobs = -1,\n",
    "    refit = True\n",
    "    )\n",
    "\n",
    "\n",
    "# Fit the model\n",
    "best_model = model_cv.fit(x_train, np.ravel(y_train)) \n",
    "\n",
    "print(model_cv.best_params_)"
   ]
  },
  {
   "cell_type": "code",
   "execution_count": 5,
   "metadata": {},
   "outputs": [],
   "source": [
    "# Create new model with best_params_ from grid search\n",
    "\n",
    "mlp_best = best_model.best_estimator_"
   ]
  },
  {
   "cell_type": "code",
   "execution_count": 6,
   "metadata": {},
   "outputs": [
    {
     "name": "stdout",
     "output_type": "stream",
     "text": [
      "Train Results: [0.2687593639728777, 0.27171353964848133, 0.2652342572364629, 0.2545255595885879, 0.27651517419780514, 0.34257741480282833, 0.2876970882441269, 0.26592779490390617, 0.25930135397731535, 0.25684909922158483]\n",
      "Test Results: [0.22703180843676518, 0.12320583518764461, 0.32368766570922414, 0.2539028486379492, 0.21487741166484764, -0.2838405915847535, 0.16821617495453245, 0.10338489008313445, 0.18377558061940158, 0.299721750125318]\n"
     ]
    }
   ],
   "source": [
    "# Get the results for each split\n",
    "\n",
    "def get_best_model_cv_split_results(best_model, n_splits=10, set_type='train'):\n",
    "    results = []\n",
    "    best_index = best_model.best_index_\n",
    "    for i in range(0, n_splits):\n",
    "        current_split = 'split{}_{}_score'.format(i, set_type)\n",
    "        split_result = best_model.cv_results_[current_split][best_index]\n",
    "        results.append(split_result)\n",
    "\n",
    "    return results\n",
    "\n",
    "print(\"Train Results: {}\".format(get_best_model_cv_split_results(best_model, 10, 'train')))\n",
    "print(\"Test Results: {}\".format(get_best_model_cv_split_results(best_model, 10, 'test')))"
   ]
  },
  {
   "cell_type": "code",
   "execution_count": 7,
   "metadata": {},
   "outputs": [
    {
     "name": "stdout",
     "output_type": "stream",
     "text": [
      "Train mean: 0.2749100645793976\n",
      "Train std: 0.0243980825132463\n",
      "-=-=-=-=-=-=-=-=-=-=-=\n",
      "Validation mean: 0.1613963373834064\n",
      "Validation std: 0.16272836143595443\n"
     ]
    }
   ],
   "source": [
    "#Get the mean and std for the train and test\n",
    "\n",
    "train_mean = sum(get_best_model_cv_split_results(best_model, 10, 'train'))/10\n",
    "test_mean = sum(get_best_model_cv_split_results(best_model, 10, 'test'))/10\n",
    "\n",
    "print(\"Train mean: {}\".format(train_mean))\n",
    "print(\"Train std: {}\".format(np.std(get_best_model_cv_split_results(best_model, 10, 'train'))))\n",
    "\n",
    "print(\"-=-=-=-=-=-=-=-=-=-=-=\")\n",
    "\n",
    "print(\"Validation mean: {}\".format(test_mean))\n",
    "print(\"Validation std: {}\".format(np.std(get_best_model_cv_split_results(best_model, 10, 'test'))))"
   ]
  },
  {
   "cell_type": "code",
   "execution_count": 8,
   "metadata": {},
   "outputs": [
    {
     "name": "stdout",
     "output_type": "stream",
     "text": [
      "The r2 score on test set: 0.1601\n"
     ]
    }
   ],
   "source": [
    "y_pred = mlp_best.predict(x_test)\n",
    "r2 = r2_score(y_test, y_pred)\n",
    "print(\"The r2 score on test set: {:.4f}\".format(r2))"
   ]
  },
  {
   "cell_type": "code",
   "execution_count": 9,
   "metadata": {},
   "outputs": [
    {
     "data": {
      "image/png": "[encoded data removed]",
      "text/plain": [
       "<Figure size 720x576 with 1 Axes>"
      ]
     },
     "metadata": {
      "needs_background": "light"
     },
     "output_type": "display_data"
    }
   ],
   "source": [
    "# Plot the R2 predicted and expected results\n",
    "plot_pred_expected_results(y_test, y_pred)"
   ]
  },
  {
   "cell_type": "markdown",
   "metadata": {},
   "source": [
    "# Saving trained model"
   ]
  },
  {
   "cell_type": "code",
   "execution_count": 10,
   "metadata": {},
   "outputs": [
    {
     "data": {
      "text/plain": [
       "['../models/mlpRegressor_model_high_removed.joblib']"
      ]
     },
     "execution_count": 10,
     "metadata": {},
     "output_type": "execute_result"
    }
   ],
   "source": [
    "filename = '../models/mlpRegressor_model_high_removed.joblib'\n",
    "joblib.dump(mlp_best, filename)"
   ]
  },
  {
   "cell_type": "code",
   "execution_count": null,
   "metadata": {},
   "outputs": [],
   "source": []
  }
 ],
 "metadata": {
  "kernelspec": {
   "display_name": "Python 3",
   "language": "python",
   "name": "python3"
  },
  "language_info": {
   "codemirror_mode": {
    "name": "ipython",
    "version": 3
   },
   "file_extension": ".py",
   "mimetype": "text/x-python",
   "name": "python",
   "nbconvert_exporter": "python",
   "pygments_lexer": "ipython3",
   "version": "3.7.3"
  },
  "orig_nbformat": 4,
  "vscode": {
   "interpreter": {
    "hash": "5edc29c2ed010d6458d71a83433b383a96a8cbd3efe8531bc90c4b8a5b8bcec9"
   }
  }
 },
 "nbformat": 4,
 "nbformat_minor": 2
}
