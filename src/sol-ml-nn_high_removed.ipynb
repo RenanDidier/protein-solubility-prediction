{
 "cells": [
  {
   "cell_type": "code",
   "execution_count": 1,
   "metadata": {},
   "outputs": [],
   "source": [
    "# General libraries\n",
    "import pandas as pd\n",
    "import numpy as np\n",
    "\n",
    "from sklearn.metrics import r2_score\n",
    "from sklearn.neural_network import MLPRegressor\n",
    "from sklearn.model_selection import RandomizedSearchCV\n",
    "import joblib\n",
    "\n",
    "# Utils functions\n",
    "from utils.utils import kfold, read_datasets, plot_pred_expected_results"
   ]
  },
  {
   "cell_type": "code",
   "execution_count": 2,
   "metadata": {},
   "outputs": [],
   "source": [
    "x_train, x_test, y_train, y_test = read_datasets(\n",
    "    'x_train_2.csv',\n",
    "    'x_test_2.csv',\n",
    "    'y_train_2.csv',\n",
    "    'y_test_2.csv'\n",
    ")"
   ]
  },
  {
   "cell_type": "code",
   "execution_count": 3,
   "metadata": {},
   "outputs": [],
   "source": [
    "folds = kfold()"
   ]
  },
  {
   "cell_type": "code",
   "execution_count": 4,
   "metadata": {},
   "outputs": [
    {
     "name": "stdout",
     "output_type": "stream",
     "text": [
      "Fitting 10 folds for each of 300 candidates, totalling 3000 fits\n"
     ]
    },
    {
     "name": "stderr",
     "output_type": "stream",
     "text": [
      "/Users/renan/Library/Python/3.7/lib/python/site-packages/sklearn/model_selection/_search.py:972: UserWarning: One or more of the test scores are non-finite: [-1.70848035e-02 -4.80338524e-01 -1.53509899e-01  1.05874049e-01\n",
      "  1.02754356e-01 -2.95273971e-01 -4.31709570e-03  9.69313983e-02\n",
      "             nan  9.21998349e-02 -3.79652939e-01 -6.84827960e-03\n",
      " -3.45689209e-02 -3.42334483e-01 -1.83222959e+00  4.08578106e-02\n",
      "  1.55104610e-01 -2.88446844e-01  1.05366252e-01  4.96936068e-03\n",
      "  1.51573915e-01  1.13467533e-01 -5.00294631e-01 -1.63916259e+00\n",
      "  1.05353894e-01  1.05374480e-01  5.59383390e-02  9.22940899e-02\n",
      " -2.86334517e-01  1.12749533e-01 -1.69141495e-01  1.05336220e-01\n",
      "  2.70546369e-02 -4.70149347e-01  8.62644044e-02  1.35600771e-01\n",
      "  1.11668298e-01  1.04437962e-01 -3.64278421e-01  9.58785140e-02\n",
      " -1.96988109e-03 -2.85421895e-01  1.01770080e-01 -2.28411995e-02\n",
      "  5.31527631e-02  8.66821475e-02  5.71064390e-02  1.06902642e-01\n",
      "  1.29323634e-01 -6.92762081e-01  1.09594926e-01 -4.48336131e-01\n",
      "  1.00716507e-01  1.05398231e-01 -2.23930121e-01 -2.23156305e-01\n",
      " -1.92656123e-01 -2.12443813e-02  1.01021511e-01  9.72859013e-02\n",
      "  1.02208241e-01  9.66520446e-02 -3.16142866e-01  9.06239133e-02\n",
      "  9.52606516e-02  1.09249968e-01  1.05025688e-01 -5.34144522e-03\n",
      "  1.57357369e-01  1.09029518e-01  1.26979375e-01 -3.33524654e-02\n",
      "  1.07810128e-01  1.54768469e-01 -2.26781930e-01 -8.17825294e-01\n",
      "  9.75520045e-04  9.48045562e-02 -6.01551691e-01  2.21050446e-02\n",
      "             nan  9.60638969e-02  6.09399204e-02  9.47974398e-02\n",
      " -1.82247376e-01  1.03335607e-01  6.68201334e-02  1.91454589e-02\n",
      "  1.40682769e-01 -5.15378625e-01  2.45439709e-02  1.58443979e-02\n",
      "  1.05355406e-01  1.05356501e-01 -5.11425609e-01  9.37490548e-02\n",
      "             nan -4.69797375e-01 -7.13333110e+00 -4.52201246e-01\n",
      "  1.43081499e-03 -3.49773166e-01  1.05348609e-01  1.30956554e-01\n",
      "  1.07522574e-01  1.53472711e-01  6.66126896e-03 -6.04192457e-01\n",
      "  2.25041656e-02 -4.59395098e-01             nan  2.67152634e-02\n",
      "  1.05236060e-01  1.61913646e-01 -6.02055664e-02  3.02567037e-03\n",
      " -4.27661164e-01  1.05372671e-01 -3.56734104e-01 -4.88271078e-01\n",
      "  2.06754256e-02  1.27715344e-01  8.23801892e-02  8.45659794e-02\n",
      "  9.04749054e-02  1.44817066e-01  1.05364223e-01  1.05269647e-01\n",
      " -2.35897485e-02  3.85801518e-03 -8.18202120e-02  1.05385218e-01\n",
      "  9.40702414e-02  1.05577977e-01 -5.74993095e-01  9.49931324e-02\n",
      " -2.05765972e+00  3.83538787e-04  9.99569934e-02  5.26768190e-03\n",
      "  6.78046633e-02  9.61285639e-02  1.05298916e-01  1.04579733e-01\n",
      "  1.20037276e-01  9.69694542e-02  1.05355068e-01             nan\n",
      " -1.78559521e-01  1.08949983e-01  1.11275476e-01 -4.18418592e-01\n",
      "  5.75009853e-02             nan  6.24642577e-02  1.85168426e-02\n",
      " -5.12558569e-01  1.05760915e-01             nan  1.52234719e-01\n",
      " -4.59077183e-01 -6.18591832e-01  1.55264582e-01  4.77003055e-04\n",
      "  7.67132048e-02 -2.44691118e-02  1.06073077e-01  2.76606356e-02\n",
      " -1.33312056e-01  8.26467019e-02 -7.68989394e-03  1.05636142e-01\n",
      " -1.78153052e-01 -4.88855382e-01  6.06642103e-02 -3.56009774e-01\n",
      "  3.60854316e-02 -1.45630635e+00 -5.46652161e-01  4.12989207e-02\n",
      "  1.03006485e-01 -4.86255044e+00 -1.09598203e-02  1.28721491e-01\n",
      "             nan  2.46977578e-02 -4.97805649e-02  9.50256128e-02\n",
      "  7.62987760e-02  1.05393388e-01 -2.71856716e-01  1.26224838e-01\n",
      " -8.36767163e-03  1.01629867e-01  9.43787955e-02  9.08395367e-02\n",
      " -6.67109539e-01 -2.69161030e-02  9.69453904e-02  1.02015296e-01\n",
      " -3.33962804e+00  3.73289155e-02  1.31515869e-01 -7.02632549e-01\n",
      "  1.05431460e-01  1.05346965e-01  1.05089182e-01  4.84231351e-02\n",
      "  9.99635351e-02 -5.03726836e-01  1.50449762e-02 -3.88092345e-02\n",
      " -5.91462554e-01  5.56571284e-02  1.12786667e-01 -2.47701751e-01\n",
      "  1.11303811e-01 -6.07700322e-01  9.15131839e-02             nan\n",
      " -9.88102622e-03 -2.34376515e-02             nan  6.90439722e-03\n",
      "  7.80708762e-02  1.18431307e-01  9.36315844e-02 -3.49339804e-01\n",
      "  1.18066527e-01 -9.06225726e-02  9.20764616e-02 -2.91148819e-02\n",
      "  1.05543733e-01             nan  5.54847945e-02  6.61948855e-02\n",
      "  7.73532322e-02  9.94795260e-02  9.16978678e-02  9.48449915e-02\n",
      "  5.89629345e-02  2.56237845e-02  8.48075836e-02  1.54337675e-01\n",
      "  1.05365587e-01  6.57994872e-02  1.02467467e-01  1.05367538e-01\n",
      " -1.90351878e+00  3.16956473e-02  1.11055141e-01 -2.31345189e-02\n",
      "  4.67509682e-02  6.96310408e-02 -3.73720353e-03 -1.18851790e-01\n",
      "  5.65640994e-02 -6.72742473e-02  9.76230566e-02 -3.88998373e-01\n",
      "  9.01544532e-02 -4.84355077e-01 -9.00426981e-01 -5.50675654e-01\n",
      " -2.58523866e-02 -4.20045711e-01 -2.55644185e-01  9.13294302e-02\n",
      " -4.07396198e-01  1.05896015e-01  1.03843617e-01 -1.99095029e-01\n",
      " -2.55824174e-01  1.07259798e-01  1.09506481e-01  9.38678623e-02\n",
      " -5.01478862e-01  9.00560267e-02             nan  7.58743785e-02\n",
      " -8.40268885e-02  1.09749647e-01  1.48050679e-01  1.11075375e-01\n",
      " -6.19447342e-01 -3.31569358e-01             nan  5.16813126e-07\n",
      "  9.13101791e-02  2.58580509e-02  2.28018308e-02  1.41125289e-01\n",
      "  7.18079915e-02 -4.88796323e-01 -1.99636389e-01 -3.82013546e-01\n",
      " -1.31382513e-01  1.05366271e-01  1.05643237e-01  9.75995629e-02]\n",
      "  category=UserWarning,\n",
      "/Users/renan/Library/Python/3.7/lib/python/site-packages/sklearn/model_selection/_search.py:972: UserWarning: One or more of the train scores are non-finite: [ 6.02862564e-03 -4.37591998e-01  4.78466224e-01  2.12470681e-01\n",
      "  1.80667288e-01 -4.30940690e-02  1.78091524e-02  1.51749135e-01\n",
      "             nan  1.36736972e-01 -3.45511413e-01  1.32769186e-02\n",
      "  4.20225772e-01  6.93674284e-01 -1.88314350e+00  8.93223896e-02\n",
      "  2.68848330e-01  7.32158819e-01  2.12472872e-01  3.34809204e-02\n",
      "  2.59520594e-01  1.93074506e-01  7.06298786e-01 -1.58915279e+00\n",
      "  2.12472862e-01  2.12472697e-01  1.00469664e-01  1.30249523e-01\n",
      "  7.00009736e-01  1.78574948e-01 -1.47739603e-01  2.12472862e-01\n",
      "  6.06679551e-02 -4.44011569e-01  1.16390364e-01  2.53991367e-01\n",
      "  1.65195320e-01  1.99509134e-01  8.08486741e-01  1.60040183e-01\n",
      "  4.27079772e-01  6.80604153e-01  1.23456193e-01 -2.49734033e-03\n",
      "  7.59197547e-02  1.24506249e-01  7.78178535e-02  1.66161199e-01\n",
      "  2.35471342e-01  8.27552859e-01  1.73322673e-01  7.94659201e-01\n",
      "  1.58351883e-01  2.12472860e-01 -1.91793533e-01 -1.99756464e-01\n",
      "  7.28094088e-01 -2.20999649e-03  1.58162369e-01  1.64049318e-01\n",
      "  1.36556524e-01  1.56602251e-01  8.14310182e-01  1.32816496e-01\n",
      "  1.56065800e-01  1.88221774e-01  1.60087396e-01  4.26630982e-01\n",
      "  2.40354666e-01  1.70624716e-01  1.93587867e-01  4.24613800e-01\n",
      "  1.65110772e-01  2.61743140e-01  7.14811190e-01  8.09756421e-01\n",
      "  2.35559688e-02  1.37501889e-01  8.83463180e-01  4.33141040e-01\n",
      "             nan  1.32867750e-01  1.03948576e-01  1.64490600e-01\n",
      " -1.60548815e-01  1.64132423e-01  1.20360688e-01  4.78087756e-02\n",
      "  2.11161013e-01  8.16926535e-01  5.98837601e-02  3.64150013e-02\n",
      "  2.12472884e-01  2.12472862e-01  8.02217933e-01  1.16191095e-01\n",
      "             nan  7.18124613e-01 -3.85738310e+00  7.11452222e-01\n",
      "  4.39594651e-01  8.09159063e-01  2.12472875e-01  2.00642132e-01\n",
      "  1.62915742e-01  2.19873763e-01  4.29519327e-01 -5.76684100e-01\n",
      "  4.52290950e-02  8.19354930e-01             nan  4.77148136e-02\n",
      "  2.12470163e-01  2.68771577e-01  4.39817693e-01  2.74989903e-02\n",
      "  8.19472251e-01  2.12472873e-01  7.04035198e-01  8.16352911e-01\n",
      "  4.12834833e-01  2.47971507e-01  2.45549870e-01  1.19626764e-01\n",
      "  1.29470359e-01  3.01665194e-01  2.12470013e-01  2.12469558e-01\n",
      "  4.20235644e-01  4.30722344e-01 -6.17850185e-02  2.12472877e-01\n",
      "  1.17395812e-01  2.12470796e-01  8.34334936e-01  1.52189095e-01\n",
      " -1.98311019e+00  4.21232504e-01  2.56594189e-01  4.14344936e-01\n",
      "  1.20061842e-01  1.55879628e-01  2.12470314e-01  1.66279147e-01\n",
      "  2.02052171e-01  1.54489802e-01  2.12472827e-01             nan\n",
      " -1.56124338e-01  1.76466696e-01  1.77802842e-01  7.94677102e-01\n",
      "  1.00232123e-01             nan  8.72307804e-02  4.31871179e-01\n",
      "  7.77749728e-01  2.12470811e-01             nan  2.65685876e-01\n",
      "  6.85493636e-01  8.61931404e-01  2.13451948e-01  4.15184648e-01\n",
      "  1.25022436e-01  4.34540050e-01  1.62508278e-01  4.30304752e-01\n",
      "  4.29236367e-01  1.42293934e-01  4.23622181e-01  2.12470618e-01\n",
      " -1.57979995e-01  7.18111586e-01  8.87194047e-02  7.84155915e-01\n",
      "  2.91802095e-01 -1.43348849e+00  8.09942014e-01  4.17321617e-01\n",
      "  2.69373219e-01 -4.71283623e+00  4.27779609e-01  2.50305159e-01\n",
      "             nan  5.92137986e-02  4.18087043e-01  1.56429712e-01\n",
      "  1.10168159e-01  2.12472888e-01  6.79204584e-01  1.99147048e-01\n",
      "  1.26673954e-02  1.56887637e-01  1.56256556e-01  1.29572062e-01\n",
      " -6.24737620e-01 -5.68421738e-03  1.65623578e-01  1.65136025e-01\n",
      " -3.17395880e+00  8.62020963e-02  1.65647520e-01  8.54811776e-01\n",
      "  2.12472853e-01  2.12472860e-01  1.64962191e-01  1.01302911e-01\n",
      "  1.60825914e-01  7.45769546e-01  4.25530726e-01  4.22616064e-01\n",
      "  8.77696902e-01  1.18513995e-01  1.68786109e-01  7.19440145e-01\n",
      "  2.24879660e-01  8.66675245e-01  1.29369730e-01             nan\n",
      "  4.20217612e-01 -2.63389507e-03             nan  3.48370193e-02\n",
      "  1.32896478e-01  1.92209668e-01  1.32476491e-01  6.82280739e-01\n",
      "  1.71191592e-01  4.79999142e-02  1.50704454e-01  1.70557790e-02\n",
      "  2.12470895e-01             nan  9.95871908e-02  9.28525552e-02\n",
      "  1.12339699e-01  1.61258168e-01  1.29636095e-01  1.57546892e-01\n",
      "  1.03450294e-01  6.01847776e-02  4.20192905e-01  2.85749505e-01\n",
      "  2.12472871e-01  1.18405863e-01  1.55899364e-01  2.12472858e-01\n",
      " -1.85533457e+00  3.13591406e-01  1.78596275e-01 -2.98722191e-03\n",
      "  8.89665914e-02  1.20310246e-01  4.44800472e-01 -1.35398754e-02\n",
      "  4.25118704e-01  4.42776164e-01  1.59905282e-01  7.81234344e-01\n",
      "  1.29517218e-01 -4.56379532e-01 -8.60430141e-01  7.89428819e-01\n",
      " -5.66977689e-03  7.66427323e-01  6.98531380e-01  1.31731535e-01\n",
      "  7.89814624e-01  1.68440304e-01  1.43914114e-01  1.39006405e-01\n",
      "  7.95922094e-01  1.76721911e-01  1.64867756e-01  1.32023481e-01\n",
      "  8.06127537e-01  1.34423454e-01             nan  1.24926036e-01\n",
      " -6.42679140e-02  1.97335473e-01  2.58303271e-01  1.63873662e-01\n",
      "  7.35868201e-01  7.04624047e-01             nan  2.36664841e-02\n",
      "  1.30008729e-01  4.25763077e-01  4.24654803e-01  2.38811447e-01\n",
      "  9.89501866e-02  8.06513866e-01  6.65266625e-01  8.03135828e-01\n",
      "  7.30161903e-02  2.12472880e-01  2.12470782e-01  1.65367943e-01]\n",
      "  category=UserWarning,\n"
     ]
    },
    {
     "name": "stdout",
     "output_type": "stream",
     "text": [
      "{'solver': 'sgd', 'shuffle': True, 'power_t': 0.6, 'momentum': 0.9, 'max_iter': 200, 'learning_rate_init': 0.001, 'learning_rate': 'constant', 'hidden_layer_sizes': (110,), 'early_stopping': False, 'alpha': 0.1, 'activation': 'relu'}\n"
     ]
    },
    {
     "name": "stderr",
     "output_type": "stream",
     "text": [
      "/Users/renan/Library/Python/3.7/lib/python/site-packages/sklearn/neural_network/_multilayer_perceptron.py:696: ConvergenceWarning: Stochastic Optimizer: Maximum iterations (200) reached and the optimization hasn't converged yet.\n",
      "  ConvergenceWarning,\n"
     ]
    }
   ],
   "source": [
    "# Specify range of hyperparameters to tune\n",
    "hyper_params = {\n",
    "    'hidden_layer_sizes': [(80,), (100,), (110,), (150,)],\n",
    "    'activation': ['identity', 'logistic', 'tanh', 'relu'],\n",
    "    'solver': ['lbfgs', 'sgd', 'adam'],\n",
    "    'alpha': [0.0001, 0.1],\n",
    "    'learning_rate': ['constant', 'invscaling', 'adaptive'],\n",
    "    'learning_rate_init': [0.001, 0.002, 0.005, 0.006],\n",
    "    'power_t': [0.5, 0.6],\n",
    "    'max_iter': [200],\n",
    "    'shuffle': [True],\n",
    "    'momentum': [0.5, 0.8, 0.9, 1],\n",
    "    'early_stopping': [False]\n",
    "\n",
    "}\n",
    "\n",
    "\n",
    "\n",
    "# Call RandomSearchCV()\n",
    "model_cv = RandomizedSearchCV(\n",
    "    estimator = MLPRegressor(),\n",
    "    param_distributions = hyper_params,\n",
    "    n_iter=300,\n",
    "    scoring= 'r2',\n",
    "    cv = folds,\n",
    "    verbose = 2,\n",
    "    return_train_score=True,\n",
    "    n_jobs = -1,\n",
    "    refit = True\n",
    "    )\n",
    "\n",
    "\n",
    "# Fit the model\n",
    "best_model = model_cv.fit(x_train, np.ravel(y_train)) \n",
    "\n",
    "print(model_cv.best_params_)"
   ]
  },
  {
   "cell_type": "code",
   "execution_count": 5,
   "metadata": {},
   "outputs": [],
   "source": [
    "# Create new model with best_params_ from grid search\n",
    "\n",
    "mlp_best = best_model.best_estimator_"
   ]
  },
  {
   "cell_type": "code",
   "execution_count": 6,
   "metadata": {},
   "outputs": [
    {
     "name": "stdout",
     "output_type": "stream",
     "text": [
      "Train Results: [0.26144845664798355, 0.2664841572500063, 0.24612656623638418, 0.255176236711822, 0.2776950080675282, 0.2994247922904326, 0.27109830913825894, 0.27876290821882244, 0.26509174822090165, 0.2664075902570353]\n",
      "Test Results: [0.24053242903193173, 0.16253123228968192, 0.3340023942236361, 0.22054146207019387, 0.17931008079467403, -0.24334574058890968, 0.16364650296151284, 0.10106139935553982, 0.2068241577905222, 0.2540325383707772]\n"
     ]
    }
   ],
   "source": [
    "# Get the results for each split\n",
    "\n",
    "def get_best_model_cv_split_results(best_model, n_splits=10, set_type='train'):\n",
    "    results = []\n",
    "    best_index = best_model.best_index_\n",
    "    for i in range(0, n_splits):\n",
    "        current_split = 'split{}_{}_score'.format(i, set_type)\n",
    "        split_result = best_model.cv_results_[current_split][best_index]\n",
    "        results.append(split_result)\n",
    "\n",
    "    return results\n",
    "\n",
    "print(\"Train Results: {}\".format(get_best_model_cv_split_results(best_model, 10, 'train')))\n",
    "print(\"Test Results: {}\".format(get_best_model_cv_split_results(best_model, 10, 'test')))"
   ]
  },
  {
   "cell_type": "code",
   "execution_count": 7,
   "metadata": {},
   "outputs": [
    {
     "name": "stdout",
     "output_type": "stream",
     "text": [
      "Train mean: 0.26877157730391754\n",
      "Train std: 0.013784438166384461\n",
      "-=-=-=-=-=-=-=-=-=-=-=\n",
      "Validation mean: 0.161913645629956\n",
      "Validation std: 0.14764135667840603\n"
     ]
    }
   ],
   "source": [
    "#Get the mean and std for the train and test\n",
    "\n",
    "train_mean = sum(get_best_model_cv_split_results(best_model, 10, 'train'))/10\n",
    "test_mean = sum(get_best_model_cv_split_results(best_model, 10, 'test'))/10\n",
    "\n",
    "print(\"Train mean: {}\".format(train_mean))\n",
    "print(\"Train std: {}\".format(np.std(get_best_model_cv_split_results(best_model, 10, 'train'))))\n",
    "\n",
    "print(\"-=-=-=-=-=-=-=-=-=-=-=\")\n",
    "\n",
    "print(\"Validation mean: {}\".format(test_mean))\n",
    "print(\"Validation std: {}\".format(np.std(get_best_model_cv_split_results(best_model, 10, 'test'))))"
   ]
  },
  {
   "cell_type": "code",
   "execution_count": 8,
   "metadata": {},
   "outputs": [
    {
     "name": "stdout",
     "output_type": "stream",
     "text": [
      "The r2 score on test set: 0.1529\n"
     ]
    }
   ],
   "source": [
    "y_pred = mlp_best.predict(x_test)\n",
    "r2 = r2_score(y_test, y_pred)\n",
    "print(\"The r2 score on test set: {:.4f}\".format(r2))"
   ]
  },
  {
   "cell_type": "code",
   "execution_count": 9,
   "metadata": {},
   "outputs": [
    {
     "data": {
      "image/png": "[encoded data removed]",
      "text/plain": [
       "<Figure size 720x576 with 1 Axes>"
      ]
     },
     "metadata": {
      "needs_background": "light"
     },
     "output_type": "display_data"
    }
   ],
   "source": [
    "# Plot the R2 predicted and expected results\n",
    "plot_pred_expected_results(y_test, y_pred)"
   ]
  },
  {
   "cell_type": "markdown",
   "metadata": {},
   "source": [
    "# Saving trained model"
   ]
  },
  {
   "cell_type": "code",
   "execution_count": 10,
   "metadata": {},
   "outputs": [
    {
     "data": {
      "text/plain": [
       "['../models/mlpRegressor_model_high_removed.joblib']"
      ]
     },
     "execution_count": 10,
     "metadata": {},
     "output_type": "execute_result"
    }
   ],
   "source": [
    "filename = '../models/mlpRegressor_model_high_removed.joblib'\n",
    "joblib.dump(mlp_best, filename)"
   ]
  },
  {
   "cell_type": "code",
   "execution_count": null,
   "metadata": {},
   "outputs": [],
   "source": []
  }
 ],
 "metadata": {
  "kernelspec": {
   "display_name": "Python 3",
   "language": "python",
   "name": "python3"
  },
  "language_info": {
   "codemirror_mode": {
    "name": "ipython",
    "version": 3
   },
   "file_extension": ".py",
   "mimetype": "text/x-python",
   "name": "python",
   "nbconvert_exporter": "python",
   "pygments_lexer": "ipython3",
   "version": "3.7.3"
  },
  "orig_nbformat": 4,
  "vscode": {
   "interpreter": {
    "hash": "5edc29c2ed010d6458d71a83433b383a96a8cbd3efe8531bc90c4b8a5b8bcec9"
   }
  }
 },
 "nbformat": 4,
 "nbformat_minor": 2
}
