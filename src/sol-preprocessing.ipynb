{
  "cells": [
    {
      "cell_type": "code",
      "execution_count": 10,
      "metadata": {
        "id": "T4gtCmZ6xirc"
      },
      "outputs": [],
      "source": [
        "# General libraries\n",
        "import pandas as pd\n",
        "import numpy as np\n",
        "\n",
        "# Graphic libraries\n",
        "import seaborn as sns\n",
        "import matplotlib.pyplot as plt\n",
        "import plotly.graph_objs as go\n",
        "from plotly.offline import iplot\n",
        "\n",
        "# Scikit Learn libraries\n",
        "from sklearn.ensemble import IsolationForest\n",
        "from sklearn.preprocessing import MinMaxScaler\n",
        "from sklearn.model_selection import train_test_split\n",
        "from sklearn.neighbors import LocalOutlierFactor"
      ]
    },
    {
      "cell_type": "markdown",
      "metadata": {
        "id": "25fL6bo0jMi0"
      },
      "source": [
        "# **Load Dataset**\n",
        "\n",
        "* Rosetta features description: https://www.rosettacommons.org/docs/latest/rosetta_basics/scoring/score-types\n",
        "\n",
        "\n",
        "\n"
      ]
    },
    {
      "cell_type": "code",
      "execution_count": 11,
      "metadata": {
        "id": "O_4FbO3nx3Ze"
      },
      "outputs": [],
      "source": [
        "folder_path = \"../data/\"\n",
        "df_solubility = pd.read_csv(folder_path + \"complex_raw_data.csv\")"
      ]
    },
    {
      "cell_type": "code",
      "execution_count": 12,
      "metadata": {
        "colab": {
          "base_uri": "https://localhost:8080/",
          "height": 206
        },
        "id": "pnZEYq1u2Otf",
        "outputId": "19730f3e-a564-4716-a58c-cbfa8b4bfa7f"
      },
      "outputs": [
        {
          "data": {
            "text/html": [
              "<div>\n",
              "<style scoped>\n",
              "    .dataframe tbody tr th:only-of-type {\n",
              "        vertical-align: middle;\n",
              "    }\n",
              "\n",
              "    .dataframe tbody tr th {\n",
              "        vertical-align: top;\n",
              "    }\n",
              "\n",
              "    .dataframe thead th {\n",
              "        text-align: right;\n",
              "    }\n",
              "</style>\n",
              "<table border=\"1\" class=\"dataframe\">\n",
              "  <thead>\n",
              "    <tr style=\"text-align: right;\">\n",
              "      <th></th>\n",
              "      <th>SCORE:</th>\n",
              "      <th>total_score</th>\n",
              "      <th>score</th>\n",
              "      <th>dslf_fa13</th>\n",
              "      <th>fa_atr</th>\n",
              "      <th>fa_dun</th>\n",
              "      <th>fa_elec</th>\n",
              "      <th>fa_intra_rep</th>\n",
              "      <th>fa_intra_sol_xover4</th>\n",
              "      <th>fa_rep</th>\n",
              "      <th>...</th>\n",
              "      <th>omega</th>\n",
              "      <th>overlap_chainbreak</th>\n",
              "      <th>p_aa_pp</th>\n",
              "      <th>pro_close</th>\n",
              "      <th>rama_prepro</th>\n",
              "      <th>ref</th>\n",
              "      <th>time</th>\n",
              "      <th>yhh_planarity</th>\n",
              "      <th>description</th>\n",
              "      <th>solubility</th>\n",
              "    </tr>\n",
              "  </thead>\n",
              "  <tbody>\n",
              "    <tr>\n",
              "      <th>0</th>\n",
              "      <td>SCORE:</td>\n",
              "      <td>-470.914</td>\n",
              "      <td>-470.914</td>\n",
              "      <td>0.000</td>\n",
              "      <td>-1203.414</td>\n",
              "      <td>338.522</td>\n",
              "      <td>-341.858</td>\n",
              "      <td>2.604</td>\n",
              "      <td>46.000</td>\n",
              "      <td>129.335</td>\n",
              "      <td>...</td>\n",
              "      <td>11.135</td>\n",
              "      <td>0.0</td>\n",
              "      <td>-34.513</td>\n",
              "      <td>0.769</td>\n",
              "      <td>7.706</td>\n",
              "      <td>60.218</td>\n",
              "      <td>1.0</td>\n",
              "      <td>0.108</td>\n",
              "      <td>pdb1a0f.ent_A_0001_0001</td>\n",
              "      <td>77</td>\n",
              "    </tr>\n",
              "    <tr>\n",
              "      <th>1</th>\n",
              "      <td>SCORE:</td>\n",
              "      <td>-619.930</td>\n",
              "      <td>-619.930</td>\n",
              "      <td>0.000</td>\n",
              "      <td>-1890.675</td>\n",
              "      <td>497.641</td>\n",
              "      <td>-474.868</td>\n",
              "      <td>3.522</td>\n",
              "      <td>61.099</td>\n",
              "      <td>236.580</td>\n",
              "      <td>...</td>\n",
              "      <td>18.094</td>\n",
              "      <td>0.0</td>\n",
              "      <td>-48.935</td>\n",
              "      <td>4.452</td>\n",
              "      <td>21.634</td>\n",
              "      <td>147.414</td>\n",
              "      <td>1.0</td>\n",
              "      <td>0.158</td>\n",
              "      <td>pdb1a5t.ent_A_0001_0001</td>\n",
              "      <td>38</td>\n",
              "    </tr>\n",
              "    <tr>\n",
              "      <th>2</th>\n",
              "      <td>SCORE:</td>\n",
              "      <td>-265.255</td>\n",
              "      <td>-265.255</td>\n",
              "      <td>0.000</td>\n",
              "      <td>-835.965</td>\n",
              "      <td>263.453</td>\n",
              "      <td>-240.659</td>\n",
              "      <td>1.869</td>\n",
              "      <td>35.778</td>\n",
              "      <td>110.637</td>\n",
              "      <td>...</td>\n",
              "      <td>5.542</td>\n",
              "      <td>0.0</td>\n",
              "      <td>-22.884</td>\n",
              "      <td>0.475</td>\n",
              "      <td>-1.901</td>\n",
              "      <td>54.992</td>\n",
              "      <td>0.0</td>\n",
              "      <td>0.023</td>\n",
              "      <td>pdb1a6j.ent_A_0001_0001</td>\n",
              "      <td>83</td>\n",
              "    </tr>\n",
              "    <tr>\n",
              "      <th>3</th>\n",
              "      <td>SCORE:</td>\n",
              "      <td>-844.622</td>\n",
              "      <td>-844.622</td>\n",
              "      <td>-0.844</td>\n",
              "      <td>-2087.197</td>\n",
              "      <td>547.917</td>\n",
              "      <td>-575.513</td>\n",
              "      <td>4.085</td>\n",
              "      <td>69.996</td>\n",
              "      <td>265.698</td>\n",
              "      <td>...</td>\n",
              "      <td>11.092</td>\n",
              "      <td>0.0</td>\n",
              "      <td>-68.061</td>\n",
              "      <td>2.464</td>\n",
              "      <td>-4.538</td>\n",
              "      <td>88.832</td>\n",
              "      <td>0.0</td>\n",
              "      <td>1.059</td>\n",
              "      <td>pdb1a99.ent_A_0001_0001</td>\n",
              "      <td>62</td>\n",
              "    </tr>\n",
              "    <tr>\n",
              "      <th>4</th>\n",
              "      <td>SCORE:</td>\n",
              "      <td>-830.058</td>\n",
              "      <td>-830.058</td>\n",
              "      <td>0.000</td>\n",
              "      <td>-1848.881</td>\n",
              "      <td>425.681</td>\n",
              "      <td>-545.863</td>\n",
              "      <td>3.959</td>\n",
              "      <td>58.497</td>\n",
              "      <td>194.939</td>\n",
              "      <td>...</td>\n",
              "      <td>7.321</td>\n",
              "      <td>0.0</td>\n",
              "      <td>-43.925</td>\n",
              "      <td>3.180</td>\n",
              "      <td>12.627</td>\n",
              "      <td>91.631</td>\n",
              "      <td>0.0</td>\n",
              "      <td>0.289</td>\n",
              "      <td>pdb1abe.ent_A_0001_0001</td>\n",
              "      <td>87</td>\n",
              "    </tr>\n",
              "  </tbody>\n",
              "</table>\n",
              "<p>5 rows × 27 columns</p>\n",
              "</div>"
            ],
            "text/plain": [
              "   SCORE:  total_score    score  dslf_fa13    fa_atr   fa_dun  fa_elec  \\\n",
              "0  SCORE:     -470.914 -470.914      0.000 -1203.414  338.522 -341.858   \n",
              "1  SCORE:     -619.930 -619.930      0.000 -1890.675  497.641 -474.868   \n",
              "2  SCORE:     -265.255 -265.255      0.000  -835.965  263.453 -240.659   \n",
              "3  SCORE:     -844.622 -844.622     -0.844 -2087.197  547.917 -575.513   \n",
              "4  SCORE:     -830.058 -830.058      0.000 -1848.881  425.681 -545.863   \n",
              "\n",
              "   fa_intra_rep  fa_intra_sol_xover4   fa_rep  ...   omega  \\\n",
              "0         2.604               46.000  129.335  ...  11.135   \n",
              "1         3.522               61.099  236.580  ...  18.094   \n",
              "2         1.869               35.778  110.637  ...   5.542   \n",
              "3         4.085               69.996  265.698  ...  11.092   \n",
              "4         3.959               58.497  194.939  ...   7.321   \n",
              "\n",
              "   overlap_chainbreak  p_aa_pp  pro_close  rama_prepro      ref  time  \\\n",
              "0                 0.0  -34.513      0.769        7.706   60.218   1.0   \n",
              "1                 0.0  -48.935      4.452       21.634  147.414   1.0   \n",
              "2                 0.0  -22.884      0.475       -1.901   54.992   0.0   \n",
              "3                 0.0  -68.061      2.464       -4.538   88.832   0.0   \n",
              "4                 0.0  -43.925      3.180       12.627   91.631   0.0   \n",
              "\n",
              "   yhh_planarity              description  solubility  \n",
              "0          0.108  pdb1a0f.ent_A_0001_0001          77  \n",
              "1          0.158  pdb1a5t.ent_A_0001_0001          38  \n",
              "2          0.023  pdb1a6j.ent_A_0001_0001          83  \n",
              "3          1.059  pdb1a99.ent_A_0001_0001          62  \n",
              "4          0.289  pdb1abe.ent_A_0001_0001          87  \n",
              "\n",
              "[5 rows x 27 columns]"
            ]
          },
          "execution_count": 12,
          "metadata": {},
          "output_type": "execute_result"
        }
      ],
      "source": [
        "df_solubility.head()"
      ]
    },
    {
      "cell_type": "markdown",
      "metadata": {},
      "source": [
        "# Preprocessing"
      ]
    },
    {
      "cell_type": "code",
      "execution_count": 13,
      "metadata": {},
      "outputs": [
        {
          "data": {
            "text/plain": [
              "0"
            ]
          },
          "execution_count": 13,
          "metadata": {},
          "output_type": "execute_result"
        }
      ],
      "source": [
        "# Check if there is any missing value.\n",
        "# Must return 0.\n",
        "df_solubility.isna().sum().sum()"
      ]
    },
    {
      "cell_type": "code",
      "execution_count": 14,
      "metadata": {},
      "outputs": [
        {
          "name": "stdout",
          "output_type": "stream",
          "text": [
            "<class 'pandas.core.frame.DataFrame'>\n",
            "RangeIndex: 405 entries, 0 to 404\n",
            "Data columns (total 27 columns):\n",
            " #   Column               Non-Null Count  Dtype  \n",
            "---  ------               --------------  -----  \n",
            " 0   SCORE:               405 non-null    object \n",
            " 1   total_score          405 non-null    float64\n",
            " 2   score                405 non-null    float64\n",
            " 3   dslf_fa13            405 non-null    float64\n",
            " 4   fa_atr               405 non-null    float64\n",
            " 5   fa_dun               405 non-null    float64\n",
            " 6   fa_elec              405 non-null    float64\n",
            " 7   fa_intra_rep         405 non-null    float64\n",
            " 8   fa_intra_sol_xover4  405 non-null    float64\n",
            " 9   fa_rep               405 non-null    float64\n",
            " 10  fa_sol               405 non-null    float64\n",
            " 11  hbond_bb_sc          405 non-null    float64\n",
            " 12  hbond_lr_bb          405 non-null    float64\n",
            " 13  hbond_sc             405 non-null    float64\n",
            " 14  hbond_sr_bb          405 non-null    float64\n",
            " 15  linear_chainbreak    405 non-null    float64\n",
            " 16  lk_ball_wtd          405 non-null    float64\n",
            " 17  omega                405 non-null    float64\n",
            " 18  overlap_chainbreak   405 non-null    float64\n",
            " 19  p_aa_pp              405 non-null    float64\n",
            " 20  pro_close            405 non-null    float64\n",
            " 21  rama_prepro          405 non-null    float64\n",
            " 22  ref                  405 non-null    float64\n",
            " 23  time                 405 non-null    float64\n",
            " 24  yhh_planarity        405 non-null    float64\n",
            " 25  description          405 non-null    object \n",
            " 26  solubility           405 non-null    int64  \n",
            "dtypes: float64(24), int64(1), object(2)\n",
            "memory usage: 85.6+ KB\n"
          ]
        }
      ],
      "source": [
        "df_solubility.info()"
      ]
    },
    {
      "cell_type": "code",
      "execution_count": 15,
      "metadata": {},
      "outputs": [
        {
          "data": {
            "text/html": [
              "<div>\n",
              "<style scoped>\n",
              "    .dataframe tbody tr th:only-of-type {\n",
              "        vertical-align: middle;\n",
              "    }\n",
              "\n",
              "    .dataframe tbody tr th {\n",
              "        vertical-align: top;\n",
              "    }\n",
              "\n",
              "    .dataframe thead th {\n",
              "        text-align: right;\n",
              "    }\n",
              "</style>\n",
              "<table border=\"1\" class=\"dataframe\">\n",
              "  <thead>\n",
              "    <tr style=\"text-align: right;\">\n",
              "      <th></th>\n",
              "      <th>total_score</th>\n",
              "      <th>score</th>\n",
              "      <th>dslf_fa13</th>\n",
              "      <th>fa_atr</th>\n",
              "      <th>fa_dun</th>\n",
              "      <th>fa_elec</th>\n",
              "      <th>fa_intra_rep</th>\n",
              "      <th>fa_intra_sol_xover4</th>\n",
              "      <th>fa_rep</th>\n",
              "      <th>fa_sol</th>\n",
              "      <th>...</th>\n",
              "      <th>lk_ball_wtd</th>\n",
              "      <th>omega</th>\n",
              "      <th>overlap_chainbreak</th>\n",
              "      <th>p_aa_pp</th>\n",
              "      <th>pro_close</th>\n",
              "      <th>rama_prepro</th>\n",
              "      <th>ref</th>\n",
              "      <th>time</th>\n",
              "      <th>yhh_planarity</th>\n",
              "      <th>solubility</th>\n",
              "    </tr>\n",
              "  </thead>\n",
              "  <tbody>\n",
              "    <tr>\n",
              "      <th>count</th>\n",
              "      <td>405.000000</td>\n",
              "      <td>405.000000</td>\n",
              "      <td>405.000000</td>\n",
              "      <td>405.000000</td>\n",
              "      <td>405.000000</td>\n",
              "      <td>405.000000</td>\n",
              "      <td>405.000000</td>\n",
              "      <td>405.000000</td>\n",
              "      <td>405.000000</td>\n",
              "      <td>405.000000</td>\n",
              "      <td>...</td>\n",
              "      <td>405.000000</td>\n",
              "      <td>405.000000</td>\n",
              "      <td>405.0</td>\n",
              "      <td>405.000000</td>\n",
              "      <td>405.000000</td>\n",
              "      <td>405.000000</td>\n",
              "      <td>405.000000</td>\n",
              "      <td>405.000000</td>\n",
              "      <td>405.000000</td>\n",
              "      <td>405.000000</td>\n",
              "    </tr>\n",
              "    <tr>\n",
              "      <th>mean</th>\n",
              "      <td>-660.909341</td>\n",
              "      <td>-660.909343</td>\n",
              "      <td>-0.031175</td>\n",
              "      <td>-1662.169333</td>\n",
              "      <td>417.837035</td>\n",
              "      <td>-461.458563</td>\n",
              "      <td>3.185533</td>\n",
              "      <td>56.908037</td>\n",
              "      <td>195.155232</td>\n",
              "      <td>997.474953</td>\n",
              "      <td>...</td>\n",
              "      <td>-40.763867</td>\n",
              "      <td>26.701625</td>\n",
              "      <td>0.0</td>\n",
              "      <td>-52.729393</td>\n",
              "      <td>2.034030</td>\n",
              "      <td>8.808395</td>\n",
              "      <td>97.757899</td>\n",
              "      <td>0.059259</td>\n",
              "      <td>0.205395</td>\n",
              "      <td>59.419753</td>\n",
              "    </tr>\n",
              "    <tr>\n",
              "      <th>std</th>\n",
              "      <td>372.176345</td>\n",
              "      <td>372.176338</td>\n",
              "      <td>0.409363</td>\n",
              "      <td>881.899785</td>\n",
              "      <td>227.145880</td>\n",
              "      <td>245.769657</td>\n",
              "      <td>1.628280</td>\n",
              "      <td>29.314179</td>\n",
              "      <td>116.803439</td>\n",
              "      <td>538.269300</td>\n",
              "      <td>...</td>\n",
              "      <td>21.969469</td>\n",
              "      <td>26.211415</td>\n",
              "      <td>0.0</td>\n",
              "      <td>26.769766</td>\n",
              "      <td>2.438288</td>\n",
              "      <td>20.412649</td>\n",
              "      <td>52.213834</td>\n",
              "      <td>0.236401</td>\n",
              "      <td>0.242374</td>\n",
              "      <td>32.366429</td>\n",
              "    </tr>\n",
              "    <tr>\n",
              "      <th>min</th>\n",
              "      <td>-2145.657000</td>\n",
              "      <td>-2145.657000</td>\n",
              "      <td>-5.404000</td>\n",
              "      <td>-5693.017000</td>\n",
              "      <td>58.140000</td>\n",
              "      <td>-1609.998000</td>\n",
              "      <td>0.500000</td>\n",
              "      <td>7.690000</td>\n",
              "      <td>13.187000</td>\n",
              "      <td>98.422000</td>\n",
              "      <td>...</td>\n",
              "      <td>-140.635000</td>\n",
              "      <td>0.406000</td>\n",
              "      <td>0.0</td>\n",
              "      <td>-189.837000</td>\n",
              "      <td>0.056000</td>\n",
              "      <td>-40.344000</td>\n",
              "      <td>0.160000</td>\n",
              "      <td>0.000000</td>\n",
              "      <td>0.000000</td>\n",
              "      <td>2.000000</td>\n",
              "    </tr>\n",
              "    <tr>\n",
              "      <th>25%</th>\n",
              "      <td>-888.386000</td>\n",
              "      <td>-888.386000</td>\n",
              "      <td>0.000000</td>\n",
              "      <td>-2136.624000</td>\n",
              "      <td>256.230000</td>\n",
              "      <td>-601.431000</td>\n",
              "      <td>2.001000</td>\n",
              "      <td>34.343000</td>\n",
              "      <td>109.714000</td>\n",
              "      <td>574.828000</td>\n",
              "      <td>...</td>\n",
              "      <td>-51.688000</td>\n",
              "      <td>8.171000</td>\n",
              "      <td>0.0</td>\n",
              "      <td>-66.829000</td>\n",
              "      <td>0.886000</td>\n",
              "      <td>-5.907000</td>\n",
              "      <td>57.928000</td>\n",
              "      <td>0.000000</td>\n",
              "      <td>0.037000</td>\n",
              "      <td>30.000000</td>\n",
              "    </tr>\n",
              "    <tr>\n",
              "      <th>50%</th>\n",
              "      <td>-621.309000</td>\n",
              "      <td>-621.309000</td>\n",
              "      <td>0.000000</td>\n",
              "      <td>-1581.975000</td>\n",
              "      <td>374.421000</td>\n",
              "      <td>-432.050000</td>\n",
              "      <td>2.933000</td>\n",
              "      <td>53.377000</td>\n",
              "      <td>175.765000</td>\n",
              "      <td>922.336000</td>\n",
              "      <td>...</td>\n",
              "      <td>-38.137000</td>\n",
              "      <td>18.850000</td>\n",
              "      <td>0.0</td>\n",
              "      <td>-49.317000</td>\n",
              "      <td>1.513000</td>\n",
              "      <td>6.711000</td>\n",
              "      <td>92.886000</td>\n",
              "      <td>0.000000</td>\n",
              "      <td>0.125000</td>\n",
              "      <td>64.000000</td>\n",
              "    </tr>\n",
              "    <tr>\n",
              "      <th>75%</th>\n",
              "      <td>-392.645000</td>\n",
              "      <td>-392.645000</td>\n",
              "      <td>0.000000</td>\n",
              "      <td>-965.458000</td>\n",
              "      <td>518.917000</td>\n",
              "      <td>-268.588000</td>\n",
              "      <td>4.032000</td>\n",
              "      <td>70.347000</td>\n",
              "      <td>250.788000</td>\n",
              "      <td>1288.549000</td>\n",
              "      <td>...</td>\n",
              "      <td>-23.972000</td>\n",
              "      <td>35.629000</td>\n",
              "      <td>0.0</td>\n",
              "      <td>-33.371000</td>\n",
              "      <td>2.458000</td>\n",
              "      <td>20.826000</td>\n",
              "      <td>128.078000</td>\n",
              "      <td>0.000000</td>\n",
              "      <td>0.266000</td>\n",
              "      <td>86.000000</td>\n",
              "    </tr>\n",
              "    <tr>\n",
              "      <th>max</th>\n",
              "      <td>108.085000</td>\n",
              "      <td>108.085000</td>\n",
              "      <td>4.902000</td>\n",
              "      <td>-152.808000</td>\n",
              "      <td>1496.329000</td>\n",
              "      <td>-34.770000</td>\n",
              "      <td>10.779000</td>\n",
              "      <td>204.734000</td>\n",
              "      <td>787.426000</td>\n",
              "      <td>3498.846000</td>\n",
              "      <td>...</td>\n",
              "      <td>-4.531000</td>\n",
              "      <td>167.643000</td>\n",
              "      <td>0.0</td>\n",
              "      <td>-5.532000</td>\n",
              "      <td>24.243000</td>\n",
              "      <td>108.660000</td>\n",
              "      <td>288.724000</td>\n",
              "      <td>1.000000</td>\n",
              "      <td>1.904000</td>\n",
              "      <td>133.000000</td>\n",
              "    </tr>\n",
              "  </tbody>\n",
              "</table>\n",
              "<p>8 rows × 25 columns</p>\n",
              "</div>"
            ],
            "text/plain": [
              "       total_score        score   dslf_fa13       fa_atr       fa_dun  \\\n",
              "count   405.000000   405.000000  405.000000   405.000000   405.000000   \n",
              "mean   -660.909341  -660.909343   -0.031175 -1662.169333   417.837035   \n",
              "std     372.176345   372.176338    0.409363   881.899785   227.145880   \n",
              "min   -2145.657000 -2145.657000   -5.404000 -5693.017000    58.140000   \n",
              "25%    -888.386000  -888.386000    0.000000 -2136.624000   256.230000   \n",
              "50%    -621.309000  -621.309000    0.000000 -1581.975000   374.421000   \n",
              "75%    -392.645000  -392.645000    0.000000  -965.458000   518.917000   \n",
              "max     108.085000   108.085000    4.902000  -152.808000  1496.329000   \n",
              "\n",
              "           fa_elec  fa_intra_rep  fa_intra_sol_xover4      fa_rep  \\\n",
              "count   405.000000    405.000000           405.000000  405.000000   \n",
              "mean   -461.458563      3.185533            56.908037  195.155232   \n",
              "std     245.769657      1.628280            29.314179  116.803439   \n",
              "min   -1609.998000      0.500000             7.690000   13.187000   \n",
              "25%    -601.431000      2.001000            34.343000  109.714000   \n",
              "50%    -432.050000      2.933000            53.377000  175.765000   \n",
              "75%    -268.588000      4.032000            70.347000  250.788000   \n",
              "max     -34.770000     10.779000           204.734000  787.426000   \n",
              "\n",
              "            fa_sol  ...  lk_ball_wtd       omega  overlap_chainbreak  \\\n",
              "count   405.000000  ...   405.000000  405.000000               405.0   \n",
              "mean    997.474953  ...   -40.763867   26.701625                 0.0   \n",
              "std     538.269300  ...    21.969469   26.211415                 0.0   \n",
              "min      98.422000  ...  -140.635000    0.406000                 0.0   \n",
              "25%     574.828000  ...   -51.688000    8.171000                 0.0   \n",
              "50%     922.336000  ...   -38.137000   18.850000                 0.0   \n",
              "75%    1288.549000  ...   -23.972000   35.629000                 0.0   \n",
              "max    3498.846000  ...    -4.531000  167.643000                 0.0   \n",
              "\n",
              "          p_aa_pp   pro_close  rama_prepro         ref        time  \\\n",
              "count  405.000000  405.000000   405.000000  405.000000  405.000000   \n",
              "mean   -52.729393    2.034030     8.808395   97.757899    0.059259   \n",
              "std     26.769766    2.438288    20.412649   52.213834    0.236401   \n",
              "min   -189.837000    0.056000   -40.344000    0.160000    0.000000   \n",
              "25%    -66.829000    0.886000    -5.907000   57.928000    0.000000   \n",
              "50%    -49.317000    1.513000     6.711000   92.886000    0.000000   \n",
              "75%    -33.371000    2.458000    20.826000  128.078000    0.000000   \n",
              "max     -5.532000   24.243000   108.660000  288.724000    1.000000   \n",
              "\n",
              "       yhh_planarity  solubility  \n",
              "count     405.000000  405.000000  \n",
              "mean        0.205395   59.419753  \n",
              "std         0.242374   32.366429  \n",
              "min         0.000000    2.000000  \n",
              "25%         0.037000   30.000000  \n",
              "50%         0.125000   64.000000  \n",
              "75%         0.266000   86.000000  \n",
              "max         1.904000  133.000000  \n",
              "\n",
              "[8 rows x 25 columns]"
            ]
          },
          "execution_count": 15,
          "metadata": {},
          "output_type": "execute_result"
        }
      ],
      "source": [
        "# Are all columns with significant value?\n",
        "df_solubility.describe()"
      ]
    },
    {
      "cell_type": "code",
      "execution_count": 16,
      "metadata": {},
      "outputs": [
        {
          "data": {
            "text/plain": [
              "count                         405\n",
              "unique                        405\n",
              "top       pdb1a0f.ent_A_0001_0001\n",
              "freq                            1\n",
              "Name: description, dtype: object"
            ]
          },
          "execution_count": 16,
          "metadata": {},
          "output_type": "execute_result"
        }
      ],
      "source": [
        "df_solubility['description'].describe()"
      ]
    },
    {
      "cell_type": "code",
      "execution_count": 17,
      "metadata": {},
      "outputs": [],
      "source": [
        "# Remove 'yhh_planarity', 'overlap_chainbreak' and 'linear_chainbreak' because are constants / only have 1 value.\n",
        "df_solubility.drop(columns=[\n",
        "    'yhh_planarity', \n",
        "    'overlap_chainbreak', \n",
        "    'linear_chainbreak',\n",
        "    'SCORE:'], \n",
        "    axis=1, inplace=True)\n",
        "\n",
        "\n",
        "# Remove description because each row have a diferent value. Basicaly an index.\n",
        "df_solubility.drop(columns=['description'], axis=1, inplace=True)\n",
        "\n",
        "\n",
        "# Remove total_score and score since it is not a protein property\n",
        "df_solubility.drop(columns=[\n",
        "    'total_score',\n",
        "    'score'\n",
        "], axis=1, inplace=True)"
      ]
    },
    {
      "cell_type": "markdown",
      "metadata": {},
      "source": [
        "# Exploratory Data Analysis (EDA)"
      ]
    },
    {
      "cell_type": "markdown",
      "metadata": {},
      "source": [
        "## Distribution"
      ]
    },
    {
      "cell_type": "code",
      "execution_count": 18,
      "metadata": {},
      "outputs": [
        {
          "data": {
            "text/plain": [
              "array([[<AxesSubplot:title={'center':'dslf_fa13'}>,\n",
              "        <AxesSubplot:title={'center':'fa_atr'}>,\n",
              "        <AxesSubplot:title={'center':'fa_dun'}>,\n",
              "        <AxesSubplot:title={'center':'fa_elec'}>],\n",
              "       [<AxesSubplot:title={'center':'fa_intra_rep'}>,\n",
              "        <AxesSubplot:title={'center':'fa_intra_sol_xover4'}>,\n",
              "        <AxesSubplot:title={'center':'fa_rep'}>,\n",
              "        <AxesSubplot:title={'center':'fa_sol'}>],\n",
              "       [<AxesSubplot:title={'center':'hbond_bb_sc'}>,\n",
              "        <AxesSubplot:title={'center':'hbond_lr_bb'}>,\n",
              "        <AxesSubplot:title={'center':'hbond_sc'}>,\n",
              "        <AxesSubplot:title={'center':'hbond_sr_bb'}>],\n",
              "       [<AxesSubplot:title={'center':'lk_ball_wtd'}>,\n",
              "        <AxesSubplot:title={'center':'omega'}>,\n",
              "        <AxesSubplot:title={'center':'p_aa_pp'}>,\n",
              "        <AxesSubplot:title={'center':'pro_close'}>],\n",
              "       [<AxesSubplot:title={'center':'rama_prepro'}>,\n",
              "        <AxesSubplot:title={'center':'ref'}>,\n",
              "        <AxesSubplot:title={'center':'time'}>,\n",
              "        <AxesSubplot:title={'center':'solubility'}>]], dtype=object)"
            ]
          },
          "execution_count": 18,
          "metadata": {},
          "output_type": "execute_result"
        },
        {
          "data": {
            "image/png": "[encoded data removed]",
            "text/plain": [
              "<Figure size 1296x1296 with 20 Axes>"
            ]
          },
          "metadata": {
            "needs_background": "light"
          },
          "output_type": "display_data"
        }
      ],
      "source": [
        "df_solubility.hist(figsize=(18, 18))"
      ]
    },
    {
      "cell_type": "code",
      "execution_count": 19,
      "metadata": {},
      "outputs": [
        {
          "data": {
            "text/plain": [
              "array([[<AxesSubplot:title={'center':'dslf_fa13'}>,\n",
              "        <AxesSubplot:title={'center':'fa_atr'}>,\n",
              "        <AxesSubplot:title={'center':'fa_dun'}>,\n",
              "        <AxesSubplot:title={'center':'fa_elec'}>],\n",
              "       [<AxesSubplot:title={'center':'fa_intra_rep'}>,\n",
              "        <AxesSubplot:title={'center':'fa_intra_sol_xover4'}>,\n",
              "        <AxesSubplot:title={'center':'fa_rep'}>,\n",
              "        <AxesSubplot:title={'center':'fa_sol'}>],\n",
              "       [<AxesSubplot:title={'center':'hbond_bb_sc'}>,\n",
              "        <AxesSubplot:title={'center':'hbond_lr_bb'}>,\n",
              "        <AxesSubplot:title={'center':'hbond_sc'}>,\n",
              "        <AxesSubplot:title={'center':'hbond_sr_bb'}>],\n",
              "       [<AxesSubplot:title={'center':'lk_ball_wtd'}>,\n",
              "        <AxesSubplot:title={'center':'omega'}>,\n",
              "        <AxesSubplot:title={'center':'p_aa_pp'}>,\n",
              "        <AxesSubplot:title={'center':'pro_close'}>],\n",
              "       [<AxesSubplot:title={'center':'rama_prepro'}>,\n",
              "        <AxesSubplot:title={'center':'ref'}>,\n",
              "        <AxesSubplot:title={'center':'time'}>,\n",
              "        <AxesSubplot:title={'center':'solubility'}>]], dtype=object)"
            ]
          },
          "execution_count": 19,
          "metadata": {},
          "output_type": "execute_result"
        },
        {
          "data": {
            "image/png": "[encoded data removed]",
            "text/plain": [
              "<Figure size 1296x1296 with 20 Axes>"
            ]
          },
          "metadata": {
            "needs_background": "light"
          },
          "output_type": "display_data"
        }
      ],
      "source": [
        "# Data Standardization/Escalation\n",
        "# Create stantardized dataset\n",
        "\n",
        "df_scaler = df_solubility.copy()\n",
        "\n",
        "scaler = MinMaxScaler()\n",
        "\n",
        "df_new = scaler.fit_transform(df_scaler)\n",
        "\n",
        "cols = df_scaler.columns\n",
        "\n",
        "df_solubility_standardized = pd.DataFrame(df_new, columns =df_solubility.columns)\n",
        "\n",
        "df_solubility_standardized.hist(figsize=(18, 18))"
      ]
    },
    {
      "cell_type": "code",
      "execution_count": 20,
      "metadata": {},
      "outputs": [
        {
          "data": {
            "image/png": "[encoded data removed]",
            "text/plain": [
              "<Figure size 1584x1584 with 25 Axes>"
            ]
          },
          "metadata": {
            "needs_background": "light"
          },
          "output_type": "display_data"
        }
      ],
      "source": [
        "# Scatter plot to check linearity between the dependent variables with the dependent (solubility)\n",
        "# Must be a standardized dataset\n",
        "\n",
        "fig, axs = plt.subplots(5, 5, figsize=(22,22))\n",
        "\n",
        "features = list(df_solubility_standardized.columns)\n",
        "\n",
        "for row_position in range(0,5):\n",
        "    \n",
        "    for column_position in range(0,5):\n",
        "        \n",
        "        if features == []:\n",
        "            break\n",
        "\n",
        "        axs[row_position, column_position].scatter(df_solubility_standardized[features[0]], df_solubility_standardized.solubility)\n",
        "        axs[row_position, column_position].set_xlabel(features[0])\n",
        "        axs[row_position, column_position].set_ylabel(\"Solubility\")\n",
        "\n",
        "        features.pop(0)\n",
        "\n",
        "plt.show()\n"
      ]
    },
    {
      "cell_type": "code",
      "execution_count": 21,
      "metadata": {},
      "outputs": [],
      "source": [
        "#sns.set()\n",
        "#cols = list(df_solubility_standardized.columns)\n",
        "#sns.pairplot(df_solubility_standardized[cols], size=2.5)\n",
        "#plt.show()"
      ]
    },
    {
      "cell_type": "markdown",
      "metadata": {},
      "source": [
        "# Correlation"
      ]
    },
    {
      "cell_type": "code",
      "execution_count": 22,
      "metadata": {},
      "outputs": [
        {
          "data": {
            "text/html": [
              "<div>\n",
              "<style scoped>\n",
              "    .dataframe tbody tr th:only-of-type {\n",
              "        vertical-align: middle;\n",
              "    }\n",
              "\n",
              "    .dataframe tbody tr th {\n",
              "        vertical-align: top;\n",
              "    }\n",
              "\n",
              "    .dataframe thead th {\n",
              "        text-align: right;\n",
              "    }\n",
              "</style>\n",
              "<table border=\"1\" class=\"dataframe\">\n",
              "  <thead>\n",
              "    <tr style=\"text-align: right;\">\n",
              "      <th></th>\n",
              "      <th>dslf_fa13</th>\n",
              "      <th>fa_atr</th>\n",
              "      <th>fa_dun</th>\n",
              "      <th>fa_elec</th>\n",
              "      <th>fa_intra_rep</th>\n",
              "      <th>fa_intra_sol_xover4</th>\n",
              "      <th>fa_rep</th>\n",
              "      <th>fa_sol</th>\n",
              "      <th>hbond_bb_sc</th>\n",
              "      <th>hbond_lr_bb</th>\n",
              "      <th>hbond_sc</th>\n",
              "      <th>hbond_sr_bb</th>\n",
              "      <th>lk_ball_wtd</th>\n",
              "      <th>omega</th>\n",
              "      <th>p_aa_pp</th>\n",
              "      <th>pro_close</th>\n",
              "      <th>rama_prepro</th>\n",
              "      <th>ref</th>\n",
              "      <th>time</th>\n",
              "      <th>solubility</th>\n",
              "    </tr>\n",
              "  </thead>\n",
              "  <tbody>\n",
              "    <tr>\n",
              "      <th>dslf_fa13</th>\n",
              "      <td>1.000000</td>\n",
              "      <td>0.019448</td>\n",
              "      <td>-0.002644</td>\n",
              "      <td>0.023593</td>\n",
              "      <td>0.003342</td>\n",
              "      <td>-0.020390</td>\n",
              "      <td>-0.008781</td>\n",
              "      <td>-0.027149</td>\n",
              "      <td>0.035242</td>\n",
              "      <td>-0.011408</td>\n",
              "      <td>0.021158</td>\n",
              "      <td>0.032788</td>\n",
              "      <td>0.028901</td>\n",
              "      <td>0.035914</td>\n",
              "      <td>0.015576</td>\n",
              "      <td>0.021936</td>\n",
              "      <td>0.049382</td>\n",
              "      <td>0.037739</td>\n",
              "      <td>0.019137</td>\n",
              "      <td>0.005340</td>\n",
              "    </tr>\n",
              "    <tr>\n",
              "      <th>fa_atr</th>\n",
              "      <td>0.019448</td>\n",
              "      <td>1.000000</td>\n",
              "      <td>-0.958008</td>\n",
              "      <td>0.993454</td>\n",
              "      <td>-0.971094</td>\n",
              "      <td>-0.985594</td>\n",
              "      <td>-0.928176</td>\n",
              "      <td>-0.996069</td>\n",
              "      <td>0.930587</td>\n",
              "      <td>0.720400</td>\n",
              "      <td>0.914595</td>\n",
              "      <td>0.897236</td>\n",
              "      <td>0.963268</td>\n",
              "      <td>-0.568223</td>\n",
              "      <td>0.931661</td>\n",
              "      <td>-0.444788</td>\n",
              "      <td>-0.292721</td>\n",
              "      <td>-0.814838</td>\n",
              "      <td>-0.128646</td>\n",
              "      <td>0.366244</td>\n",
              "    </tr>\n",
              "    <tr>\n",
              "      <th>fa_dun</th>\n",
              "      <td>-0.002644</td>\n",
              "      <td>-0.958008</td>\n",
              "      <td>1.000000</td>\n",
              "      <td>-0.945661</td>\n",
              "      <td>0.974708</td>\n",
              "      <td>0.973175</td>\n",
              "      <td>0.946486</td>\n",
              "      <td>0.961690</td>\n",
              "      <td>-0.866493</td>\n",
              "      <td>-0.700817</td>\n",
              "      <td>-0.866814</td>\n",
              "      <td>-0.840671</td>\n",
              "      <td>-0.916237</td>\n",
              "      <td>0.592816</td>\n",
              "      <td>-0.874564</td>\n",
              "      <td>0.525734</td>\n",
              "      <td>0.377545</td>\n",
              "      <td>0.727423</td>\n",
              "      <td>0.124935</td>\n",
              "      <td>-0.322162</td>\n",
              "    </tr>\n",
              "    <tr>\n",
              "      <th>fa_elec</th>\n",
              "      <td>0.023593</td>\n",
              "      <td>0.993454</td>\n",
              "      <td>-0.945661</td>\n",
              "      <td>1.000000</td>\n",
              "      <td>-0.958201</td>\n",
              "      <td>-0.977576</td>\n",
              "      <td>-0.912211</td>\n",
              "      <td>-0.992477</td>\n",
              "      <td>0.930193</td>\n",
              "      <td>0.736101</td>\n",
              "      <td>0.928298</td>\n",
              "      <td>0.892144</td>\n",
              "      <td>0.948499</td>\n",
              "      <td>-0.558717</td>\n",
              "      <td>0.928749</td>\n",
              "      <td>-0.422665</td>\n",
              "      <td>-0.276783</td>\n",
              "      <td>-0.806536</td>\n",
              "      <td>-0.118625</td>\n",
              "      <td>0.352358</td>\n",
              "    </tr>\n",
              "    <tr>\n",
              "      <th>fa_intra_rep</th>\n",
              "      <td>0.003342</td>\n",
              "      <td>-0.971094</td>\n",
              "      <td>0.974708</td>\n",
              "      <td>-0.958201</td>\n",
              "      <td>1.000000</td>\n",
              "      <td>0.972497</td>\n",
              "      <td>0.947104</td>\n",
              "      <td>0.969163</td>\n",
              "      <td>-0.885418</td>\n",
              "      <td>-0.720536</td>\n",
              "      <td>-0.871346</td>\n",
              "      <td>-0.849986</td>\n",
              "      <td>-0.929813</td>\n",
              "      <td>0.566414</td>\n",
              "      <td>-0.901410</td>\n",
              "      <td>0.493290</td>\n",
              "      <td>0.354722</td>\n",
              "      <td>0.787371</td>\n",
              "      <td>0.120276</td>\n",
              "      <td>-0.337447</td>\n",
              "    </tr>\n",
              "  </tbody>\n",
              "</table>\n",
              "</div>"
            ],
            "text/plain": [
              "              dslf_fa13    fa_atr    fa_dun   fa_elec  fa_intra_rep  \\\n",
              "dslf_fa13      1.000000  0.019448 -0.002644  0.023593      0.003342   \n",
              "fa_atr         0.019448  1.000000 -0.958008  0.993454     -0.971094   \n",
              "fa_dun        -0.002644 -0.958008  1.000000 -0.945661      0.974708   \n",
              "fa_elec        0.023593  0.993454 -0.945661  1.000000     -0.958201   \n",
              "fa_intra_rep   0.003342 -0.971094  0.974708 -0.958201      1.000000   \n",
              "\n",
              "              fa_intra_sol_xover4    fa_rep    fa_sol  hbond_bb_sc  \\\n",
              "dslf_fa13               -0.020390 -0.008781 -0.027149     0.035242   \n",
              "fa_atr                  -0.985594 -0.928176 -0.996069     0.930587   \n",
              "fa_dun                   0.973175  0.946486  0.961690    -0.866493   \n",
              "fa_elec                 -0.977576 -0.912211 -0.992477     0.930193   \n",
              "fa_intra_rep             0.972497  0.947104  0.969163    -0.885418   \n",
              "\n",
              "              hbond_lr_bb  hbond_sc  hbond_sr_bb  lk_ball_wtd     omega  \\\n",
              "dslf_fa13       -0.011408  0.021158     0.032788     0.028901  0.035914   \n",
              "fa_atr           0.720400  0.914595     0.897236     0.963268 -0.568223   \n",
              "fa_dun          -0.700817 -0.866814    -0.840671    -0.916237  0.592816   \n",
              "fa_elec          0.736101  0.928298     0.892144     0.948499 -0.558717   \n",
              "fa_intra_rep    -0.720536 -0.871346    -0.849986    -0.929813  0.566414   \n",
              "\n",
              "               p_aa_pp  pro_close  rama_prepro       ref      time  solubility  \n",
              "dslf_fa13     0.015576   0.021936     0.049382  0.037739  0.019137    0.005340  \n",
              "fa_atr        0.931661  -0.444788    -0.292721 -0.814838 -0.128646    0.366244  \n",
              "fa_dun       -0.874564   0.525734     0.377545  0.727423  0.124935   -0.322162  \n",
              "fa_elec       0.928749  -0.422665    -0.276783 -0.806536 -0.118625    0.352358  \n",
              "fa_intra_rep -0.901410   0.493290     0.354722  0.787371  0.120276   -0.337447  "
            ]
          },
          "execution_count": 22,
          "metadata": {},
          "output_type": "execute_result"
        }
      ],
      "source": [
        "# Create Pearson Correlation dataset between all features\n",
        "\n",
        "pearson_corr = df_solubility_standardized.corr()\n",
        "\n",
        "pearson_corr.head()"
      ]
    },
    {
      "cell_type": "code",
      "execution_count": 23,
      "metadata": {},
      "outputs": [
        {
          "data": {
            "application/vnd.plotly.v1+json": {
              "config": {
                "linkText": "Export to plot.ly",
                "plotlyServerURL": "https://plot.ly",
                "showLink": false
              },
              "data": [
                {
                  "colorscale": [
                    [
                      0,
                      "rgb(12,51,131)"
                    ],
                    [
                      0.25,
                      "rgb(10,136,186)"
                    ],
                    [
                      0.5,
                      "rgb(242,211,56)"
                    ],
                    [
                      0.75,
                      "rgb(242,143,56)"
                    ],
                    [
                      1,
                      "rgb(217,30,30)"
                    ]
                  ],
                  "type": "heatmap",
                  "x": [
                    "dslf_fa13",
                    "fa_atr",
                    "fa_dun",
                    "fa_elec",
                    "fa_intra_rep",
                    "fa_intra_sol_xover4",
                    "fa_rep",
                    "fa_sol",
                    "hbond_bb_sc",
                    "hbond_lr_bb",
                    "hbond_sc",
                    "hbond_sr_bb",
                    "lk_ball_wtd",
                    "omega",
                    "p_aa_pp",
                    "pro_close",
                    "rama_prepro",
                    "ref",
                    "time",
                    "solubility"
                  ],
                  "y": [
                    "dslf_fa13",
                    "fa_atr",
                    "fa_dun",
                    "fa_elec",
                    "fa_intra_rep",
                    "fa_intra_sol_xover4",
                    "fa_rep",
                    "fa_sol",
                    "hbond_bb_sc",
                    "hbond_lr_bb",
                    "hbond_sc",
                    "hbond_sr_bb",
                    "lk_ball_wtd",
                    "omega",
                    "p_aa_pp",
                    "pro_close",
                    "rama_prepro",
                    "ref",
                    "time",
                    "solubility"
                  ],
                  "z": [
                    [
                      1,
                      0.01944806228030769,
                      -0.002643558772268731,
                      0.02359267522049324,
                      0.0033423491120587673,
                      -0.02039023791383354,
                      -0.008780773828455827,
                      -0.02714944710110512,
                      0.035241516533508384,
                      -0.01140756232436502,
                      0.021157977857883932,
                      0.03278847662540978,
                      0.028901067852736,
                      0.03591358021021643,
                      0.015576208765107928,
                      0.021936248825173817,
                      0.049381698756531776,
                      0.03773897923528493,
                      0.019137382681850362,
                      0.005340118043756782
                    ],
                    [
                      0.01944806228030769,
                      1,
                      -0.9580082389544601,
                      0.9934542634838054,
                      -0.9710935244746345,
                      -0.9855944545283726,
                      -0.9281755255697266,
                      -0.9960692032792879,
                      0.9305872805671225,
                      0.7203999873620557,
                      0.9145946852141936,
                      0.897236423458016,
                      0.9632679462438912,
                      -0.5682234230622393,
                      0.9316610981773534,
                      -0.44478831846577704,
                      -0.2927211084944855,
                      -0.81483786012273,
                      -0.12864606777219592,
                      0.36624408579458956
                    ],
                    [
                      -0.002643558772268731,
                      -0.9580082389544601,
                      1,
                      -0.9456609801383435,
                      0.974708462767356,
                      0.9731751767959087,
                      0.9464861371360844,
                      0.9616899350621956,
                      -0.8664926830037787,
                      -0.700816504531688,
                      -0.8668139725223403,
                      -0.8406713751978321,
                      -0.91623657426368,
                      0.5928162152986345,
                      -0.874564076521254,
                      0.5257340082510951,
                      0.37754472104695497,
                      0.7274230465688294,
                      0.12493491151648402,
                      -0.3221622269311766
                    ],
                    [
                      0.02359267522049324,
                      0.9934542634838054,
                      -0.9456609801383435,
                      1,
                      -0.9582013595026183,
                      -0.9775762977549931,
                      -0.9122111694821645,
                      -0.9924769202702413,
                      0.9301930975716223,
                      0.7361014856072386,
                      0.9282977733369139,
                      0.8921435682555844,
                      0.9484987577023679,
                      -0.5587169583181261,
                      0.928748611312621,
                      -0.4226645881184759,
                      -0.27678307347005054,
                      -0.8065360778199504,
                      -0.1186251245748665,
                      0.3523582132746012
                    ],
                    [
                      0.0033423491120587673,
                      -0.9710935244746345,
                      0.974708462767356,
                      -0.9582013595026183,
                      1,
                      0.9724972280200808,
                      0.9471042067714851,
                      0.9691629167964015,
                      -0.885417765558195,
                      -0.7205360382869673,
                      -0.8713459175541313,
                      -0.8499859628496307,
                      -0.9298125941365429,
                      0.5664143958621569,
                      -0.9014098052232166,
                      0.49328998611377695,
                      0.3547216417728757,
                      0.7873707259951019,
                      0.1202759467195932,
                      -0.33744671312209074
                    ],
                    [
                      -0.02039023791383354,
                      -0.9855944545283726,
                      0.9731751767959087,
                      -0.9775762977549931,
                      0.9724972280200808,
                      1,
                      0.9231411506921402,
                      0.9883515942154869,
                      -0.9137491750615961,
                      -0.7028513226289903,
                      -0.9142179368719447,
                      -0.8807936665455295,
                      -0.95230902428569,
                      0.5575926158688547,
                      -0.9042458009847584,
                      0.4391049800057908,
                      0.2992477954422173,
                      0.7463207598620117,
                      0.13293468717409299,
                      -0.3631467977976555
                    ],
                    [
                      -0.008780773828455827,
                      -0.9281755255697266,
                      0.9464861371360844,
                      -0.9122111694821645,
                      0.9471042067714851,
                      0.9231411506921402,
                      1,
                      0.9235064983222742,
                      -0.8507306626955586,
                      -0.687044746874535,
                      -0.8074802467452107,
                      -0.7945709839410632,
                      -0.8755311104709035,
                      0.5198753581923403,
                      -0.8607886025624448,
                      0.5314389367145395,
                      0.37961106662176197,
                      0.7506639027437985,
                      0.10053058466209033,
                      -0.3059488908459071
                    ],
                    [
                      -0.02714944710110512,
                      -0.9960692032792879,
                      0.9616899350621956,
                      -0.9924769202702413,
                      0.9691629167964015,
                      0.9883515942154869,
                      0.9235064983222742,
                      1,
                      -0.9257582399302813,
                      -0.6945799202831917,
                      -0.9202850847685009,
                      -0.9098949069114342,
                      -0.9630265050906403,
                      0.5640704067126263,
                      -0.9141627323118242,
                      0.4380246969201871,
                      0.28701143840141563,
                      0.7853341201430429,
                      0.13186738020504876,
                      -0.3585600868435841
                    ],
                    [
                      0.035241516533508384,
                      0.9305872805671225,
                      -0.8664926830037787,
                      0.9301930975716223,
                      -0.885417765558195,
                      -0.9137491750615961,
                      -0.8507306626955586,
                      -0.9257582399302813,
                      1,
                      0.7143279226567177,
                      0.8894412574998767,
                      0.7714694247528986,
                      0.8742263162319078,
                      -0.49901081668955277,
                      0.9081352927388013,
                      -0.38845939476114044,
                      -0.20757607472216816,
                      -0.7499346907012824,
                      -0.11206824367651237,
                      0.3752727404807056
                    ],
                    [
                      -0.01140756232436502,
                      0.7203999873620557,
                      -0.700816504531688,
                      0.7361014856072386,
                      -0.7205360382869673,
                      -0.7028513226289903,
                      -0.687044746874535,
                      -0.6945799202831917,
                      0.7143279226567177,
                      1,
                      0.6977791786172686,
                      0.3866463959137402,
                      0.6005467808752624,
                      -0.448233389392689,
                      0.8053812023357382,
                      -0.3590816799825951,
                      -0.31048540944728403,
                      -0.6376943050365547,
                      -0.03707609553173986,
                      0.19721471632939067
                    ],
                    [
                      0.021157977857883932,
                      0.9145946852141936,
                      -0.8668139725223403,
                      0.9282977733369139,
                      -0.8713459175541313,
                      -0.9142179368719447,
                      -0.8074802467452107,
                      -0.9202850847685009,
                      0.8894412574998767,
                      0.6977791786172686,
                      1,
                      0.7888730322081553,
                      0.8549594431003141,
                      -0.5228888077542417,
                      0.8497167105144597,
                      -0.36233349944857046,
                      -0.25139975970051404,
                      -0.6585801805110841,
                      -0.12305559794085133,
                      0.3573719511201878
                    ],
                    [
                      0.03278847662540978,
                      0.897236423458016,
                      -0.8406713751978321,
                      0.8921435682555844,
                      -0.8499859628496307,
                      -0.8807936665455295,
                      -0.7945709839410632,
                      -0.9098949069114342,
                      0.7714694247528986,
                      0.3866463959137402,
                      0.7888730322081553,
                      1,
                      0.9210620483017047,
                      -0.49449036032610166,
                      0.7502507322758264,
                      -0.3430976681329902,
                      -0.197993762603312,
                      -0.7367905921895707,
                      -0.1377861575959234,
                      0.3531635436793574
                    ],
                    [
                      0.028901067852736,
                      0.9632679462438912,
                      -0.91623657426368,
                      0.9484987577023679,
                      -0.9298125941365429,
                      -0.95230902428569,
                      -0.8755311104709035,
                      -0.9630265050906403,
                      0.8742263162319078,
                      0.6005467808752624,
                      0.8549594431003141,
                      0.9210620483017047,
                      1,
                      -0.5280993720036379,
                      0.882171914337838,
                      -0.4089616685930113,
                      -0.22364967443936995,
                      -0.7624984073605927,
                      -0.15014028025255508,
                      0.3660498935865656
                    ],
                    [
                      0.03591358021021643,
                      -0.5682234230622393,
                      0.5928162152986345,
                      -0.5587169583181261,
                      0.5664143958621569,
                      0.5575926158688547,
                      0.5198753581923403,
                      0.5640704067126263,
                      -0.49901081668955277,
                      -0.448233389392689,
                      -0.5228888077542417,
                      -0.49449036032610166,
                      -0.5280993720036379,
                      1,
                      -0.5257141042730972,
                      0.5304894189290376,
                      0.3459670981807173,
                      0.4981385932912651,
                      0.05838654183807707,
                      -0.21523912717220367
                    ],
                    [
                      0.015576208765107928,
                      0.9316610981773534,
                      -0.874564076521254,
                      0.928748611312621,
                      -0.9014098052232166,
                      -0.9042458009847584,
                      -0.8607886025624448,
                      -0.9141627323118242,
                      0.9081352927388013,
                      0.8053812023357382,
                      0.8497167105144597,
                      0.7502507322758264,
                      0.882171914337838,
                      -0.5257141042730972,
                      1,
                      -0.41764437813387256,
                      -0.19372206246786575,
                      -0.8130275723511112,
                      -0.09268851084516423,
                      0.32148128023093747
                    ],
                    [
                      0.021936248825173817,
                      -0.44478831846577704,
                      0.5257340082510951,
                      -0.4226645881184759,
                      0.49328998611377695,
                      0.4391049800057908,
                      0.5314389367145395,
                      0.4380246969201871,
                      -0.38845939476114044,
                      -0.3590816799825951,
                      -0.36233349944857046,
                      -0.3430976681329902,
                      -0.4089616685930113,
                      0.5304894189290376,
                      -0.41764437813387256,
                      1,
                      0.3798347905257133,
                      0.38081287623799615,
                      0.009628869949804834,
                      -0.13206549637386406
                    ],
                    [
                      0.049381698756531776,
                      -0.2927211084944855,
                      0.37754472104695497,
                      -0.27678307347005054,
                      0.3547216417728757,
                      0.2992477954422173,
                      0.37961106662176197,
                      0.28701143840141563,
                      -0.20757607472216816,
                      -0.31048540944728403,
                      -0.25139975970051404,
                      -0.197993762603312,
                      -0.22364967443936995,
                      0.3459670981807173,
                      -0.19372206246786575,
                      0.3798347905257133,
                      1,
                      0.2871664053719346,
                      -0.011878474522201931,
                      -0.09973935461702318
                    ],
                    [
                      0.03773897923528493,
                      -0.81483786012273,
                      0.7274230465688294,
                      -0.8065360778199504,
                      0.7873707259951019,
                      0.7463207598620117,
                      0.7506639027437985,
                      0.7853341201430429,
                      -0.7499346907012824,
                      -0.6376943050365547,
                      -0.6585801805110841,
                      -0.7367905921895707,
                      -0.7624984073605927,
                      0.4981385932912651,
                      -0.8130275723511112,
                      0.38081287623799615,
                      0.2871664053719346,
                      1,
                      0.04671937070872882,
                      -0.3189912377162051
                    ],
                    [
                      0.019137382681850362,
                      -0.12864606777219592,
                      0.12493491151648402,
                      -0.1186251245748665,
                      0.1202759467195932,
                      0.13293468717409299,
                      0.10053058466209033,
                      0.13186738020504876,
                      -0.11206824367651237,
                      -0.03707609553173986,
                      -0.12305559794085133,
                      -0.1377861575959234,
                      -0.15014028025255508,
                      0.05838654183807707,
                      -0.09268851084516423,
                      0.009628869949804834,
                      -0.011878474522201931,
                      0.04671937070872882,
                      1,
                      -0.03237393648297469
                    ],
                    [
                      0.005340118043756782,
                      0.36624408579458956,
                      -0.3221622269311766,
                      0.3523582132746012,
                      -0.33744671312209074,
                      -0.3631467977976555,
                      -0.3059488908459071,
                      -0.3585600868435841,
                      0.3752727404807056,
                      0.19721471632939067,
                      0.3573719511201878,
                      0.3531635436793574,
                      0.3660498935865656,
                      -0.21523912717220367,
                      0.32148128023093747,
                      -0.13206549637386406,
                      -0.09973935461702318,
                      -0.3189912377162051,
                      -0.03237393648297469,
                      1
                    ]
                  ]
                }
              ],
              "layout": {
                "template": {
                  "data": {
                    "bar": [
                      {
                        "error_x": {
                          "color": "#2a3f5f"
                        },
                        "error_y": {
                          "color": "#2a3f5f"
                        },
                        "marker": {
                          "line": {
                            "color": "#E5ECF6",
                            "width": 0.5
                          },
                          "pattern": {
                            "fillmode": "overlay",
                            "size": 10,
                            "solidity": 0.2
                          }
                        },
                        "type": "bar"
                      }
                    ],
                    "barpolar": [
                      {
                        "marker": {
                          "line": {
                            "color": "#E5ECF6",
                            "width": 0.5
                          },
                          "pattern": {
                            "fillmode": "overlay",
                            "size": 10,
                            "solidity": 0.2
                          }
                        },
                        "type": "barpolar"
                      }
                    ],
                    "carpet": [
                      {
                        "aaxis": {
                          "endlinecolor": "#2a3f5f",
                          "gridcolor": "white",
                          "linecolor": "white",
                          "minorgridcolor": "white",
                          "startlinecolor": "#2a3f5f"
                        },
                        "baxis": {
                          "endlinecolor": "#2a3f5f",
                          "gridcolor": "white",
                          "linecolor": "white",
                          "minorgridcolor": "white",
                          "startlinecolor": "#2a3f5f"
                        },
                        "type": "carpet"
                      }
                    ],
                    "choropleth": [
                      {
                        "colorbar": {
                          "outlinewidth": 0,
                          "ticks": ""
                        },
                        "type": "choropleth"
                      }
                    ],
                    "contour": [
                      {
                        "colorbar": {
                          "outlinewidth": 0,
                          "ticks": ""
                        },
                        "colorscale": [
                          [
                            0,
                            "#0d0887"
                          ],
                          [
                            0.1111111111111111,
                            "#46039f"
                          ],
                          [
                            0.2222222222222222,
                            "#7201a8"
                          ],
                          [
                            0.3333333333333333,
                            "#9c179e"
                          ],
                          [
                            0.4444444444444444,
                            "#bd3786"
                          ],
                          [
                            0.5555555555555556,
                            "#d8576b"
                          ],
                          [
                            0.6666666666666666,
                            "#ed7953"
                          ],
                          [
                            0.7777777777777778,
                            "#fb9f3a"
                          ],
                          [
                            0.8888888888888888,
                            "#fdca26"
                          ],
                          [
                            1,
                            "#f0f921"
                          ]
                        ],
                        "type": "contour"
                      }
                    ],
                    "contourcarpet": [
                      {
                        "colorbar": {
                          "outlinewidth": 0,
                          "ticks": ""
                        },
                        "type": "contourcarpet"
                      }
                    ],
                    "heatmap": [
                      {
                        "colorbar": {
                          "outlinewidth": 0,
                          "ticks": ""
                        },
                        "colorscale": [
                          [
                            0,
                            "#0d0887"
                          ],
                          [
                            0.1111111111111111,
                            "#46039f"
                          ],
                          [
                            0.2222222222222222,
                            "#7201a8"
                          ],
                          [
                            0.3333333333333333,
                            "#9c179e"
                          ],
                          [
                            0.4444444444444444,
                            "#bd3786"
                          ],
                          [
                            0.5555555555555556,
                            "#d8576b"
                          ],
                          [
                            0.6666666666666666,
                            "#ed7953"
                          ],
                          [
                            0.7777777777777778,
                            "#fb9f3a"
                          ],
                          [
                            0.8888888888888888,
                            "#fdca26"
                          ],
                          [
                            1,
                            "#f0f921"
                          ]
                        ],
                        "type": "heatmap"
                      }
                    ],
                    "heatmapgl": [
                      {
                        "colorbar": {
                          "outlinewidth": 0,
                          "ticks": ""
                        },
                        "colorscale": [
                          [
                            0,
                            "#0d0887"
                          ],
                          [
                            0.1111111111111111,
                            "#46039f"
                          ],
                          [
                            0.2222222222222222,
                            "#7201a8"
                          ],
                          [
                            0.3333333333333333,
                            "#9c179e"
                          ],
                          [
                            0.4444444444444444,
                            "#bd3786"
                          ],
                          [
                            0.5555555555555556,
                            "#d8576b"
                          ],
                          [
                            0.6666666666666666,
                            "#ed7953"
                          ],
                          [
                            0.7777777777777778,
                            "#fb9f3a"
                          ],
                          [
                            0.8888888888888888,
                            "#fdca26"
                          ],
                          [
                            1,
                            "#f0f921"
                          ]
                        ],
                        "type": "heatmapgl"
                      }
                    ],
                    "histogram": [
                      {
                        "marker": {
                          "pattern": {
                            "fillmode": "overlay",
                            "size": 10,
                            "solidity": 0.2
                          }
                        },
                        "type": "histogram"
                      }
                    ],
                    "histogram2d": [
                      {
                        "colorbar": {
                          "outlinewidth": 0,
                          "ticks": ""
                        },
                        "colorscale": [
                          [
                            0,
                            "#0d0887"
                          ],
                          [
                            0.1111111111111111,
                            "#46039f"
                          ],
                          [
                            0.2222222222222222,
                            "#7201a8"
                          ],
                          [
                            0.3333333333333333,
                            "#9c179e"
                          ],
                          [
                            0.4444444444444444,
                            "#bd3786"
                          ],
                          [
                            0.5555555555555556,
                            "#d8576b"
                          ],
                          [
                            0.6666666666666666,
                            "#ed7953"
                          ],
                          [
                            0.7777777777777778,
                            "#fb9f3a"
                          ],
                          [
                            0.8888888888888888,
                            "#fdca26"
                          ],
                          [
                            1,
                            "#f0f921"
                          ]
                        ],
                        "type": "histogram2d"
                      }
                    ],
                    "histogram2dcontour": [
                      {
                        "colorbar": {
                          "outlinewidth": 0,
                          "ticks": ""
                        },
                        "colorscale": [
                          [
                            0,
                            "#0d0887"
                          ],
                          [
                            0.1111111111111111,
                            "#46039f"
                          ],
                          [
                            0.2222222222222222,
                            "#7201a8"
                          ],
                          [
                            0.3333333333333333,
                            "#9c179e"
                          ],
                          [
                            0.4444444444444444,
                            "#bd3786"
                          ],
                          [
                            0.5555555555555556,
                            "#d8576b"
                          ],
                          [
                            0.6666666666666666,
                            "#ed7953"
                          ],
                          [
                            0.7777777777777778,
                            "#fb9f3a"
                          ],
                          [
                            0.8888888888888888,
                            "#fdca26"
                          ],
                          [
                            1,
                            "#f0f921"
                          ]
                        ],
                        "type": "histogram2dcontour"
                      }
                    ],
                    "mesh3d": [
                      {
                        "colorbar": {
                          "outlinewidth": 0,
                          "ticks": ""
                        },
                        "type": "mesh3d"
                      }
                    ],
                    "parcoords": [
                      {
                        "line": {
                          "colorbar": {
                            "outlinewidth": 0,
                            "ticks": ""
                          }
                        },
                        "type": "parcoords"
                      }
                    ],
                    "pie": [
                      {
                        "automargin": true,
                        "type": "pie"
                      }
                    ],
                    "scatter": [
                      {
                        "fillpattern": {
                          "fillmode": "overlay",
                          "size": 10,
                          "solidity": 0.2
                        },
                        "type": "scatter"
                      }
                    ],
                    "scatter3d": [
                      {
                        "line": {
                          "colorbar": {
                            "outlinewidth": 0,
                            "ticks": ""
                          }
                        },
                        "marker": {
                          "colorbar": {
                            "outlinewidth": 0,
                            "ticks": ""
                          }
                        },
                        "type": "scatter3d"
                      }
                    ],
                    "scattercarpet": [
                      {
                        "marker": {
                          "colorbar": {
                            "outlinewidth": 0,
                            "ticks": ""
                          }
                        },
                        "type": "scattercarpet"
                      }
                    ],
                    "scattergeo": [
                      {
                        "marker": {
                          "colorbar": {
                            "outlinewidth": 0,
                            "ticks": ""
                          }
                        },
                        "type": "scattergeo"
                      }
                    ],
                    "scattergl": [
                      {
                        "marker": {
                          "colorbar": {
                            "outlinewidth": 0,
                            "ticks": ""
                          }
                        },
                        "type": "scattergl"
                      }
                    ],
                    "scattermapbox": [
                      {
                        "marker": {
                          "colorbar": {
                            "outlinewidth": 0,
                            "ticks": ""
                          }
                        },
                        "type": "scattermapbox"
                      }
                    ],
                    "scatterpolar": [
                      {
                        "marker": {
                          "colorbar": {
                            "outlinewidth": 0,
                            "ticks": ""
                          }
                        },
                        "type": "scatterpolar"
                      }
                    ],
                    "scatterpolargl": [
                      {
                        "marker": {
                          "colorbar": {
                            "outlinewidth": 0,
                            "ticks": ""
                          }
                        },
                        "type": "scatterpolargl"
                      }
                    ],
                    "scatterternary": [
                      {
                        "marker": {
                          "colorbar": {
                            "outlinewidth": 0,
                            "ticks": ""
                          }
                        },
                        "type": "scatterternary"
                      }
                    ],
                    "surface": [
                      {
                        "colorbar": {
                          "outlinewidth": 0,
                          "ticks": ""
                        },
                        "colorscale": [
                          [
                            0,
                            "#0d0887"
                          ],
                          [
                            0.1111111111111111,
                            "#46039f"
                          ],
                          [
                            0.2222222222222222,
                            "#7201a8"
                          ],
                          [
                            0.3333333333333333,
                            "#9c179e"
                          ],
                          [
                            0.4444444444444444,
                            "#bd3786"
                          ],
                          [
                            0.5555555555555556,
                            "#d8576b"
                          ],
                          [
                            0.6666666666666666,
                            "#ed7953"
                          ],
                          [
                            0.7777777777777778,
                            "#fb9f3a"
                          ],
                          [
                            0.8888888888888888,
                            "#fdca26"
                          ],
                          [
                            1,
                            "#f0f921"
                          ]
                        ],
                        "type": "surface"
                      }
                    ],
                    "table": [
                      {
                        "cells": {
                          "fill": {
                            "color": "#EBF0F8"
                          },
                          "line": {
                            "color": "white"
                          }
                        },
                        "header": {
                          "fill": {
                            "color": "#C8D4E3"
                          },
                          "line": {
                            "color": "white"
                          }
                        },
                        "type": "table"
                      }
                    ]
                  },
                  "layout": {
                    "annotationdefaults": {
                      "arrowcolor": "#2a3f5f",
                      "arrowhead": 0,
                      "arrowwidth": 1
                    },
                    "autotypenumbers": "strict",
                    "coloraxis": {
                      "colorbar": {
                        "outlinewidth": 0,
                        "ticks": ""
                      }
                    },
                    "colorscale": {
                      "diverging": [
                        [
                          0,
                          "#8e0152"
                        ],
                        [
                          0.1,
                          "#c51b7d"
                        ],
                        [
                          0.2,
                          "#de77ae"
                        ],
                        [
                          0.3,
                          "#f1b6da"
                        ],
                        [
                          0.4,
                          "#fde0ef"
                        ],
                        [
                          0.5,
                          "#f7f7f7"
                        ],
                        [
                          0.6,
                          "#e6f5d0"
                        ],
                        [
                          0.7,
                          "#b8e186"
                        ],
                        [
                          0.8,
                          "#7fbc41"
                        ],
                        [
                          0.9,
                          "#4d9221"
                        ],
                        [
                          1,
                          "#276419"
                        ]
                      ],
                      "sequential": [
                        [
                          0,
                          "#0d0887"
                        ],
                        [
                          0.1111111111111111,
                          "#46039f"
                        ],
                        [
                          0.2222222222222222,
                          "#7201a8"
                        ],
                        [
                          0.3333333333333333,
                          "#9c179e"
                        ],
                        [
                          0.4444444444444444,
                          "#bd3786"
                        ],
                        [
                          0.5555555555555556,
                          "#d8576b"
                        ],
                        [
                          0.6666666666666666,
                          "#ed7953"
                        ],
                        [
                          0.7777777777777778,
                          "#fb9f3a"
                        ],
                        [
                          0.8888888888888888,
                          "#fdca26"
                        ],
                        [
                          1,
                          "#f0f921"
                        ]
                      ],
                      "sequentialminus": [
                        [
                          0,
                          "#0d0887"
                        ],
                        [
                          0.1111111111111111,
                          "#46039f"
                        ],
                        [
                          0.2222222222222222,
                          "#7201a8"
                        ],
                        [
                          0.3333333333333333,
                          "#9c179e"
                        ],
                        [
                          0.4444444444444444,
                          "#bd3786"
                        ],
                        [
                          0.5555555555555556,
                          "#d8576b"
                        ],
                        [
                          0.6666666666666666,
                          "#ed7953"
                        ],
                        [
                          0.7777777777777778,
                          "#fb9f3a"
                        ],
                        [
                          0.8888888888888888,
                          "#fdca26"
                        ],
                        [
                          1,
                          "#f0f921"
                        ]
                      ]
                    },
                    "colorway": [
                      "#636efa",
                      "#EF553B",
                      "#00cc96",
                      "#ab63fa",
                      "#FFA15A",
                      "#19d3f3",
                      "#FF6692",
                      "#B6E880",
                      "#FF97FF",
                      "#FECB52"
                    ],
                    "font": {
                      "color": "#2a3f5f"
                    },
                    "geo": {
                      "bgcolor": "white",
                      "lakecolor": "white",
                      "landcolor": "#E5ECF6",
                      "showlakes": true,
                      "showland": true,
                      "subunitcolor": "white"
                    },
                    "hoverlabel": {
                      "align": "left"
                    },
                    "hovermode": "closest",
                    "mapbox": {
                      "style": "light"
                    },
                    "paper_bgcolor": "white",
                    "plot_bgcolor": "#E5ECF6",
                    "polar": {
                      "angularaxis": {
                        "gridcolor": "white",
                        "linecolor": "white",
                        "ticks": ""
                      },
                      "bgcolor": "#E5ECF6",
                      "radialaxis": {
                        "gridcolor": "white",
                        "linecolor": "white",
                        "ticks": ""
                      }
                    },
                    "scene": {
                      "xaxis": {
                        "backgroundcolor": "#E5ECF6",
                        "gridcolor": "white",
                        "gridwidth": 2,
                        "linecolor": "white",
                        "showbackground": true,
                        "ticks": "",
                        "zerolinecolor": "white"
                      },
                      "yaxis": {
                        "backgroundcolor": "#E5ECF6",
                        "gridcolor": "white",
                        "gridwidth": 2,
                        "linecolor": "white",
                        "showbackground": true,
                        "ticks": "",
                        "zerolinecolor": "white"
                      },
                      "zaxis": {
                        "backgroundcolor": "#E5ECF6",
                        "gridcolor": "white",
                        "gridwidth": 2,
                        "linecolor": "white",
                        "showbackground": true,
                        "ticks": "",
                        "zerolinecolor": "white"
                      }
                    },
                    "shapedefaults": {
                      "line": {
                        "color": "#2a3f5f"
                      }
                    },
                    "ternary": {
                      "aaxis": {
                        "gridcolor": "white",
                        "linecolor": "white",
                        "ticks": ""
                      },
                      "baxis": {
                        "gridcolor": "white",
                        "linecolor": "white",
                        "ticks": ""
                      },
                      "bgcolor": "#E5ECF6",
                      "caxis": {
                        "gridcolor": "white",
                        "linecolor": "white",
                        "ticks": ""
                      }
                    },
                    "title": {
                      "x": 0.05
                    },
                    "xaxis": {
                      "automargin": true,
                      "gridcolor": "white",
                      "linecolor": "white",
                      "ticks": "",
                      "title": {
                        "standoff": 15
                      },
                      "zerolinecolor": "white",
                      "zerolinewidth": 2
                    },
                    "yaxis": {
                      "automargin": true,
                      "gridcolor": "white",
                      "linecolor": "white",
                      "ticks": "",
                      "title": {
                        "standoff": 15
                      },
                      "zerolinecolor": "white",
                      "zerolinewidth": 2
                    }
                  }
                }
              }
            }
          },
          "metadata": {},
          "output_type": "display_data"
        }
      ],
      "source": [
        "# Heatmap of pearson correlation matrix\n",
        "\n",
        "data = [go.Heatmap( z=pearson_corr.values, x=list(pearson_corr.columns), y=list(pearson_corr.index), colorscale='Portland')]\n",
        "iplot(data, filename='pandas-heatmap')\n",
        "plt.show()"
      ]
    },
    {
      "cell_type": "code",
      "execution_count": 24,
      "metadata": {},
      "outputs": [
        {
          "name": "stdout",
          "output_type": "stream",
          "text": [
            "{'dslf_fa13': [], 'fa_atr': ['fa_dun', 'fa_elec', 'fa_intra_rep', 'fa_intra_sol_xover4', 'fa_sol', 'lk_ball_wtd'], 'fa_dun': ['fa_dun', 'fa_intra_rep', 'fa_intra_sol_xover4', 'fa_sol'], 'fa_elec': ['fa_elec', 'fa_intra_rep', 'fa_intra_sol_xover4', 'fa_sol'], 'fa_intra_rep': ['fa_intra_rep', 'fa_intra_rep', 'fa_intra_rep', 'fa_intra_sol_xover4', 'fa_sol'], 'fa_intra_sol_xover4': ['fa_intra_sol_xover4', 'fa_intra_sol_xover4', 'fa_intra_sol_xover4', 'fa_intra_sol_xover4', 'fa_intra_sol_xover4', 'fa_intra_sol_xover4'], 'fa_rep': [], 'fa_sol': ['fa_sol', 'fa_sol', 'fa_sol', 'fa_sol', 'fa_intra_sol_xover4', 'fa_sol'], 'hbond_bb_sc': [], 'hbond_lr_bb': [], 'hbond_sc': [], 'hbond_sr_bb': [], 'lk_ball_wtd': ['lk_ball_wtd', 'fa_intra_sol_xover4', 'fa_sol'], 'omega': [], 'p_aa_pp': [], 'pro_close': [], 'rama_prepro': [], 'ref': [], 'time': [], 'solubility': []}\n"
          ]
        }
      ],
      "source": [
        "def high_corr_removal(og_df):\n",
        "    dict_removables={}\n",
        "    df = og_df.copy()\n",
        "    for column in df.columns:\n",
        "        dict_removables[column] = []\n",
        "        for index in df.index.values:\n",
        "            if (column != index and index != 'solubility' and column != 'solubility'):\n",
        "                if df[column][index] > 0.95 or df[column][index] < -0.95:\n",
        "                    n_df = df.copy()\n",
        "                    if df['solubility'][column] > df['solubility'][index]:\n",
        "                        feature_to_remove = index\n",
        "                    else:\n",
        "                        feature_to_remove = column\n",
        "                    \n",
        "                    dict_removables[column].append(feature_to_remove)\n",
        "    \n",
        "    return dict_removables\n",
        "\n",
        "\n",
        "exp = high_corr_removal(pearson_corr)\n",
        "\n",
        "print(exp)"
      ]
    },
    {
      "cell_type": "code",
      "execution_count": 25,
      "metadata": {},
      "outputs": [
        {
          "data": {
            "application/vnd.plotly.v1+json": {
              "config": {
                "linkText": "Export to plot.ly",
                "plotlyServerURL": "https://plot.ly",
                "showLink": false
              },
              "data": [
                {
                  "colorscale": [
                    [
                      0,
                      "rgb(12,51,131)"
                    ],
                    [
                      0.25,
                      "rgb(10,136,186)"
                    ],
                    [
                      0.5,
                      "rgb(242,211,56)"
                    ],
                    [
                      0.75,
                      "rgb(242,143,56)"
                    ],
                    [
                      1,
                      "rgb(217,30,30)"
                    ]
                  ],
                  "type": "heatmap",
                  "x": [
                    "dslf_fa13",
                    "fa_atr",
                    "fa_rep",
                    "hbond_bb_sc",
                    "hbond_lr_bb",
                    "hbond_sc",
                    "hbond_sr_bb",
                    "omega",
                    "p_aa_pp",
                    "pro_close",
                    "rama_prepro",
                    "ref",
                    "time",
                    "solubility"
                  ],
                  "y": [
                    "dslf_fa13",
                    "fa_atr",
                    "fa_rep",
                    "hbond_bb_sc",
                    "hbond_lr_bb",
                    "hbond_sc",
                    "hbond_sr_bb",
                    "omega",
                    "p_aa_pp",
                    "pro_close",
                    "rama_prepro",
                    "ref",
                    "time",
                    "solubility"
                  ],
                  "z": [
                    [
                      1,
                      0.01944806228030769,
                      -0.008780773828455827,
                      0.035241516533508384,
                      -0.01140756232436502,
                      0.021157977857883932,
                      0.03278847662540978,
                      0.03591358021021643,
                      0.015576208765107928,
                      0.021936248825173817,
                      0.049381698756531776,
                      0.03773897923528493,
                      0.019137382681850362,
                      0.005340118043756782
                    ],
                    [
                      0.01944806228030769,
                      1,
                      -0.9281755255697266,
                      0.9305872805671225,
                      0.7203999873620557,
                      0.9145946852141936,
                      0.897236423458016,
                      -0.5682234230622393,
                      0.9316610981773534,
                      -0.44478831846577704,
                      -0.2927211084944855,
                      -0.81483786012273,
                      -0.12864606777219592,
                      0.36624408579458956
                    ],
                    [
                      -0.008780773828455827,
                      -0.9281755255697266,
                      1,
                      -0.8507306626955586,
                      -0.687044746874535,
                      -0.8074802467452107,
                      -0.7945709839410632,
                      0.5198753581923403,
                      -0.8607886025624448,
                      0.5314389367145395,
                      0.37961106662176197,
                      0.7506639027437985,
                      0.10053058466209033,
                      -0.3059488908459071
                    ],
                    [
                      0.035241516533508384,
                      0.9305872805671225,
                      -0.8507306626955586,
                      1,
                      0.7143279226567177,
                      0.8894412574998767,
                      0.7714694247528986,
                      -0.49901081668955277,
                      0.9081352927388013,
                      -0.38845939476114044,
                      -0.20757607472216816,
                      -0.7499346907012824,
                      -0.11206824367651237,
                      0.3752727404807056
                    ],
                    [
                      -0.01140756232436502,
                      0.7203999873620557,
                      -0.687044746874535,
                      0.7143279226567177,
                      1,
                      0.6977791786172686,
                      0.3866463959137402,
                      -0.448233389392689,
                      0.8053812023357382,
                      -0.3590816799825951,
                      -0.31048540944728403,
                      -0.6376943050365547,
                      -0.03707609553173986,
                      0.19721471632939067
                    ],
                    [
                      0.021157977857883932,
                      0.9145946852141936,
                      -0.8074802467452107,
                      0.8894412574998767,
                      0.6977791786172686,
                      1,
                      0.7888730322081553,
                      -0.5228888077542417,
                      0.8497167105144597,
                      -0.36233349944857046,
                      -0.25139975970051404,
                      -0.6585801805110841,
                      -0.12305559794085133,
                      0.3573719511201878
                    ],
                    [
                      0.03278847662540978,
                      0.897236423458016,
                      -0.7945709839410632,
                      0.7714694247528986,
                      0.3866463959137402,
                      0.7888730322081553,
                      1,
                      -0.49449036032610166,
                      0.7502507322758264,
                      -0.3430976681329902,
                      -0.197993762603312,
                      -0.7367905921895707,
                      -0.1377861575959234,
                      0.3531635436793574
                    ],
                    [
                      0.03591358021021643,
                      -0.5682234230622393,
                      0.5198753581923403,
                      -0.49901081668955277,
                      -0.448233389392689,
                      -0.5228888077542417,
                      -0.49449036032610166,
                      1,
                      -0.5257141042730972,
                      0.5304894189290376,
                      0.3459670981807173,
                      0.4981385932912651,
                      0.05838654183807707,
                      -0.21523912717220367
                    ],
                    [
                      0.015576208765107928,
                      0.9316610981773534,
                      -0.8607886025624448,
                      0.9081352927388013,
                      0.8053812023357382,
                      0.8497167105144597,
                      0.7502507322758264,
                      -0.5257141042730972,
                      1,
                      -0.41764437813387256,
                      -0.19372206246786575,
                      -0.8130275723511112,
                      -0.09268851084516423,
                      0.32148128023093747
                    ],
                    [
                      0.021936248825173817,
                      -0.44478831846577704,
                      0.5314389367145395,
                      -0.38845939476114044,
                      -0.3590816799825951,
                      -0.36233349944857046,
                      -0.3430976681329902,
                      0.5304894189290376,
                      -0.41764437813387256,
                      1,
                      0.3798347905257133,
                      0.38081287623799615,
                      0.009628869949804834,
                      -0.13206549637386406
                    ],
                    [
                      0.049381698756531776,
                      -0.2927211084944855,
                      0.37961106662176197,
                      -0.20757607472216816,
                      -0.31048540944728403,
                      -0.25139975970051404,
                      -0.197993762603312,
                      0.3459670981807173,
                      -0.19372206246786575,
                      0.3798347905257133,
                      1,
                      0.2871664053719346,
                      -0.011878474522201931,
                      -0.09973935461702318
                    ],
                    [
                      0.03773897923528493,
                      -0.81483786012273,
                      0.7506639027437985,
                      -0.7499346907012824,
                      -0.6376943050365547,
                      -0.6585801805110841,
                      -0.7367905921895707,
                      0.4981385932912651,
                      -0.8130275723511112,
                      0.38081287623799615,
                      0.2871664053719346,
                      1,
                      0.04671937070872882,
                      -0.3189912377162051
                    ],
                    [
                      0.019137382681850362,
                      -0.12864606777219592,
                      0.10053058466209033,
                      -0.11206824367651237,
                      -0.03707609553173986,
                      -0.12305559794085133,
                      -0.1377861575959234,
                      0.05838654183807707,
                      -0.09268851084516423,
                      0.009628869949804834,
                      -0.011878474522201931,
                      0.04671937070872882,
                      1,
                      -0.03237393648297469
                    ],
                    [
                      0.005340118043756782,
                      0.36624408579458956,
                      -0.3059488908459071,
                      0.3752727404807056,
                      0.19721471632939067,
                      0.3573719511201878,
                      0.3531635436793574,
                      -0.21523912717220367,
                      0.32148128023093747,
                      -0.13206549637386406,
                      -0.09973935461702318,
                      -0.3189912377162051,
                      -0.03237393648297469,
                      1
                    ]
                  ]
                }
              ],
              "layout": {
                "template": {
                  "data": {
                    "bar": [
                      {
                        "error_x": {
                          "color": "#2a3f5f"
                        },
                        "error_y": {
                          "color": "#2a3f5f"
                        },
                        "marker": {
                          "line": {
                            "color": "#E5ECF6",
                            "width": 0.5
                          },
                          "pattern": {
                            "fillmode": "overlay",
                            "size": 10,
                            "solidity": 0.2
                          }
                        },
                        "type": "bar"
                      }
                    ],
                    "barpolar": [
                      {
                        "marker": {
                          "line": {
                            "color": "#E5ECF6",
                            "width": 0.5
                          },
                          "pattern": {
                            "fillmode": "overlay",
                            "size": 10,
                            "solidity": 0.2
                          }
                        },
                        "type": "barpolar"
                      }
                    ],
                    "carpet": [
                      {
                        "aaxis": {
                          "endlinecolor": "#2a3f5f",
                          "gridcolor": "white",
                          "linecolor": "white",
                          "minorgridcolor": "white",
                          "startlinecolor": "#2a3f5f"
                        },
                        "baxis": {
                          "endlinecolor": "#2a3f5f",
                          "gridcolor": "white",
                          "linecolor": "white",
                          "minorgridcolor": "white",
                          "startlinecolor": "#2a3f5f"
                        },
                        "type": "carpet"
                      }
                    ],
                    "choropleth": [
                      {
                        "colorbar": {
                          "outlinewidth": 0,
                          "ticks": ""
                        },
                        "type": "choropleth"
                      }
                    ],
                    "contour": [
                      {
                        "colorbar": {
                          "outlinewidth": 0,
                          "ticks": ""
                        },
                        "colorscale": [
                          [
                            0,
                            "#0d0887"
                          ],
                          [
                            0.1111111111111111,
                            "#46039f"
                          ],
                          [
                            0.2222222222222222,
                            "#7201a8"
                          ],
                          [
                            0.3333333333333333,
                            "#9c179e"
                          ],
                          [
                            0.4444444444444444,
                            "#bd3786"
                          ],
                          [
                            0.5555555555555556,
                            "#d8576b"
                          ],
                          [
                            0.6666666666666666,
                            "#ed7953"
                          ],
                          [
                            0.7777777777777778,
                            "#fb9f3a"
                          ],
                          [
                            0.8888888888888888,
                            "#fdca26"
                          ],
                          [
                            1,
                            "#f0f921"
                          ]
                        ],
                        "type": "contour"
                      }
                    ],
                    "contourcarpet": [
                      {
                        "colorbar": {
                          "outlinewidth": 0,
                          "ticks": ""
                        },
                        "type": "contourcarpet"
                      }
                    ],
                    "heatmap": [
                      {
                        "colorbar": {
                          "outlinewidth": 0,
                          "ticks": ""
                        },
                        "colorscale": [
                          [
                            0,
                            "#0d0887"
                          ],
                          [
                            0.1111111111111111,
                            "#46039f"
                          ],
                          [
                            0.2222222222222222,
                            "#7201a8"
                          ],
                          [
                            0.3333333333333333,
                            "#9c179e"
                          ],
                          [
                            0.4444444444444444,
                            "#bd3786"
                          ],
                          [
                            0.5555555555555556,
                            "#d8576b"
                          ],
                          [
                            0.6666666666666666,
                            "#ed7953"
                          ],
                          [
                            0.7777777777777778,
                            "#fb9f3a"
                          ],
                          [
                            0.8888888888888888,
                            "#fdca26"
                          ],
                          [
                            1,
                            "#f0f921"
                          ]
                        ],
                        "type": "heatmap"
                      }
                    ],
                    "heatmapgl": [
                      {
                        "colorbar": {
                          "outlinewidth": 0,
                          "ticks": ""
                        },
                        "colorscale": [
                          [
                            0,
                            "#0d0887"
                          ],
                          [
                            0.1111111111111111,
                            "#46039f"
                          ],
                          [
                            0.2222222222222222,
                            "#7201a8"
                          ],
                          [
                            0.3333333333333333,
                            "#9c179e"
                          ],
                          [
                            0.4444444444444444,
                            "#bd3786"
                          ],
                          [
                            0.5555555555555556,
                            "#d8576b"
                          ],
                          [
                            0.6666666666666666,
                            "#ed7953"
                          ],
                          [
                            0.7777777777777778,
                            "#fb9f3a"
                          ],
                          [
                            0.8888888888888888,
                            "#fdca26"
                          ],
                          [
                            1,
                            "#f0f921"
                          ]
                        ],
                        "type": "heatmapgl"
                      }
                    ],
                    "histogram": [
                      {
                        "marker": {
                          "pattern": {
                            "fillmode": "overlay",
                            "size": 10,
                            "solidity": 0.2
                          }
                        },
                        "type": "histogram"
                      }
                    ],
                    "histogram2d": [
                      {
                        "colorbar": {
                          "outlinewidth": 0,
                          "ticks": ""
                        },
                        "colorscale": [
                          [
                            0,
                            "#0d0887"
                          ],
                          [
                            0.1111111111111111,
                            "#46039f"
                          ],
                          [
                            0.2222222222222222,
                            "#7201a8"
                          ],
                          [
                            0.3333333333333333,
                            "#9c179e"
                          ],
                          [
                            0.4444444444444444,
                            "#bd3786"
                          ],
                          [
                            0.5555555555555556,
                            "#d8576b"
                          ],
                          [
                            0.6666666666666666,
                            "#ed7953"
                          ],
                          [
                            0.7777777777777778,
                            "#fb9f3a"
                          ],
                          [
                            0.8888888888888888,
                            "#fdca26"
                          ],
                          [
                            1,
                            "#f0f921"
                          ]
                        ],
                        "type": "histogram2d"
                      }
                    ],
                    "histogram2dcontour": [
                      {
                        "colorbar": {
                          "outlinewidth": 0,
                          "ticks": ""
                        },
                        "colorscale": [
                          [
                            0,
                            "#0d0887"
                          ],
                          [
                            0.1111111111111111,
                            "#46039f"
                          ],
                          [
                            0.2222222222222222,
                            "#7201a8"
                          ],
                          [
                            0.3333333333333333,
                            "#9c179e"
                          ],
                          [
                            0.4444444444444444,
                            "#bd3786"
                          ],
                          [
                            0.5555555555555556,
                            "#d8576b"
                          ],
                          [
                            0.6666666666666666,
                            "#ed7953"
                          ],
                          [
                            0.7777777777777778,
                            "#fb9f3a"
                          ],
                          [
                            0.8888888888888888,
                            "#fdca26"
                          ],
                          [
                            1,
                            "#f0f921"
                          ]
                        ],
                        "type": "histogram2dcontour"
                      }
                    ],
                    "mesh3d": [
                      {
                        "colorbar": {
                          "outlinewidth": 0,
                          "ticks": ""
                        },
                        "type": "mesh3d"
                      }
                    ],
                    "parcoords": [
                      {
                        "line": {
                          "colorbar": {
                            "outlinewidth": 0,
                            "ticks": ""
                          }
                        },
                        "type": "parcoords"
                      }
                    ],
                    "pie": [
                      {
                        "automargin": true,
                        "type": "pie"
                      }
                    ],
                    "scatter": [
                      {
                        "fillpattern": {
                          "fillmode": "overlay",
                          "size": 10,
                          "solidity": 0.2
                        },
                        "type": "scatter"
                      }
                    ],
                    "scatter3d": [
                      {
                        "line": {
                          "colorbar": {
                            "outlinewidth": 0,
                            "ticks": ""
                          }
                        },
                        "marker": {
                          "colorbar": {
                            "outlinewidth": 0,
                            "ticks": ""
                          }
                        },
                        "type": "scatter3d"
                      }
                    ],
                    "scattercarpet": [
                      {
                        "marker": {
                          "colorbar": {
                            "outlinewidth": 0,
                            "ticks": ""
                          }
                        },
                        "type": "scattercarpet"
                      }
                    ],
                    "scattergeo": [
                      {
                        "marker": {
                          "colorbar": {
                            "outlinewidth": 0,
                            "ticks": ""
                          }
                        },
                        "type": "scattergeo"
                      }
                    ],
                    "scattergl": [
                      {
                        "marker": {
                          "colorbar": {
                            "outlinewidth": 0,
                            "ticks": ""
                          }
                        },
                        "type": "scattergl"
                      }
                    ],
                    "scattermapbox": [
                      {
                        "marker": {
                          "colorbar": {
                            "outlinewidth": 0,
                            "ticks": ""
                          }
                        },
                        "type": "scattermapbox"
                      }
                    ],
                    "scatterpolar": [
                      {
                        "marker": {
                          "colorbar": {
                            "outlinewidth": 0,
                            "ticks": ""
                          }
                        },
                        "type": "scatterpolar"
                      }
                    ],
                    "scatterpolargl": [
                      {
                        "marker": {
                          "colorbar": {
                            "outlinewidth": 0,
                            "ticks": ""
                          }
                        },
                        "type": "scatterpolargl"
                      }
                    ],
                    "scatterternary": [
                      {
                        "marker": {
                          "colorbar": {
                            "outlinewidth": 0,
                            "ticks": ""
                          }
                        },
                        "type": "scatterternary"
                      }
                    ],
                    "surface": [
                      {
                        "colorbar": {
                          "outlinewidth": 0,
                          "ticks": ""
                        },
                        "colorscale": [
                          [
                            0,
                            "#0d0887"
                          ],
                          [
                            0.1111111111111111,
                            "#46039f"
                          ],
                          [
                            0.2222222222222222,
                            "#7201a8"
                          ],
                          [
                            0.3333333333333333,
                            "#9c179e"
                          ],
                          [
                            0.4444444444444444,
                            "#bd3786"
                          ],
                          [
                            0.5555555555555556,
                            "#d8576b"
                          ],
                          [
                            0.6666666666666666,
                            "#ed7953"
                          ],
                          [
                            0.7777777777777778,
                            "#fb9f3a"
                          ],
                          [
                            0.8888888888888888,
                            "#fdca26"
                          ],
                          [
                            1,
                            "#f0f921"
                          ]
                        ],
                        "type": "surface"
                      }
                    ],
                    "table": [
                      {
                        "cells": {
                          "fill": {
                            "color": "#EBF0F8"
                          },
                          "line": {
                            "color": "white"
                          }
                        },
                        "header": {
                          "fill": {
                            "color": "#C8D4E3"
                          },
                          "line": {
                            "color": "white"
                          }
                        },
                        "type": "table"
                      }
                    ]
                  },
                  "layout": {
                    "annotationdefaults": {
                      "arrowcolor": "#2a3f5f",
                      "arrowhead": 0,
                      "arrowwidth": 1
                    },
                    "autotypenumbers": "strict",
                    "coloraxis": {
                      "colorbar": {
                        "outlinewidth": 0,
                        "ticks": ""
                      }
                    },
                    "colorscale": {
                      "diverging": [
                        [
                          0,
                          "#8e0152"
                        ],
                        [
                          0.1,
                          "#c51b7d"
                        ],
                        [
                          0.2,
                          "#de77ae"
                        ],
                        [
                          0.3,
                          "#f1b6da"
                        ],
                        [
                          0.4,
                          "#fde0ef"
                        ],
                        [
                          0.5,
                          "#f7f7f7"
                        ],
                        [
                          0.6,
                          "#e6f5d0"
                        ],
                        [
                          0.7,
                          "#b8e186"
                        ],
                        [
                          0.8,
                          "#7fbc41"
                        ],
                        [
                          0.9,
                          "#4d9221"
                        ],
                        [
                          1,
                          "#276419"
                        ]
                      ],
                      "sequential": [
                        [
                          0,
                          "#0d0887"
                        ],
                        [
                          0.1111111111111111,
                          "#46039f"
                        ],
                        [
                          0.2222222222222222,
                          "#7201a8"
                        ],
                        [
                          0.3333333333333333,
                          "#9c179e"
                        ],
                        [
                          0.4444444444444444,
                          "#bd3786"
                        ],
                        [
                          0.5555555555555556,
                          "#d8576b"
                        ],
                        [
                          0.6666666666666666,
                          "#ed7953"
                        ],
                        [
                          0.7777777777777778,
                          "#fb9f3a"
                        ],
                        [
                          0.8888888888888888,
                          "#fdca26"
                        ],
                        [
                          1,
                          "#f0f921"
                        ]
                      ],
                      "sequentialminus": [
                        [
                          0,
                          "#0d0887"
                        ],
                        [
                          0.1111111111111111,
                          "#46039f"
                        ],
                        [
                          0.2222222222222222,
                          "#7201a8"
                        ],
                        [
                          0.3333333333333333,
                          "#9c179e"
                        ],
                        [
                          0.4444444444444444,
                          "#bd3786"
                        ],
                        [
                          0.5555555555555556,
                          "#d8576b"
                        ],
                        [
                          0.6666666666666666,
                          "#ed7953"
                        ],
                        [
                          0.7777777777777778,
                          "#fb9f3a"
                        ],
                        [
                          0.8888888888888888,
                          "#fdca26"
                        ],
                        [
                          1,
                          "#f0f921"
                        ]
                      ]
                    },
                    "colorway": [
                      "#636efa",
                      "#EF553B",
                      "#00cc96",
                      "#ab63fa",
                      "#FFA15A",
                      "#19d3f3",
                      "#FF6692",
                      "#B6E880",
                      "#FF97FF",
                      "#FECB52"
                    ],
                    "font": {
                      "color": "#2a3f5f"
                    },
                    "geo": {
                      "bgcolor": "white",
                      "lakecolor": "white",
                      "landcolor": "#E5ECF6",
                      "showlakes": true,
                      "showland": true,
                      "subunitcolor": "white"
                    },
                    "hoverlabel": {
                      "align": "left"
                    },
                    "hovermode": "closest",
                    "mapbox": {
                      "style": "light"
                    },
                    "paper_bgcolor": "white",
                    "plot_bgcolor": "#E5ECF6",
                    "polar": {
                      "angularaxis": {
                        "gridcolor": "white",
                        "linecolor": "white",
                        "ticks": ""
                      },
                      "bgcolor": "#E5ECF6",
                      "radialaxis": {
                        "gridcolor": "white",
                        "linecolor": "white",
                        "ticks": ""
                      }
                    },
                    "scene": {
                      "xaxis": {
                        "backgroundcolor": "#E5ECF6",
                        "gridcolor": "white",
                        "gridwidth": 2,
                        "linecolor": "white",
                        "showbackground": true,
                        "ticks": "",
                        "zerolinecolor": "white"
                      },
                      "yaxis": {
                        "backgroundcolor": "#E5ECF6",
                        "gridcolor": "white",
                        "gridwidth": 2,
                        "linecolor": "white",
                        "showbackground": true,
                        "ticks": "",
                        "zerolinecolor": "white"
                      },
                      "zaxis": {
                        "backgroundcolor": "#E5ECF6",
                        "gridcolor": "white",
                        "gridwidth": 2,
                        "linecolor": "white",
                        "showbackground": true,
                        "ticks": "",
                        "zerolinecolor": "white"
                      }
                    },
                    "shapedefaults": {
                      "line": {
                        "color": "#2a3f5f"
                      }
                    },
                    "ternary": {
                      "aaxis": {
                        "gridcolor": "white",
                        "linecolor": "white",
                        "ticks": ""
                      },
                      "baxis": {
                        "gridcolor": "white",
                        "linecolor": "white",
                        "ticks": ""
                      },
                      "bgcolor": "#E5ECF6",
                      "caxis": {
                        "gridcolor": "white",
                        "linecolor": "white",
                        "ticks": ""
                      }
                    },
                    "title": {
                      "x": 0.05
                    },
                    "xaxis": {
                      "automargin": true,
                      "gridcolor": "white",
                      "linecolor": "white",
                      "ticks": "",
                      "title": {
                        "standoff": 15
                      },
                      "zerolinecolor": "white",
                      "zerolinewidth": 2
                    },
                    "yaxis": {
                      "automargin": true,
                      "gridcolor": "white",
                      "linecolor": "white",
                      "ticks": "",
                      "title": {
                        "standoff": 15
                      },
                      "zerolinecolor": "white",
                      "zerolinewidth": 2
                    }
                  }
                }
              }
            }
          },
          "metadata": {},
          "output_type": "display_data"
        }
      ],
      "source": [
        "# Remove columns for high correlation with fa_atr\n",
        "# fa_dun, fa_elec, fa_intra_rep, fa_intra_sol_xover4, fa_sol, lk_ball_wtd\n",
        "\n",
        "df_del_high_corr = df_solubility_standardized.copy()\n",
        "\n",
        "df_del_high_corr.drop(columns=[\n",
        "    'fa_dun', \n",
        "    'fa_elec', \n",
        "    'fa_intra_rep',\n",
        "    'fa_intra_sol_xover4',\n",
        "    'fa_sol',\n",
        "    'lk_ball_wtd'\n",
        "    ], \n",
        "    axis=1, inplace=True)\n",
        "\n",
        "pearson_corr_2 = df_del_high_corr.corr()\n",
        "\n",
        "data = [go.Heatmap( z=pearson_corr_2.values, x=list(pearson_corr_2.columns), y=list(pearson_corr_2.index), colorscale='Portland')]\n",
        "iplot(data, filename='pandas-heatmap')\n",
        "plt.show()"
      ]
    },
    {
      "cell_type": "markdown",
      "metadata": {},
      "source": [
        "# Anomaly Detection (outliers)\n",
        "\n",
        "Two models were used:\n",
        "* Isolation Forest;\n",
        "* Local Outlier Factor (LOF)."
      ]
    },
    {
      "cell_type": "markdown",
      "metadata": {},
      "source": [
        "## Isolation Forest (IF)\n",
        "\n",
        "Some links to better understand the topic:\n",
        "* https://scikit-learn.org/stable/modules/generated/sklearn.ensemble.IsolationForest.html"
      ]
    },
    {
      "cell_type": "code",
      "execution_count": 26,
      "metadata": {},
      "outputs": [
        {
          "name": "stderr",
          "output_type": "stream",
          "text": [
            "/Users/renan/Library/Python/3.7/lib/python/site-packages/sklearn/base.py:451: UserWarning:\n",
            "\n",
            "X does not have valid feature names, but IsolationForest was fitted with feature names\n",
            "\n"
          ]
        },
        {
          "data": {
            "text/plain": [
              "IsolationForest(contamination=0.1, random_state=42)"
            ]
          },
          "execution_count": 26,
          "metadata": {},
          "output_type": "execute_result"
        }
      ],
      "source": [
        "model=IsolationForest(n_estimators=100,max_samples='auto',contamination=float(0.1),random_state=42)\n",
        "df = df_solubility_standardized.copy().drop(columns=['solubility'])\n",
        "model.fit(df)"
      ]
    },
    {
      "cell_type": "code",
      "execution_count": 27,
      "metadata": {},
      "outputs": [
        {
          "data": {
            "text/html": [
              "<div>\n",
              "<style scoped>\n",
              "    .dataframe tbody tr th:only-of-type {\n",
              "        vertical-align: middle;\n",
              "    }\n",
              "\n",
              "    .dataframe tbody tr th {\n",
              "        vertical-align: top;\n",
              "    }\n",
              "\n",
              "    .dataframe thead th {\n",
              "        text-align: right;\n",
              "    }\n",
              "</style>\n",
              "<table border=\"1\" class=\"dataframe\">\n",
              "  <thead>\n",
              "    <tr style=\"text-align: right;\">\n",
              "      <th></th>\n",
              "      <th>IF_scores</th>\n",
              "    </tr>\n",
              "  </thead>\n",
              "  <tbody>\n",
              "    <tr>\n",
              "      <th>139</th>\n",
              "      <td>-0.251187</td>\n",
              "    </tr>\n",
              "    <tr>\n",
              "      <th>109</th>\n",
              "      <td>-0.186799</td>\n",
              "    </tr>\n",
              "    <tr>\n",
              "      <th>345</th>\n",
              "      <td>-0.185687</td>\n",
              "    </tr>\n",
              "    <tr>\n",
              "      <th>269</th>\n",
              "      <td>-0.179959</td>\n",
              "    </tr>\n",
              "    <tr>\n",
              "      <th>323</th>\n",
              "      <td>-0.177065</td>\n",
              "    </tr>\n",
              "    <tr>\n",
              "      <th>317</th>\n",
              "      <td>-0.172567</td>\n",
              "    </tr>\n",
              "    <tr>\n",
              "      <th>262</th>\n",
              "      <td>-0.169063</td>\n",
              "    </tr>\n",
              "    <tr>\n",
              "      <th>225</th>\n",
              "      <td>-0.168309</td>\n",
              "    </tr>\n",
              "    <tr>\n",
              "      <th>237</th>\n",
              "      <td>-0.164309</td>\n",
              "    </tr>\n",
              "    <tr>\n",
              "      <th>266</th>\n",
              "      <td>-0.142577</td>\n",
              "    </tr>\n",
              "    <tr>\n",
              "      <th>144</th>\n",
              "      <td>-0.124169</td>\n",
              "    </tr>\n",
              "    <tr>\n",
              "      <th>276</th>\n",
              "      <td>-0.123463</td>\n",
              "    </tr>\n",
              "    <tr>\n",
              "      <th>326</th>\n",
              "      <td>-0.094625</td>\n",
              "    </tr>\n",
              "    <tr>\n",
              "      <th>297</th>\n",
              "      <td>-0.086723</td>\n",
              "    </tr>\n",
              "    <tr>\n",
              "      <th>15</th>\n",
              "      <td>-0.083054</td>\n",
              "    </tr>\n",
              "    <tr>\n",
              "      <th>146</th>\n",
              "      <td>-0.081812</td>\n",
              "    </tr>\n",
              "    <tr>\n",
              "      <th>396</th>\n",
              "      <td>-0.081082</td>\n",
              "    </tr>\n",
              "    <tr>\n",
              "      <th>197</th>\n",
              "      <td>-0.065422</td>\n",
              "    </tr>\n",
              "    <tr>\n",
              "      <th>129</th>\n",
              "      <td>-0.052883</td>\n",
              "    </tr>\n",
              "    <tr>\n",
              "      <th>337</th>\n",
              "      <td>-0.052362</td>\n",
              "    </tr>\n",
              "    <tr>\n",
              "      <th>240</th>\n",
              "      <td>-0.050497</td>\n",
              "    </tr>\n",
              "    <tr>\n",
              "      <th>306</th>\n",
              "      <td>-0.048586</td>\n",
              "    </tr>\n",
              "    <tr>\n",
              "      <th>57</th>\n",
              "      <td>-0.048093</td>\n",
              "    </tr>\n",
              "    <tr>\n",
              "      <th>239</th>\n",
              "      <td>-0.044372</td>\n",
              "    </tr>\n",
              "    <tr>\n",
              "      <th>74</th>\n",
              "      <td>-0.033067</td>\n",
              "    </tr>\n",
              "    <tr>\n",
              "      <th>361</th>\n",
              "      <td>-0.031508</td>\n",
              "    </tr>\n",
              "    <tr>\n",
              "      <th>170</th>\n",
              "      <td>-0.029905</td>\n",
              "    </tr>\n",
              "    <tr>\n",
              "      <th>334</th>\n",
              "      <td>-0.029868</td>\n",
              "    </tr>\n",
              "    <tr>\n",
              "      <th>242</th>\n",
              "      <td>-0.022831</td>\n",
              "    </tr>\n",
              "    <tr>\n",
              "      <th>254</th>\n",
              "      <td>-0.020089</td>\n",
              "    </tr>\n",
              "    <tr>\n",
              "      <th>210</th>\n",
              "      <td>-0.017326</td>\n",
              "    </tr>\n",
              "    <tr>\n",
              "      <th>18</th>\n",
              "      <td>-0.015524</td>\n",
              "    </tr>\n",
              "    <tr>\n",
              "      <th>185</th>\n",
              "      <td>-0.012545</td>\n",
              "    </tr>\n",
              "    <tr>\n",
              "      <th>252</th>\n",
              "      <td>-0.010101</td>\n",
              "    </tr>\n",
              "    <tr>\n",
              "      <th>320</th>\n",
              "      <td>-0.008797</td>\n",
              "    </tr>\n",
              "    <tr>\n",
              "      <th>165</th>\n",
              "      <td>-0.008500</td>\n",
              "    </tr>\n",
              "    <tr>\n",
              "      <th>72</th>\n",
              "      <td>-0.008381</td>\n",
              "    </tr>\n",
              "    <tr>\n",
              "      <th>45</th>\n",
              "      <td>-0.004434</td>\n",
              "    </tr>\n",
              "    <tr>\n",
              "      <th>77</th>\n",
              "      <td>-0.000940</td>\n",
              "    </tr>\n",
              "    <tr>\n",
              "      <th>359</th>\n",
              "      <td>-0.000520</td>\n",
              "    </tr>\n",
              "    <tr>\n",
              "      <th>318</th>\n",
              "      <td>-0.000007</td>\n",
              "    </tr>\n",
              "  </tbody>\n",
              "</table>\n",
              "</div>"
            ],
            "text/plain": [
              "     IF_scores\n",
              "139  -0.251187\n",
              "109  -0.186799\n",
              "345  -0.185687\n",
              "269  -0.179959\n",
              "323  -0.177065\n",
              "317  -0.172567\n",
              "262  -0.169063\n",
              "225  -0.168309\n",
              "237  -0.164309\n",
              "266  -0.142577\n",
              "144  -0.124169\n",
              "276  -0.123463\n",
              "326  -0.094625\n",
              "297  -0.086723\n",
              "15   -0.083054\n",
              "146  -0.081812\n",
              "396  -0.081082\n",
              "197  -0.065422\n",
              "129  -0.052883\n",
              "337  -0.052362\n",
              "240  -0.050497\n",
              "306  -0.048586\n",
              "57   -0.048093\n",
              "239  -0.044372\n",
              "74   -0.033067\n",
              "361  -0.031508\n",
              "170  -0.029905\n",
              "334  -0.029868\n",
              "242  -0.022831\n",
              "254  -0.020089\n",
              "210  -0.017326\n",
              "18   -0.015524\n",
              "185  -0.012545\n",
              "252  -0.010101\n",
              "320  -0.008797\n",
              "165  -0.008500\n",
              "72   -0.008381\n",
              "45   -0.004434\n",
              "77   -0.000940\n",
              "359  -0.000520\n",
              "318  -0.000007"
            ]
          },
          "execution_count": 27,
          "metadata": {},
          "output_type": "execute_result"
        }
      ],
      "source": [
        "anomaly_score = model.predict(df)\n",
        "scores = model.decision_function(df)\n",
        "\n",
        "df['IF_anomaly_score'] = anomaly_score\n",
        "df['IF_scores'] = scores\n",
        "df[df['IF_anomaly_score']==-1][['IF_scores']].sort_values(by=['IF_scores'])"
      ]
    },
    {
      "cell_type": "markdown",
      "metadata": {},
      "source": [
        "## Local Outlier Factor (LOF)\n",
        "\n",
        "Some links to better understand the topic:\n",
        "* https://towardsdatascience.com/anomaly-detection-with-local-outlier-factor-lof-d91e41df10f2\n",
        "* https://scikit-learn.org/stable/modules/generated/sklearn.neighbors.LocalOutlierFactor.html"
      ]
    },
    {
      "cell_type": "code",
      "execution_count": 28,
      "metadata": {},
      "outputs": [],
      "source": [
        "# Model specification\n",
        "model_LOF = LocalOutlierFactor(n_neighbors = 2, metric = \"manhattan\", contamination = 0.1)\n",
        "\n",
        "# Model fitting\n",
        "lof_y_pred = model_LOF.fit_predict(df_solubility_standardized.copy().drop(columns=['solubility']))\n",
        "#lof_scores = model_LOF.decision_function(df)"
      ]
    },
    {
      "cell_type": "code",
      "execution_count": 29,
      "metadata": {},
      "outputs": [
        {
          "data": {
            "text/html": [
              "<div>\n",
              "<style scoped>\n",
              "    .dataframe tbody tr th:only-of-type {\n",
              "        vertical-align: middle;\n",
              "    }\n",
              "\n",
              "    .dataframe tbody tr th {\n",
              "        vertical-align: top;\n",
              "    }\n",
              "\n",
              "    .dataframe thead th {\n",
              "        text-align: right;\n",
              "    }\n",
              "</style>\n",
              "<table border=\"1\" class=\"dataframe\">\n",
              "  <thead>\n",
              "    <tr style=\"text-align: right;\">\n",
              "      <th></th>\n",
              "      <th>dslf_fa13</th>\n",
              "      <th>fa_atr</th>\n",
              "      <th>fa_dun</th>\n",
              "      <th>fa_elec</th>\n",
              "      <th>fa_intra_rep</th>\n",
              "      <th>fa_intra_sol_xover4</th>\n",
              "      <th>fa_rep</th>\n",
              "      <th>fa_sol</th>\n",
              "      <th>hbond_bb_sc</th>\n",
              "      <th>hbond_lr_bb</th>\n",
              "      <th>...</th>\n",
              "      <th>lk_ball_wtd</th>\n",
              "      <th>omega</th>\n",
              "      <th>p_aa_pp</th>\n",
              "      <th>pro_close</th>\n",
              "      <th>rama_prepro</th>\n",
              "      <th>ref</th>\n",
              "      <th>time</th>\n",
              "      <th>IF_anomaly_score</th>\n",
              "      <th>IF_scores</th>\n",
              "      <th>LOF_y_pred</th>\n",
              "    </tr>\n",
              "  </thead>\n",
              "  <tbody>\n",
              "    <tr>\n",
              "      <th>0</th>\n",
              "      <td>0.524355</td>\n",
              "      <td>0.810367</td>\n",
              "      <td>0.194955</td>\n",
              "      <td>0.805052</td>\n",
              "      <td>0.204689</td>\n",
              "      <td>0.194424</td>\n",
              "      <td>0.150016</td>\n",
              "      <td>0.181959</td>\n",
              "      <td>0.808982</td>\n",
              "      <td>0.899018</td>\n",
              "      <td>...</td>\n",
              "      <td>0.814943</td>\n",
              "      <td>0.064154</td>\n",
              "      <td>0.842755</td>\n",
              "      <td>0.029479</td>\n",
              "      <td>0.322475</td>\n",
              "      <td>0.208127</td>\n",
              "      <td>1.0</td>\n",
              "      <td>1</td>\n",
              "      <td>0.041402</td>\n",
              "      <td>1</td>\n",
              "    </tr>\n",
              "    <tr>\n",
              "      <th>1</th>\n",
              "      <td>0.524355</td>\n",
              "      <td>0.686317</td>\n",
              "      <td>0.305593</td>\n",
              "      <td>0.720613</td>\n",
              "      <td>0.293997</td>\n",
              "      <td>0.271051</td>\n",
              "      <td>0.288532</td>\n",
              "      <td>0.295748</td>\n",
              "      <td>0.775464</td>\n",
              "      <td>0.869617</td>\n",
              "      <td>...</td>\n",
              "      <td>0.680818</td>\n",
              "      <td>0.105766</td>\n",
              "      <td>0.764504</td>\n",
              "      <td>0.181751</td>\n",
              "      <td>0.415949</td>\n",
              "      <td>0.510299</td>\n",
              "      <td>1.0</td>\n",
              "      <td>1</td>\n",
              "      <td>0.016809</td>\n",
              "      <td>1</td>\n",
              "    </tr>\n",
              "    <tr>\n",
              "      <th>2</th>\n",
              "      <td>0.524355</td>\n",
              "      <td>0.876691</td>\n",
              "      <td>0.142758</td>\n",
              "      <td>0.869296</td>\n",
              "      <td>0.133184</td>\n",
              "      <td>0.142547</td>\n",
              "      <td>0.125866</td>\n",
              "      <td>0.120619</td>\n",
              "      <td>0.878213</td>\n",
              "      <td>0.855511</td>\n",
              "      <td>...</td>\n",
              "      <td>0.858072</td>\n",
              "      <td>0.030711</td>\n",
              "      <td>0.905852</td>\n",
              "      <td>0.017323</td>\n",
              "      <td>0.258000</td>\n",
              "      <td>0.190017</td>\n",
              "      <td>0.0</td>\n",
              "      <td>1</td>\n",
              "      <td>0.104736</td>\n",
              "      <td>1</td>\n",
              "    </tr>\n",
              "    <tr>\n",
              "      <th>3</th>\n",
              "      <td>0.442461</td>\n",
              "      <td>0.650845</td>\n",
              "      <td>0.340551</td>\n",
              "      <td>0.656721</td>\n",
              "      <td>0.348769</td>\n",
              "      <td>0.316203</td>\n",
              "      <td>0.326141</td>\n",
              "      <td>0.338899</td>\n",
              "      <td>0.636742</td>\n",
              "      <td>0.709356</td>\n",
              "      <td>...</td>\n",
              "      <td>0.635345</td>\n",
              "      <td>0.063897</td>\n",
              "      <td>0.660731</td>\n",
              "      <td>0.099558</td>\n",
              "      <td>0.240302</td>\n",
              "      <td>0.307287</td>\n",
              "      <td>0.0</td>\n",
              "      <td>1</td>\n",
              "      <td>0.088952</td>\n",
              "      <td>1</td>\n",
              "    </tr>\n",
              "    <tr>\n",
              "      <th>4</th>\n",
              "      <td>0.524355</td>\n",
              "      <td>0.693861</td>\n",
              "      <td>0.255558</td>\n",
              "      <td>0.675543</td>\n",
              "      <td>0.336511</td>\n",
              "      <td>0.257846</td>\n",
              "      <td>0.234749</td>\n",
              "      <td>0.303265</td>\n",
              "      <td>0.841479</td>\n",
              "      <td>0.686046</td>\n",
              "      <td>...</td>\n",
              "      <td>0.687100</td>\n",
              "      <td>0.041349</td>\n",
              "      <td>0.791688</td>\n",
              "      <td>0.129160</td>\n",
              "      <td>0.355501</td>\n",
              "      <td>0.316987</td>\n",
              "      <td>0.0</td>\n",
              "      <td>1</td>\n",
              "      <td>0.094976</td>\n",
              "      <td>1</td>\n",
              "    </tr>\n",
              "  </tbody>\n",
              "</table>\n",
              "<p>5 rows × 22 columns</p>\n",
              "</div>"
            ],
            "text/plain": [
              "   dslf_fa13    fa_atr    fa_dun   fa_elec  fa_intra_rep  fa_intra_sol_xover4  \\\n",
              "0   0.524355  0.810367  0.194955  0.805052      0.204689             0.194424   \n",
              "1   0.524355  0.686317  0.305593  0.720613      0.293997             0.271051   \n",
              "2   0.524355  0.876691  0.142758  0.869296      0.133184             0.142547   \n",
              "3   0.442461  0.650845  0.340551  0.656721      0.348769             0.316203   \n",
              "4   0.524355  0.693861  0.255558  0.675543      0.336511             0.257846   \n",
              "\n",
              "     fa_rep    fa_sol  hbond_bb_sc  hbond_lr_bb  ...  lk_ball_wtd     omega  \\\n",
              "0  0.150016  0.181959     0.808982     0.899018  ...     0.814943  0.064154   \n",
              "1  0.288532  0.295748     0.775464     0.869617  ...     0.680818  0.105766   \n",
              "2  0.125866  0.120619     0.878213     0.855511  ...     0.858072  0.030711   \n",
              "3  0.326141  0.338899     0.636742     0.709356  ...     0.635345  0.063897   \n",
              "4  0.234749  0.303265     0.841479     0.686046  ...     0.687100  0.041349   \n",
              "\n",
              "    p_aa_pp  pro_close  rama_prepro       ref  time  IF_anomaly_score  \\\n",
              "0  0.842755   0.029479     0.322475  0.208127   1.0                 1   \n",
              "1  0.764504   0.181751     0.415949  0.510299   1.0                 1   \n",
              "2  0.905852   0.017323     0.258000  0.190017   0.0                 1   \n",
              "3  0.660731   0.099558     0.240302  0.307287   0.0                 1   \n",
              "4  0.791688   0.129160     0.355501  0.316987   0.0                 1   \n",
              "\n",
              "   IF_scores  LOF_y_pred  \n",
              "0   0.041402           1  \n",
              "1   0.016809           1  \n",
              "2   0.104736           1  \n",
              "3   0.088952           1  \n",
              "4   0.094976           1  \n",
              "\n",
              "[5 rows x 22 columns]"
            ]
          },
          "execution_count": 29,
          "metadata": {},
          "output_type": "execute_result"
        }
      ],
      "source": [
        "df['LOF_y_pred'] = lof_y_pred\n",
        "\n",
        "df.head()"
      ]
    },
    {
      "cell_type": "markdown",
      "metadata": {},
      "source": [
        "## Compare Isolation forest VS LOF predictions"
      ]
    },
    {
      "cell_type": "code",
      "execution_count": 30,
      "metadata": {},
      "outputs": [
        {
          "name": "stdout",
          "output_type": "stream",
          "text": [
            "[8, 9, 12, 18, 20, 46, 69, 72, 76, 77, 92, 94, 107, 108, 127, 142, 144, 154, 163, 168, 191, 210, 225, 251, 253, 265, 276, 284, 295, 304, 306, 309, 317, 318, 319, 320, 326, 348, 362, 384, 396]\n"
          ]
        }
      ],
      "source": [
        "lof_predictions = df.index[df['LOF_y_pred'] == -1].tolist()\n",
        "print(lof_predictions)"
      ]
    },
    {
      "cell_type": "code",
      "execution_count": 31,
      "metadata": {},
      "outputs": [
        {
          "name": "stdout",
          "output_type": "stream",
          "text": [
            "[15, 18, 45, 57, 72, 74, 77, 109, 129, 139, 144, 146, 165, 170, 185, 197, 210, 225, 237, 239, 240, 242, 252, 254, 262, 266, 269, 276, 297, 306, 317, 318, 320, 323, 326, 334, 337, 345, 359, 361, 396]\n"
          ]
        }
      ],
      "source": [
        "if_predictions = df.index[df['IF_anomaly_score'] == -1].tolist()\n",
        "print(if_predictions)"
      ]
    },
    {
      "cell_type": "code",
      "execution_count": 32,
      "metadata": {},
      "outputs": [
        {
          "name": "stdout",
          "output_type": "stream",
          "text": [
            "[18, 72, 77, 144, 210, 225, 276, 306, 317, 318, 320, 326, 396]\n"
          ]
        }
      ],
      "source": [
        "if_lof_match_values = []\n",
        "\n",
        "for i in lof_predictions:\n",
        "    if i in if_predictions:\n",
        "        if_lof_match_values.append(i)\n",
        "\n",
        "print(if_lof_match_values)"
      ]
    },
    {
      "cell_type": "code",
      "execution_count": 33,
      "metadata": {},
      "outputs": [
        {
          "name": "stdout",
          "output_type": "stream",
          "text": [
            "41\n",
            "41\n",
            "13\n"
          ]
        }
      ],
      "source": [
        "print(len(if_predictions))\n",
        "print(len(lof_predictions))\n",
        "\n",
        "print(len(if_lof_match_values))"
      ]
    },
    {
      "cell_type": "markdown",
      "metadata": {},
      "source": [
        "## Compare IF and LOF matching values with strange values from histogram"
      ]
    },
    {
      "cell_type": "code",
      "execution_count": 34,
      "metadata": {},
      "outputs": [
        {
          "name": "stdout",
          "output_type": "stream",
          "text": [
            "Number of indexes above estimated 'pro_close' value: 6\n",
            "{18, 306, 317, 326}\n"
          ]
        }
      ],
      "source": [
        "# 'pro_close' column seemed to have some distant values (possible outliers)\n",
        "# Verify how many values are above 0.5 (use standardized dataset)\n",
        "\n",
        "filtered = df_solubility_standardized.query(\"pro_close >= 0.5\")\n",
        "print('Number of indexes above estimated \\'pro_close\\' value: {}'.format(filtered.shape[0]))\n",
        "\n",
        "# Compare filtered pro_close list with the IF and LOF matching predictions\n",
        "filtered_list = filtered.index.tolist()\n",
        "intersection = set(filtered_list).intersection(if_lof_match_values)\n",
        "print(intersection)"
      ]
    },
    {
      "cell_type": "markdown",
      "metadata": {},
      "source": [
        "## Create dataset without possible outliers"
      ]
    },
    {
      "cell_type": "code",
      "execution_count": 35,
      "metadata": {},
      "outputs": [
        {
          "name": "stdout",
          "output_type": "stream",
          "text": [
            "405\n",
            "401\n"
          ]
        }
      ],
      "source": [
        "# Remove indexes that matched from the IF_LOF predictions and the 'pro_close' feature above 0.5\n",
        "\n",
        "df_solubility_removed_possible_outliers = df_solubility_standardized.copy()\n",
        "print(df_solubility_removed_possible_outliers.shape[0])\n",
        "df_solubility_removed_possible_outliers.drop(index=intersection, inplace=True)\n",
        "print(df_solubility_removed_possible_outliers.shape[0])"
      ]
    },
    {
      "cell_type": "markdown",
      "metadata": {},
      "source": [
        "# Create Treated Data .CSV"
      ]
    },
    {
      "cell_type": "code",
      "execution_count": 36,
      "metadata": {},
      "outputs": [],
      "source": [
        "df_solubility.to_csv(folder_path + 'complex_processed_data.csv', index=False)\n",
        "df_solubility_standardized.to_csv(folder_path + 'complex_processed_standardized_data.csv', index=False)\n",
        "df_solubility_removed_possible_outliers.to_csv(folder_path + 'complex_processed_standardized_outliers_removed_data.csv', index=False)"
      ]
    },
    {
      "cell_type": "markdown",
      "metadata": {},
      "source": [
        "# Create Splited Dataset"
      ]
    },
    {
      "cell_type": "code",
      "execution_count": 37,
      "metadata": {},
      "outputs": [],
      "source": [
        "# without high corr removal\n",
        "\n",
        "# Split the Y from the X\n",
        "df_sol_X = df_solubility.copy()\n",
        "df_sol_X.drop(columns=['solubility'], axis=1, inplace=True)\n",
        "df_sol_y = df_solubility[['solubility']]\n",
        "\n",
        "\n",
        "# Split in train and test\n",
        "x_train, x_test, y_train, y_test = train_test_split(\n",
        "                        df_sol_X, df_sol_y, \n",
        "                        train_size = 0.8,\n",
        "                        test_size = 0.2,\n",
        "                        random_state = 10\n",
        "                        )\n",
        "\n",
        "\n",
        "# Standarddize data\n",
        "standardizer = MinMaxScaler()\n",
        "standardized_x_train = standardizer.fit_transform(x_train)\n",
        "standardized_x_test = standardizer.transform(x_test)\n",
        "\n",
        "# Create a df with the column names\n",
        "df_standardized_x_train = pd.DataFrame(standardized_x_train, columns =x_train.columns)\n",
        "df_standardized_x_test = pd.DataFrame(standardized_x_test, columns =x_test.columns)\n",
        "\n",
        "# Write into a csv\n",
        "df_standardized_x_train.to_csv(folder_path + 'x_train.csv', index=False)\n",
        "df_standardized_x_test.to_csv(folder_path + 'x_test.csv', index=False)\n",
        "y_train.to_csv(folder_path + 'y_train.csv', index=False)\n",
        "y_test.to_csv(folder_path + 'y_test.csv', index=False)\n"
      ]
    },
    {
      "cell_type": "code",
      "execution_count": null,
      "metadata": {},
      "outputs": [],
      "source": [
        "#with high corr removal\n",
        "# Split the Y from the X\n",
        "df_sol_X_corr = df_solubility.copy()\n",
        "df_sol_X_corr.drop(columns=['solubility'], axis=1, inplace=True)\n",
        "df_sol_y_corr = df_solubility[['solubility']]\n",
        "\n",
        "\n",
        "#remove high corr features\n",
        "df_sol_X_corr.drop(columns=[\n",
        "    'fa_dun', \n",
        "    'fa_elec', \n",
        "    'fa_intra_rep',\n",
        "    'fa_intra_sol_xover4',\n",
        "    'fa_sol',\n",
        "    'lk_ball_wtd'\n",
        "    ],\n",
        "    axis=1, inplace=True)\n",
        "\n",
        "\n",
        "# Split in train and test\n",
        "x_train, x_test, y_train, y_test = train_test_split(\n",
        "                        df_sol_X_corr, df_sol_y_corr, \n",
        "                        train_size = 0.8,\n",
        "                        test_size = 0.2,\n",
        "                        random_state = 10\n",
        "                        )\n",
        "\n",
        "\n",
        "# Standarddize data\n",
        "standardizer = MinMaxScaler()\n",
        "standardized_x_train = standardizer.fit_transform(x_train)\n",
        "standardized_x_test = standardizer.transform(x_test)\n",
        "\n",
        "# Create a df with the column names\n",
        "df_standardized_x_train = pd.DataFrame(standardized_x_train, columns =x_train.columns)\n",
        "df_standardized_x_test = pd.DataFrame(standardized_x_test, columns =x_test.columns)\n",
        "\n",
        "# Write into a csv\n",
        "df_standardized_x_train.to_csv(folder_path + 'x_train_2.csv', index=False)\n",
        "df_standardized_x_test.to_csv(folder_path + 'x_test_2.csv', index=False)\n",
        "y_train.to_csv(folder_path + 'y_train_2.csv', index=False)\n",
        "y_test.to_csv(folder_path + 'y_test_2.csv', index=False)"
      ]
    },
    {
      "cell_type": "markdown",
      "metadata": {},
      "source": [
        "# Conclusions / Overview\n",
        "\n",
        "* No NA values;\n",
        "* Only working with float64 values;\n",
        "* Target ranges from 2 to 133;\n",
        "* Removed 'yhh_planarity', 'overlap_chainbreak' and 'linear_chainbreak' because are constants / only have 1 value;\n",
        "* Removed 'description' because each row have a diferent value. Basicaly an index;\n",
        "* Removed 'score' and 'total_score' because are not proteins properties;\n",
        "* Plotted histograms with raw and standardized values to check data distribution (no anomalies detected);\n",
        "* Plotted scatter plot to check the if the relation between the X and Y variables are linear;\n",
        "* Created a dataset and Plotted a heatmap to check the pearson correlation between features;\n",
        "* Applied Isolation Forest and Local Outlier Factor to verify outliers (used standadized dataset) (compared the results from the 2 models and 14/41 values matched);\n",
        "* Verified how many indexes are equal or above 0.5 for 'pro_close' column on an stardadized dataset. 6 values were found.\n",
        "* Compared the indexes from the IF_LOF predictions with the pro_close results. 5 values matched.\n",
        "* Generated 3 .csv files: one without stardadization other with standardization and another with standardization and possible outliers indexes removed;\n",
        "* Split the data into train and test, after that, use StandardScaler to standardize the data and write into csvs the x_train, x_test, y_train, y_test"
      ]
    }
  ],
  "metadata": {
    "accelerator": "GPU",
    "colab": {
      "collapsed_sections": [],
      "name": "preprocessing.ipynb",
      "provenance": []
    },
    "interpreter": {
      "hash": "5edc29c2ed010d6458d71a83433b383a96a8cbd3efe8531bc90c4b8a5b8bcec9"
    },
    "kernelspec": {
      "display_name": "Python 3",
      "language": "python",
      "name": "python3"
    },
    "language_info": {
      "codemirror_mode": {
        "name": "ipython",
        "version": 3
      },
      "file_extension": ".py",
      "mimetype": "text/x-python",
      "name": "python",
      "nbconvert_exporter": "python",
      "pygments_lexer": "ipython3",
      "version": "3.7.3"
    }
  },
  "nbformat": 4,
  "nbformat_minor": 0
}
